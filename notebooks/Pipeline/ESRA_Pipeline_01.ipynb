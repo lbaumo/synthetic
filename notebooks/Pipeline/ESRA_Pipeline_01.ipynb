{
 "cells": [
  {
   "cell_type": "code",
   "execution_count": 1,
   "id": "5b11a107",
   "metadata": {},
   "outputs": [],
   "source": [
    "import ngmix\n",
    "from ngmix.medsreaders import NGMixMEDS\n",
    "import numpy as np\n",
    "import os\n",
    "import time\n",
    "from astropy.table import Table, vstack, hstack\n",
    "\n",
    "import pickle\n",
    "import numpy as np\n",
    "import pandas as pd\n",
    "\n",
    "import sklearn.neighbors as neighbors\n",
    "\n",
    "from importlib import reload\n",
    "import copy\n",
    "import synthetic.render.generator as gen\n",
    "\n",
    "import matplotlib.pyplot as plt\n",
    "import matplotlib as mpl\n",
    "%matplotlib inline\n",
    "\n",
    "import multiprocessing as mp\n",
    "\n",
    "import sys\n",
    "import os\n",
    "import math\n",
    "import logging\n",
    "import time\n",
    "import galsim\n",
    "import fitsio as fio\n",
    "\n",
    "import ngmix\n",
    "\n",
    "import synthetic.render.render as render\n",
    "import synthetic.render.icl as icl\n",
    "import synthetic.render.frame as frame\n",
    "import synthetic.render.mcal as mcal\n",
    "\n",
    "# import images\n",
    "import meds\n",
    "import subprocess\n",
    "import psfex"
   ]
  },
  {
   "cell_type": "code",
   "execution_count": null,
   "id": "94385e1e",
   "metadata": {},
   "outputs": [],
   "source": []
  }
 ],
 "metadata": {
  "kernelspec": {
   "display_name": "Python 3 (ipykernel)",
   "language": "python",
   "name": "python3"
  },
  "language_info": {
   "codemirror_mode": {
    "name": "ipython",
    "version": 3
   },
   "file_extension": ".py",
   "mimetype": "text/x-python",
   "name": "python",
   "nbconvert_exporter": "python",
   "pygments_lexer": "ipython3",
   "version": "3.7.4"
  },
  "toc": {
   "base_numbering": 1,
   "nav_menu": {},
   "number_sections": true,
   "sideBar": true,
   "skip_h1_title": false,
   "title_cell": "Table of Contents",
   "title_sidebar": "Contents",
   "toc_cell": false,
   "toc_position": {},
   "toc_section_display": true,
   "toc_window_display": false
  },
  "widgets": {
   "state": {},
   "version": "1.0.0"
  }
 },
 "nbformat": 4,
 "nbformat_minor": 5
}
