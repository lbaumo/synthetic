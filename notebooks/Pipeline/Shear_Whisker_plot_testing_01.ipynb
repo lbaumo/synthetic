{
 "cells": [
  {
   "cell_type": "markdown",
   "id": "2f33edf6",
   "metadata": {},
   "source": [
    "The point of this notebook is to make a nice looking whisker plot maker script\n",
    "\n",
    "Along with some test scenarios"
   ]
  },
  {
   "cell_type": "code",
   "execution_count": 2,
   "id": "632411a0",
   "metadata": {},
   "outputs": [],
   "source": [
    "from importlib import reload\n",
    "import fitsio as fio\n",
    "import numpy as np\n",
    "import pandas as pd\n",
    "\n",
    "import copy\n",
    "import sys\n",
    "import glob\n",
    "import os\n",
    "import matplotlib.pyplot as plt\n",
    "%matplotlib inline"
   ]
  },
  {
   "cell_type": "markdown",
   "id": "aefcbd64",
   "metadata": {},
   "source": [
    "# Make mock data with a constant shear in different directions"
   ]
  },
  {
   "cell_type": "code",
   "execution_count": null,
   "id": "420dfef5",
   "metadata": {},
   "outputs": [],
   "source": []
  }
 ],
 "metadata": {
  "kernelspec": {
   "display_name": "Python 3 (ipykernel)",
   "language": "python",
   "name": "python3"
  },
  "language_info": {
   "codemirror_mode": {
    "name": "ipython",
    "version": 3
   },
   "file_extension": ".py",
   "mimetype": "text/x-python",
   "name": "python",
   "nbconvert_exporter": "python",
   "pygments_lexer": "ipython3",
   "version": "3.7.4"
  },
  "toc": {
   "base_numbering": 1,
   "nav_menu": {},
   "number_sections": true,
   "sideBar": true,
   "skip_h1_title": false,
   "title_cell": "Table of Contents",
   "title_sidebar": "Contents",
   "toc_cell": false,
   "toc_position": {},
   "toc_section_display": true,
   "toc_window_display": false
  },
  "widgets": {
   "state": {},
   "version": "1.0.0"
  }
 },
 "nbformat": 4,
 "nbformat_minor": 5
}
