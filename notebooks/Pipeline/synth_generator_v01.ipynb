{
 "cells": [
  {
   "cell_type": "markdown",
   "id": "3e8caee9",
   "metadata": {},
   "source": [
    "This notebook reads our DC2 synth model and saves the CSAMPLES file to \n",
    "\n",
    "/e/ocean1/users/vargatn/LSST/SYNTHETIC"
   ]
  },
  {
   "cell_type": "code",
   "execution_count": 12,
   "id": "05e528ce",
   "metadata": {},
   "outputs": [],
   "source": [
    "from importlib import reload\n",
    "import fitsio as fio\n",
    "import numpy as np\n",
    "import pandas as pd\n",
    "\n",
    "import healpy as hp\n",
    "import copy\n",
    "import sys\n",
    "import glob\n",
    "import os\n",
    "import matplotlib.pyplot as plt\n",
    "%matplotlib inline\n",
    "\n",
    "import sklearn.decomposition as decomp\n",
    "\n",
    "\n",
    "import matplotlib as mpl\n",
    "import subprocess as sp\n",
    "import scipy.interpolate as interpolate\n",
    "import pickle as pickle\n",
    "\n",
    "import multiprocessing as mp\n",
    "\n",
    "import synthetic.tools as tools\n",
    "import synthetic.emulator.emulator as emulator\n",
    "import synthetic.emulator.indexer as indexer\n",
    "import synthetic.emulator.reader as reader"
   ]
  },
  {
   "cell_type": "code",
   "execution_count": 5,
   "id": "41ce983a",
   "metadata": {},
   "outputs": [],
   "source": [
    "tag_root = \"dc2-alpha_concentric_sample-v01_test-03\"\n",
    "NREPEATS = 4\n",
    "NSAMPLES = 1600000\n",
    "NCHUNKS = 160\n",
    "bandwidth=0.1\n",
    "\n",
    "root_path = \"/e/ocean1/users/vargatn/LSST/DC2_1.1.4/clusters_v01/resamples/\"\n",
    "deep_data_path = \"/e/ocean1/users/vargatn/LSST/DC2_1.1.4/clusters_v01/dc2_cluster_sim_cutouts/cosmoDC2_v1.1.4_refpixels.h5\"\n",
    "wide_data_path = \"/e/ocean1/users/vargatn/LSST/DC2_1.1.4/clusters_v01/dc2_cluster_sim_cutouts/clust_dc2-sim-LOS_v1.h5\"\n",
    "\n",
    "LOGR_DRAW_RMINS = np.array([-3, -0.5, 0., 0.5])\n",
    "LOGR_DRAW_RMAXS = np.array([-0.5, 0., 0.5, 1.2])\n",
    "LOGR_CAT_RMAXS = [0., 0.5, 1.1, 1.2]\n",
    "\n",
    "deep_smc_settings = {\n",
    "    \"columns\": [\n",
    "        (\"GABS\", (\"ellipticity_1_true\", \"ellipticity_2_true\", \"SQSUM\")),\n",
    "        (\"SIZE\", \"size_true\"),\n",
    "        (\"MAG_I\", \"mag_i\"),\n",
    "        (\"COLOR_G_R\", (\"mag_g\", \"mag_r\", \"-\")),\n",
    "        (\"COLOR_R_I\", (\"mag_r\", \"mag_i\", \"-\")),\n",
    "        (\"COLOR_I_Z\", (\"mag_i\", \"mag_z\", \"-\")),\n",
    "        (\"STELLAR_MASS\", \"stellar_mass\"),\n",
    "        (\"HALO_MASS\", \"halo_mass\")        \n",
    "    ],\n",
    "    \"logs\": [False, True, False, False, False, False, True, True],\n",
    "    \"limits\": [(0., 1.), (-1, 5), (17, 25), (-1, 3), (-1, 3), (-1, 3), (10**3, 10**13), (10**9, 10**16)],\n",
    "}\n",
    "\n",
    "wide_cr_settings = {\n",
    "    \"columns\": [\n",
    "        (\"GABS\", (\"ellipticity_1_true\", \"ellipticity_2_true\", \"SQSUM\")),\n",
    "        (\"SIZE\", \"size_true\"),\n",
    "        (\"MAG_I\", \"mag_i\"),\n",
    "        (\"COLOR_G_R\", (\"mag_g\", \"mag_r\", \"-\")),\n",
    "        (\"COLOR_R_I\", (\"mag_r\", \"mag_i\", \"-\")),\n",
    "        (\"COLOR_I_Z\", (\"mag_i\", \"mag_z\", \"-\")),\n",
    "        (\"STELLAR_MASS\", \"stellar_mass\"),\n",
    "        (\"HALO_MASS\", \"halo_mass\"),\n",
    "        (\"LOGR\", \"R\"),        \n",
    "    ],\n",
    "    \"logs\": [False, True, False, False, False, False, True, True, True],\n",
    "    \"limits\": [(0., 1.), (-1, 5), (17, 25), (-1, 3), (-1, 3), (-1, 3), (10**3, 10**13), (10**9, 10**16), (1e-3, 16)],\n",
    "}\n",
    "\n",
    "columns = {\n",
    "    \"cols_dc\": [\"COLOR_G_R\", \"COLOR_R_I\",],\n",
    "    \"cols_wr\": [\"LOGR\",],\n",
    "    \"cols_wcr\": [\"COLOR_G_R\", \"COLOR_R_I\", \"LOGR\",],\n",
    "}\n"
   ]
  },
  {
   "cell_type": "code",
   "execution_count": 6,
   "id": "6103c1d7",
   "metadata": {},
   "outputs": [],
   "source": [
    "deep_data_path = \"/e/ocean1/users/vargatn/LSST/DC2_1.1.4/clusters_v01/dc2_cluster_sim_cutouts/cosmoDC2_v1.1.4_refpixels.h5\"\n",
    "wide_data_path = \"/e/ocean1/users/vargatn/LSST/DC2_1.1.4/clusters_v01/dc2_cluster_sim_cutouts/clust_dc2-sim-LOS_v1.h5\""
   ]
  },
  {
   "cell_type": "code",
   "execution_count": 7,
   "id": "70b0c4cb",
   "metadata": {},
   "outputs": [],
   "source": [
    "refpixel = pd.read_hdf(deep_data_path, key=\"data\")\n",
    "table = pd.read_hdf(wide_data_path, key=\"data\")"
   ]
  },
  {
   "cell_type": "code",
   "execution_count": 8,
   "id": "8672a93f",
   "metadata": {},
   "outputs": [
    {
     "name": "stdout",
     "output_type": "stream",
     "text": [
      "(1513572, 9)\n",
      "(1513572,)\n",
      "(1513572, 8)\n",
      "(1513572,)\n",
      "(1009658, 9)\n",
      "(1009658,)\n"
     ]
    }
   ],
   "source": [
    "tmp_wide_cr_settings = wide_cr_settings.copy()\n",
    "# tmp_wide_cr_settings[\"limits\"][-1] = (10**-3, 10**LOGR_CAT_RMAXS[i])\n",
    "_wide_cr_settings_rands = emulator.construct_deep_container(refpixel, tmp_wide_cr_settings)\n",
    "\n",
    "# loading deep catalogs\n",
    "_deep_smc_settings = emulator.construct_deep_container(refpixel, deep_smc_settings)\n",
    "\n",
    "# loading cluster data\n",
    "tmp_wide_cr_settings = wide_cr_settings.copy()\n",
    "# tmp_wide_cr_settings[\"limits\"][-1] = (10**-3, 10**LOGR_CAT_RMAXS[i])\n",
    "_wide_cr_settings_clust = emulator.construct_deep_container(table, tmp_wide_cr_settings)\n"
   ]
  },
  {
   "cell_type": "code",
   "execution_count": 9,
   "id": "92fadd8e",
   "metadata": {},
   "outputs": [
    {
     "name": "stdout",
     "output_type": "stream",
     "text": [
      "0\n",
      "1\n",
      "2\n",
      "3\n"
     ]
    }
   ],
   "source": [
    "samples = []\n",
    "scores = []\n",
    "for rbin in np.arange(4):\n",
    "    print(rbin)\n",
    "#     expr = \"/e/ocean1/users/vargatn/EMULATOR/EPSILON/resamples/epsilon_concentric_sample_v06_run*_rbin\" + str(rbin) + \"*samples.fits\" \n",
    "    expr = \"/e/ocean1/users/vargatn/LSST/DC2_1.1.4/clusters_v01/resamples/dc2-alpha_concentric_sample-v01_test-03/dc2-alpha_concentric_sample-v01_test-03_run0*_rbin\" + str(rbin) + \"*samples.fits\" \n",
    "\n",
    "    fnames_samples = np.sort(glob.glob(expr))\n",
    "    fnames_scores = []\n",
    "    for fname in fnames_samples:\n",
    "        fnames_scores.append(fname.replace(\"samples.fits\", \"scores.fits\"))\n",
    "\n",
    "    samples_sep = []\n",
    "    scores_sep = []\n",
    "    for i, fname in enumerate(fnames_samples):\n",
    "#         print(fname)\n",
    "        samples_sep.append(fio.read(fname))\n",
    "        scores_sep.append(fio.read(fnames_scores[i]))\n",
    "        \n",
    "    samples.append(np.hstack(samples_sep))\n",
    "    scores.append(np.hstack(scores_sep))"
   ]
  },
  {
   "cell_type": "code",
   "execution_count": 10,
   "id": "526febdd",
   "metadata": {},
   "outputs": [],
   "source": [
    "\n",
    "\n",
    "mag_lims = (17, 22.5)\n",
    "r_lims_all = [(-1.5, -0.5), (-0.5, 0.), (0, 0.5), (0.5, 1.0)]\n",
    "redges = [-1.5, -0.5, 0., 0.5, 1.0]\n",
    "rareas = np.array([np.pi*((10**redges[i+1])**2. - (10**redges[i])**2.) for i in np.arange(len(redges)-1)])\n",
    "\n"
   ]
  },
  {
   "cell_type": "code",
   "execution_count": 11,
   "id": "cc049d15",
   "metadata": {},
   "outputs": [
    {
     "name": "stderr",
     "output_type": "stream",
     "text": [
      "/home/moon/vargatn/anaconda3/envs/galsim/lib/python3.7/site-packages/pandas/core/arraylike.py:358: RuntimeWarning: divide by zero encountered in log10\n",
      "  result = getattr(ufunc, method)(*inputs, **kwargs)\n"
     ]
    }
   ],
   "source": [
    "\n",
    "\n",
    "magcol = \"mag_i\"\n",
    "ii = ((table[magcol] > mag_lims[0]) & (table[magcol] < mag_lims[1]))\n",
    "\n",
    "clust_los_nums = np.histogram(np.log10(table[ii][\"R\"]), bins=redges)[0] / 41 # / nc\n",
    "\n",
    "ii = ((refpixel[magcol] > mag_lims[0]) & (refpixel[magcol] < mag_lims[1]))\n",
    "surfdens = len(refpixel[ii]) / hp.nside2pixarea(32, degrees=True) / 3600 / 3\n",
    "rands_los_nums = surfdens * rareas\n",
    "# rands_los_nums = np.histogram(np.log10(refpixel[ii][\"R\"]), bins=redges)[0] / rareas#* ratio# / nr\n",
    "nratios = clust_los_nums / rands_los_nums\n",
    "\n"
   ]
  },
  {
   "cell_type": "code",
   "execution_count": 13,
   "id": "260645df",
   "metadata": {},
   "outputs": [
    {
     "name": "stdout",
     "output_type": "stream",
     "text": [
      "0\n",
      "2.741989144315195\n",
      "1\n",
      "1.7913041757345514\n",
      "2\n",
      "1.1243442810539395\n",
      "3\n",
      "0.793271619957704\n"
     ]
    }
   ],
   "source": [
    "\n",
    "\n",
    "ifields2 = []\n",
    "iclusts2 = []\n",
    "i2ds2 = []\n",
    "for rbin in np.arange(4):\n",
    "    print(rbin)\n",
    "    _ifield, _iclust, _i2d = reader.result_reader2(samples[rbin], scores[rbin], nratio=nratios[rbin], m_factor=100, seed=rbin)\n",
    "    ifields2.append(_ifield)\n",
    "    iclusts2.append(_iclust)\n",
    "    i2ds2.append(_i2d)\n",
    "\n"
   ]
  },
  {
   "cell_type": "markdown",
   "id": "1c89a268",
   "metadata": {},
   "source": [
    " In this exercise we only draw cluster samples, as the clusters will be injected to DC2"
   ]
  },
  {
   "cell_type": "code",
   "execution_count": 14,
   "id": "647a9749",
   "metadata": {},
   "outputs": [
    {
     "name": "stdout",
     "output_type": "stream",
     "text": [
      "0\n",
      "1\n",
      "2\n",
      "3\n"
     ]
    }
   ],
   "source": [
    "\n",
    "\n",
    "csamples = []\n",
    "for rbin in np.arange(4):\n",
    "    print(rbin)\n",
    "    tab = pd.DataFrame.from_records(samples[rbin][iclusts2[rbin]].byteswap().newbyteorder())\n",
    "    tab.drop('index', axis=1, inplace=True)\n",
    "    kde = emulator.KDEContainer(tab)\n",
    "    kde.standardize_data()\n",
    "    kde.construct_kde(0.1)\n",
    "    _csample = kde.random_draw(4e6)\n",
    "    csamples.append(_csample)\n",
    "\n"
   ]
  },
  {
   "cell_type": "code",
   "execution_count": 15,
   "id": "89f7b7ab",
   "metadata": {},
   "outputs": [
    {
     "data": {
      "text/plain": [
       "[             GABS      SIZE      MAG_I  COLOR_G_R  COLOR_R_I  COLOR_I_Z  \\\n",
       " 0        0.320640 -0.901581  23.695770   1.213632   0.284145   0.148627   \n",
       " 1        0.514918 -0.335548  23.276278   1.323697   0.550209   0.301413   \n",
       " 2        0.309384 -0.376334  23.030974   0.539342   0.778464   0.504956   \n",
       " 3        0.102149 -1.080650  24.798849   1.341419   0.538342   0.230514   \n",
       " 4        0.639441 -0.350043  23.304387   0.936507   0.317449   0.202868   \n",
       " ...           ...       ...        ...        ...        ...        ...   \n",
       " 3999995  0.107224 -0.507890  21.922076   1.322356   0.535423   0.282897   \n",
       " 3999996  0.302257 -1.063861  24.180173  -0.430800   0.241704   0.103222   \n",
       " 3999997  0.042797 -0.061218  20.395439   1.393519   0.650794   0.309385   \n",
       " 3999998  0.126028 -0.354947  24.281529   1.149676   0.248537   0.114426   \n",
       " 3999999  0.469052 -0.468760  24.352034   0.799514   1.198729   0.736513   \n",
       " \n",
       "          STELLAR_MASS  HALO_MASS      LOGR  \n",
       " 0            8.384907  11.027811 -0.661734  \n",
       " 1            8.763367  11.398929 -0.636817  \n",
       " 2            9.444631  11.806616 -0.474487  \n",
       " 3            7.457454  10.398651 -0.680593  \n",
       " 4            8.794830  11.606079 -1.250786  \n",
       " ...               ...        ...       ...  \n",
       " 3999995      9.504852  11.077726 -0.507841  \n",
       " 3999996      9.740430  11.291875 -0.727315  \n",
       " 3999997     10.066182  12.608151 -0.675660  \n",
       " 3999998      8.004950  10.835072 -0.624747  \n",
       " 3999999      8.882718  11.267591 -0.559210  \n",
       " \n",
       " [4000000 rows x 9 columns],\n",
       "              GABS      SIZE      MAG_I  COLOR_G_R  COLOR_R_I  COLOR_I_Z  \\\n",
       " 0        0.123417 -0.598669  24.703118   0.218674   0.364565   0.369438   \n",
       " 1        0.511360 -0.449273  22.924639   1.353363   0.520347   0.185744   \n",
       " 2        0.175743 -0.602577  23.611998   0.824457   0.775704   0.330534   \n",
       " 3        0.184390 -0.000501  21.103952   1.373330   0.566544   0.220871   \n",
       " 4        0.057096 -0.772477  23.385997   1.410531   0.573716   0.235441   \n",
       " ...           ...       ...        ...        ...        ...        ...   \n",
       " 3999995  0.045020 -0.812363  24.543099   1.346528   0.602784   0.284910   \n",
       " 3999996 -0.015901 -0.577572  24.866169   1.205575   1.484076   0.624308   \n",
       " 3999997  0.384808 -0.479162  23.735018   1.266033   0.523895   0.265135   \n",
       " 3999998  0.128343 -0.214725  21.043043   1.042318   1.078940   0.514427   \n",
       " 3999999  0.051116 -0.657188  23.967258   0.267481   0.277644   0.635853   \n",
       " \n",
       "          STELLAR_MASS  HALO_MASS      LOGR  \n",
       " 0            9.231290  11.530318 -0.394278  \n",
       " 1            8.871864  13.683375 -0.273922  \n",
       " 2            9.328991  11.176918 -0.089149  \n",
       " 3            9.339138  12.654034 -0.405190  \n",
       " 4            8.771230  11.831696 -0.024923  \n",
       " ...               ...        ...       ...  \n",
       " 3999995      7.989022  11.066847 -0.248797  \n",
       " 3999996     10.216122  12.423222 -0.059035  \n",
       " 3999997      8.521243  13.987684 -0.143382  \n",
       " 3999998     10.881033  13.098154 -0.005783  \n",
       " 3999999      9.529544  12.705751 -0.017039  \n",
       " \n",
       " [4000000 rows x 9 columns],\n",
       "              GABS      SIZE      MAG_I  COLOR_G_R  COLOR_R_I  COLOR_I_Z  \\\n",
       " 0        0.431754 -0.772621  24.310176   0.861554   0.395806   0.223017   \n",
       " 1        0.098850 -0.525411  24.773091   1.363309   1.642914   0.652921   \n",
       " 2        0.070645 -1.055476  24.115988   0.687115   0.858011   0.621121   \n",
       " 3        0.032391 -0.635767  24.396462  -0.383742   0.177580   0.122575   \n",
       " 4       -0.004780 -0.774680  24.601519   1.170512   1.402466   0.620121   \n",
       " ...           ...       ...        ...        ...        ...        ...   \n",
       " 3999995  0.129527 -0.764705  23.808362   0.816218   0.983630   0.528488   \n",
       " 3999996  0.106751 -0.626300  24.599921  -0.417612   0.280039   0.099457   \n",
       " 3999997  0.425749 -0.518553  25.440641   0.896358   0.411874   0.304878   \n",
       " 3999998  0.152518 -0.525913  24.872123   1.016301   1.440540   0.646299   \n",
       " 3999999  0.074970 -0.166965  21.089707   0.020658   0.247561   0.496967   \n",
       " \n",
       "          STELLAR_MASS  HALO_MASS      LOGR  \n",
       " 0            7.093493  10.282486  0.331247  \n",
       " 1           10.417333  12.808038  0.244316  \n",
       " 2            8.956636  11.382040  0.466866  \n",
       " 3           10.064882  11.752907  0.312513  \n",
       " 4           10.409975  12.412406  0.406083  \n",
       " ...               ...        ...       ...  \n",
       " 3999995      9.495760  11.490294  0.384180  \n",
       " 3999996      9.519099  12.399888  0.279285  \n",
       " 3999997      7.427293  10.261430  0.414391  \n",
       " 3999998     10.479168  12.584873  0.148754  \n",
       " 3999999     11.574387  12.362862  0.459439  \n",
       " \n",
       " [4000000 rows x 9 columns],\n",
       "              GABS      SIZE      MAG_I  COLOR_G_R  COLOR_R_I  COLOR_I_Z  \\\n",
       " 0       -0.001673 -0.798202  24.264023   1.435834   1.357503   0.706344   \n",
       " 1        0.018939 -0.687909  25.004553  -0.112824  -0.121413  -0.033349   \n",
       " 2        0.354142 -0.400379  22.432649   0.748236   0.629084   0.240642   \n",
       " 3        0.138211 -0.397472  23.139794  -0.226742  -0.159481  -0.068233   \n",
       " 4        0.297425 -0.532245  24.179873   1.716988   1.038751   0.824703   \n",
       " ...           ...       ...        ...        ...        ...        ...   \n",
       " 3999995  0.036388 -0.653259  24.219625   1.018760   1.323396   0.596672   \n",
       " 3999996 -0.016782 -0.877191  24.298488  -0.551356   0.227234   0.078525   \n",
       " 3999997  0.306813  0.062363  24.162970   0.876216   1.237085   0.730522   \n",
       " 3999998  0.018791 -1.196118  24.908880   1.326369   0.814707   0.287036   \n",
       " 3999999  0.039001 -0.418681  24.962502   0.992845   1.421534   0.578903   \n",
       " \n",
       "          STELLAR_MASS  HALO_MASS      LOGR  \n",
       " 0           10.530840  12.228673  1.121244  \n",
       " 1            9.378812  11.779850  0.825248  \n",
       " 2            9.713585  11.306363  0.981437  \n",
       " 3           10.336694  11.793660  1.058721  \n",
       " 4            9.386617  11.217310  1.163771  \n",
       " ...               ...        ...       ...  \n",
       " 3999995     10.428849  13.697075  0.975596  \n",
       " 3999996      9.896465  12.423960  1.008344  \n",
       " 3999997      8.822381  11.039143  1.108092  \n",
       " 3999998      8.064182  10.677924  0.762148  \n",
       " 3999999     10.329716  12.551877  1.002817  \n",
       " \n",
       " [4000000 rows x 9 columns]]"
      ]
     },
     "execution_count": 15,
     "metadata": {},
     "output_type": "execute_result"
    }
   ],
   "source": [
    "csamples"
   ]
  },
  {
   "cell_type": "code",
   "execution_count": 20,
   "id": "3feeb9ff",
   "metadata": {},
   "outputs": [],
   "source": [
    "opath = \"/e/ocean1/users/vargatn/LSST/SYNTHETIC/csamples_nov_dev_01.h5\""
   ]
  },
  {
   "cell_type": "code",
   "execution_count": 32,
   "id": "55c120bf",
   "metadata": {},
   "outputs": [
    {
     "data": {
      "text/plain": [
       "<module 'synthetic.tools' from '/home/moon/vargatn/DES/SYNTHETIC/synthetic/synthetic/tools.py'>"
      ]
     },
     "execution_count": 32,
     "metadata": {},
     "output_type": "execute_result"
    }
   ],
   "source": [
    "reload(tools)"
   ]
  },
  {
   "cell_type": "code",
   "execution_count": 33,
   "id": "188b722d",
   "metadata": {},
   "outputs": [],
   "source": [
    "tools.save(opath, csamples)"
   ]
  },
  {
   "cell_type": "code",
   "execution_count": 29,
   "id": "ee116b6c",
   "metadata": {},
   "outputs": [],
   "source": [
    "tmp = load(opath)"
   ]
  },
  {
   "cell_type": "code",
   "execution_count": null,
   "id": "1617fba2",
   "metadata": {},
   "outputs": [],
   "source": []
  }
 ],
 "metadata": {
  "kernelspec": {
   "display_name": "Python 3 (ipykernel)",
   "language": "python",
   "name": "python3"
  },
  "language_info": {
   "codemirror_mode": {
    "name": "ipython",
    "version": 3
   },
   "file_extension": ".py",
   "mimetype": "text/x-python",
   "name": "python",
   "nbconvert_exporter": "python",
   "pygments_lexer": "ipython3",
   "version": "3.7.4"
  },
  "toc": {
   "base_numbering": 1,
   "nav_menu": {},
   "number_sections": true,
   "sideBar": true,
   "skip_h1_title": false,
   "title_cell": "Table of Contents",
   "title_sidebar": "Contents",
   "toc_cell": false,
   "toc_position": {},
   "toc_section_display": true,
   "toc_window_display": false
  },
  "widgets": {
   "state": {},
   "version": "1.0.0"
  }
 },
 "nbformat": 4,
 "nbformat_minor": 5
}
