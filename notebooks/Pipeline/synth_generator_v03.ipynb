{
 "cells": [
  {
   "cell_type": "markdown",
   "id": "f02e7e85",
   "metadata": {},
   "source": [
    " This notebook picks a bunch of healpix pixels,and places a mock cluster at the center of each\n",
    "\n",
    "And adds shear to background objects"
   ]
  },
  {
   "cell_type": "code",
   "execution_count": 1,
   "id": "ba7a8c6f",
   "metadata": {},
   "outputs": [],
   "source": [
    "from importlib import reload\n",
    "import fitsio as fio\n",
    "import numpy as np\n",
    "import pandas as pd\n",
    "\n",
    "import healpy as hp\n",
    "import copy\n",
    "import sys\n",
    "import glob\n",
    "import os\n",
    "import matplotlib.pyplot as plt\n",
    "%matplotlib inline\n",
    "\n",
    "import sklearn.decomposition as decomp\n",
    "\n",
    "\n",
    "import matplotlib as mpl\n",
    "import subprocess as sp\n",
    "import scipy.interpolate as interpolate\n",
    "import pickle as pickle\n",
    "import glob\n",
    "import healpy as hp\n",
    "import images\n",
    "\n",
    "import multiprocessing as mp\n",
    "\n",
    "import synthetic.tools as tools\n",
    "import synthetic.emulator.emulator as emulator\n",
    "import synthetic.emulator.indexer as indexer\n",
    "import synthetic.emulator.reader as reader\n",
    "import synthetic.render.frame as frame\n",
    "import synthetic.render.render as render"
   ]
  },
  {
   "cell_type": "code",
   "execution_count": 2,
   "id": "f4c95b1a",
   "metadata": {},
   "outputs": [],
   "source": [
    "folder_path = \"/e/ocean1/users/vargatn/LSST/SYNTHETIC/\""
   ]
  },
  {
   "cell_type": "code",
   "execution_count": 3,
   "id": "eb61b1f5",
   "metadata": {},
   "outputs": [],
   "source": [
    "in_path = \"/e/ocean1/users/vargatn/LSST/DC2_1.1.4/\""
   ]
  },
  {
   "cell_type": "markdown",
   "id": "5813148a",
   "metadata": {},
   "source": [
    "# This is the field"
   ]
  },
  {
   "cell_type": "code",
   "execution_count": 4,
   "id": "27d14706",
   "metadata": {},
   "outputs": [],
   "source": [
    "fnames = glob.glob(in_path + \"*pixel*h5\")\n",
    "pixels = np.array([int(tmp.split(\"-\")[-1].split(\".\")[0]) for tmp in fnames])"
   ]
  },
  {
   "cell_type": "code",
   "execution_count": 5,
   "id": "2e48c580",
   "metadata": {},
   "outputs": [],
   "source": [
    "pixel_id = 0"
   ]
  },
  {
   "cell_type": "code",
   "execution_count": 6,
   "id": "e9485f76",
   "metadata": {},
   "outputs": [],
   "source": [
    "alltable = pd.read_hdf(fnames[pixel_id], key='data')\n",
    "ra_cen = np.mean(alltable[\"ra\"])\n",
    "dec_cen = np.mean(alltable[\"dec\"])"
   ]
  },
  {
   "cell_type": "code",
   "execution_count": 7,
   "id": "5c19140c",
   "metadata": {},
   "outputs": [],
   "source": [
    "pad = 0.17 # degree\n",
    "mag_max = 25\n",
    "\n",
    "ii = (np.abs(alltable[\"ra\"] - ra_cen) < pad) & (np.abs(alltable[\"dec\"] - dec_cen) < pad) & (alltable['mag_i'] < mag_max)\n",
    "table = alltable[ii]\n",
    "ra = (table[\"ra\"] - ra_cen) * 60. \n",
    "dec = (table[\"dec\"] - dec_cen) * 60."
   ]
  },
  {
   "cell_type": "code",
   "execution_count": 8,
   "id": "9996cfb9",
   "metadata": {},
   "outputs": [],
   "source": [
    "def make_mock(table, sky_center,  pixel_scale=0.264, image_offset=(2499.5, 2499.5)):\n",
    "    pixel_scale = 0.264\n",
    "    mock_catalog = pd.DataFrame()\n",
    "    mock_catalog[\"RA\"] = table[\"ra\"]\n",
    "    mock_catalog[\"DEC\"] = table[\"dec\"]\n",
    "    mock_catalog[\"X\"] = (table[\"ra\"] - sky_center[0]) * 60 * 60 / pixel_scale + image_offset[0]\n",
    "    mock_catalog[\"Y\"] = (table[\"dec\"] - sky_center[1]) * 60 * 60 / pixel_scale + image_offset[1]\n",
    "\n",
    "    mock_catalog[\"MAG_G\"] = table[\"mag_g\"]\n",
    "    mock_catalog[\"FLUX_G\"] = tools.toflux(table[\"mag_g\"])\n",
    "    mock_catalog[\"MAG_R\"] = table[\"mag_i\"]\n",
    "    mock_catalog[\"FLUX_R\"] = tools.toflux(table[\"mag_r\"])\n",
    "    mock_catalog[\"MAG_I\"] = table[\"mag_i\"]\n",
    "    mock_catalog[\"FLUX_I\"] = tools.toflux(table[\"mag_i\"])\n",
    "    mock_catalog[\"MAG_Z\"] = table[\"mag_z\"]\n",
    "    mock_catalog[\"FLUX_Z\"] = tools.toflux(table[\"mag_z\"])\n",
    "\n",
    "    mock_catalog[\"TSIZE\"] = table[\"size_true\"]\n",
    "    mock_catalog[\"FRACDEV\"] = 0\n",
    "    mock_catalog[\"G1\"] = table[\"ellipticity_1_true\"]\n",
    "    mock_catalog[\"G2\"] = table[\"ellipticity_2_true\"]    \n",
    "    return mock_catalog\n",
    "\n",
    "def radec2xy(ra, dec, sky_center,  pixel_scale=0.264, image_offset=(2499.5, 2499.5)):\n",
    "    x = (ra - sky_center[0]) * 60 * 60 / pixel_scale + image_offset[0]\n",
    "    y = (dec - sky_center[1]) * 60 * 60 / pixel_scale + image_offset[1]\n",
    "    return x.values, y.values"
   ]
  },
  {
   "cell_type": "code",
   "execution_count": 9,
   "id": "f5e970f9",
   "metadata": {},
   "outputs": [],
   "source": [
    "mock_catalog = make_mock(table, sky_center=(ra_cen, dec_cen))"
   ]
  },
  {
   "cell_type": "markdown",
   "id": "632fc87b",
   "metadata": {},
   "source": [
    "# And this is the cluster"
   ]
  },
  {
   "cell_type": "code",
   "execution_count": null,
   "id": "db7e94ce",
   "metadata": {},
   "outputs": [],
   "source": []
  }
 ],
 "metadata": {
  "kernelspec": {
   "display_name": "Python 3 (ipykernel)",
   "language": "python",
   "name": "python3"
  },
  "language_info": {
   "codemirror_mode": {
    "name": "ipython",
    "version": 3
   },
   "file_extension": ".py",
   "mimetype": "text/x-python",
   "name": "python",
   "nbconvert_exporter": "python",
   "pygments_lexer": "ipython3",
   "version": "3.7.4"
  },
  "toc": {
   "base_numbering": 1,
   "nav_menu": {},
   "number_sections": true,
   "sideBar": true,
   "skip_h1_title": false,
   "title_cell": "Table of Contents",
   "title_sidebar": "Contents",
   "toc_cell": false,
   "toc_position": {},
   "toc_section_display": true,
   "toc_window_display": false
  },
  "widgets": {
   "state": {},
   "version": "1.0.0"
  }
 },
 "nbformat": 4,
 "nbformat_minor": 5
}
