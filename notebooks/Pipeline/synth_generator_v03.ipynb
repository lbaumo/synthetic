{
 "cells": [
  {
   "cell_type": "markdown",
   "id": "386a68b3",
   "metadata": {},
   "source": [
    " This notebook picks a bunch of healpix pixels,and places a mock cluster at the center of each\n",
    "\n",
    "And adds shear to background objects"
   ]
  },
  {
   "cell_type": "code",
   "execution_count": 52,
   "id": "63257a31",
   "metadata": {},
   "outputs": [],
   "source": [
    "from importlib import reload\n",
    "import fitsio as fio\n",
    "import numpy as np\n",
    "import pandas as pd\n",
    "\n",
    "import healpy as hp\n",
    "import copy\n",
    "import sys\n",
    "import glob\n",
    "import os\n",
    "import matplotlib.pyplot as plt\n",
    "%matplotlib inline\n",
    "\n",
    "import sklearn.decomposition as decomp\n",
    "\n",
    "\n",
    "import matplotlib as mpl\n",
    "import subprocess as sp\n",
    "import scipy.interpolate as interpolate\n",
    "import pickle as pickle\n",
    "import glob\n",
    "import healpy as hp\n",
    "import images\n",
    "\n",
    "import multiprocessing as mp\n",
    "\n",
    "import synthetic.tools as tools\n",
    "import synthetic.emulator.emulator as emulator\n",
    "import synthetic.emulator.indexer as indexer\n",
    "import synthetic.emulator.reader as reader\n",
    "import synthetic.render.frame as frame\n",
    "import synthetic.render.render as render\n",
    "import synthetic.render.icl as icl\n"
   ]
  },
  {
   "cell_type": "code",
   "execution_count": 2,
   "id": "204da8d0",
   "metadata": {},
   "outputs": [],
   "source": [
    "folder_path = \"/e/ocean1/users/vargatn/LSST/SYNTHETIC/\""
   ]
  },
  {
   "cell_type": "code",
   "execution_count": 3,
   "id": "b6ddf987",
   "metadata": {},
   "outputs": [],
   "source": [
    "in_path = \"/e/ocean1/users/vargatn/LSST/DC2_1.1.4/\""
   ]
  },
  {
   "cell_type": "markdown",
   "id": "bea2a42a",
   "metadata": {},
   "source": [
    "# This is the field"
   ]
  },
  {
   "cell_type": "code",
   "execution_count": 4,
   "id": "5dd2c96c",
   "metadata": {},
   "outputs": [],
   "source": [
    "fnames = glob.glob(in_path + \"*pixel*h5\")\n",
    "pixels = np.array([int(tmp.split(\"-\")[-1].split(\".\")[0]) for tmp in fnames])"
   ]
  },
  {
   "cell_type": "code",
   "execution_count": 5,
   "id": "c109a43c",
   "metadata": {},
   "outputs": [],
   "source": [
    "pixel_id = 0"
   ]
  },
  {
   "cell_type": "code",
   "execution_count": 6,
   "id": "c2ff8c78",
   "metadata": {},
   "outputs": [],
   "source": [
    "alltable = pd.read_hdf(fnames[pixel_id], key='data')\n",
    "ra_cen = np.mean(alltable[\"ra\"])\n",
    "dec_cen = np.mean(alltable[\"dec\"])"
   ]
  },
  {
   "cell_type": "code",
   "execution_count": 7,
   "id": "6f5cecbb",
   "metadata": {},
   "outputs": [],
   "source": [
    "pad = 0.17 # degree\n",
    "mag_max = 25\n",
    "\n",
    "ii = (np.abs(alltable[\"ra\"] - ra_cen) < pad) & (np.abs(alltable[\"dec\"] - dec_cen) < pad) & (alltable['mag_i'] < mag_max)\n",
    "table = alltable[ii]\n",
    "ra = (table[\"ra\"] - ra_cen) * 60. \n",
    "dec = (table[\"dec\"] - dec_cen) * 60."
   ]
  },
  {
   "cell_type": "code",
   "execution_count": 8,
   "id": "1894cb4c",
   "metadata": {},
   "outputs": [],
   "source": [
    "def make_mock(table, sky_center,  pixel_scale=0.264, image_offset=(2499.5, 2499.5)):\n",
    "    pixel_scale = 0.264\n",
    "    mock_catalog = pd.DataFrame()\n",
    "    mock_catalog[\"RA\"] = table[\"ra\"]\n",
    "    mock_catalog[\"DEC\"] = table[\"dec\"]\n",
    "    mock_catalog[\"X\"] = (table[\"ra\"] - sky_center[0]) * 60 * 60 / pixel_scale + image_offset[0]\n",
    "    mock_catalog[\"Y\"] = (table[\"dec\"] - sky_center[1]) * 60 * 60 / pixel_scale + image_offset[1]\n",
    "\n",
    "    mock_catalog[\"MAG_G\"] = table[\"mag_g\"]\n",
    "    mock_catalog[\"FLUX_G\"] = tools.toflux(table[\"mag_g\"])\n",
    "    mock_catalog[\"MAG_R\"] = table[\"mag_i\"]\n",
    "    mock_catalog[\"FLUX_R\"] = tools.toflux(table[\"mag_r\"])\n",
    "    mock_catalog[\"MAG_I\"] = table[\"mag_i\"]\n",
    "    mock_catalog[\"FLUX_I\"] = tools.toflux(table[\"mag_i\"])\n",
    "    mock_catalog[\"MAG_Z\"] = table[\"mag_z\"]\n",
    "    mock_catalog[\"FLUX_Z\"] = tools.toflux(table[\"mag_z\"])\n",
    "\n",
    "    mock_catalog[\"TSIZE\"] = table[\"size_true\"]\n",
    "    mock_catalog[\"FRACDEV\"] = 0\n",
    "    mock_catalog[\"G1\"] = table[\"ellipticity_1_true\"]\n",
    "    mock_catalog[\"G2\"] = table[\"ellipticity_2_true\"]    \n",
    "    return mock_catalog\n",
    "\n",
    "def radec2xy(ra, dec, sky_center,  pixel_scale=0.264, image_offset=(2499.5, 2499.5)):\n",
    "    x = (ra - sky_center[0]) * 60 * 60 / pixel_scale + image_offset[0]\n",
    "    y = (dec - sky_center[1]) * 60 * 60 / pixel_scale + image_offset[1]\n",
    "    return x.values, y.values"
   ]
  },
  {
   "cell_type": "code",
   "execution_count": 9,
   "id": "1ddb3ebc",
   "metadata": {},
   "outputs": [],
   "source": [
    "mock_catalog = make_mock(table, sky_center=(ra_cen, dec_cen))"
   ]
  },
  {
   "cell_type": "markdown",
   "id": "4e05ba52",
   "metadata": {},
   "source": [
    "# And this is the cluster"
   ]
  },
  {
   "cell_type": "markdown",
   "id": "b9327b37",
   "metadata": {},
   "source": [
    "## Draw galaxies"
   ]
  },
  {
   "cell_type": "code",
   "execution_count": 65,
   "id": "f61fc293",
   "metadata": {},
   "outputs": [],
   "source": [
    "path = \"/e/ocean1/users/vargatn/LSST/SYNTHETIC/csamples_nov_dev_01.h5\"\n",
    "csamples = tools.load(path)\n",
    "path = \"/e/ocean1/users/vargatn/LSST/SYNTHETIC/csamples_nov_dev_01_ctab.h5\"\n",
    "ctab = pd.read_hdf(path, key=\"data\")\n",
    "path = \"/e/ocean1/users/vargatn/LSST/SYNTHETIC/csamples_nov_dev_01_rtab.h5\"\n",
    "rtab = pd.read_hdf(path, key=\"data\")"
   ]
  },
  {
   "cell_type": "code",
   "execution_count": 81,
   "id": "dae0afcd",
   "metadata": {},
   "outputs": [],
   "source": [
    "deep_data_path = \"/e/ocean1/users/vargatn/LSST/DC2_1.1.4/clusters_v01/dc2_cluster_sim_cutouts/cosmoDC2_v1.1.4_refpixels.h5\"\n",
    "\n",
    "refpixel = pd.read_hdf(deep_data_path, key=\"data\")\n"
   ]
  },
  {
   "cell_type": "code",
   "execution_count": 87,
   "id": "a78acaad",
   "metadata": {},
   "outputs": [
    {
     "data": {
      "text/plain": [
       "[0.31101767270538955, 2.827433388230814, 28.274333882308145, 282.7433388230814]"
      ]
     },
     "execution_count": 87,
     "metadata": {},
     "output_type": "execute_result"
    }
   ],
   "source": [
    "rareas"
   ]
  },
  {
   "cell_type": "code",
   "execution_count": 92,
   "id": "eeae5703",
   "metadata": {},
   "outputs": [
    {
     "data": {
      "text/plain": [
       "array([   5.19512195,   30.85365854,  193.6097561 , 1366.24390244])"
      ]
     },
     "execution_count": 92,
     "metadata": {},
     "output_type": "execute_result"
    }
   ],
   "source": [
    "clust_los_nums"
   ]
  },
  {
   "cell_type": "code",
   "execution_count": 93,
   "id": "4909c711",
   "metadata": {},
   "outputs": [
    {
     "data": {
      "text/plain": [
       "array([   1.89465446,   17.22413142,  172.2413142 , 1722.41314203])"
      ]
     },
     "execution_count": 93,
     "metadata": {},
     "output_type": "execute_result"
    }
   ],
   "source": [
    "rands_los_nums"
   ]
  },
  {
   "cell_type": "code",
   "execution_count": 103,
   "id": "c814f9c0",
   "metadata": {},
   "outputs": [
    {
     "data": {
      "text/plain": [
       "array([16.703623  , 10.91224949,  6.84754438,  4.83209935])"
      ]
     },
     "execution_count": 103,
     "metadata": {},
     "output_type": "execute_result"
    }
   ],
   "source": [
    "clust_los_nums / rareas"
   ]
  },
  {
   "cell_type": "code",
   "execution_count": 114,
   "id": "96ad577a",
   "metadata": {},
   "outputs": [],
   "source": []
  },
  {
   "cell_type": "code",
   "execution_count": 113,
   "id": "f9a1a893",
   "metadata": {},
   "outputs": [
    {
     "data": {
      "text/plain": [
       "[<matplotlib.lines.Line2D at 0x7fc1f01d6690>]"
      ]
     },
     "execution_count": 113,
     "metadata": {},
     "output_type": "execute_result"
    },
    {
     "data": {
      "image/png": "[encoded data removed]",
      "text/plain": [
       "<Figure size 640x480 with 1 Axes>"
      ]
     },
     "metadata": {},
     "output_type": "display_data"
    }
   ],
   "source": [
    "plt.plot(clust_los_nums /rareas)\n",
    "plt.plot(rands_los_nums /rareas)\n"
   ]
  },
  {
   "cell_type": "code",
   "execution_count": 101,
   "id": "ec2f1db1",
   "metadata": {},
   "outputs": [
    {
     "data": {
      "text/plain": [
       "array([6.09179035, 6.09179035, 6.09179035, 6.09179035])"
      ]
     },
     "execution_count": 101,
     "metadata": {},
     "output_type": "execute_result"
    }
   ],
   "source": [
    "rands_los_nums / rareas"
   ]
  },
  {
   "cell_type": "code",
   "execution_count": 116,
   "id": "559bdd09",
   "metadata": {},
   "outputs": [
    {
     "name": "stdout",
     "output_type": "stream",
     "text": [
      "[  3.30046749  13.62952712  21.36844189 115.41856032]\n",
      "0 (-1.5, -0.5)\n",
      "1 (-0.5, 0.0)\n",
      "2 (0, 0.5)\n",
      "3 (0.5, 1.0)\n"
     ]
    }
   ],
   "source": [
    "magcol = \"MAG_I\"\n",
    "rcol = \"LOGR\"\n",
    "mag_lims = (17, 22.5)\n",
    "medges = np.linspace(17, 22.5, 6)\n",
    "medges2 = np.linspace(22.5, 24.5, 4)\n",
    "\n",
    "mag_slices = [(17, 19), (19, 20), (20, 21), (21, 22), (22, 22.5)]\n",
    "\n",
    "r_lims_all = [(-1.5, -0.5), (-0.5, 0.), (0, 0.5), (0.5, 1.0)]\n",
    "redges = [-1.5, -0.5, 0., 0.5, 1.0]\n",
    "rareas = np.array([np.pi*((10**redges[i+1])**2. - (10**redges[i])**2.) for i in np.arange(len(redges)-1)])\n",
    "\n",
    "# drawing line - of - sight surface number of objects in each bin\n",
    "ii = ((ctab[magcol] > mag_lims[0]) & (ctab[magcol] < mag_lims[1]))\n",
    "\n",
    "clust_los_nums = np.histogram(ctab[ii][\"LOGR\"], bins=redges)[0] / 41 # / nc\n",
    "\n",
    "ii = ((refpixel[\"mag_i\"] > mag_lims[0]) & (refpixel[\"mag_i\"] < mag_lims[1]))\n",
    "surfdens = len(refpixel[ii]) / hp.nside2pixarea(32, degrees=True) / 3600 / 3\n",
    "rands_los_nums = surfdens * rareas\n",
    "\n",
    "clust_los_nums[-1] = 6.5 * rareas[-1] # WARNING, this is a hack!!!!!\n",
    "frac = 1. / (clust_los_nums / rands_los_nums)\n",
    "fac = 1\n",
    "clust_nums_to_draw = clust_los_nums * (1 - frac) * fac\n",
    "\n",
    "print(clust_nums_to_draw)\n",
    "maglim_max1 = 22.5\n",
    "maglim_max2 = 24.5\n",
    "clust_gals = []\n",
    "field_gals = []\n",
    "for rbin, r_lims in enumerate(r_lims_all[:4]):\n",
    "    print(rbin, r_lims)\n",
    "\n",
    "    #######################################\n",
    "    sample = csamples[rbin]\n",
    "\n",
    "    ii = ((ctab[rcol] > r_lims[0]) & (ctab[rcol] < r_lims[1]))\n",
    "    vals = np.histogram(ctab[ii][magcol], bins=medges)[0]\n",
    "    vals = vals / vals.sum()\n",
    "\n",
    "    for i in np.arange(len(medges) - 1):\n",
    "        _n_to_draw = clust_nums_to_draw[rbin] * vals[i]\n",
    "        n_to_draw = np.random.poisson(_n_to_draw)\n",
    "\n",
    "        index = ((sample[magcol] > medges[i]) & (sample[magcol] < medges[i + 1]) &\n",
    "                 (sample[rcol] > r_lims[0]) & (sample[rcol] < r_lims[1])).values.astype(bool)\n",
    "        ii = np.random.randint(0, len(sample.iloc[index]), size=n_to_draw)\n",
    "        tmp = sample.iloc[index].iloc[ii]\n",
    "        if len(tmp):\n",
    "            clust_gals.append(tmp)   \n",
    "\n",
    "    ii = ((sample[magcol] > mag_lims[0]) & (sample[magcol] < maglim_max1) &\n",
    "          (sample[rcol] > r_lims[0]) & (sample[rcol] < r_lims[1]))\n",
    "    num1 = len(sample[ii])\n",
    "\n",
    "    ii = ((sample[magcol] > maglim_max1) & (sample[magcol] < maglim_max2) &\n",
    "          (sample[rcol] > r_lims[0]) & (sample[rcol] < r_lims[1]))\n",
    "    num2 = len(sample[ii])\n",
    "    fac_clust = num2 / num1\n",
    "\n",
    "    vals = np.histogram(sample[magcol], bins=medges2)[0]\n",
    "    vals = vals / vals.sum()\n",
    "    for i in np.arange(len(medges2) - 1):\n",
    "        _n_to_draw = clust_nums_to_draw[rbin] * vals[i] * fac_clust\n",
    "        n_to_draw = np.random.poisson(_n_to_draw)\n",
    "\n",
    "        index = ((sample[magcol] > medges2[i]) & (sample[magcol] < medges2[i + 1]) &\n",
    "        (sample[rcol] > r_lims[0]) & (sample[rcol] < r_lims[1])).values.astype(bool)\n",
    "        ii = np.random.randint(0, len(sample.iloc[index]), size=n_to_draw)\n",
    "        tmp = sample.iloc[index].iloc[ii]\n",
    "        if len(tmp):\n",
    "            clust_gals.append(tmp)   \n",
    "\n",
    "\n",
    "\n",
    "gals = pd.concat(clust_gals, sort=True)\n",
    "gals[\"Z\"] = 0.325\n"
   ]
  },
  {
   "cell_type": "code",
   "execution_count": null,
   "id": "333c1a7d",
   "metadata": {},
   "outputs": [],
   "source": []
  },
  {
   "cell_type": "code",
   "execution_count": null,
   "id": "1a10f40a",
   "metadata": {},
   "outputs": [],
   "source": []
  },
  {
   "cell_type": "markdown",
   "id": "7361c05c",
   "metadata": {},
   "source": [
    "## then the ICL"
   ]
  },
  {
   "cell_type": "code",
   "execution_count": 55,
   "id": "89e62aa0",
   "metadata": {},
   "outputs": [],
   "source": [
    "galpath = \"../galsim/ICL/evolving_red_gal.dat\"\n",
    "mstarpath = \"../galsim/ICL/mstar_des_i03.fit\"\n",
    "jk_profile_root = \"../galsim/ICL/jacknife_profiles_0.15_rand_back_subtracted_corZ_faintgalsub/jacknife_profile_\"\n",
    "\n",
    "bcg = {\n",
    "    \"size\": 32.,\n",
    "    \"g1\": -0.1356766444194723,\n",
    "    \"g2\":0.0345231539560347,\n",
    "    \"imag\": 17.76,\n",
    "    \"color_gr\": 1.36,\n",
    "    \"color_ri\": 0.54,\n",
    "    \"color_iz\": 0.32,\n",
    "}\n",
    "mass = 10**14.45\n",
    "z = 0.3"
   ]
  },
  {
   "cell_type": "code",
   "execution_count": 56,
   "id": "806af470",
   "metadata": {},
   "outputs": [
    {
     "name": "stderr",
     "output_type": "stream",
     "text": [
      "/home/moon/vargatn/DES/SYNTHETIC/synthetic/synthetic/render/icl.py:21: RuntimeWarning: overflow encountered in exp\n",
      "  return 1 / (1 + np.exp((arr - pos) * k))\n"
     ]
    }
   ],
   "source": [
    "di = icl.DrawICL(mass, z, bcg, galpath, mstarpath, jk_profile_root)\n",
    "di.get_icl()\n",
    "ims_icl = [di.flux_g, di.flux_r, di.flux_i, di.flux_z]"
   ]
  },
  {
   "cell_type": "code",
   "execution_count": 59,
   "id": "6083cbac",
   "metadata": {},
   "outputs": [
    {
     "name": "stdout",
     "output_type": "stream",
     "text": [
      "0.05216500535607338\n"
     ]
    },
    {
     "data": {
      "text/plain": [
       "Text(0, 0.5, 'Y [pix]')"
      ]
     },
     "execution_count": 59,
     "metadata": {},
     "output_type": "execute_result"
    },
    {
     "data": {
      "image/png": "[encoded data removed]",
      "text/plain": [
       "<Figure size 1200x1200 with 1 Axes>"
      ]
     },
     "metadata": {},
     "output_type": "display_data"
    }
   ],
   "source": [
    "fig = plt.figure(figsize=(12, 12))\n",
    "ax = fig.add_subplot(111)\n",
    "factor = 0.01\n",
    "scales = np.array([1., 1.2, 2.5]) * factor\n",
    "nonlinear = 0.12\n",
    "clip = 0\n",
    "\n",
    "pad = 0\n",
    "obs_im = images.get_color_image(ims_icl[2]+ pad,\n",
    "                                ims_icl[1]+ pad,\n",
    "                                ims_icl[0] + pad,\n",
    "                                nonlinear=nonlinear, clip=clip, scales=scales)  \n",
    "print(obs_im.max())\n",
    "ax.imshow(obs_im[2400:2600, 2400:2600] * 2, origin=\"upper\")\n",
    "ax.set_title(\"Intra Cluster Light (excluding the BCG regime)\")\n",
    "\n",
    "ax.set_xlabel(\"X [pix]\")\n",
    "ax.set_ylabel(\"Y [pix]\")"
   ]
  },
  {
   "cell_type": "markdown",
   "id": "181b0818",
   "metadata": {},
   "source": [
    "## Then sa"
   ]
  },
  {
   "cell_type": "code",
   "execution_count": null,
   "id": "05181791",
   "metadata": {},
   "outputs": [],
   "source": []
  }
 ],
 "metadata": {
  "kernelspec": {
   "display_name": "Python 3 (ipykernel)",
   "language": "python",
   "name": "python3"
  },
  "language_info": {
   "codemirror_mode": {
    "name": "ipython",
    "version": 3
   },
   "file_extension": ".py",
   "mimetype": "text/x-python",
   "name": "python",
   "nbconvert_exporter": "python",
   "pygments_lexer": "ipython3",
   "version": "3.7.4"
  },
  "toc": {
   "base_numbering": 1,
   "nav_menu": {},
   "number_sections": true,
   "sideBar": true,
   "skip_h1_title": false,
   "title_cell": "Table of Contents",
   "title_sidebar": "Contents",
   "toc_cell": false,
   "toc_position": {},
   "toc_section_display": true,
   "toc_window_display": false
  },
  "widgets": {
   "state": {},
   "version": "1.0.0"
  }
 },
 "nbformat": 4,
 "nbformat_minor": 5
}
