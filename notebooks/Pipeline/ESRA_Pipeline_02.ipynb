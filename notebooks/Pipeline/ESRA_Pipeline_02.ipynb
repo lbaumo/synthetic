{
 "cells": [
  {
   "cell_type": "code",
   "execution_count": 1,
   "id": "0f0854d9",
   "metadata": {},
   "outputs": [],
   "source": [
    "import numpy as np\n",
    "import pandas as pd\n",
    "\n",
    "import matplotlib.pyplot as plt\n",
    "import matplotlib as mpl\n",
    "%matplotlib inline\n",
    "\n",
    "import fitsio as fio\n",
    "import meds\n",
    "\n",
    "import synthetic.mcal as mcal"
   ]
  },
  {
   "cell_type": "markdown",
   "id": "0c9a4307",
   "metadata": {},
   "source": [
    "# MEDS FILE (should be already made) \n",
    "\n",
    "Important, must also contain X_IMAGE and Y_IMAGE columns from sextractor output\n",
    "\n",
    "Must also contain the PSF"
   ]
  },
  {
   "cell_type": "code",
   "execution_count": 14,
   "id": "ba6602ab",
   "metadata": {},
   "outputs": [
    {
     "name": "stdout",
     "output_type": "stream",
     "text": [
      "ngmix version: v1.3.9\n",
      "numba version: 0.56.2\n"
     ]
    }
   ],
   "source": [
    "import ngmix\n",
    "print(\"ngmix version:\", ngmix.__version__, \"should be v1.3.9\")\n",
    "import numba\n",
    "print(\"numba version:\", numba.__version__, \"s\")"
   ]
  },
  {
   "cell_type": "code",
   "execution_count": 2,
   "id": "92d6ff7d",
   "metadata": {},
   "outputs": [],
   "source": [
    "meds_file = '/home/moon/vargatn/DES/SYNTHETIC/synthetic/notebooks/Pipeline/testmeds_grid.fits'"
   ]
  },
  {
   "cell_type": "code",
   "execution_count": 3,
   "id": "5647541a",
   "metadata": {},
   "outputs": [],
   "source": [
    "m = meds.MEDS(meds_file)"
   ]
  },
  {
   "cell_type": "code",
   "execution_count": 4,
   "id": "b863d2f2",
   "metadata": {},
   "outputs": [],
   "source": [
    "cat = m.get_cat()"
   ]
  },
  {
   "cell_type": "code",
   "execution_count": 5,
   "id": "408ad1a5",
   "metadata": {},
   "outputs": [],
   "source": [
    "outfile_names = 'metacal_grid' # file name root of output (will have additional _01 _02 etc appended to it)\n",
    "maxnum = 1000 # The highest number of  objects to include from the sextractor detection catalog. \n",
    "\n",
    "\n",
    "infodicts = mcal.infomaker(maxnum, meds_file, \"metacal_grid\", nchunk=100)"
   ]
  },
  {
   "cell_type": "code",
   "execution_count": 6,
   "id": "a056a82c",
   "metadata": {},
   "outputs": [
    {
     "name": "stdout",
     "output_type": "stream",
     "text": [
      "starting metacal calculations in 100 processes\n",
      "Total fitting and stacking time: 15.324333429336548 seconds\n",
      "Total fitting and stacking time: 15.720615148544312 seconds\n",
      "Total fitting and stacking time: 15.85819959640503 seconds\n",
      "Total fitting and stacking time: 15.984991312026978 seconds\n",
      "Total fitting and stacking time: 15.982353925704956 seconds\n",
      "Total fitting and stacking time: 15.991846323013306 seconds\n",
      "Total fitting and stacking time: 16.215078353881836 seconds\n",
      "Total fitting and stacking time: 16.35700821876526 seconds\n",
      "Total fitting and stacking time: 16.4152352809906 seconds\n",
      "Total fitting and stacking time: 16.4375 seconds\n",
      "Total fitting and stacking time: 16.484612226486206 seconds\n",
      "Total fitting and stacking time: 16.76628065109253 seconds\n",
      "Total fitting and stacking time: 16.785929441452026 seconds\n",
      "Total fitting and stacking time: 16.78253149986267 seconds\n",
      "Total fitting and stacking time: 16.977685689926147 seconds\n",
      "Total fitting and stacking time: 16.99449110031128 seconds\n",
      "Total fitting and stacking time: 17.020353317260742 secondsTotal fitting and stacking time: 17.028990983963013 seconds\n",
      "\n",
      "Total fitting and stacking time: 17.102078199386597 seconds\n",
      "Total fitting and stacking time: 17.208476066589355 seconds\n",
      "Total fitting and stacking time: 17.3265380859375 seconds\n",
      "Total fitting and stacking time: 17.343855381011963 seconds\n",
      "Total fitting and stacking time: 17.36239719390869 seconds\n",
      "Total fitting and stacking time: 17.343828439712524 seconds\n",
      "Total fitting and stacking time: 17.426833629608154 seconds\n",
      "Total fitting and stacking time: 17.449764728546143 seconds\n",
      "Total fitting and stacking time: 17.501587390899658 seconds\n",
      "Total fitting and stacking time: 17.533865928649902 seconds\n",
      "Total fitting and stacking time: 17.57439947128296 seconds\n",
      "Total fitting and stacking time: 17.59963035583496 seconds\n",
      "Total fitting and stacking time: 17.599727392196655 seconds\n",
      "Total fitting and stacking time: 17.60860252380371 seconds\n",
      "Total fitting and stacking time: 17.709230422973633 seconds\n",
      "Total fitting and stacking time: 17.715450525283813 seconds\n",
      "Total fitting and stacking time: 17.89375400543213 seconds\n",
      "Total fitting and stacking time: 17.889211416244507 seconds\n",
      "Total fitting and stacking time: 17.963873386383057 seconds\n",
      "Total fitting and stacking time: 17.93768072128296 seconds\n",
      "Total fitting and stacking time: 18.056264400482178 seconds\n",
      "Total fitting and stacking time: 18.076252698898315 seconds\n",
      "Total fitting and stacking time: 18.092942237854004 seconds\n",
      "Total fitting and stacking time: 18.11857843399048 seconds\n",
      "Total fitting and stacking time: 18.10883593559265 seconds\n",
      "Total fitting and stacking time: 18.115391969680786 seconds\n",
      "Total fitting and stacking time: 18.13312077522278 seconds\n",
      "Total fitting and stacking time: 18.128889083862305 seconds\n",
      "Total fitting and stacking time: 18.192140817642212 seconds\n",
      "Total fitting and stacking time: 18.19788408279419 seconds\n",
      "Total fitting and stacking time: 18.208658695220947 seconds\n",
      "Total fitting and stacking time: 18.235939264297485 seconds\n",
      "Total fitting and stacking time: 18.23343563079834 seconds\n",
      "Total fitting and stacking time: 18.256823778152466 seconds\n",
      "Total fitting and stacking time: 18.34424066543579 seconds\n",
      "Total fitting and stacking time: 18.36396312713623 seconds\n",
      "Total fitting and stacking time: 18.36657404899597 seconds\n",
      "Total fitting and stacking time: 18.42913293838501 seconds\n",
      "Total fitting and stacking time: 18.436363458633423 seconds\n",
      "Total fitting and stacking time: 18.48723292350769 seconds\n",
      "Total fitting and stacking time: 18.502275228500366 seconds\n",
      "Total fitting and stacking time: 18.539594411849976 seconds\n",
      "Total fitting and stacking time: 18.57764744758606 seconds\n",
      "Total fitting and stacking time: 18.54931950569153 seconds\n",
      "Total fitting and stacking time: 18.6453595161438 seconds\n",
      "Total fitting and stacking time: 18.63785696029663 seconds\n",
      "Total fitting and stacking time: 18.72138285636902 seconds\n",
      "Total fitting and stacking time: 18.838846921920776 seconds\n",
      "Total fitting and stacking time: 18.83786916732788 seconds\n",
      "Total fitting and stacking time: 18.943811893463135 seconds\n",
      "Total fitting and stacking time: 18.95675826072693 seconds\n",
      "Total fitting and stacking time: 18.96713423728943 seconds\n",
      "Total fitting and stacking time: 18.97801160812378 seconds\n",
      "Total fitting and stacking time: 18.98608088493347 seconds\n",
      "Total fitting and stacking time: 19.04191017150879 seconds\n",
      "Total fitting and stacking time: 19.15105700492859 seconds\n",
      "Total fitting and stacking time: 19.164353609085083 seconds\n",
      "Total fitting and stacking time: 19.17435383796692 seconds\n",
      "Total fitting and stacking time: 19.187849283218384 seconds\n",
      "Total fitting and stacking time: 19.193102598190308 seconds\n",
      "Total fitting and stacking time: 19.26567244529724 seconds\n",
      "Total fitting and stacking time: 19.271514654159546 seconds\n",
      "Total fitting and stacking time: 19.273980379104614 seconds\n",
      "Total fitting and stacking time: 19.31944465637207 seconds\n",
      "Total fitting and stacking time: 19.405978679656982 seconds\n",
      "Total fitting and stacking time: 19.449589490890503 seconds\n",
      "Total fitting and stacking time: 19.4529070854187 seconds\n",
      "Total fitting and stacking time: 19.42686367034912 seconds\n",
      "Total fitting and stacking time: 19.479551076889038 seconds\n",
      "Total fitting and stacking time: 19.46341896057129 seconds\n",
      "Total fitting and stacking time: 19.58058524131775 seconds\n",
      "Total fitting and stacking time: 19.59255290031433 seconds\n",
      "Total fitting and stacking time: 19.677695989608765 seconds\n",
      "Total fitting and stacking time: 19.65298557281494 seconds\n",
      "Total fitting and stacking time: 19.688512802124023 seconds\n",
      "Total fitting and stacking time: 19.8641254901886 seconds\n",
      "Total fitting and stacking time: 19.889280080795288 seconds\n",
      "Total fitting and stacking time: 19.865387439727783 seconds\n",
      "Total fitting and stacking time: 20.16331648826599 seconds\n",
      "Total fitting and stacking time: 20.233362913131714 seconds\n",
      "Total fitting and stacking time: 20.249265909194946 seconds\n",
      "Total fitting and stacking time: 20.2704598903656 seconds\n"
     ]
    }
   ],
   "source": [
    "mcal.multi_mcal(infodicts, nprocess=100)"
   ]
  },
  {
   "cell_type": "code",
   "execution_count": 7,
   "id": "b5c47a15",
   "metadata": {},
   "outputs": [],
   "source": [
    "tab = mcal.collater(infodicts)"
   ]
  },
  {
   "cell_type": "code",
   "execution_count": 8,
   "id": "e5576b8c",
   "metadata": {},
   "outputs": [
    {
     "name": "stdout",
     "output_type": "stream",
     "text": [
      "the measured shape  <e> with 10k galaxies\n",
      "g1 = 0.0139 the input shape is 0.02\n",
      "g2 = -0.0163 the input shape is -0.02\n",
      "\n",
      "METACALIBRATION:\n",
      "the measured shape  <e> / <R> with 10k galaxies\n",
      "g1 = 0.0177 the input shape is 0.02\n",
      "g2 = -0.0208 the input shape is -0.02\n"
     ]
    }
   ],
   "source": [
    "gest1_raw =tab[\"g_noshear\"][:, 0].mean()\n",
    "gest2_raw =tab[\"g_noshear\"][:, 1].mean()\n",
    "\n",
    "gest1 =tab[\"g_noshear\"][:, 0].mean() / tab['r11'].mean()\n",
    "gest2 =tab[\"g_noshear\"][:, 1].mean() / tab['r22'].mean()\n",
    "\n",
    "print(\"the measured shape  <e> with 10k galaxies\")\n",
    "print(\"g1 = {:.4f}\".format(gest1_raw), \"the input shape is 0.02\")\n",
    "print(\"g2 = {:.4f}\".format(gest2_raw), \"the input shape is -0.02\")\n",
    "print('')\n",
    "print('METACALIBRATION:')\n",
    "print(\"the measured shape  <e> / <R> with 10k galaxies\")\n",
    "print(\"g1 = {:.4f}\".format(gest1), \"the input shape is 0.02\")\n",
    "print(\"g2 = {:.4f}\".format(gest2), \"the input shape is -0.02\")"
   ]
  },
  {
   "cell_type": "code",
   "execution_count": null,
   "id": "11f6de72",
   "metadata": {},
   "outputs": [],
   "source": []
  }
 ],
 "metadata": {
  "kernelspec": {
   "display_name": "Python 3 (ipykernel)",
   "language": "python",
   "name": "python3"
  },
  "language_info": {
   "codemirror_mode": {
    "name": "ipython",
    "version": 3
   },
   "file_extension": ".py",
   "mimetype": "text/x-python",
   "name": "python",
   "nbconvert_exporter": "python",
   "pygments_lexer": "ipython3",
   "version": "3.7.4"
  },
  "toc": {
   "base_numbering": 1,
   "nav_menu": {},
   "number_sections": true,
   "sideBar": true,
   "skip_h1_title": false,
   "title_cell": "Table of Contents",
   "title_sidebar": "Contents",
   "toc_cell": false,
   "toc_position": {},
   "toc_section_display": true,
   "toc_window_display": false
  },
  "widgets": {
   "state": {},
   "version": "1.0.0"
  }
 },
 "nbformat": 4,
 "nbformat_minor": 5
}
