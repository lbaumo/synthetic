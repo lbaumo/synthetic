{
 "cells": [
  {
   "cell_type": "code",
   "execution_count": 1,
   "id": "9c13c103",
   "metadata": {},
   "outputs": [],
   "source": [
    "from numba.core.errors import NumbaDeprecationWarning, NumbaPendingDeprecationWarning\n",
    "import warnings\n",
    "\n",
    "warnings.simplefilter('ignore', category=NumbaDeprecationWarning)\n",
    "warnings.simplefilter('ignore', category=NumbaPendingDeprecationWarning)\n",
    "\n",
    "import numpy as np\n",
    "import pandas as pd\n",
    "\n",
    "import matplotlib.pyplot as plt\n",
    "import matplotlib as mpl\n",
    "%matplotlib inline\n",
    "\n",
    "import fitsio as fio\n",
    "import meds\n",
    "\n",
    "import synthetic.mcal as mcal"
   ]
  },
  {
   "cell_type": "markdown",
   "id": "4aebd755",
   "metadata": {},
   "source": [
    "# MEDS FILE (should be already made) \n",
    "\n",
    "Important, must also contain X_IMAGE and Y_IMAGE columns from sextractor output\n",
    "\n",
    "Must also contain the PSF"
   ]
  },
  {
   "cell_type": "code",
   "execution_count": 2,
   "id": "cf8015e2",
   "metadata": {},
   "outputs": [],
   "source": [
    "meds_file = '/home/moon/vargatn/DES/SYNTHETIC/synthetic/notebooks/Pipeline/testmeds_grid.fits'"
   ]
  },
  {
   "cell_type": "code",
   "execution_count": 3,
   "id": "bf70e7b2",
   "metadata": {},
   "outputs": [],
   "source": [
    "m = meds.MEDS(meds_file)"
   ]
  },
  {
   "cell_type": "code",
   "execution_count": 4,
   "id": "b0ba19a6",
   "metadata": {},
   "outputs": [],
   "source": [
    "cat = m.get_cat()"
   ]
  },
  {
   "cell_type": "code",
   "execution_count": 5,
   "id": "3a75ca0b",
   "metadata": {},
   "outputs": [],
   "source": [
    "outfile_names = 'metacal_grid' # file name root of output (will have additional _01 _02 etc appended to it)\n",
    "maxnum = 1000 # The highest number of  objects to include from the sextractor detection catalog. \n",
    "\n",
    "\n",
    "infodicts = mcal.infomaker(maxnum, meds_file, \"metacal_grid\", nchunk=100)"
   ]
  },
  {
   "cell_type": "code",
   "execution_count": null,
   "id": "27c97577",
   "metadata": {},
   "outputs": [
    {
     "name": "stdout",
     "output_type": "stream",
     "text": [
      "starting metacal calculations in 100 processes\n"
     ]
    },
    {
     "name": "stderr",
     "output_type": "stream",
     "text": [
      "/home/moon/vargatn/anaconda3/envs/galsim/lib/python3.7/site-packages/ngmix/fitting_nb.py:169: NumbaExperimentalFeatureWarning: \u001b[1m\u001b[1mRecord(u[type=float64;offset=0],v[type=float64;offset=8],val[type=float64;offset=16],ierr[type=float64;offset=24],fdiff[type=float64;offset=32];40;False) has been considered a subtype of Record(u[type=float64;offset=0],v[type=float64;offset=8];16;False)  This is an experimental feature.\u001b[0m\u001b[0m\n",
      "  model_val = gmix_eval_pixel_fast(gmix, pixel)\n",
      "/home/moon/vargatn/anaconda3/envs/galsim/lib/python3.7/site-packages/ngmix/fitting_nb.py:169: NumbaExperimentalFeatureWarning: \u001b[1m\u001b[1mRecord(u[type=float64;offset=0],v[type=float64;offset=8],val[type=float64;offset=16],ierr[type=float64;offset=24],fdiff[type=float64;offset=32];40;False) has been considered a subtype of Record(u[type=float64;offset=0],v[type=float64;offset=8];16;False)  This is an experimental feature.\u001b[0m\u001b[0m\n",
      "  model_val = gmix_eval_pixel_fast(gmix, pixel)\n",
      "/home/moon/vargatn/anaconda3/envs/galsim/lib/python3.7/site-packages/ngmix/fitting_nb.py:169: NumbaExperimentalFeatureWarning: \u001b[1m\u001b[1mRecord(u[type=float64;offset=0],v[type=float64;offset=8],val[type=float64;offset=16],ierr[type=float64;offset=24],fdiff[type=float64;offset=32];40;False) has been considered a subtype of Record(u[type=float64;offset=0],v[type=float64;offset=8];16;False)  This is an experimental feature.\u001b[0m\u001b[0m\n",
      "  model_val = gmix_eval_pixel_fast(gmix, pixel)\n",
      "/home/moon/vargatn/anaconda3/envs/galsim/lib/python3.7/site-packages/ngmix/fitting_nb.py:169: NumbaExperimentalFeatureWarning: \u001b[1m\u001b[1mRecord(u[type=float64;offset=0],v[type=float64;offset=8],val[type=float64;offset=16],ierr[type=float64;offset=24],fdiff[type=float64;offset=32];40;False) has been considered a subtype of Record(u[type=float64;offset=0],v[type=float64;offset=8];16;False)  This is an experimental feature.\u001b[0m\u001b[0m\n",
      "  model_val = gmix_eval_pixel_fast(gmix, pixel)\n",
      "/home/moon/vargatn/anaconda3/envs/galsim/lib/python3.7/site-packages/ngmix/fitting_nb.py:169: NumbaExperimentalFeatureWarning: \u001b[1m\u001b[1mRecord(u[type=float64;offset=0],v[type=float64;offset=8],val[type=float64;offset=16],ierr[type=float64;offset=24],fdiff[type=float64;offset=32];40;False) has been considered a subtype of Record(u[type=float64;offset=0],v[type=float64;offset=8];16;False)  This is an experimental feature.\u001b[0m\u001b[0m\n",
      "  model_val = gmix_eval_pixel_fast(gmix, pixel)\n",
      "/home/moon/vargatn/anaconda3/envs/galsim/lib/python3.7/site-packages/ngmix/fitting_nb.py:169: NumbaExperimentalFeatureWarning: \u001b[1m\u001b[1mRecord(u[type=float64;offset=0],v[type=float64;offset=8],val[type=float64;offset=16],ierr[type=float64;offset=24],fdiff[type=float64;offset=32];40;False) has been considered a subtype of Record(u[type=float64;offset=0],v[type=float64;offset=8];16;False)  This is an experimental feature.\u001b[0m\u001b[0m\n",
      "  model_val = gmix_eval_pixel_fast(gmix, pixel)\n",
      "/home/moon/vargatn/anaconda3/envs/galsim/lib/python3.7/site-packages/ngmix/fitting_nb.py:169: NumbaExperimentalFeatureWarning: \u001b[1m\u001b[1mRecord(u[type=float64;offset=0],v[type=float64;offset=8],val[type=float64;offset=16],ierr[type=float64;offset=24],fdiff[type=float64;offset=32];40;False) has been considered a subtype of Record(u[type=float64;offset=0],v[type=float64;offset=8];16;False)  This is an experimental feature.\u001b[0m\u001b[0m\n",
      "  model_val = gmix_eval_pixel_fast(gmix, pixel)\n",
      "/home/moon/vargatn/anaconda3/envs/galsim/lib/python3.7/site-packages/ngmix/fitting_nb.py:169: NumbaExperimentalFeatureWarning: \u001b[1m\u001b[1mRecord(u[type=float64;offset=0],v[type=float64;offset=8],val[type=float64;offset=16],ierr[type=float64;offset=24],fdiff[type=float64;offset=32];40;False) has been considered a subtype of Record(u[type=float64;offset=0],v[type=float64;offset=8];16;False)  This is an experimental feature.\u001b[0m\u001b[0m\n",
      "  model_val = gmix_eval_pixel_fast(gmix, pixel)\n",
      "/home/moon/vargatn/anaconda3/envs/galsim/lib/python3.7/site-packages/ngmix/fitting_nb.py:169: NumbaExperimentalFeatureWarning: \u001b[1m\u001b[1mRecord(u[type=float64;offset=0],v[type=float64;offset=8],val[type=float64;offset=16],ierr[type=float64;offset=24],fdiff[type=float64;offset=32];40;False) has been considered a subtype of Record(u[type=float64;offset=0],v[type=float64;offset=8];16;False)  This is an experimental feature.\u001b[0m\u001b[0m\n",
      "  model_val = gmix_eval_pixel_fast(gmix, pixel)\n",
      "/home/moon/vargatn/anaconda3/envs/galsim/lib/python3.7/site-packages/ngmix/fitting_nb.py:169: NumbaExperimentalFeatureWarning: \u001b[1m\u001b[1mRecord(u[type=float64;offset=0],v[type=float64;offset=8],val[type=float64;offset=16],ierr[type=float64;offset=24],fdiff[type=float64;offset=32];40;False) has been considered a subtype of Record(u[type=float64;offset=0],v[type=float64;offset=8];16;False)  This is an experimental feature.\u001b[0m\u001b[0m\n",
      "  model_val = gmix_eval_pixel_fast(gmix, pixel)\n",
      "/home/moon/vargatn/anaconda3/envs/galsim/lib/python3.7/site-packages/ngmix/fitting_nb.py:169: NumbaExperimentalFeatureWarning: \u001b[1m\u001b[1mRecord(u[type=float64;offset=0],v[type=float64;offset=8],val[type=float64;offset=16],ierr[type=float64;offset=24],fdiff[type=float64;offset=32];40;False) has been considered a subtype of Record(u[type=float64;offset=0],v[type=float64;offset=8];16;False)  This is an experimental feature.\u001b[0m\u001b[0m\n",
      "  model_val = gmix_eval_pixel_fast(gmix, pixel)\n",
      "/home/moon/vargatn/anaconda3/envs/galsim/lib/python3.7/site-packages/ngmix/fitting_nb.py:169: NumbaExperimentalFeatureWarning: \u001b[1m\u001b[1mRecord(u[type=float64;offset=0],v[type=float64;offset=8],val[type=float64;offset=16],ierr[type=float64;offset=24],fdiff[type=float64;offset=32];40;False) has been considered a subtype of Record(u[type=float64;offset=0],v[type=float64;offset=8];16;False)  This is an experimental feature.\u001b[0m\u001b[0m\n",
      "  model_val = gmix_eval_pixel_fast(gmix, pixel)\n",
      "/home/moon/vargatn/anaconda3/envs/galsim/lib/python3.7/site-packages/ngmix/fitting_nb.py:169: NumbaExperimentalFeatureWarning: \u001b[1m\u001b[1mRecord(u[type=float64;offset=0],v[type=float64;offset=8],val[type=float64;offset=16],ierr[type=float64;offset=24],fdiff[type=float64;offset=32];40;False) has been considered a subtype of Record(u[type=float64;offset=0],v[type=float64;offset=8];16;False)  This is an experimental feature.\u001b[0m\u001b[0m\n",
      "  model_val = gmix_eval_pixel_fast(gmix, pixel)\n",
      "/home/moon/vargatn/anaconda3/envs/galsim/lib/python3.7/site-packages/ngmix/fitting_nb.py:169: NumbaExperimentalFeatureWarning: \u001b[1m\u001b[1mRecord(u[type=float64;offset=0],v[type=float64;offset=8],val[type=float64;offset=16],ierr[type=float64;offset=24],fdiff[type=float64;offset=32];40;False) has been considered a subtype of Record(u[type=float64;offset=0],v[type=float64;offset=8];16;False)  This is an experimental feature.\u001b[0m\u001b[0m\n",
      "  model_val = gmix_eval_pixel_fast(gmix, pixel)\n",
      "/home/moon/vargatn/anaconda3/envs/galsim/lib/python3.7/site-packages/ngmix/fitting_nb.py:169: NumbaExperimentalFeatureWarning: \u001b[1m\u001b[1mRecord(u[type=float64;offset=0],v[type=float64;offset=8],val[type=float64;offset=16],ierr[type=float64;offset=24],fdiff[type=float64;offset=32];40;False) has been considered a subtype of Record(u[type=float64;offset=0],v[type=float64;offset=8];16;False)  This is an experimental feature.\u001b[0m\u001b[0m\n",
      "  model_val = gmix_eval_pixel_fast(gmix, pixel)\n",
      "/home/moon/vargatn/anaconda3/envs/galsim/lib/python3.7/site-packages/ngmix/fitting_nb.py:169: NumbaExperimentalFeatureWarning: \u001b[1m\u001b[1mRecord(u[type=float64;offset=0],v[type=float64;offset=8],val[type=float64;offset=16],ierr[type=float64;offset=24],fdiff[type=float64;offset=32];40;False) has been considered a subtype of Record(u[type=float64;offset=0],v[type=float64;offset=8];16;False)  This is an experimental feature.\u001b[0m\u001b[0m\n",
      "  model_val = gmix_eval_pixel_fast(gmix, pixel)\n",
      "/home/moon/vargatn/anaconda3/envs/galsim/lib/python3.7/site-packages/ngmix/fitting_nb.py:169: NumbaExperimentalFeatureWarning: \u001b[1m\u001b[1mRecord(u[type=float64;offset=0],v[type=float64;offset=8],val[type=float64;offset=16],ierr[type=float64;offset=24],fdiff[type=float64;offset=32];40;False) has been considered a subtype of Record(u[type=float64;offset=0],v[type=float64;offset=8];16;False)  This is an experimental feature.\u001b[0m\u001b[0m\n",
      "  model_val = gmix_eval_pixel_fast(gmix, pixel)\n",
      "/home/moon/vargatn/anaconda3/envs/galsim/lib/python3.7/site-packages/ngmix/fitting_nb.py:169: NumbaExperimentalFeatureWarning: \u001b[1m\u001b[1mRecord(u[type=float64;offset=0],v[type=float64;offset=8],val[type=float64;offset=16],ierr[type=float64;offset=24],fdiff[type=float64;offset=32];40;False) has been considered a subtype of Record(u[type=float64;offset=0],v[type=float64;offset=8];16;False)  This is an experimental feature.\u001b[0m\u001b[0m\n",
      "  model_val = gmix_eval_pixel_fast(gmix, pixel)\n"
     ]
    },
    {
     "name": "stderr",
     "output_type": "stream",
     "text": [
      "/home/moon/vargatn/anaconda3/envs/galsim/lib/python3.7/site-packages/ngmix/fitting_nb.py:169: NumbaExperimentalFeatureWarning: \u001b[1m\u001b[1mRecord(u[type=float64;offset=0],v[type=float64;offset=8],val[type=float64;offset=16],ierr[type=float64;offset=24],fdiff[type=float64;offset=32];40;False) has been considered a subtype of Record(u[type=float64;offset=0],v[type=float64;offset=8];16;False)  This is an experimental feature.\u001b[0m\u001b[0m\n",
      "  model_val = gmix_eval_pixel_fast(gmix, pixel)\n",
      "/home/moon/vargatn/anaconda3/envs/galsim/lib/python3.7/site-packages/ngmix/fitting_nb.py:169: NumbaExperimentalFeatureWarning: \u001b[1m\u001b[1mRecord(u[type=float64;offset=0],v[type=float64;offset=8],val[type=float64;offset=16],ierr[type=float64;offset=24],fdiff[type=float64;offset=32];40;False) has been considered a subtype of Record(u[type=float64;offset=0],v[type=float64;offset=8];16;False)  This is an experimental feature.\u001b[0m\u001b[0m\n",
      "  model_val = gmix_eval_pixel_fast(gmix, pixel)\n",
      "/home/moon/vargatn/anaconda3/envs/galsim/lib/python3.7/site-packages/ngmix/fitting_nb.py:169: NumbaExperimentalFeatureWarning: \u001b[1m\u001b[1mRecord(u[type=float64;offset=0],v[type=float64;offset=8],val[type=float64;offset=16],ierr[type=float64;offset=24],fdiff[type=float64;offset=32];40;False) has been considered a subtype of Record(u[type=float64;offset=0],v[type=float64;offset=8];16;False)  This is an experimental feature.\u001b[0m\u001b[0m\n",
      "  model_val = gmix_eval_pixel_fast(gmix, pixel)\n",
      "/home/moon/vargatn/anaconda3/envs/galsim/lib/python3.7/site-packages/ngmix/fitting_nb.py:169: NumbaExperimentalFeatureWarning: \u001b[1m\u001b[1mRecord(u[type=float64;offset=0],v[type=float64;offset=8],val[type=float64;offset=16],ierr[type=float64;offset=24],fdiff[type=float64;offset=32];40;False) has been considered a subtype of Record(u[type=float64;offset=0],v[type=float64;offset=8];16;False)  This is an experimental feature.\u001b[0m\u001b[0m\n",
      "  model_val = gmix_eval_pixel_fast(gmix, pixel)\n",
      "/home/moon/vargatn/anaconda3/envs/galsim/lib/python3.7/site-packages/ngmix/fitting_nb.py:169: NumbaExperimentalFeatureWarning: \u001b[1m\u001b[1mRecord(u[type=float64;offset=0],v[type=float64;offset=8],val[type=float64;offset=16],ierr[type=float64;offset=24],fdiff[type=float64;offset=32];40;False) has been considered a subtype of Record(u[type=float64;offset=0],v[type=float64;offset=8];16;False)  This is an experimental feature.\u001b[0m\u001b[0m\n",
      "  model_val = gmix_eval_pixel_fast(gmix, pixel)\n",
      "/home/moon/vargatn/anaconda3/envs/galsim/lib/python3.7/site-packages/ngmix/fitting_nb.py:169: NumbaExperimentalFeatureWarning: \u001b[1m\u001b[1mRecord(u[type=float64;offset=0],v[type=float64;offset=8],val[type=float64;offset=16],ierr[type=float64;offset=24],fdiff[type=float64;offset=32];40;False) has been considered a subtype of Record(u[type=float64;offset=0],v[type=float64;offset=8];16;False)  This is an experimental feature.\u001b[0m\u001b[0m\n",
      "  model_val = gmix_eval_pixel_fast(gmix, pixel)\n",
      "/home/moon/vargatn/anaconda3/envs/galsim/lib/python3.7/site-packages/ngmix/fitting_nb.py:169: NumbaExperimentalFeatureWarning: \u001b[1m\u001b[1mRecord(u[type=float64;offset=0],v[type=float64;offset=8],val[type=float64;offset=16],ierr[type=float64;offset=24],fdiff[type=float64;offset=32];40;False) has been considered a subtype of Record(u[type=float64;offset=0],v[type=float64;offset=8];16;False)  This is an experimental feature.\u001b[0m\u001b[0m\n",
      "  model_val = gmix_eval_pixel_fast(gmix, pixel)\n",
      "/home/moon/vargatn/anaconda3/envs/galsim/lib/python3.7/site-packages/ngmix/fitting_nb.py:169: NumbaExperimentalFeatureWarning: \u001b[1m\u001b[1mRecord(u[type=float64;offset=0],v[type=float64;offset=8],val[type=float64;offset=16],ierr[type=float64;offset=24],fdiff[type=float64;offset=32];40;False) has been considered a subtype of Record(u[type=float64;offset=0],v[type=float64;offset=8];16;False)  This is an experimental feature.\u001b[0m\u001b[0m\n",
      "  model_val = gmix_eval_pixel_fast(gmix, pixel)\n",
      "/home/moon/vargatn/anaconda3/envs/galsim/lib/python3.7/site-packages/ngmix/fitting_nb.py:169: NumbaExperimentalFeatureWarning: \u001b[1m\u001b[1mRecord(u[type=float64;offset=0],v[type=float64;offset=8],val[type=float64;offset=16],ierr[type=float64;offset=24],fdiff[type=float64;offset=32];40;False) has been considered a subtype of Record(u[type=float64;offset=0],v[type=float64;offset=8];16;False)  This is an experimental feature.\u001b[0m\u001b[0m\n",
      "  model_val = gmix_eval_pixel_fast(gmix, pixel)\n",
      "/home/moon/vargatn/anaconda3/envs/galsim/lib/python3.7/site-packages/ngmix/fitting_nb.py:169: NumbaExperimentalFeatureWarning: \u001b[1m\u001b[1mRecord(u[type=float64;offset=0],v[type=float64;offset=8],val[type=float64;offset=16],ierr[type=float64;offset=24],fdiff[type=float64;offset=32];40;False) has been considered a subtype of Record(u[type=float64;offset=0],v[type=float64;offset=8];16;False)  This is an experimental feature.\u001b[0m\u001b[0m\n",
      "  model_val = gmix_eval_pixel_fast(gmix, pixel)\n",
      "/home/moon/vargatn/anaconda3/envs/galsim/lib/python3.7/site-packages/ngmix/fitting_nb.py:169: NumbaExperimentalFeatureWarning: \u001b[1m\u001b[1mRecord(u[type=float64;offset=0],v[type=float64;offset=8],val[type=float64;offset=16],ierr[type=float64;offset=24],fdiff[type=float64;offset=32];40;False) has been considered a subtype of Record(u[type=float64;offset=0],v[type=float64;offset=8];16;False)  This is an experimental feature.\u001b[0m\u001b[0m\n",
      "  model_val = gmix_eval_pixel_fast(gmix, pixel)\n",
      "/home/moon/vargatn/anaconda3/envs/galsim/lib/python3.7/site-packages/ngmix/fitting_nb.py:169: NumbaExperimentalFeatureWarning: \u001b[1m\u001b[1mRecord(u[type=float64;offset=0],v[type=float64;offset=8],val[type=float64;offset=16],ierr[type=float64;offset=24],fdiff[type=float64;offset=32];40;False) has been considered a subtype of Record(u[type=float64;offset=0],v[type=float64;offset=8];16;False)  This is an experimental feature.\u001b[0m\u001b[0m\n",
      "  model_val = gmix_eval_pixel_fast(gmix, pixel)\n",
      "/home/moon/vargatn/anaconda3/envs/galsim/lib/python3.7/site-packages/ngmix/fitting_nb.py:169: NumbaExperimentalFeatureWarning: \u001b[1m\u001b[1mRecord(u[type=float64;offset=0],v[type=float64;offset=8],val[type=float64;offset=16],ierr[type=float64;offset=24],fdiff[type=float64;offset=32];40;False) has been considered a subtype of Record(u[type=float64;offset=0],v[type=float64;offset=8];16;False)  This is an experimental feature.\u001b[0m\u001b[0m\n",
      "  model_val = gmix_eval_pixel_fast(gmix, pixel)\n",
      "/home/moon/vargatn/anaconda3/envs/galsim/lib/python3.7/site-packages/ngmix/fitting_nb.py:169: NumbaExperimentalFeatureWarning: \u001b[1m\u001b[1mRecord(u[type=float64;offset=0],v[type=float64;offset=8],val[type=float64;offset=16],ierr[type=float64;offset=24],fdiff[type=float64;offset=32];40;False) has been considered a subtype of Record(u[type=float64;offset=0],v[type=float64;offset=8];16;False)  This is an experimental feature.\u001b[0m\u001b[0m\n",
      "  model_val = gmix_eval_pixel_fast(gmix, pixel)\n",
      "/home/moon/vargatn/anaconda3/envs/galsim/lib/python3.7/site-packages/ngmix/fitting_nb.py:169: NumbaExperimentalFeatureWarning: \u001b[1m\u001b[1mRecord(u[type=float64;offset=0],v[type=float64;offset=8],val[type=float64;offset=16],ierr[type=float64;offset=24],fdiff[type=float64;offset=32];40;False) has been considered a subtype of Record(u[type=float64;offset=0],v[type=float64;offset=8];16;False)  This is an experimental feature.\u001b[0m\u001b[0m\n",
      "  model_val = gmix_eval_pixel_fast(gmix, pixel)\n",
      "/home/moon/vargatn/anaconda3/envs/galsim/lib/python3.7/site-packages/ngmix/fitting_nb.py:169: NumbaExperimentalFeatureWarning: \u001b[1m\u001b[1mRecord(u[type=float64;offset=0],v[type=float64;offset=8],val[type=float64;offset=16],ierr[type=float64;offset=24],fdiff[type=float64;offset=32];40;False) has been considered a subtype of Record(u[type=float64;offset=0],v[type=float64;offset=8];16;False)  This is an experimental feature.\u001b[0m\u001b[0m\n",
      "  model_val = gmix_eval_pixel_fast(gmix, pixel)\n",
      "/home/moon/vargatn/anaconda3/envs/galsim/lib/python3.7/site-packages/ngmix/fitting_nb.py:169: NumbaExperimentalFeatureWarning: \u001b[1m\u001b[1mRecord(u[type=float64;offset=0],v[type=float64;offset=8],val[type=float64;offset=16],ierr[type=float64;offset=24],fdiff[type=float64;offset=32];40;False) has been considered a subtype of Record(u[type=float64;offset=0],v[type=float64;offset=8];16;False)  This is an experimental feature.\u001b[0m\u001b[0m\n",
      "  model_val = gmix_eval_pixel_fast(gmix, pixel)\n",
      "/home/moon/vargatn/anaconda3/envs/galsim/lib/python3.7/site-packages/ngmix/fitting_nb.py:169: NumbaExperimentalFeatureWarning: \u001b[1m\u001b[1mRecord(u[type=float64;offset=0],v[type=float64;offset=8],val[type=float64;offset=16],ierr[type=float64;offset=24],fdiff[type=float64;offset=32];40;False) has been considered a subtype of Record(u[type=float64;offset=0],v[type=float64;offset=8];16;False)  This is an experimental feature.\u001b[0m\u001b[0m\n",
      "  model_val = gmix_eval_pixel_fast(gmix, pixel)\n"
     ]
    },
    {
     "name": "stderr",
     "output_type": "stream",
     "text": [
      "/home/moon/vargatn/anaconda3/envs/galsim/lib/python3.7/site-packages/ngmix/fitting_nb.py:169: NumbaExperimentalFeatureWarning: \u001b[1m\u001b[1mRecord(u[type=float64;offset=0],v[type=float64;offset=8],val[type=float64;offset=16],ierr[type=float64;offset=24],fdiff[type=float64;offset=32];40;False) has been considered a subtype of Record(u[type=float64;offset=0],v[type=float64;offset=8];16;False)  This is an experimental feature.\u001b[0m\u001b[0m\n",
      "  model_val = gmix_eval_pixel_fast(gmix, pixel)\n",
      "/home/moon/vargatn/anaconda3/envs/galsim/lib/python3.7/site-packages/ngmix/fitting_nb.py:169: NumbaExperimentalFeatureWarning: \u001b[1m\u001b[1mRecord(u[type=float64;offset=0],v[type=float64;offset=8],val[type=float64;offset=16],ierr[type=float64;offset=24],fdiff[type=float64;offset=32];40;False) has been considered a subtype of Record(u[type=float64;offset=0],v[type=float64;offset=8];16;False)  This is an experimental feature.\u001b[0m\u001b[0m\n",
      "  model_val = gmix_eval_pixel_fast(gmix, pixel)\n",
      "/home/moon/vargatn/anaconda3/envs/galsim/lib/python3.7/site-packages/ngmix/fitting_nb.py:169: NumbaExperimentalFeatureWarning: \u001b[1m\u001b[1mRecord(u[type=float64;offset=0],v[type=float64;offset=8],val[type=float64;offset=16],ierr[type=float64;offset=24],fdiff[type=float64;offset=32];40;False) has been considered a subtype of Record(u[type=float64;offset=0],v[type=float64;offset=8];16;False)  This is an experimental feature.\u001b[0m\u001b[0m\n",
      "  model_val = gmix_eval_pixel_fast(gmix, pixel)\n",
      "/home/moon/vargatn/anaconda3/envs/galsim/lib/python3.7/site-packages/ngmix/fitting_nb.py:169: NumbaExperimentalFeatureWarning: \u001b[1m\u001b[1mRecord(u[type=float64;offset=0],v[type=float64;offset=8],val[type=float64;offset=16],ierr[type=float64;offset=24],fdiff[type=float64;offset=32];40;False) has been considered a subtype of Record(u[type=float64;offset=0],v[type=float64;offset=8];16;False)  This is an experimental feature.\u001b[0m\u001b[0m\n",
      "  model_val = gmix_eval_pixel_fast(gmix, pixel)\n",
      "/home/moon/vargatn/anaconda3/envs/galsim/lib/python3.7/site-packages/ngmix/fitting_nb.py:169: NumbaExperimentalFeatureWarning: \u001b[1m\u001b[1mRecord(u[type=float64;offset=0],v[type=float64;offset=8],val[type=float64;offset=16],ierr[type=float64;offset=24],fdiff[type=float64;offset=32];40;False) has been considered a subtype of Record(u[type=float64;offset=0],v[type=float64;offset=8];16;False)  This is an experimental feature.\u001b[0m\u001b[0m\n",
      "  model_val = gmix_eval_pixel_fast(gmix, pixel)\n",
      "/home/moon/vargatn/anaconda3/envs/galsim/lib/python3.7/site-packages/ngmix/fitting_nb.py:169: NumbaExperimentalFeatureWarning: \u001b[1m\u001b[1mRecord(u[type=float64;offset=0],v[type=float64;offset=8],val[type=float64;offset=16],ierr[type=float64;offset=24],fdiff[type=float64;offset=32];40;False) has been considered a subtype of Record(u[type=float64;offset=0],v[type=float64;offset=8];16;False)  This is an experimental feature.\u001b[0m\u001b[0m\n",
      "  model_val = gmix_eval_pixel_fast(gmix, pixel)\n",
      "/home/moon/vargatn/anaconda3/envs/galsim/lib/python3.7/site-packages/ngmix/fitting_nb.py:169: NumbaExperimentalFeatureWarning: \u001b[1m\u001b[1mRecord(u[type=float64;offset=0],v[type=float64;offset=8],val[type=float64;offset=16],ierr[type=float64;offset=24],fdiff[type=float64;offset=32];40;False) has been considered a subtype of Record(u[type=float64;offset=0],v[type=float64;offset=8];16;False)  This is an experimental feature.\u001b[0m\u001b[0m\n",
      "  model_val = gmix_eval_pixel_fast(gmix, pixel)\n",
      "/home/moon/vargatn/anaconda3/envs/galsim/lib/python3.7/site-packages/ngmix/fitting_nb.py:169: NumbaExperimentalFeatureWarning: \u001b[1m\u001b[1mRecord(u[type=float64;offset=0],v[type=float64;offset=8],val[type=float64;offset=16],ierr[type=float64;offset=24],fdiff[type=float64;offset=32];40;False) has been considered a subtype of Record(u[type=float64;offset=0],v[type=float64;offset=8];16;False)  This is an experimental feature.\u001b[0m\u001b[0m\n",
      "  model_val = gmix_eval_pixel_fast(gmix, pixel)\n",
      "/home/moon/vargatn/anaconda3/envs/galsim/lib/python3.7/site-packages/ngmix/fitting_nb.py:169: NumbaExperimentalFeatureWarning: \u001b[1m\u001b[1mRecord(u[type=float64;offset=0],v[type=float64;offset=8],val[type=float64;offset=16],ierr[type=float64;offset=24],fdiff[type=float64;offset=32];40;False) has been considered a subtype of Record(u[type=float64;offset=0],v[type=float64;offset=8];16;False)  This is an experimental feature.\u001b[0m\u001b[0m\n",
      "  model_val = gmix_eval_pixel_fast(gmix, pixel)\n",
      "/home/moon/vargatn/anaconda3/envs/galsim/lib/python3.7/site-packages/ngmix/fitting_nb.py:169: NumbaExperimentalFeatureWarning: \u001b[1m\u001b[1mRecord(u[type=float64;offset=0],v[type=float64;offset=8],val[type=float64;offset=16],ierr[type=float64;offset=24],fdiff[type=float64;offset=32];40;False) has been considered a subtype of Record(u[type=float64;offset=0],v[type=float64;offset=8];16;False)  This is an experimental feature.\u001b[0m\u001b[0m\n",
      "  model_val = gmix_eval_pixel_fast(gmix, pixel)\n",
      "/home/moon/vargatn/anaconda3/envs/galsim/lib/python3.7/site-packages/ngmix/fitting_nb.py:169: NumbaExperimentalFeatureWarning: \u001b[1m\u001b[1mRecord(u[type=float64;offset=0],v[type=float64;offset=8],val[type=float64;offset=16],ierr[type=float64;offset=24],fdiff[type=float64;offset=32];40;False) has been considered a subtype of Record(u[type=float64;offset=0],v[type=float64;offset=8];16;False)  This is an experimental feature.\u001b[0m\u001b[0m\n",
      "  model_val = gmix_eval_pixel_fast(gmix, pixel)\n",
      "/home/moon/vargatn/anaconda3/envs/galsim/lib/python3.7/site-packages/ngmix/fitting_nb.py:169: NumbaExperimentalFeatureWarning: \u001b[1m\u001b[1mRecord(u[type=float64;offset=0],v[type=float64;offset=8],val[type=float64;offset=16],ierr[type=float64;offset=24],fdiff[type=float64;offset=32];40;False) has been considered a subtype of Record(u[type=float64;offset=0],v[type=float64;offset=8];16;False)  This is an experimental feature.\u001b[0m\u001b[0m\n",
      "  model_val = gmix_eval_pixel_fast(gmix, pixel)\n",
      "/home/moon/vargatn/anaconda3/envs/galsim/lib/python3.7/site-packages/ngmix/fitting_nb.py:169: NumbaExperimentalFeatureWarning: \u001b[1m\u001b[1mRecord(u[type=float64;offset=0],v[type=float64;offset=8],val[type=float64;offset=16],ierr[type=float64;offset=24],fdiff[type=float64;offset=32];40;False) has been considered a subtype of Record(u[type=float64;offset=0],v[type=float64;offset=8];16;False)  This is an experimental feature.\u001b[0m\u001b[0m\n",
      "  model_val = gmix_eval_pixel_fast(gmix, pixel)\n",
      "/home/moon/vargatn/anaconda3/envs/galsim/lib/python3.7/site-packages/ngmix/fitting_nb.py:169: NumbaExperimentalFeatureWarning: \u001b[1m\u001b[1mRecord(u[type=float64;offset=0],v[type=float64;offset=8],val[type=float64;offset=16],ierr[type=float64;offset=24],fdiff[type=float64;offset=32];40;False) has been considered a subtype of Record(u[type=float64;offset=0],v[type=float64;offset=8];16;False)  This is an experimental feature.\u001b[0m\u001b[0m\n",
      "  model_val = gmix_eval_pixel_fast(gmix, pixel)\n",
      "/home/moon/vargatn/anaconda3/envs/galsim/lib/python3.7/site-packages/ngmix/fitting_nb.py:169: NumbaExperimentalFeatureWarning: \u001b[1m\u001b[1mRecord(u[type=float64;offset=0],v[type=float64;offset=8],val[type=float64;offset=16],ierr[type=float64;offset=24],fdiff[type=float64;offset=32];40;False) has been considered a subtype of Record(u[type=float64;offset=0],v[type=float64;offset=8];16;False)  This is an experimental feature.\u001b[0m\u001b[0m\n",
      "  model_val = gmix_eval_pixel_fast(gmix, pixel)\n",
      "/home/moon/vargatn/anaconda3/envs/galsim/lib/python3.7/site-packages/ngmix/fitting_nb.py:169: NumbaExperimentalFeatureWarning: \u001b[1m\u001b[1mRecord(u[type=float64;offset=0],v[type=float64;offset=8],val[type=float64;offset=16],ierr[type=float64;offset=24],fdiff[type=float64;offset=32];40;False) has been considered a subtype of Record(u[type=float64;offset=0],v[type=float64;offset=8];16;False)  This is an experimental feature.\u001b[0m\u001b[0m\n",
      "  model_val = gmix_eval_pixel_fast(gmix, pixel)\n",
      "/home/moon/vargatn/anaconda3/envs/galsim/lib/python3.7/site-packages/ngmix/fitting_nb.py:169: NumbaExperimentalFeatureWarning: \u001b[1m\u001b[1mRecord(u[type=float64;offset=0],v[type=float64;offset=8],val[type=float64;offset=16],ierr[type=float64;offset=24],fdiff[type=float64;offset=32];40;False) has been considered a subtype of Record(u[type=float64;offset=0],v[type=float64;offset=8];16;False)  This is an experimental feature.\u001b[0m\u001b[0m\n",
      "  model_val = gmix_eval_pixel_fast(gmix, pixel)\n",
      "/home/moon/vargatn/anaconda3/envs/galsim/lib/python3.7/site-packages/ngmix/fitting_nb.py:169: NumbaExperimentalFeatureWarning: \u001b[1m\u001b[1mRecord(u[type=float64;offset=0],v[type=float64;offset=8],val[type=float64;offset=16],ierr[type=float64;offset=24],fdiff[type=float64;offset=32];40;False) has been considered a subtype of Record(u[type=float64;offset=0],v[type=float64;offset=8];16;False)  This is an experimental feature.\u001b[0m\u001b[0m\n",
      "  model_val = gmix_eval_pixel_fast(gmix, pixel)\n"
     ]
    },
    {
     "name": "stderr",
     "output_type": "stream",
     "text": [
      "/home/moon/vargatn/anaconda3/envs/galsim/lib/python3.7/site-packages/ngmix/fitting_nb.py:169: NumbaExperimentalFeatureWarning: \u001b[1m\u001b[1mRecord(u[type=float64;offset=0],v[type=float64;offset=8],val[type=float64;offset=16],ierr[type=float64;offset=24],fdiff[type=float64;offset=32];40;False) has been considered a subtype of Record(u[type=float64;offset=0],v[type=float64;offset=8];16;False)  This is an experimental feature.\u001b[0m\u001b[0m\n",
      "  model_val = gmix_eval_pixel_fast(gmix, pixel)\n",
      "/home/moon/vargatn/anaconda3/envs/galsim/lib/python3.7/site-packages/ngmix/fitting_nb.py:169: NumbaExperimentalFeatureWarning: \u001b[1m\u001b[1mRecord(u[type=float64;offset=0],v[type=float64;offset=8],val[type=float64;offset=16],ierr[type=float64;offset=24],fdiff[type=float64;offset=32];40;False) has been considered a subtype of Record(u[type=float64;offset=0],v[type=float64;offset=8];16;False)  This is an experimental feature.\u001b[0m\u001b[0m\n",
      "  model_val = gmix_eval_pixel_fast(gmix, pixel)\n",
      "/home/moon/vargatn/anaconda3/envs/galsim/lib/python3.7/site-packages/ngmix/fitting_nb.py:169: NumbaExperimentalFeatureWarning: \u001b[1m\u001b[1mRecord(u[type=float64;offset=0],v[type=float64;offset=8],val[type=float64;offset=16],ierr[type=float64;offset=24],fdiff[type=float64;offset=32];40;False) has been considered a subtype of Record(u[type=float64;offset=0],v[type=float64;offset=8];16;False)  This is an experimental feature.\u001b[0m\u001b[0m\n",
      "  model_val = gmix_eval_pixel_fast(gmix, pixel)\n",
      "/home/moon/vargatn/anaconda3/envs/galsim/lib/python3.7/site-packages/ngmix/fitting_nb.py:169: NumbaExperimentalFeatureWarning: \u001b[1m\u001b[1mRecord(u[type=float64;offset=0],v[type=float64;offset=8],val[type=float64;offset=16],ierr[type=float64;offset=24],fdiff[type=float64;offset=32];40;False) has been considered a subtype of Record(u[type=float64;offset=0],v[type=float64;offset=8];16;False)  This is an experimental feature.\u001b[0m\u001b[0m\n",
      "  model_val = gmix_eval_pixel_fast(gmix, pixel)\n",
      "/home/moon/vargatn/anaconda3/envs/galsim/lib/python3.7/site-packages/ngmix/fitting_nb.py:169: NumbaExperimentalFeatureWarning: \u001b[1m\u001b[1mRecord(u[type=float64;offset=0],v[type=float64;offset=8],val[type=float64;offset=16],ierr[type=float64;offset=24],fdiff[type=float64;offset=32];40;False) has been considered a subtype of Record(u[type=float64;offset=0],v[type=float64;offset=8];16;False)  This is an experimental feature.\u001b[0m\u001b[0m\n",
      "  model_val = gmix_eval_pixel_fast(gmix, pixel)\n",
      "/home/moon/vargatn/anaconda3/envs/galsim/lib/python3.7/site-packages/ngmix/fitting_nb.py:169: NumbaExperimentalFeatureWarning: \u001b[1m\u001b[1mRecord(u[type=float64;offset=0],v[type=float64;offset=8],val[type=float64;offset=16],ierr[type=float64;offset=24],fdiff[type=float64;offset=32];40;False) has been considered a subtype of Record(u[type=float64;offset=0],v[type=float64;offset=8];16;False)  This is an experimental feature.\u001b[0m\u001b[0m\n",
      "  model_val = gmix_eval_pixel_fast(gmix, pixel)\n",
      "/home/moon/vargatn/anaconda3/envs/galsim/lib/python3.7/site-packages/ngmix/fitting_nb.py:169: NumbaExperimentalFeatureWarning: \u001b[1m\u001b[1mRecord(u[type=float64;offset=0],v[type=float64;offset=8],val[type=float64;offset=16],ierr[type=float64;offset=24],fdiff[type=float64;offset=32];40;False) has been considered a subtype of Record(u[type=float64;offset=0],v[type=float64;offset=8];16;False)  This is an experimental feature.\u001b[0m\u001b[0m\n",
      "  model_val = gmix_eval_pixel_fast(gmix, pixel)\n",
      "/home/moon/vargatn/anaconda3/envs/galsim/lib/python3.7/site-packages/ngmix/fitting_nb.py:169: NumbaExperimentalFeatureWarning: \u001b[1m\u001b[1mRecord(u[type=float64;offset=0],v[type=float64;offset=8],val[type=float64;offset=16],ierr[type=float64;offset=24],fdiff[type=float64;offset=32];40;False) has been considered a subtype of Record(u[type=float64;offset=0],v[type=float64;offset=8];16;False)  This is an experimental feature.\u001b[0m\u001b[0m\n",
      "  model_val = gmix_eval_pixel_fast(gmix, pixel)\n",
      "/home/moon/vargatn/anaconda3/envs/galsim/lib/python3.7/site-packages/ngmix/fitting_nb.py:169: NumbaExperimentalFeatureWarning: \u001b[1m\u001b[1mRecord(u[type=float64;offset=0],v[type=float64;offset=8],val[type=float64;offset=16],ierr[type=float64;offset=24],fdiff[type=float64;offset=32];40;False) has been considered a subtype of Record(u[type=float64;offset=0],v[type=float64;offset=8];16;False)  This is an experimental feature.\u001b[0m\u001b[0m\n",
      "  model_val = gmix_eval_pixel_fast(gmix, pixel)\n",
      "/home/moon/vargatn/anaconda3/envs/galsim/lib/python3.7/site-packages/ngmix/fitting_nb.py:169: NumbaExperimentalFeatureWarning: \u001b[1m\u001b[1mRecord(u[type=float64;offset=0],v[type=float64;offset=8],val[type=float64;offset=16],ierr[type=float64;offset=24],fdiff[type=float64;offset=32];40;False) has been considered a subtype of Record(u[type=float64;offset=0],v[type=float64;offset=8];16;False)  This is an experimental feature.\u001b[0m\u001b[0m\n",
      "  model_val = gmix_eval_pixel_fast(gmix, pixel)\n",
      "/home/moon/vargatn/anaconda3/envs/galsim/lib/python3.7/site-packages/ngmix/fitting_nb.py:169: NumbaExperimentalFeatureWarning: \u001b[1m\u001b[1mRecord(u[type=float64;offset=0],v[type=float64;offset=8],val[type=float64;offset=16],ierr[type=float64;offset=24],fdiff[type=float64;offset=32];40;False) has been considered a subtype of Record(u[type=float64;offset=0],v[type=float64;offset=8];16;False)  This is an experimental feature.\u001b[0m\u001b[0m\n",
      "  model_val = gmix_eval_pixel_fast(gmix, pixel)\n",
      "/home/moon/vargatn/anaconda3/envs/galsim/lib/python3.7/site-packages/ngmix/fitting_nb.py:169: NumbaExperimentalFeatureWarning: \u001b[1m\u001b[1mRecord(u[type=float64;offset=0],v[type=float64;offset=8],val[type=float64;offset=16],ierr[type=float64;offset=24],fdiff[type=float64;offset=32];40;False) has been considered a subtype of Record(u[type=float64;offset=0],v[type=float64;offset=8];16;False)  This is an experimental feature.\u001b[0m\u001b[0m\n",
      "  model_val = gmix_eval_pixel_fast(gmix, pixel)\n",
      "/home/moon/vargatn/anaconda3/envs/galsim/lib/python3.7/site-packages/ngmix/fitting_nb.py:169: NumbaExperimentalFeatureWarning: \u001b[1m\u001b[1mRecord(u[type=float64;offset=0],v[type=float64;offset=8],val[type=float64;offset=16],ierr[type=float64;offset=24],fdiff[type=float64;offset=32];40;False) has been considered a subtype of Record(u[type=float64;offset=0],v[type=float64;offset=8];16;False)  This is an experimental feature.\u001b[0m\u001b[0m\n",
      "  model_val = gmix_eval_pixel_fast(gmix, pixel)\n",
      "/home/moon/vargatn/anaconda3/envs/galsim/lib/python3.7/site-packages/ngmix/fitting_nb.py:169: NumbaExperimentalFeatureWarning: \u001b[1m\u001b[1mRecord(u[type=float64;offset=0],v[type=float64;offset=8],val[type=float64;offset=16],ierr[type=float64;offset=24],fdiff[type=float64;offset=32];40;False) has been considered a subtype of Record(u[type=float64;offset=0],v[type=float64;offset=8];16;False)  This is an experimental feature.\u001b[0m\u001b[0m\n",
      "  model_val = gmix_eval_pixel_fast(gmix, pixel)\n",
      "/home/moon/vargatn/anaconda3/envs/galsim/lib/python3.7/site-packages/ngmix/fitting_nb.py:169: NumbaExperimentalFeatureWarning: \u001b[1m\u001b[1mRecord(u[type=float64;offset=0],v[type=float64;offset=8],val[type=float64;offset=16],ierr[type=float64;offset=24],fdiff[type=float64;offset=32];40;False) has been considered a subtype of Record(u[type=float64;offset=0],v[type=float64;offset=8];16;False)  This is an experimental feature.\u001b[0m\u001b[0m\n",
      "  model_val = gmix_eval_pixel_fast(gmix, pixel)\n",
      "/home/moon/vargatn/anaconda3/envs/galsim/lib/python3.7/site-packages/ngmix/fitting_nb.py:169: NumbaExperimentalFeatureWarning: \u001b[1m\u001b[1mRecord(u[type=float64;offset=0],v[type=float64;offset=8],val[type=float64;offset=16],ierr[type=float64;offset=24],fdiff[type=float64;offset=32];40;False) has been considered a subtype of Record(u[type=float64;offset=0],v[type=float64;offset=8];16;False)  This is an experimental feature.\u001b[0m\u001b[0m\n",
      "  model_val = gmix_eval_pixel_fast(gmix, pixel)\n",
      "/home/moon/vargatn/anaconda3/envs/galsim/lib/python3.7/site-packages/ngmix/fitting_nb.py:169: NumbaExperimentalFeatureWarning: \u001b[1m\u001b[1mRecord(u[type=float64;offset=0],v[type=float64;offset=8],val[type=float64;offset=16],ierr[type=float64;offset=24],fdiff[type=float64;offset=32];40;False) has been considered a subtype of Record(u[type=float64;offset=0],v[type=float64;offset=8];16;False)  This is an experimental feature.\u001b[0m\u001b[0m\n",
      "  model_val = gmix_eval_pixel_fast(gmix, pixel)\n",
      "/home/moon/vargatn/anaconda3/envs/galsim/lib/python3.7/site-packages/ngmix/fitting_nb.py:169: NumbaExperimentalFeatureWarning: \u001b[1m\u001b[1mRecord(u[type=float64;offset=0],v[type=float64;offset=8],val[type=float64;offset=16],ierr[type=float64;offset=24],fdiff[type=float64;offset=32];40;False) has been considered a subtype of Record(u[type=float64;offset=0],v[type=float64;offset=8];16;False)  This is an experimental feature.\u001b[0m\u001b[0m\n",
      "  model_val = gmix_eval_pixel_fast(gmix, pixel)\n"
     ]
    },
    {
     "name": "stderr",
     "output_type": "stream",
     "text": [
      "/home/moon/vargatn/anaconda3/envs/galsim/lib/python3.7/site-packages/ngmix/fitting_nb.py:169: NumbaExperimentalFeatureWarning: \u001b[1m\u001b[1mRecord(u[type=float64;offset=0],v[type=float64;offset=8],val[type=float64;offset=16],ierr[type=float64;offset=24],fdiff[type=float64;offset=32];40;False) has been considered a subtype of Record(u[type=float64;offset=0],v[type=float64;offset=8];16;False)  This is an experimental feature.\u001b[0m\u001b[0m\n",
      "  model_val = gmix_eval_pixel_fast(gmix, pixel)\n",
      "/home/moon/vargatn/anaconda3/envs/galsim/lib/python3.7/site-packages/ngmix/fitting_nb.py:169: NumbaExperimentalFeatureWarning: \u001b[1m\u001b[1mRecord(u[type=float64;offset=0],v[type=float64;offset=8],val[type=float64;offset=16],ierr[type=float64;offset=24],fdiff[type=float64;offset=32];40;False) has been considered a subtype of Record(u[type=float64;offset=0],v[type=float64;offset=8];16;False)  This is an experimental feature.\u001b[0m\u001b[0m\n",
      "  model_val = gmix_eval_pixel_fast(gmix, pixel)\n",
      "/home/moon/vargatn/anaconda3/envs/galsim/lib/python3.7/site-packages/ngmix/fitting_nb.py:169: NumbaExperimentalFeatureWarning: \u001b[1m\u001b[1mRecord(u[type=float64;offset=0],v[type=float64;offset=8],val[type=float64;offset=16],ierr[type=float64;offset=24],fdiff[type=float64;offset=32];40;False) has been considered a subtype of Record(u[type=float64;offset=0],v[type=float64;offset=8];16;False)  This is an experimental feature.\u001b[0m\u001b[0m\n",
      "  model_val = gmix_eval_pixel_fast(gmix, pixel)\n",
      "/home/moon/vargatn/anaconda3/envs/galsim/lib/python3.7/site-packages/ngmix/fitting_nb.py:169: NumbaExperimentalFeatureWarning: \u001b[1m\u001b[1mRecord(u[type=float64;offset=0],v[type=float64;offset=8],val[type=float64;offset=16],ierr[type=float64;offset=24],fdiff[type=float64;offset=32];40;False) has been considered a subtype of Record(u[type=float64;offset=0],v[type=float64;offset=8];16;False)  This is an experimental feature.\u001b[0m\u001b[0m\n",
      "  model_val = gmix_eval_pixel_fast(gmix, pixel)\n",
      "/home/moon/vargatn/anaconda3/envs/galsim/lib/python3.7/site-packages/ngmix/fitting_nb.py:169: NumbaExperimentalFeatureWarning: \u001b[1m\u001b[1mRecord(u[type=float64;offset=0],v[type=float64;offset=8],val[type=float64;offset=16],ierr[type=float64;offset=24],fdiff[type=float64;offset=32];40;False) has been considered a subtype of Record(u[type=float64;offset=0],v[type=float64;offset=8];16;False)  This is an experimental feature.\u001b[0m\u001b[0m\n",
      "  model_val = gmix_eval_pixel_fast(gmix, pixel)\n",
      "/home/moon/vargatn/anaconda3/envs/galsim/lib/python3.7/site-packages/ngmix/fitting_nb.py:169: NumbaExperimentalFeatureWarning: \u001b[1m\u001b[1mRecord(u[type=float64;offset=0],v[type=float64;offset=8],val[type=float64;offset=16],ierr[type=float64;offset=24],fdiff[type=float64;offset=32];40;False) has been considered a subtype of Record(u[type=float64;offset=0],v[type=float64;offset=8];16;False)  This is an experimental feature.\u001b[0m\u001b[0m\n",
      "  model_val = gmix_eval_pixel_fast(gmix, pixel)\n",
      "/home/moon/vargatn/anaconda3/envs/galsim/lib/python3.7/site-packages/ngmix/fitting_nb.py:169: NumbaExperimentalFeatureWarning: \u001b[1m\u001b[1mRecord(u[type=float64;offset=0],v[type=float64;offset=8],val[type=float64;offset=16],ierr[type=float64;offset=24],fdiff[type=float64;offset=32];40;False) has been considered a subtype of Record(u[type=float64;offset=0],v[type=float64;offset=8];16;False)  This is an experimental feature.\u001b[0m\u001b[0m\n",
      "  model_val = gmix_eval_pixel_fast(gmix, pixel)\n",
      "/home/moon/vargatn/anaconda3/envs/galsim/lib/python3.7/site-packages/ngmix/fitting_nb.py:169: NumbaExperimentalFeatureWarning: \u001b[1m\u001b[1mRecord(u[type=float64;offset=0],v[type=float64;offset=8],val[type=float64;offset=16],ierr[type=float64;offset=24],fdiff[type=float64;offset=32];40;False) has been considered a subtype of Record(u[type=float64;offset=0],v[type=float64;offset=8];16;False)  This is an experimental feature.\u001b[0m\u001b[0m\n",
      "  model_val = gmix_eval_pixel_fast(gmix, pixel)\n",
      "/home/moon/vargatn/anaconda3/envs/galsim/lib/python3.7/site-packages/ngmix/fitting_nb.py:169: NumbaExperimentalFeatureWarning: \u001b[1m\u001b[1mRecord(u[type=float64;offset=0],v[type=float64;offset=8],val[type=float64;offset=16],ierr[type=float64;offset=24],fdiff[type=float64;offset=32];40;False) has been considered a subtype of Record(u[type=float64;offset=0],v[type=float64;offset=8];16;False)  This is an experimental feature.\u001b[0m\u001b[0m\n",
      "  model_val = gmix_eval_pixel_fast(gmix, pixel)\n",
      "/home/moon/vargatn/anaconda3/envs/galsim/lib/python3.7/site-packages/ngmix/fitting_nb.py:169: NumbaExperimentalFeatureWarning: \u001b[1m\u001b[1mRecord(u[type=float64;offset=0],v[type=float64;offset=8],val[type=float64;offset=16],ierr[type=float64;offset=24],fdiff[type=float64;offset=32];40;False) has been considered a subtype of Record(u[type=float64;offset=0],v[type=float64;offset=8];16;False)  This is an experimental feature.\u001b[0m\u001b[0m\n",
      "  model_val = gmix_eval_pixel_fast(gmix, pixel)\n",
      "/home/moon/vargatn/anaconda3/envs/galsim/lib/python3.7/site-packages/ngmix/fitting_nb.py:169: NumbaExperimentalFeatureWarning: \u001b[1m\u001b[1mRecord(u[type=float64;offset=0],v[type=float64;offset=8],val[type=float64;offset=16],ierr[type=float64;offset=24],fdiff[type=float64;offset=32];40;False) has been considered a subtype of Record(u[type=float64;offset=0],v[type=float64;offset=8];16;False)  This is an experimental feature.\u001b[0m\u001b[0m\n",
      "  model_val = gmix_eval_pixel_fast(gmix, pixel)\n",
      "/home/moon/vargatn/anaconda3/envs/galsim/lib/python3.7/site-packages/ngmix/fitting_nb.py:169: NumbaExperimentalFeatureWarning: \u001b[1m\u001b[1mRecord(u[type=float64;offset=0],v[type=float64;offset=8],val[type=float64;offset=16],ierr[type=float64;offset=24],fdiff[type=float64;offset=32];40;False) has been considered a subtype of Record(u[type=float64;offset=0],v[type=float64;offset=8];16;False)  This is an experimental feature.\u001b[0m\u001b[0m\n",
      "  model_val = gmix_eval_pixel_fast(gmix, pixel)\n",
      "/home/moon/vargatn/anaconda3/envs/galsim/lib/python3.7/site-packages/ngmix/fitting_nb.py:169: NumbaExperimentalFeatureWarning: \u001b[1m\u001b[1mRecord(u[type=float64;offset=0],v[type=float64;offset=8],val[type=float64;offset=16],ierr[type=float64;offset=24],fdiff[type=float64;offset=32];40;False) has been considered a subtype of Record(u[type=float64;offset=0],v[type=float64;offset=8];16;False)  This is an experimental feature.\u001b[0m\u001b[0m\n",
      "  model_val = gmix_eval_pixel_fast(gmix, pixel)\n",
      "/home/moon/vargatn/anaconda3/envs/galsim/lib/python3.7/site-packages/ngmix/fitting_nb.py:169: NumbaExperimentalFeatureWarning: \u001b[1m\u001b[1mRecord(u[type=float64;offset=0],v[type=float64;offset=8],val[type=float64;offset=16],ierr[type=float64;offset=24],fdiff[type=float64;offset=32];40;False) has been considered a subtype of Record(u[type=float64;offset=0],v[type=float64;offset=8];16;False)  This is an experimental feature.\u001b[0m\u001b[0m\n",
      "  model_val = gmix_eval_pixel_fast(gmix, pixel)\n",
      "/home/moon/vargatn/anaconda3/envs/galsim/lib/python3.7/site-packages/ngmix/fitting_nb.py:169: NumbaExperimentalFeatureWarning: \u001b[1m\u001b[1mRecord(u[type=float64;offset=0],v[type=float64;offset=8],val[type=float64;offset=16],ierr[type=float64;offset=24],fdiff[type=float64;offset=32];40;False) has been considered a subtype of Record(u[type=float64;offset=0],v[type=float64;offset=8];16;False)  This is an experimental feature.\u001b[0m\u001b[0m\n",
      "  model_val = gmix_eval_pixel_fast(gmix, pixel)\n",
      "/home/moon/vargatn/anaconda3/envs/galsim/lib/python3.7/site-packages/ngmix/fitting_nb.py:169: NumbaExperimentalFeatureWarning: \u001b[1m\u001b[1mRecord(u[type=float64;offset=0],v[type=float64;offset=8],val[type=float64;offset=16],ierr[type=float64;offset=24],fdiff[type=float64;offset=32];40;False) has been considered a subtype of Record(u[type=float64;offset=0],v[type=float64;offset=8];16;False)  This is an experimental feature.\u001b[0m\u001b[0m\n",
      "  model_val = gmix_eval_pixel_fast(gmix, pixel)\n",
      "/home/moon/vargatn/anaconda3/envs/galsim/lib/python3.7/site-packages/ngmix/fitting_nb.py:169: NumbaExperimentalFeatureWarning: \u001b[1m\u001b[1mRecord(u[type=float64;offset=0],v[type=float64;offset=8],val[type=float64;offset=16],ierr[type=float64;offset=24],fdiff[type=float64;offset=32];40;False) has been considered a subtype of Record(u[type=float64;offset=0],v[type=float64;offset=8];16;False)  This is an experimental feature.\u001b[0m\u001b[0m\n",
      "  model_val = gmix_eval_pixel_fast(gmix, pixel)\n",
      "/home/moon/vargatn/anaconda3/envs/galsim/lib/python3.7/site-packages/ngmix/fitting_nb.py:169: NumbaExperimentalFeatureWarning: \u001b[1m\u001b[1mRecord(u[type=float64;offset=0],v[type=float64;offset=8],val[type=float64;offset=16],ierr[type=float64;offset=24],fdiff[type=float64;offset=32];40;False) has been considered a subtype of Record(u[type=float64;offset=0],v[type=float64;offset=8];16;False)  This is an experimental feature.\u001b[0m\u001b[0m\n",
      "  model_val = gmix_eval_pixel_fast(gmix, pixel)\n"
     ]
    },
    {
     "name": "stderr",
     "output_type": "stream",
     "text": [
      "/home/moon/vargatn/anaconda3/envs/galsim/lib/python3.7/site-packages/ngmix/fitting_nb.py:169: NumbaExperimentalFeatureWarning: \u001b[1m\u001b[1mRecord(u[type=float64;offset=0],v[type=float64;offset=8],val[type=float64;offset=16],ierr[type=float64;offset=24],fdiff[type=float64;offset=32];40;False) has been considered a subtype of Record(u[type=float64;offset=0],v[type=float64;offset=8];16;False)  This is an experimental feature.\u001b[0m\u001b[0m\n",
      "  model_val = gmix_eval_pixel_fast(gmix, pixel)\n",
      "/home/moon/vargatn/anaconda3/envs/galsim/lib/python3.7/site-packages/ngmix/fitting_nb.py:169: NumbaExperimentalFeatureWarning: \u001b[1m\u001b[1mRecord(u[type=float64;offset=0],v[type=float64;offset=8],val[type=float64;offset=16],ierr[type=float64;offset=24],fdiff[type=float64;offset=32];40;False) has been considered a subtype of Record(u[type=float64;offset=0],v[type=float64;offset=8];16;False)  This is an experimental feature.\u001b[0m\u001b[0m\n",
      "  model_val = gmix_eval_pixel_fast(gmix, pixel)\n",
      "/home/moon/vargatn/anaconda3/envs/galsim/lib/python3.7/site-packages/ngmix/fitting_nb.py:169: NumbaExperimentalFeatureWarning: \u001b[1m\u001b[1mRecord(u[type=float64;offset=0],v[type=float64;offset=8],val[type=float64;offset=16],ierr[type=float64;offset=24],fdiff[type=float64;offset=32];40;False) has been considered a subtype of Record(u[type=float64;offset=0],v[type=float64;offset=8];16;False)  This is an experimental feature.\u001b[0m\u001b[0m\n",
      "  model_val = gmix_eval_pixel_fast(gmix, pixel)\n",
      "/home/moon/vargatn/anaconda3/envs/galsim/lib/python3.7/site-packages/ngmix/fitting_nb.py:169: NumbaExperimentalFeatureWarning: \u001b[1m\u001b[1mRecord(u[type=float64;offset=0],v[type=float64;offset=8],val[type=float64;offset=16],ierr[type=float64;offset=24],fdiff[type=float64;offset=32];40;False) has been considered a subtype of Record(u[type=float64;offset=0],v[type=float64;offset=8];16;False)  This is an experimental feature.\u001b[0m\u001b[0m\n",
      "  model_val = gmix_eval_pixel_fast(gmix, pixel)\n"
     ]
    }
   ],
   "source": [
    "mcal.multi_mcal(infodicts, nprocess=100)"
   ]
  },
  {
   "cell_type": "code",
   "execution_count": null,
   "id": "d7429403",
   "metadata": {},
   "outputs": [],
   "source": [
    "tab = mcal.collater(infodicts)"
   ]
  },
  {
   "cell_type": "code",
   "execution_count": null,
   "id": "976460e1",
   "metadata": {},
   "outputs": [],
   "source": [
    "gest1_raw =tab[\"g_noshear\"][:, 0].mean()\n",
    "gest2_raw =tab[\"g_noshear\"][:, 1].mean()\n",
    "\n",
    "gest1 =tab[\"g_noshear\"][:, 0].mean() / tab['r11'].mean()\n",
    "gest2 =tab[\"g_noshear\"][:, 1].mean() / tab['r22'].mean()\n",
    "\n",
    "print(\"the measured shape  <e> with 10k galaxies\")\n",
    "print(\"g1 = {:.4f}\".format(gest1_raw), \"the input shape is 0.02\")\n",
    "print(\"g2 = {:.4f}\".format(gest2_raw), \"the input shape is -0.02\")\n",
    "print('')\n",
    "print('METACALIBRATION:')\n",
    "print(\"the measured shape  <e> / <R> with 10k galaxies\")\n",
    "print(\"g1 = {:.4f}\".format(gest1), \"the input shape is 0.02\")\n",
    "print(\"g2 = {:.4f}\".format(gest2), \"the input shape is -0.02\")"
   ]
  },
  {
   "cell_type": "code",
   "execution_count": null,
   "id": "46ca97c3",
   "metadata": {},
   "outputs": [],
   "source": []
  }
 ],
 "metadata": {
  "kernelspec": {
   "display_name": "Python 3 (ipykernel)",
   "language": "python",
   "name": "python3"
  },
  "language_info": {
   "codemirror_mode": {
    "name": "ipython",
    "version": 3
   },
   "file_extension": ".py",
   "mimetype": "text/x-python",
   "name": "python",
   "nbconvert_exporter": "python",
   "pygments_lexer": "ipython3",
   "version": "3.7.4"
  },
  "toc": {
   "base_numbering": 1,
   "nav_menu": {},
   "number_sections": true,
   "sideBar": true,
   "skip_h1_title": false,
   "title_cell": "Table of Contents",
   "title_sidebar": "Contents",
   "toc_cell": false,
   "toc_position": {},
   "toc_section_display": true,
   "toc_window_display": false
  },
  "widgets": {
   "state": {},
   "version": "1.0.0"
  }
 },
 "nbformat": 4,
 "nbformat_minor": 5
}
