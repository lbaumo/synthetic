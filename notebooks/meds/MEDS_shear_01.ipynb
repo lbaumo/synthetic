{
 "cells": [
  {
   "cell_type": "markdown",
   "metadata": {},
   "source": [
    "Creating MEDS files\n",
    "https://github.com/esheldon/meds/wiki/Creating-MEDS-Files-in-Python"
   ]
  },
  {
   "cell_type": "code",
   "execution_count": 1,
   "metadata": {},
   "outputs": [],
   "source": [
    "import numpy as np\n",
    "import pandas as pd\n",
    "\n",
    "import sklearn.neighbors as neighbors\n",
    "\n",
    "from importlib import reload\n",
    "import copy\n",
    "import synthetic.render.generator as gen\n",
    "\n",
    "import matplotlib.pyplot as plt\n",
    "import matplotlib as mpl\n",
    "%matplotlib inline\n",
    "\n",
    "import multiprocessing as mp\n",
    "\n",
    "import sys\n",
    "import os\n",
    "import math\n",
    "import logging\n",
    "import time\n",
    "import galsim\n",
    "import fitsio as fio\n",
    "\n",
    "import ngmix\n",
    "\n",
    "import synthetic.render.render as render\n",
    "import synthetic.render.icl as icl\n",
    "import synthetic.render.frame as frame\n",
    "\n",
    "import images\n",
    "import meds\n",
    "import subprocess"
   ]
  },
  {
   "cell_type": "code",
   "execution_count": 2,
   "metadata": {},
   "outputs": [],
   "source": [
    "catalogs = []\n",
    "catalog_tag = '/e/ocean1/users/vargatn/DES/SIM_DATA/SKY_MODEL_EPSILON/res_clust_v2_z0l0/epsilon_clust_v8-z0l0_15000_{:03d}.fits'\n",
    "for i in np.arange(1):\n",
    "    fname = catalog_tag.format(i)\n",
    "    data = fio.read(fname)\n",
    "    catalog_cluster = data[data['LOC'] == 1]\n",
    "    catalog_field = data[data['LOC'] == 0]\n",
    "    catalog = np.hstack((catalog_cluster, catalog_field))\n",
    "    catalog['G1'] = 0.3\n",
    "    catalog['G2'] = -0.2\n",
    "    catalogs.append(catalog)"
   ]
  },
  {
   "cell_type": "code",
   "execution_count": 5,
   "metadata": {},
   "outputs": [
    {
     "name": "stdout",
     "output_type": "stream",
     "text": [
      "canvas_000\n",
      "starting xshear calculations in 100 processes\n"
     ]
    }
   ],
   "source": [
    "\n",
    "i = 0\n",
    "name = 'canvas_{:03d}'.format(i)\n",
    "print(name)\n",
    "fr = frame.Frame(catalog, name=name, noise_std=4)\n",
    "fr.render()\n",
    "fr.extract()\n",
    "fr.ksb()\n"
   ]
  },
  {
   "cell_type": "code",
   "execution_count": 15,
   "metadata": {},
   "outputs": [
    {
     "data": {
      "text/plain": [
       "(9323,)"
      ]
     },
     "execution_count": 15,
     "metadata": {},
     "output_type": "execute_result"
    }
   ],
   "source": [
    "fr.scat.shape"
   ]
  },
  {
   "cell_type": "code",
   "execution_count": 8,
   "metadata": {},
   "outputs": [
    {
     "data": {
      "text/plain": [
       "array([(-9999, -9999, -9999., -9999.), (-9999, -9999, -9999., -9999.),\n",
       "       (-9999, -9999, -9999., -9999.), (-9999, -9999, -9999., -9999.),\n",
       "       (-9999, -9999, -9999., -9999.), (-9999, -9999, -9999., -9999.),\n",
       "       (-9999, -9999, -9999., -9999.), (-9999, -9999, -9999., -9999.),\n",
       "       (-9999, -9999, -9999., -9999.), (-9999, -9999, -9999., -9999.)],\n",
       "      dtype=[('id', '<i8'), ('box_size', '<i8'), ('ra', '<f8'), ('dec', '<f8')])"
      ]
     },
     "execution_count": 8,
     "metadata": {},
     "output_type": "execute_result"
    }
   ],
   "source": [
    "meds.util.get_meds_input_struct(10)"
   ]
  },
  {
   "cell_type": "code",
   "execution_count": 7,
   "metadata": {},
   "outputs": [
    {
     "data": {
      "text/plain": [
       "array([(-9999, -9999, -9999., -9999., 0, [-9999], [-9999], [-9999.], [-9999.], [-9999], [-9999], [-9999.], [-9999.], [-9999.], [-9999.], [-9999.], [-9999.]),\n",
       "       (-9999, -9999, -9999., -9999., 0, [-9999], [-9999], [-9999.], [-9999.], [-9999], [-9999], [-9999.], [-9999.], [-9999.], [-9999.], [-9999.], [-9999.]),\n",
       "       (-9999, -9999, -9999., -9999., 0, [-9999], [-9999], [-9999.], [-9999.], [-9999], [-9999], [-9999.], [-9999.], [-9999.], [-9999.], [-9999.], [-9999.]),\n",
       "       (-9999, -9999, -9999., -9999., 0, [-9999], [-9999], [-9999.], [-9999.], [-9999], [-9999], [-9999.], [-9999.], [-9999.], [-9999.], [-9999.], [-9999.]),\n",
       "       (-9999, -9999, -9999., -9999., 0, [-9999], [-9999], [-9999.], [-9999.], [-9999], [-9999], [-9999.], [-9999.], [-9999.], [-9999.], [-9999.], [-9999.]),\n",
       "       (-9999, -9999, -9999., -9999., 0, [-9999], [-9999], [-9999.], [-9999.], [-9999], [-9999], [-9999.], [-9999.], [-9999.], [-9999.], [-9999.], [-9999.]),\n",
       "       (-9999, -9999, -9999., -9999., 0, [-9999], [-9999], [-9999.], [-9999.], [-9999], [-9999], [-9999.], [-9999.], [-9999.], [-9999.], [-9999.], [-9999.]),\n",
       "       (-9999, -9999, -9999., -9999., 0, [-9999], [-9999], [-9999.], [-9999.], [-9999], [-9999], [-9999.], [-9999.], [-9999.], [-9999.], [-9999.], [-9999.]),\n",
       "       (-9999, -9999, -9999., -9999., 0, [-9999], [-9999], [-9999.], [-9999.], [-9999], [-9999], [-9999.], [-9999.], [-9999.], [-9999.], [-9999.], [-9999.]),\n",
       "       (-9999, -9999, -9999., -9999., 0, [-9999], [-9999], [-9999.], [-9999.], [-9999], [-9999], [-9999.], [-9999.], [-9999.], [-9999.], [-9999.], [-9999.])],\n",
       "      dtype=[('id', '<i8'), ('box_size', '<i8'), ('ra', '<f8'), ('dec', '<f8'), ('ncutout', '<i8'), ('file_id', '<i8', (1,)), ('start_row', '<i8', (1,)), ('orig_row', '<f8', (1,)), ('orig_col', '<f8', (1,)), ('orig_start_row', '<i8', (1,)), ('orig_start_col', '<i8', (1,)), ('cutout_row', '<f8', (1,)), ('cutout_col', '<f8', (1,)), ('dudrow', '<f8', (1,)), ('dudcol', '<f8', (1,)), ('dvdrow', '<f8', (1,)), ('dvdcol', '<f8', (1,))])"
      ]
     },
     "execution_count": 7,
     "metadata": {},
     "output_type": "execute_result"
    }
   ],
   "source": [
    "meds.util.get_meds_output_struct(10, 1, )"
   ]
  },
  {
   "cell_type": "code",
   "execution_count": 17,
   "metadata": {},
   "outputs": [
    {
     "data": {
      "text/plain": [
       "'\\ncolumn             type     description\\n----------------------------------------------------------------------\\nid                 i8       The id column from the input file\\nncutout            i8       number of cutouts for this object\\nbox_size           i8       box size for each cutout\\nfile_id            i8[NMAX] zero-offset id into the file names in the \\n                            image_info extension\\nstart_row          i8[NMAX] zero-offset, start of cutout in the \\n                            image extensions.\\norig_row           f8[NMAX] zero-offset position in original image\\norig_col           f8[NMAX] zero-offset position in original image\\norig_start_row     i8[NMAX] zero-offset start corner in original image\\norig_start_col     i8[NMAX] zero-offset start corner in original image\\ncutout_row         f8[NMAX] zero-offset position in cutout imag\\ncutout_col         f8[NMAX] zero-offset position in cutout image\\ndudrow             f8[NMAX] jacobian of transformation \\ndudcol             f8[NMAX] row,col->ra,dec tangent plane (u,v)\\ndvdrow             f8[NMAX] Note Source Extractor uses y for row\\ndvdcol             f8[NMAX]\\n'"
      ]
     },
     "execution_count": 17,
     "metadata": {},
     "output_type": "execute_result"
    }
   ],
   "source": [
    "\"\"\"\n",
    "column             type     description\n",
    "----------------------------------------------------------------------\n",
    "id                 i8       The id column from the input file\n",
    "ncutout            i8       number of cutouts for this object\n",
    "box_size           i8       box size for each cutout\n",
    "file_id            i8[NMAX] zero-offset id into the file names in the \n",
    "                            image_info extension\n",
    "start_row          i8[NMAX] zero-offset, start of cutout in the \n",
    "                            image extensions.\n",
    "orig_row           f8[NMAX] zero-offset position in original image      FLOAT the position within the image EXACT\n",
    "orig_col           f8[NMAX] zero-offset position in original image      FLOAT the position within the image EXACT\n",
    "orig_start_row     i8[NMAX] zero-offset start corner in original image  INT This is the starting corner in row\n",
    "orig_start_col     i8[NMAX] zero-offset start corner in original image  INT This is the starting corenr is col\n",
    "cutout_row         f8[NMAX] zero-offset position in cutout imag         FLOAT the position within the cutout EXACT\n",
    "cutout_col         f8[NMAX] zero-offset position in cutout image        FLOAT the position within the cutout EXACT\n",
    "dudrow             f8[NMAX] jacobian of transformation                      \n",
    "dudcol             f8[NMAX] row,col->ra,dec tangent plane (u,v)\n",
    "dvdrow             f8[NMAX] Note Source Extractor uses y for row\n",
    "dvdcol             f8[NMAX]\n",
    "\"\"\""
   ]
  },
  {
   "cell_type": "code",
   "execution_count": null,
   "metadata": {},
   "outputs": [],
   "source": []
  }
 ],
 "metadata": {
  "kernelspec": {
   "display_name": "Python 3",
   "language": "python",
   "name": "python3"
  },
  "language_info": {
   "codemirror_mode": {
    "name": "ipython",
    "version": 3
   },
   "file_extension": ".py",
   "mimetype": "text/x-python",
   "name": "python",
   "nbconvert_exporter": "python",
   "pygments_lexer": "ipython3",
   "version": "3.7.4"
  },
  "toc": {
   "base_numbering": 1,
   "nav_menu": {},
   "number_sections": true,
   "sideBar": true,
   "skip_h1_title": false,
   "title_cell": "Table of Contents",
   "title_sidebar": "Contents",
   "toc_cell": false,
   "toc_position": {},
   "toc_section_display": true,
   "toc_window_display": false
  },
  "widgets": {
   "state": {},
   "version": "1.0.0"
  }
 },
 "nbformat": 4,
 "nbformat_minor": 2
}
