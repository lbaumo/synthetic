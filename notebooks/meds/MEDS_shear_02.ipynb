{
 "cells": [
  {
   "cell_type": "code",
   "execution_count": 2,
   "metadata": {},
   "outputs": [],
   "source": [
    "import numpy as np\n",
    "import pandas as pd\n",
    "\n",
    "import sklearn.neighbors as neighbors\n",
    "\n",
    "from importlib import reload\n",
    "import copy\n",
    "import synthetic.render.generator as gen\n",
    "\n",
    "import matplotlib.pyplot as plt\n",
    "import matplotlib as mpl\n",
    "%matplotlib inline\n",
    "\n",
    "import multiprocessing as mp\n",
    "\n",
    "import sys\n",
    "import os\n",
    "import math\n",
    "import logging\n",
    "import time\n",
    "import galsim\n",
    "import fitsio as fio\n",
    "\n",
    "import ngmix\n",
    "\n",
    "import synthetic.render.render as render\n",
    "import synthetic.render.icl as icl\n",
    "import synthetic.render.frame as frame\n",
    "\n",
    "import images\n",
    "import meds\n",
    "import subprocess"
   ]
  },
  {
   "cell_type": "code",
   "execution_count": 3,
   "metadata": {},
   "outputs": [],
   "source": [
    "catalogs = []\n",
    "catalog_tag = '/e/ocean1/users/vargatn/DES/SIM_DATA/SKY_MODEL_EPSILON/res_clust_v2_z0l0/epsilon_clust_v8-z0l0_15000_{:03d}.fits'\n",
    "for i in np.arange(1):\n",
    "    fname = catalog_tag.format(i)\n",
    "    data = fio.read(fname)\n",
    "    catalog_cluster = data[data['LOC'] == 1]\n",
    "    catalog_field = data[data['LOC'] == 0]\n",
    "    catalog = np.hstack((catalog_cluster, catalog_field))\n",
    "    catalog['G1'] = 0.3\n",
    "    catalog['G2'] = -0.2\n",
    "    catalogs.append(catalog)"
   ]
  },
  {
   "cell_type": "code",
   "execution_count": 5,
   "metadata": {},
   "outputs": [
    {
     "name": "stdout",
     "output_type": "stream",
     "text": [
      "canvas_000\n",
      "starting xshear calculations in 100 processes\n",
      "sex canvas_000.fits -c config.sex -CATALOG_NAME canvas_000_cat.fits -CHECKIMAGE_NAME canvas_000_seg.fits\n"
     ]
    }
   ],
   "source": [
    "\n",
    "i = 0\n",
    "name = 'canvas_{:03d}'.format(i)\n",
    "print(name)\n",
    "fr = frame.Frame(catalog, name=name, noise_std=4)\n",
    "fr.render()\n",
    "fr.extract()"
   ]
  },
  {
   "cell_type": "code",
   "execution_count": 10,
   "metadata": {},
   "outputs": [],
   "source": [
    "ww = galsim.Image(fr.canvas)"
   ]
  },
  {
   "cell_type": "code",
   "execution_count": 15,
   "metadata": {},
   "outputs": [],
   "source": [
    "ww.write(\"canvas_weight.fits\")"
   ]
  },
  {
   "cell_type": "code",
   "execution_count": null,
   "metadata": {},
   "outputs": [],
   "source": []
  },
  {
   "cell_type": "code",
   "execution_count": 25,
   "metadata": {},
   "outputs": [],
   "source": [
    "nobj = len(fr.scat)"
   ]
  },
  {
   "cell_type": "code",
   "execution_count": 26,
   "metadata": {},
   "outputs": [
    {
     "data": {
      "text/plain": [
       "9362"
      ]
     },
     "execution_count": 26,
     "metadata": {},
     "output_type": "execute_result"
    }
   ],
   "source": [
    "nobj"
   ]
  },
  {
   "cell_type": "code",
   "execution_count": 27,
   "metadata": {},
   "outputs": [],
   "source": [
    "dec = fr.scat[\"DELTA_J2000\"]\n",
    "ra = fr.scat['ALPHA_J2000']"
   ]
  },
  {
   "cell_type": "code",
   "execution_count": 28,
   "metadata": {},
   "outputs": [],
   "source": [
    "box_size = np.ones(nobj) * 32"
   ]
  },
  {
   "cell_type": "code",
   "execution_count": 29,
   "metadata": {},
   "outputs": [],
   "source": [
    "obj_data = meds.util.get_meds_input_struct(nobj)\n",
    "obj_data['id'] = fr.scat['NUMBER']\n",
    "obj_data['box_size'] = np.ones(nobj) * 32\n",
    "obj_data['ra'] = fr.scat['ALPHA_J2000']\n",
    "obj_data['dec'] = fr.scat['DELTA_J2000']"
   ]
  },
  {
   "cell_type": "code",
   "execution_count": 30,
   "metadata": {},
   "outputs": [
    {
     "data": {
      "text/plain": [
       "array([(   1, 32, 89.99926201, -0.16698182),\n",
       "       (   2, 32, 89.99873052, -0.16589047),\n",
       "       (   3, 32, 90.0019943 , -0.16716066), ...,\n",
       "       (9360, 32, 89.93963133,  0.12814115),\n",
       "       (9361, 32, 90.04088286,  0.12611934),\n",
       "       (9362, 32, 89.99826029,  0.15525484)],\n",
       "      dtype=[('id', '<i8'), ('box_size', '<i8'), ('ra', '<f8'), ('dec', '<f8')])"
      ]
     },
     "execution_count": 30,
     "metadata": {},
     "output_type": "execute_result"
    }
   ],
   "source": [
    "obj_data"
   ]
  },
  {
   "cell_type": "code",
   "execution_count": 31,
   "metadata": {},
   "outputs": [],
   "source": [
    "nimage = 1\n",
    "path_len = len('./canvas_000.fits')"
   ]
  },
  {
   "cell_type": "code",
   "execution_count": 50,
   "metadata": {},
   "outputs": [],
   "source": [
    "image_info= meds.util.get_image_info_struct(nimage, 21)"
   ]
  },
  {
   "cell_type": "code",
   "execution_count": 51,
   "metadata": {},
   "outputs": [
    {
     "data": {
      "text/plain": [
       "20"
      ]
     },
     "execution_count": 51,
     "metadata": {},
     "output_type": "execute_result"
    }
   ],
   "source": [
    "len('./canvas_weight.fits')"
   ]
  },
  {
   "cell_type": "code",
   "execution_count": 59,
   "metadata": {},
   "outputs": [],
   "source": [
    "\n",
    "image_info['image_path'][0] = './canvas_000.fits'\n",
    "image_info['weight_path'][0] = './canvas_weight.fits' \n",
    "image_info['seg_path'][0] = './canvas_000_seg.fits'\n",
    "image_info['magzp'] = 30.\n",
    "\n",
    "config = {'first_image_is_coadd': False,'cutout_types':['weight','seg'],'psf_type':'psfex'}"
   ]
  },
  {
   "cell_type": "code",
   "execution_count": 60,
   "metadata": {},
   "outputs": [
    {
     "data": {
      "text/plain": [
       "array([(b'./canvas_000.fits', 0, b'./canvas_weight.fits', 0, b'./canvas_000_seg.fits', 0, b'', 0, b'', 0, 0, 0, 30., 1., 0.)],\n",
       "      dtype=[('image_path', 'S21'), ('image_ext', '<i2'), ('weight_path', 'S21'), ('weight_ext', '<i2'), ('seg_path', 'S21'), ('seg_ext', '<i2'), ('bmask_path', 'S21'), ('bmask_ext', '<i2'), ('bkg_path', 'S21'), ('bkg_ext', '<i2'), ('image_id', '<i8'), ('image_flags', '<i8'), ('magzp', '<f4'), ('scale', '<f4'), ('position_offset', '<f8')])"
      ]
     },
     "execution_count": 60,
     "metadata": {},
     "output_type": "execute_result"
    }
   ],
   "source": [
    "image_info"
   ]
  },
  {
   "cell_type": "code",
   "execution_count": 61,
   "metadata": {},
   "outputs": [
    {
     "name": "stdout",
     "output_type": "stream",
     "text": [
      "writing cutouts for: ['image', 'weight', 'seg']\n"
     ]
    }
   ],
   "source": [
    "mm = meds.MEDSMaker(obj_data=obj_data, image_info=image_info, config=config)"
   ]
  },
  {
   "cell_type": "code",
   "execution_count": 62,
   "metadata": {},
   "outputs": [
    {
     "name": "stdout",
     "output_type": "stream",
     "text": [
      "file    1 of    1: 'b'./canvas_000.fits''\n",
      "    first cut:    9362 of   9362 objects\n",
      "    second cut:   9362 of   9362 objects\n",
      "9362/9362 had ncut > 0\n",
      "setting start rows and pixel count\n",
      "total pixels: 9586688\n",
      "meds layout build time: 0.051993 seconds\n",
      "opening output MEDS file: 'testmeds.fits'\n",
      "writing object_data\n",
      "writing image_info\n",
      "writing metadata\n",
      "    reserving image mosaic\n",
      "    reserving weight mosaic\n",
      "    reserving seg mosaic\n",
      "writing image cutouts\n",
      "    1/1 image b'./canvas_000.fits'\n",
      "    no background for image\n",
      "writing weight cutouts\n",
      "    1/1 weight b'./canvas_weight.fits'\n",
      "writing seg cutouts\n",
      "    1/1 seg b'./canvas_000_seg.fits'\n",
      "output is in: testmeds.fits\n"
     ]
    }
   ],
   "source": [
    "mm.write(\"testmeds.fits\")"
   ]
  },
  {
   "cell_type": "code",
   "execution_count": 63,
   "metadata": {},
   "outputs": [],
   "source": [
    "m = meds.MEDS('testmeds.fits')"
   ]
  },
  {
   "cell_type": "code",
   "execution_count": null,
   "metadata": {},
   "outputs": [],
   "source": []
  },
  {
   "cell_type": "code",
   "execution_count": 70,
   "metadata": {},
   "outputs": [],
   "source": [
    "im = m.get_cutout(3, 0, 'seg')"
   ]
  },
  {
   "cell_type": "code",
   "execution_count": 69,
   "metadata": {},
   "outputs": [
    {
     "data": {
      "text/plain": [
       "<matplotlib.image.AxesImage at 0x7ff107aa5950>"
      ]
     },
     "execution_count": 69,
     "metadata": {},
     "output_type": "execute_result"
    },
    {
     "data": {
      "image/png": "[encoded data removed]",
      "text/plain": [
       "<Figure size 640x480 with 1 Axes>"
      ]
     },
     "metadata": {},
     "output_type": "display_data"
    }
   ],
   "source": [
    "plt.imshow(im)"
   ]
  },
  {
   "cell_type": "code",
   "execution_count": 70,
   "metadata": {},
   "outputs": [],
   "source": [
    "wcs_data = fio.read_header('./canvas_000.fits')"
   ]
  },
  {
   "cell_type": "code",
   "execution_count": 62,
   "metadata": {},
   "outputs": [
    {
     "data": {
      "text/plain": [
       "\n",
       "SIMPLE  =                    T / conforms to FITS standard\n",
       "BITPIX  =                  -32 / array data type\n",
       "NAXIS   =                    2 / number of array dimensions\n",
       "NAXIS1  =                 5000\n",
       "NAXIS2  =                 5000\n",
       "EXTEND  =                    T\n",
       "GS_XMIN =                    1 / GalSim image minimum x coordinate\n",
       "GS_YMIN =                    1 / GalSim image minimum y coordinate\n",
       "GS_WCS  = 'GSFitsWCS'          / GalSim WCS name\n",
       "CTYPE1  = 'RA---TAN'\n",
       "CTYPE2  = 'DEC--TAN'\n",
       "CRPIX1  =               2500.5\n",
       "CRPIX2  =               2500.5\n",
       "CD1_1   = -7.3333333333333E-05\n",
       "CD1_2   =                  0.0\n",
       "CD2_1   =                  0.0\n",
       "CD2_2   = 7.33333333333333E-05\n",
       "CUNIT1  = 'deg     '\n",
       "CUNIT2  = 'deg     '\n",
       "CRVAL1  =                 90.0\n",
       "CRVAL2  =                  0.0"
      ]
     },
     "execution_count": 62,
     "metadata": {},
     "output_type": "execute_result"
    }
   ],
   "source": [
    "wcs_data"
   ]
  },
  {
   "cell_type": "code",
   "execution_count": null,
   "metadata": {},
   "outputs": [],
   "source": []
  }
 ],
 "metadata": {
  "kernelspec": {
   "display_name": "Python 3 (ipykernel)",
   "language": "python",
   "name": "python3"
  },
  "language_info": {
   "codemirror_mode": {
    "name": "ipython",
    "version": 3
   },
   "file_extension": ".py",
   "mimetype": "text/x-python",
   "name": "python",
   "nbconvert_exporter": "python",
   "pygments_lexer": "ipython3",
   "version": "3.7.4"
  },
  "toc": {
   "base_numbering": 1,
   "nav_menu": {},
   "number_sections": true,
   "sideBar": true,
   "skip_h1_title": false,
   "title_cell": "Table of Contents",
   "title_sidebar": "Contents",
   "toc_cell": false,
   "toc_position": {},
   "toc_section_display": true,
   "toc_window_display": false
  },
  "widgets": {
   "state": {},
   "version": "1.0.0"
  }
 },
 "nbformat": 4,
 "nbformat_minor": 2
}
