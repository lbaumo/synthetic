{
 "cells": [
  {
   "cell_type": "code",
   "execution_count": 1,
   "metadata": {},
   "outputs": [],
   "source": [
    "import numpy as np\n",
    "import pandas as pd\n",
    "\n",
    "import sklearn.neighbors as neighbors\n",
    "\n",
    "from importlib import reload\n",
    "import copy\n",
    "import synthetic.render.generator as gen\n",
    "\n",
    "import matplotlib.pyplot as plt\n",
    "import matplotlib as mpl\n",
    "%matplotlib inline\n",
    "\n",
    "import multiprocessing as mp\n",
    "\n",
    "import sys\n",
    "import os\n",
    "import math\n",
    "import logging\n",
    "import time\n",
    "import galsim\n",
    "import fitsio as fio\n",
    "\n",
    "import ngmix\n",
    "\n",
    "import synthetic.render.render as render\n",
    "import synthetic.render.icl as icl\n",
    "import synthetic.render.frame as frame\n",
    "\n",
    "import images\n",
    "import meds\n",
    "import subprocess"
   ]
  },
  {
   "cell_type": "code",
   "execution_count": 3,
   "metadata": {},
   "outputs": [],
   "source": [
    "catalogs = []\n",
    "catalog_tag = '/e/ocean1/users/vargatn/DES/SIM_DATA/SKY_MODEL_EPSILON/res_clust_v2_z0l0/epsilon_clust_v8-z0l0_15000_{:03d}.fits'\n",
    "for i in np.arange(1):\n",
    "    fname = catalog_tag.format(i)\n",
    "    data = fio.read(fname)\n",
    "    catalog_cluster = data[data['LOC'] == 1]\n",
    "    catalog_field = data[data['LOC'] == 0]\n",
    "    catalog = np.hstack((catalog_cluster, catalog_field))\n",
    "    catalog['G1'] = 0.3\n",
    "    catalog['G2'] = -0.2\n",
    "    catalogs.append(catalog)"
   ]
  },
  {
   "cell_type": "code",
   "execution_count": 4,
   "metadata": {},
   "outputs": [
    {
     "name": "stdout",
     "output_type": "stream",
     "text": [
      "canvas_000\n",
      "starting xshear calculations in 100 processes\n"
     ]
    }
   ],
   "source": [
    "\n",
    "i = 0\n",
    "name = 'canvas_{:03d}'.format(i)\n",
    "print(name)\n",
    "fr = frame.Frame(catalog, name=name, noise_std=4)\n",
    "fr.render()\n",
    "fr.extract()"
   ]
  },
  {
   "cell_type": "code",
   "execution_count": 5,
   "metadata": {},
   "outputs": [
    {
     "data": {
      "text/plain": [
       "\n",
       "SIMPLE  =                    T / conforms to FITS standard\n",
       "BITPIX  =                  -32 / array data type\n",
       "NAXIS   =                    2 / number of array dimensions\n",
       "NAXIS1  =                 5000 / \n",
       "NAXIS2  =                 5000 / \n",
       "EXTEND  =                    T / \n",
       "GS_XMIN =                    1 / GalSim image minimum x coordinate\n",
       "GS_YMIN =                    1 / GalSim image minimum y coordinate\n",
       "GS_WCS  = 'GSFitsWCS'          / GalSim WCS name\n",
       "CTYPE1  = 'RA---TAN'           / \n",
       "CTYPE2  = 'DEC--TAN'           / \n",
       "CRPIX1  =               2500.5 / \n",
       "CRPIX2  =               2500.5 / \n",
       "CD1_1   = -7.3333333333333E-05 / \n",
       "CD1_2   =                  0.0 / \n",
       "CD2_1   =                  0.0 / \n",
       "CD2_2   = 7.33333333333333E-05 / \n",
       "CUNIT1  = 'deg'                / \n",
       "CUNIT2  = 'deg'                / \n",
       "CRVAL1  =                 90.0 / \n",
       "CRVAL2  =                  0.0 / "
      ]
     },
     "execution_count": 5,
     "metadata": {},
     "output_type": "execute_result"
    }
   ],
   "source": [
    "fio.read_header('canvas_000.fits')"
   ]
  },
  {
   "cell_type": "code",
   "execution_count": 6,
   "metadata": {},
   "outputs": [],
   "source": [
    "nobj = len(fr.scat)"
   ]
  },
  {
   "cell_type": "code",
   "execution_count": 7,
   "metadata": {},
   "outputs": [
    {
     "data": {
      "text/plain": [
       "9386"
      ]
     },
     "execution_count": 7,
     "metadata": {},
     "output_type": "execute_result"
    }
   ],
   "source": [
    "nobj"
   ]
  },
  {
   "cell_type": "code",
   "execution_count": 8,
   "metadata": {},
   "outputs": [],
   "source": [
    "dec = fr.scat[\"DELTA_J2000\"]\n",
    "ra = fr.scat['ALPHA_J2000']"
   ]
  },
  {
   "cell_type": "code",
   "execution_count": 9,
   "metadata": {},
   "outputs": [],
   "source": [
    "box_size = np.ones(nobj) * 32"
   ]
  },
  {
   "cell_type": "code",
   "execution_count": 11,
   "metadata": {},
   "outputs": [],
   "source": [
    "obj_data = meds.util.get_meds_input_struct(nobj)\n",
    "obj_data['id'] = fr.scat['NUMBER']\n",
    "obj_data['box_size'] = np.ones(nobj) * 32\n",
    "obj_data['ra'] = fr.scat['ALPHA_J2000']\n",
    "obj_data['dec'] = fr.scat['DELTA_J2000']"
   ]
  },
  {
   "cell_type": "code",
   "execution_count": 12,
   "metadata": {},
   "outputs": [
    {
     "data": {
      "text/plain": [
       "array([(   1, 32, 89.99925421, -0.1669937 ),\n",
       "       (   2, 32, 90.00496231, -0.16528172),\n",
       "       (   3, 32, 89.99873047, -0.16589109), ...,\n",
       "       (9384, 32, 90.09072898,  0.12249217),\n",
       "       (9385, 32, 90.01605933,  0.12911593),\n",
       "       (9386, 32, 90.11096888,  0.12514247)],\n",
       "      dtype=[('id', '<i8'), ('box_size', '<i8'), ('ra', '<f8'), ('dec', '<f8')])"
      ]
     },
     "execution_count": 12,
     "metadata": {},
     "output_type": "execute_result"
    }
   ],
   "source": [
    "obj_data"
   ]
  },
  {
   "cell_type": "code",
   "execution_count": 13,
   "metadata": {},
   "outputs": [],
   "source": [
    "nimage = 1\n",
    "path_len = len('./canvas_000.fits')"
   ]
  },
  {
   "cell_type": "code",
   "execution_count": 14,
   "metadata": {},
   "outputs": [],
   "source": [
    "image_info= meds.util.get_image_info_struct(nimage, path_len)"
   ]
  },
  {
   "cell_type": "code",
   "execution_count": 15,
   "metadata": {},
   "outputs": [],
   "source": [
    "\n",
    "image_info['image_path'][0] = r'./canvas_000.fits'\n",
    "image_info['magzp'] = 30."
   ]
  },
  {
   "cell_type": "code",
   "execution_count": 16,
   "metadata": {},
   "outputs": [
    {
     "data": {
      "text/plain": [
       "array([(b'./canvas_000.fits', 0, b'', 0, b'', 0, b'', 0, b'', 0, 0, 0, 30., 1., 0.)],\n",
       "      dtype=[('image_path', 'S17'), ('image_ext', '<i2'), ('weight_path', 'S17'), ('weight_ext', '<i2'), ('seg_path', 'S17'), ('seg_ext', '<i2'), ('bmask_path', 'S17'), ('bmask_ext', '<i2'), ('bkg_path', 'S17'), ('bkg_ext', '<i2'), ('image_id', '<i8'), ('image_flags', '<i8'), ('magzp', '<f4'), ('scale', '<f4'), ('position_offset', '<f8')])"
      ]
     },
     "execution_count": 16,
     "metadata": {},
     "output_type": "execute_result"
    }
   ],
   "source": [
    "image_info"
   ]
  },
  {
   "cell_type": "code",
   "execution_count": 17,
   "metadata": {},
   "outputs": [],
   "source": [
    "m = meds.MEDS('gauss_uberseg_meds.fits.fz')"
   ]
  },
  {
   "cell_type": "code",
   "execution_count": 18,
   "metadata": {},
   "outputs": [
    {
     "name": "stdout",
     "output_type": "stream",
     "text": [
      "writing cutouts for: ['image']\n"
     ]
    }
   ],
   "source": [
    "mm = meds.MEDSMaker(obj_data=obj_data, image_info=image_info)"
   ]
  },
  {
   "cell_type": "code",
   "execution_count": 19,
   "metadata": {},
   "outputs": [
    {
     "name": "stdout",
     "output_type": "stream",
     "text": [
      "file    1 of    1: 'b'./canvas_000.fits''\n",
      "    first cut:    9386 of   9386 objects\n",
      "    second cut:   9386 of   9386 objects\n",
      "    pre-forced obj row range (min, max - image row max):   2.233068e+02 -2.230303e+02\n",
      "    pre-forced obj col range (min, max - image col max):   2.231887e+02 -2.254646e+02\n",
      "    post-forced obj row range (min, max - image row max):  2.233068e+02 -2.230303e+02\n",
      "    post-forced obj col range (min, max - image col max):  2.231887e+02 -2.254646e+02\n",
      "    # of objects forced into coadd: 0\n",
      "9386/9386 had ncut > 0\n",
      "setting start rows and pixel count\n",
      "total pixels: 9611264\n",
      "meds layout build time: 0.159941 seconds\n",
      "opening output MEDS file: 'testmeds.fits'\n",
      "writing object_data\n",
      "writing image_info\n",
      "writing metadata\n",
      "    reserving image mosaic\n",
      "writing image cutouts\n",
      "    1/1 image b'./canvas_000.fits'\n"
     ]
    },
    {
     "name": "stderr",
     "output_type": "stream",
     "text": [
      "/home/moon/vargatn/anaconda3/envs/galsim/lib/python3.7/site-packages/meds/util.py:380: VisibleDeprecationWarning: Creating an ndarray from ragged nested sequences (which is a list-or-tuple of lists-or-tuples-or ndarrays with different lengths or shapes) is deprecated. If you meant to do this, you must specify 'dtype=object' when creating the ndarray.\n",
      "  phat = numpy.array([-1.0*sinp,cosp,0.0]).T\n"
     ]
    },
    {
     "name": "stdout",
     "output_type": "stream",
     "text": [
      "    no background for image\n",
      "output is in: testmeds.fits\n"
     ]
    }
   ],
   "source": [
    "mm.write(\"testmeds.fits\")"
   ]
  },
  {
   "cell_type": "code",
   "execution_count": 20,
   "metadata": {},
   "outputs": [],
   "source": [
    "m = meds.MEDS('testmeds.fits')"
   ]
  },
  {
   "cell_type": "code",
   "execution_count": 23,
   "metadata": {},
   "outputs": [],
   "source": [
    "im = m.get_cutout(0, 0, )"
   ]
  },
  {
   "cell_type": "code",
   "execution_count": 24,
   "metadata": {},
   "outputs": [
    {
     "data": {
      "text/plain": [
       "<matplotlib.image.AxesImage at 0x7fc9fb849f10>"
      ]
     },
     "execution_count": 24,
     "metadata": {},
     "output_type": "execute_result"
    },
    {
     "data": {
      "image/png": "[encoded data removed]",
      "text/plain": [
       "<Figure size 640x480 with 1 Axes>"
      ]
     },
     "metadata": {},
     "output_type": "display_data"
    }
   ],
   "source": [
    "plt.imshow(im)"
   ]
  },
  {
   "cell_type": "code",
   "execution_count": 70,
   "metadata": {},
   "outputs": [],
   "source": [
    "wcs_data = fio.read_header('./canvas_000.fits')"
   ]
  },
  {
   "cell_type": "code",
   "execution_count": 62,
   "metadata": {},
   "outputs": [
    {
     "data": {
      "text/plain": [
       "\n",
       "SIMPLE  =                    T / conforms to FITS standard\n",
       "BITPIX  =                  -32 / array data type\n",
       "NAXIS   =                    2 / number of array dimensions\n",
       "NAXIS1  =                 5000\n",
       "NAXIS2  =                 5000\n",
       "EXTEND  =                    T\n",
       "GS_XMIN =                    1 / GalSim image minimum x coordinate\n",
       "GS_YMIN =                    1 / GalSim image minimum y coordinate\n",
       "GS_WCS  = 'GSFitsWCS'          / GalSim WCS name\n",
       "CTYPE1  = 'RA---TAN'\n",
       "CTYPE2  = 'DEC--TAN'\n",
       "CRPIX1  =               2500.5\n",
       "CRPIX2  =               2500.5\n",
       "CD1_1   = -7.3333333333333E-05\n",
       "CD1_2   =                  0.0\n",
       "CD2_1   =                  0.0\n",
       "CD2_2   = 7.33333333333333E-05\n",
       "CUNIT1  = 'deg     '\n",
       "CUNIT2  = 'deg     '\n",
       "CRVAL1  =                 90.0\n",
       "CRVAL2  =                  0.0"
      ]
     },
     "execution_count": 62,
     "metadata": {},
     "output_type": "execute_result"
    }
   ],
   "source": [
    "wcs_data"
   ]
  },
  {
   "cell_type": "code",
   "execution_count": null,
   "metadata": {},
   "outputs": [],
   "source": []
  }
 ],
 "metadata": {
  "kernelspec": {
   "display_name": "Python 3 (ipykernel)",
   "language": "python",
   "name": "python3"
  },
  "language_info": {
   "codemirror_mode": {
    "name": "ipython",
    "version": 3
   },
   "file_extension": ".py",
   "mimetype": "text/x-python",
   "name": "python",
   "nbconvert_exporter": "python",
   "pygments_lexer": "ipython3",
   "version": "3.7.4"
  },
  "toc": {
   "base_numbering": 1,
   "nav_menu": {},
   "number_sections": true,
   "sideBar": true,
   "skip_h1_title": false,
   "title_cell": "Table of Contents",
   "title_sidebar": "Contents",
   "toc_cell": false,
   "toc_position": {},
   "toc_section_display": true,
   "toc_window_display": false
  },
  "widgets": {
   "state": {},
   "version": "1.0.0"
  }
 },
 "nbformat": 4,
 "nbformat_minor": 2
}
