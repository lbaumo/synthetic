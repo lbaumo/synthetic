{
 "cells": [
  {
   "cell_type": "code",
   "execution_count": 1,
   "id": "8c29bf72",
   "metadata": {},
   "outputs": [],
   "source": [
    "import numpy as np\n",
    "import pandas as pd\n",
    "\n",
    "import sklearn.neighbors as neighbors\n",
    "\n",
    "from importlib import reload\n",
    "import copy\n",
    "import synthetic.render.generator as gen\n",
    "\n",
    "import matplotlib.pyplot as plt\n",
    "import matplotlib as mpl\n",
    "%matplotlib inline\n",
    "\n",
    "import multiprocessing as mp\n",
    "\n",
    "import sys\n",
    "import os\n",
    "import math\n",
    "import logging\n",
    "import time\n",
    "import galsim\n",
    "import fitsio as fio\n",
    "\n",
    "import ngmix\n",
    "\n",
    "import synthetic.render.render as render\n",
    "import synthetic.render.icl as icl\n",
    "import synthetic.render.frame as frame\n",
    "\n",
    "import images\n",
    "import meds\n",
    "import subprocess\n",
    "import psfex"
   ]
  },
  {
   "cell_type": "code",
   "execution_count": 102,
   "id": "700890d2",
   "metadata": {},
   "outputs": [],
   "source": [
    "catalogs = []\n",
    "catalog_tag = '/e/ocean1/users/vargatn/DES/SIM_DATA/SKY_MODEL_EPSILON/res_clust_v2_z0l0/epsilon_clust_v8-z0l0_15000_{:03d}.fits'\n",
    "for i in np.arange(1):\n",
    "    fname = catalog_tag.format(i)\n",
    "    data = fio.read(fname)\n",
    "    catalog_cluster = data[data['LOC'] == 1]\n",
    "    catalog_field = data[data['LOC'] == 0]\n",
    "    catalog = np.hstack((catalog_cluster, catalog_field))\n",
    "    catalog['G1'] = 0.1\n",
    "    catalog['G2'] = -0.1\n",
    "    catalogs.append(catalog)"
   ]
  },
  {
   "cell_type": "code",
   "execution_count": 103,
   "id": "5a9d1ac5",
   "metadata": {},
   "outputs": [],
   "source": [
    "x = np.linspace(201, 4700, 20) + 2500\n",
    "y = np.linspace(201, 4700, 20) + 2500\n",
    "xx, yy = np.meshgrid(x, y)\n",
    "xx = xx.flatten()\n",
    "yy = yy.flatten()"
   ]
  },
  {
   "cell_type": "code",
   "execution_count": 104,
   "id": "fbb3ba99",
   "metadata": {},
   "outputs": [],
   "source": [
    "star_catalog = copy.deepcopy(catalog[:400])\n",
    "star_catalog[:] = 0\n",
    "mag = 30  - 2.5 * np.log10(5e4)"
   ]
  },
  {
   "cell_type": "code",
   "execution_count": 105,
   "id": "6f0ad232",
   "metadata": {},
   "outputs": [],
   "source": [
    "star_catalog[\"X\"] = xx \n",
    "star_catalog[\"Y\"] = yy\n",
    "star_catalog[\"FLUX_G\"][:] = 5e4\n",
    "star_catalog[\"FLUX_R\"][:] = 5e4\n",
    "star_catalog[\"FLUX_I\"][:] = 5e4\n",
    "star_catalog[\"FLUX_Z\"][:] = 5e4\n",
    "star_catalog[\"TSIZE\"][:] = 0\n",
    "star_catalog[\"MAG_G\"][:] = mag\n",
    "star_catalog[\"MAG_R\"][:] = mag\n",
    "star_catalog[\"MAG_I\"][:] = mag\n",
    "star_catalog[\"MAG_Z\"][:] = mag\n",
    "star_catalog[\"FRACDEV\"][:] = mag\n"
   ]
  },
  {
   "cell_type": "code",
   "execution_count": 106,
   "id": "e792532d",
   "metadata": {},
   "outputs": [
    {
     "name": "stdout",
     "output_type": "stream",
     "text": [
      "star_canvas\n",
      "starting xshear calculations in 100 processes\n",
      "sex star_canvas.fits -c config.sex -CATALOG_NAME star_canvas_cat.fits -CHECKIMAGE_NAME star_canvas_seg.fits\n"
     ]
    }
   ],
   "source": [
    "name = 'star_canvas'\n",
    "print(name)\n",
    "fr = frame.Frame(star_catalog, name=name, noise_std=4)\n",
    "fr.render()\n",
    "fr.extract()"
   ]
  },
  {
   "cell_type": "code",
   "execution_count": 7,
   "id": "f977b15f",
   "metadata": {
    "scrolled": true
   },
   "outputs": [
    {
     "name": "stdout",
     "output_type": "stream",
     "text": [
      "\u001b[1M> \n",
      "\u001b[1A----- SExtractor 2.25.0 started on 2022-10-11 at 15:17:37 with 1 thread\n",
      "\n",
      "\u001b[1M> Setting catalog parameters\n",
      "\u001b[1A\u001b[1M> Reading detection filter\n",
      "\u001b[1A\u001b[1M> Initializing Neural Network\n",
      "\u001b[1A\u001b[1M> Reading Neural Network Weights\n",
      "\u001b[1A\u001b[1M> Initializing check-image(s)\n",
      "\u001b[1A\u001b[1M> Initializing catalog\n",
      "\u001b[1A\u001b[1M> Looking for star_canvas.fits\n",
      "\u001b[1A----- Measuring from: star_canvas.fits\n",
      "      \"Unnamed\" / no ext. header / 5000x5000 / 32 bits (floats)\n",
      "Detection+Measurement image: \u001b[1M> Setting up background maps\n",
      "\u001b[1A\u001b[1M> Setting up background map at line:   64\n",
      "\u001b[1A\u001b[1M> Setting up background map at line:  128\n",
      "\u001b[1A\u001b[1M> Setting up background map at line:  192\n",
      "\u001b[1A\u001b[1M> Setting up background map at line:  256\n",
      "\u001b[1A\u001b[1M> Setting up background map at line:  320\n",
      "\u001b[1A\u001b[1M> Setting up background map at line:  384\n",
      "\u001b[1A\u001b[1M> Setting up background map at line:  448\n",
      "\u001b[1A\u001b[1M> Setting up background map at line:  512\n",
      "\u001b[1A\u001b[1M> Setting up background map at line:  576\n",
      "\u001b[1A\u001b[1M> Setting up background map at line:  640\n",
      "\u001b[1A\u001b[1M> Setting up background map at line:  704\n",
      "\u001b[1A\u001b[1M> Setting up background map at line:  768\n",
      "\u001b[1A\u001b[1M> Setting up background map at line:  832\n",
      "\u001b[1A\u001b[1M> Setting up background map at line:  896\n",
      "\u001b[1A\u001b[1M> Setting up background map at line:  960\n",
      "\u001b[1A\u001b[1M> Setting up background map at line: 1024\n",
      "\u001b[1A\u001b[1M> Setting up background map at line: 1088\n",
      "\u001b[1A\u001b[1M> Setting up background map at line: 1152\n",
      "\u001b[1A\u001b[1M> Setting up background map at line: 1216\n",
      "\u001b[1A\u001b[1M> Setting up background map at line: 1280\n",
      "\u001b[1A\u001b[1M> Setting up background map at line: 1344\n",
      "\u001b[1A\u001b[1M> Setting up background map at line: 1408\n",
      "\u001b[1A\u001b[1M> Setting up background map at line: 1472\n",
      "\u001b[1A\u001b[1M> Setting up background map at line: 1536\n",
      "\u001b[1A\u001b[1M> Setting up background map at line: 1600\n",
      "\u001b[1A\u001b[1M> Setting up background map at line: 1664\n",
      "\u001b[1A\u001b[1M> Setting up background map at line: 1728\n",
      "\u001b[1A\u001b[1M> Setting up background map at line: 1792\n",
      "\u001b[1A\u001b[1M> Setting up background map at line: 1856\n",
      "\u001b[1A\u001b[1M> Setting up background map at line: 1920\n",
      "\u001b[1A\u001b[1M> Setting up background map at line: 1984\n",
      "\u001b[1A\u001b[1M> Setting up background map at line: 2048\n",
      "\u001b[1A\u001b[1M> Setting up background map at line: 2112\n",
      "\u001b[1A\u001b[1M> Setting up background map at line: 2176\n",
      "\u001b[1A\u001b[1M> Setting up background map at line: 2240\n",
      "\u001b[1A\u001b[1M> Setting up background map at line: 2304\n",
      "\u001b[1A\u001b[1M> Setting up background map at line: 2368\n",
      "\u001b[1A\u001b[1M> Setting up background map at line: 2432\n",
      "\u001b[1A\u001b[1M> Setting up background map at line: 2496\n",
      "\u001b[1A\u001b[1M> Setting up background map at line: 2560\n",
      "\u001b[1A\u001b[1M> Setting up background map at line: 2624\n",
      "\u001b[1A\u001b[1M> Setting up background map at line: 2688\n",
      "\u001b[1A\u001b[1M> Setting up background map at line: 2752\n",
      "\u001b[1A\u001b[1M> Setting up background map at line: 2816\n",
      "\u001b[1A\u001b[1M> Setting up background map at line: 2880\n",
      "\u001b[1A\u001b[1M> Setting up background map at line: 2944\n",
      "\u001b[1A\u001b[1M> Setting up background map at line: 3008\n",
      "\u001b[1A\u001b[1M> Setting up background map at line: 3072\n",
      "\u001b[1A\u001b[1M> Setting up background map at line: 3136\n",
      "\u001b[1A\u001b[1M> Setting up background map at line: 3200\n",
      "\u001b[1A\u001b[1M> Setting up background map at line: 3264\n",
      "\u001b[1A\u001b[1M> Setting up background map at line: 3328\n",
      "\u001b[1A\u001b[1M> Setting up background map at line: 3392\n",
      "\u001b[1A\u001b[1M> Setting up background map at line: 3456\n",
      "\u001b[1A\u001b[1M> Setting up background map at line: 3520\n",
      "\u001b[1A\u001b[1M> Setting up background map at line: 3584\n",
      "\u001b[1A\u001b[1M> Setting up background map at line: 3648\n",
      "\u001b[1A\u001b[1M> Setting up background map at line: 3712\n",
      "\u001b[1A\u001b[1M> Setting up background map at line: 3776\n",
      "\u001b[1A\u001b[1M> Setting up background map at line: 3840\n",
      "\u001b[1A\u001b[1M> Setting up background map at line: 3904\n",
      "\u001b[1A\u001b[1M> Setting up background map at line: 3968\n",
      "\u001b[1A\u001b[1M> Setting up background map at line: 4032\n",
      "\u001b[1A\u001b[1M> Setting up background map at line: 4096\n",
      "\u001b[1A\u001b[1M> Setting up background map at line: 4160\n",
      "\u001b[1A\u001b[1M> Setting up background map at line: 4224\n",
      "\u001b[1A\u001b[1M> Setting up background map at line: 4288\n",
      "\u001b[1A\u001b[1M> Setting up background map at line: 4352\n",
      "\u001b[1A\u001b[1M> Setting up background map at line: 4416\n",
      "\u001b[1A\u001b[1M> Setting up background map at line: 4480\n",
      "\u001b[1A\u001b[1M> Setting up background map at line: 4544\n",
      "\u001b[1A\u001b[1M> Setting up background map at line: 4608\n",
      "\u001b[1A\u001b[1M> Setting up background map at line: 4672\n",
      "\u001b[1A\u001b[1M> Setting up background map at line: 4736\n",
      "\u001b[1A\u001b[1M> Setting up background map at line: 4800\n",
      "\u001b[1A\u001b[1M> Setting up background map at line: 4864\n",
      "\u001b[1A\u001b[1M> Setting up background map at line: 4928\n",
      "\u001b[1A\u001b[1M> Setting up background map at line: 4992\n",
      "\u001b[1A\u001b[1M> Filtering background map(s)\n",
      "\u001b[1A\u001b[1M> Computing background d-map\n",
      "\u001b[1A\u001b[1M> Computing background-noise d-map\n",
      "\u001b[1A(M+D) Background: -0.00150944 RMS: 3.93927    / Threshold: 5.90891    \n",
      "\u001b[1M> Scanning image\n",
      "\u001b[1A\u001b[1M> Line:   25  Objects:        0 detected /        0 sextracted\n",
      "\u001b[1A\u001b[1M> Line:   50  Objects:        0 detected /        0 sextracted\n",
      "\u001b[1A\u001b[1M> Line:   75  Objects:        0 detected /        0 sextracted\n",
      "\u001b[1A\u001b[1M> Line:  100  Objects:        0 detected /        0 sextracted\n",
      "\u001b[1A\u001b[1M> Line:  125  Objects:        0 detected /        0 sextracted\n",
      "\u001b[1A\u001b[1M> Line:  150  Objects:        0 detected /        0 sextracted\n",
      "\u001b[1A\u001b[1M> Line:  175  Objects:        0 detected /        0 sextracted\n",
      "\u001b[1A\u001b[1M> Line:  200  Objects:        0 detected /        0 sextracted\n",
      "\u001b[1A\u001b[1M> Line:  225  Objects:       20 detected /        0 sextracted\n",
      "\u001b[1A\u001b[1M> Line:  250  Objects:       20 detected /        0 sextracted\n",
      "\u001b[1A\u001b[1M> Line:  275  Objects:       20 detected /        0 sextracted\n",
      "\u001b[1A\u001b[1M> Line:  300  Objects:       20 detected /        0 sextracted\n",
      "\u001b[1A\u001b[1M> Line:  325  Objects:       20 detected /        0 sextracted\n",
      "\u001b[1A\u001b[1M> Line:  350  Objects:       20 detected /        0 sextracted\n",
      "\u001b[1A\u001b[1M> Line:  375  Objects:       20 detected /        0 sextracted\n",
      "\u001b[1A\u001b[1M> Line:  400  Objects:       20 detected /        0 sextracted\n",
      "\u001b[1A\u001b[1M> Line:  425  Objects:       20 detected /        0 sextracted\n",
      "\u001b[1A\u001b[1M> Line:  450  Objects:       40 detected /        0 sextracted\n",
      "\u001b[1A\u001b[1M> Line:  475  Objects:       40 detected /        0 sextracted\n",
      "\u001b[1A\u001b[1M> Line:  500  Objects:       40 detected /        0 sextracted\n",
      "\u001b[1A\u001b[1M> Line:  525  Objects:       40 detected /        0 sextracted\n",
      "\u001b[1A\u001b[1M> Line:  550  Objects:       40 detected /        0 sextracted\n",
      "\u001b[1A\u001b[1M> Line:  575  Objects:       40 detected /        0 sextracted\n",
      "\u001b[1A\u001b[1M> Line:  600  Objects:       40 detected /        0 sextracted\n",
      "\u001b[1A\u001b[1M> Line:  625  Objects:       40 detected /        0 sextracted\n",
      "\u001b[1A\u001b[1M> Line:  650  Objects:       40 detected /        0 sextracted\n",
      "\u001b[1A\u001b[1M> Line:  675  Objects:       40 detected /        0 sextracted\n",
      "\u001b[1A\u001b[1M> Line:  700  Objects:       60 detected /        0 sextracted\n",
      "\u001b[1A\u001b[1M> Line:  725  Objects:       60 detected /        0 sextracted\n",
      "\u001b[1A\u001b[1M> Line:  750  Objects:       60 detected /        0 sextracted\n",
      "\u001b[1A\u001b[1M> Line:  775  Objects:       60 detected /        0 sextracted\n",
      "\u001b[1A\u001b[1M> Line:  800  Objects:       60 detected /        0 sextracted\n",
      "\u001b[1A\u001b[1M> Line:  825  Objects:       60 detected /        0 sextracted\n",
      "\u001b[1A\u001b[1M> Line:  850  Objects:       60 detected /        0 sextracted\n",
      "\u001b[1A\u001b[1M> Line:  875  Objects:       60 detected /        0 sextracted\n",
      "\u001b[1A\u001b[1M> Line:  900  Objects:       60 detected /        0 sextracted\n",
      "\u001b[1A\u001b[1M> Line:  925  Objects:       80 detected /        0 sextracted\n",
      "\u001b[1A\u001b[1M> Line:  950  Objects:       80 detected /        0 sextracted\n",
      "\u001b[1A\u001b[1M> Line:  975  Objects:       80 detected /        0 sextracted\n",
      "\u001b[1A\u001b[1M> Line: 1000  Objects:       80 detected /        0 sextracted\n",
      "\u001b[1A\u001b[1M> Line: 1025  Objects:       80 detected /        0 sextracted\n",
      "\u001b[1A\u001b[1M> Line: 1050  Objects:       80 detected /        0 sextracted\n",
      "\u001b[1A\u001b[1M> Line: 1075  Objects:       80 detected /        0 sextracted\n",
      "\u001b[1A\u001b[1M> Line: 1100  Objects:       80 detected /        0 sextracted\n",
      "\u001b[1A\u001b[1M> Line: 1125  Objects:       80 detected /        0 sextracted\n",
      "\u001b[1A\u001b[1M> Line: 1150  Objects:       80 detected /        0 sextracted\n",
      "\u001b[1A\u001b[1M> Line: 1175  Objects:      100 detected /        0 sextracted\n",
      "\u001b[1A\u001b[1M> Line: 1189  Objects:      100 detected /        0 sextracted\n",
      "\u001b[1A\u001b[1M> Line: 1200  Objects:      100 detected /       20 sextracted\n",
      "\u001b[1A\u001b[1M> Line: 1225  Objects:      100 detected /       20 sextracted\n",
      "\u001b[1A\u001b[1M> Line: 1250  Objects:      100 detected /       20 sextracted\n",
      "\u001b[1A\u001b[1M> Line: 1275  Objects:      100 detected /       20 sextracted\n",
      "\u001b[1A\u001b[1M> Line: 1300  Objects:      100 detected /       20 sextracted\n",
      "\u001b[1A\u001b[1M> Line: 1325  Objects:      100 detected /       20 sextracted\n",
      "\u001b[1A\u001b[1M> Line: 1350  Objects:      100 detected /       20 sextracted\n",
      "\u001b[1A\u001b[1M> Line: 1375  Objects:      100 detected /       20 sextracted\n",
      "\u001b[1A\u001b[1M> Line: 1400  Objects:      120 detected /       20 sextracted\n"
     ]
    },
    {
     "name": "stdout",
     "output_type": "stream",
     "text": [
      "\u001b[1A\u001b[1M> Line: 1425  Objects:      120 detected /       20 sextracted\n",
      "\u001b[1A\u001b[1M> Line: 1450  Objects:      120 detected /       40 sextracted\n",
      "\u001b[1A\u001b[1M> Line: 1475  Objects:      120 detected /       40 sextracted\n",
      "\u001b[1A\u001b[1M> Line: 1500  Objects:      120 detected /       40 sextracted\n",
      "\u001b[1A\u001b[1M> Line: 1525  Objects:      120 detected /       40 sextracted\n",
      "\u001b[1A\u001b[1M> Line: 1550  Objects:      120 detected /       40 sextracted\n",
      "\u001b[1A\u001b[1M> Line: 1575  Objects:      120 detected /       40 sextracted\n",
      "\u001b[1A\u001b[1M> Line: 1600  Objects:      120 detected /       40 sextracted\n",
      "\u001b[1A\u001b[1M> Line: 1625  Objects:      120 detected /       40 sextracted\n",
      "\u001b[1A\u001b[1M> Line: 1650  Objects:      140 detected /       40 sextracted\n",
      "\u001b[1A\u001b[1M> Line: 1675  Objects:      140 detected /       60 sextracted\n",
      "\u001b[1A\u001b[1M> Line: 1700  Objects:      140 detected /       60 sextracted\n",
      "\u001b[1A\u001b[1M> Line: 1725  Objects:      140 detected /       60 sextracted\n",
      "\u001b[1A\u001b[1M> Line: 1750  Objects:      140 detected /       60 sextracted\n",
      "\u001b[1A\u001b[1M> Line: 1775  Objects:      140 detected /       60 sextracted\n",
      "\u001b[1A\u001b[1M> Line: 1800  Objects:      140 detected /       60 sextracted\n",
      "\u001b[1A\u001b[1M> Line: 1825  Objects:      140 detected /       60 sextracted\n",
      "\u001b[1A\u001b[1M> Line: 1850  Objects:      140 detected /       60 sextracted\n",
      "\u001b[1A\u001b[1M> Line: 1875  Objects:      160 detected /       60 sextracted\n",
      "\u001b[1A\u001b[1M> Line: 1900  Objects:      160 detected /       65 sextracted\n",
      "\u001b[1A\u001b[1M> Line: 1925  Objects:      160 detected /       80 sextracted\n",
      "\u001b[1A\u001b[1M> Line: 1950  Objects:      160 detected /       80 sextracted\n",
      "\u001b[1A\u001b[1M> Line: 1975  Objects:      160 detected /       80 sextracted\n",
      "\u001b[1A\u001b[1M> Line: 2000  Objects:      160 detected /       80 sextracted\n",
      "\u001b[1A\u001b[1M> Line: 2025  Objects:      160 detected /       80 sextracted\n",
      "\u001b[1A\u001b[1M> Line: 2050  Objects:      160 detected /       80 sextracted\n",
      "\u001b[1A\u001b[1M> Line: 2075  Objects:      160 detected /       80 sextracted\n",
      "\u001b[1A\u001b[1M> Line: 2100  Objects:      160 detected /       80 sextracted\n",
      "\u001b[1A\u001b[1M> Line: 2125  Objects:      180 detected /       80 sextracted\n",
      "\u001b[1A\u001b[1M> Line: 2150  Objects:      180 detected /      100 sextracted\n",
      "\u001b[1A\u001b[1M> Line: 2175  Objects:      180 detected /      100 sextracted\n",
      "\u001b[1A\u001b[1M> Line: 2200  Objects:      180 detected /      100 sextracted\n",
      "\u001b[1A\u001b[1M> Line: 2225  Objects:      180 detected /      100 sextracted\n",
      "\u001b[1A\u001b[1M> Line: 2250  Objects:      180 detected /      100 sextracted\n",
      "\u001b[1A\u001b[1M> Line: 2275  Objects:      180 detected /      100 sextracted\n",
      "\u001b[1A\u001b[1M> Line: 2300  Objects:      180 detected /      100 sextracted\n",
      "\u001b[1A\u001b[1M> Line: 2325  Objects:      180 detected /      100 sextracted\n",
      "\u001b[1A\u001b[1M> Line: 2350  Objects:      200 detected /      100 sextracted\n",
      "\u001b[1A\u001b[1M> Line: 2375  Objects:      200 detected /      120 sextracted\n",
      "\u001b[1A\u001b[1M> Line: 2400  Objects:      200 detected /      120 sextracted\n",
      "\u001b[1A\u001b[1M> Line: 2425  Objects:      200 detected /      120 sextracted\n",
      "\u001b[1A\u001b[1M> Line: 2450  Objects:      200 detected /      120 sextracted\n",
      "\u001b[1A\u001b[1M> Line: 2475  Objects:      200 detected /      120 sextracted\n",
      "\u001b[1A\u001b[1M> Line: 2500  Objects:      200 detected /      120 sextracted\n",
      "\u001b[1A\u001b[1M> Line: 2525  Objects:      200 detected /      120 sextracted\n",
      "\u001b[1A\u001b[1M> Line: 2550  Objects:      200 detected /      120 sextracted\n",
      "\u001b[1A\u001b[1M> Line: 2575  Objects:      202 detected /      120 sextracted\n",
      "\u001b[1A\u001b[1M> Line: 2600  Objects:      220 detected /      120 sextracted\n",
      "\u001b[1A\u001b[1M> Line: 2625  Objects:      220 detected /      140 sextracted\n",
      "\u001b[1A\u001b[1M> Line: 2650  Objects:      220 detected /      140 sextracted\n",
      "\u001b[1A\u001b[1M> Line: 2675  Objects:      220 detected /      140 sextracted\n",
      "\u001b[1A\u001b[1M> Line: 2700  Objects:      220 detected /      140 sextracted\n",
      "\u001b[1A\u001b[1M> Line: 2725  Objects:      220 detected /      140 sextracted\n",
      "\u001b[1A\u001b[1M> Line: 2750  Objects:      220 detected /      140 sextracted\n",
      "\u001b[1A\u001b[1M> Line: 2775  Objects:      220 detected /      140 sextracted\n",
      "\u001b[1A\u001b[1M> Line: 2800  Objects:      220 detected /      140 sextracted\n",
      "\u001b[1A\u001b[1M> Line: 2825  Objects:      240 detected /      140 sextracted\n",
      "\u001b[1A\u001b[1M> Line: 2850  Objects:      240 detected /      160 sextracted\n",
      "\u001b[1A\u001b[1M> Line: 2875  Objects:      240 detected /      160 sextracted\n",
      "\u001b[1A\u001b[1M> Line: 2900  Objects:      240 detected /      160 sextracted\n",
      "\u001b[1A\u001b[1M> Line: 2925  Objects:      240 detected /      160 sextracted\n",
      "\u001b[1A\u001b[1M> Line: 2950  Objects:      240 detected /      160 sextracted\n",
      "\u001b[1A\u001b[1M> Line: 2975  Objects:      240 detected /      160 sextracted\n",
      "\u001b[1A\u001b[1M> Line: 3000  Objects:      240 detected /      160 sextracted\n",
      "\u001b[1A\u001b[1M> Line: 3025  Objects:      240 detected /      160 sextracted\n",
      "\u001b[1A\u001b[1M> Line: 3050  Objects:      260 detected /      160 sextracted\n",
      "\u001b[1A\u001b[1M> Line: 3075  Objects:      260 detected /      160 sextracted\n",
      "\u001b[1A\u001b[1M> Line: 3100  Objects:      260 detected /      180 sextracted\n",
      "\u001b[1A\u001b[1M> Line: 3125  Objects:      260 detected /      180 sextracted\n",
      "\u001b[1A\u001b[1M> Line: 3150  Objects:      260 detected /      180 sextracted\n",
      "\u001b[1A\u001b[1M> Line: 3175  Objects:      260 detected /      180 sextracted\n",
      "\u001b[1A\u001b[1M> Line: 3200  Objects:      260 detected /      180 sextracted\n",
      "\u001b[1A\u001b[1M> Line: 3225  Objects:      260 detected /      180 sextracted\n",
      "\u001b[1A\u001b[1M> Line: 3250  Objects:      260 detected /      180 sextracted\n",
      "\u001b[1A\u001b[1M> Line: 3275  Objects:      260 detected /      180 sextracted\n",
      "\u001b[1A\u001b[1M> Line: 3300  Objects:      280 detected /      180 sextracted\n",
      "\u001b[1A\u001b[1M> Line: 3325  Objects:      280 detected /      200 sextracted\n",
      "\u001b[1A\u001b[1M> Line: 3350  Objects:      280 detected /      200 sextracted\n",
      "\u001b[1A\u001b[1M> Line: 3375  Objects:      280 detected /      200 sextracted\n",
      "\u001b[1A\u001b[1M> Line: 3400  Objects:      280 detected /      200 sextracted\n",
      "\u001b[1A\u001b[1M> Line: 3425  Objects:      280 detected /      200 sextracted\n",
      "\u001b[1A\u001b[1M> Line: 3450  Objects:      280 detected /      200 sextracted\n",
      "\u001b[1A\u001b[1M> Line: 3475  Objects:      280 detected /      200 sextracted\n",
      "\u001b[1A\u001b[1M> Line: 3500  Objects:      280 detected /      200 sextracted\n",
      "\u001b[1A\u001b[1M> Line: 3525  Objects:      300 detected /      200 sextracted\n",
      "\u001b[1A\u001b[1M> Line: 3550  Objects:      300 detected /      200 sextracted\n",
      "\u001b[1A\u001b[1M> Line: 3575  Objects:      300 detected /      220 sextracted\n",
      "\u001b[1A\u001b[1M> Line: 3600  Objects:      300 detected /      220 sextracted\n",
      "\u001b[1A\u001b[1M> Line: 3625  Objects:      300 detected /      220 sextracted\n",
      "\u001b[1A\u001b[1M> Line: 3650  Objects:      300 detected /      220 sextracted\n",
      "\u001b[1A\u001b[1M> Line: 3675  Objects:      300 detected /      220 sextracted\n",
      "\u001b[1A\u001b[1M> Line: 3700  Objects:      300 detected /      220 sextracted\n",
      "\u001b[1A\u001b[1M> Line: 3725  Objects:      300 detected /      220 sextracted\n",
      "\u001b[1A\u001b[1M> Line: 3750  Objects:      300 detected /      220 sextracted\n",
      "\u001b[1A\u001b[1M> Line: 3775  Objects:      320 detected /      220 sextracted\n",
      "\u001b[1A\u001b[1M> Line: 3800  Objects:      320 detected /      240 sextracted\n",
      "\u001b[1A\u001b[1M> Line: 3825  Objects:      320 detected /      240 sextracted\n",
      "\u001b[1A\u001b[1M> Line: 3850  Objects:      320 detected /      240 sextracted\n",
      "\u001b[1A\u001b[1M> Line: 3875  Objects:      320 detected /      240 sextracted\n",
      "\u001b[1A\u001b[1M> Line: 3900  Objects:      320 detected /      240 sextracted\n",
      "\u001b[1A\u001b[1M> Line: 3925  Objects:      320 detected /      240 sextracted\n",
      "\u001b[1A\u001b[1M> Line: 3950  Objects:      320 detected /      240 sextracted\n",
      "\u001b[1A\u001b[1M> Line: 3975  Objects:      320 detected /      240 sextracted\n",
      "\u001b[1A\u001b[1M> Line: 4000  Objects:      340 detected /      240 sextracted\n",
      "\u001b[1A\u001b[1M> Line: 4025  Objects:      340 detected /      240 sextracted\n",
      "\u001b[1A\u001b[1M> Line: 4050  Objects:      340 detected /      260 sextracted\n",
      "\u001b[1A\u001b[1M> Line: 4075  Objects:      340 detected /      260 sextracted\n",
      "\u001b[1A\u001b[1M> Line: 4100  Objects:      340 detected /      260 sextracted\n",
      "\u001b[1A\u001b[1M> Line: 4125  Objects:      340 detected /      260 sextracted\n",
      "\u001b[1A\u001b[1M> Line: 4150  Objects:      340 detected /      260 sextracted\n",
      "\u001b[1A\u001b[1M> Line: 4175  Objects:      340 detected /      260 sextracted\n",
      "\u001b[1A\u001b[1M> Line: 4200  Objects:      340 detected /      260 sextracted\n",
      "\u001b[1A\u001b[1M> Line: 4225  Objects:      340 detected /      260 sextracted\n",
      "\u001b[1A\u001b[1M> Line: 4250  Objects:      360 detected /      260 sextracted\n",
      "\u001b[1A\u001b[1M> Line: 4275  Objects:      360 detected /      280 sextracted\n",
      "\u001b[1A\u001b[1M> Line: 4300  Objects:      360 detected /      280 sextracted\n",
      "\u001b[1A\u001b[1M> Line: 4325  Objects:      360 detected /      280 sextracted\n",
      "\u001b[1A\u001b[1M> Line: 4350  Objects:      360 detected /      280 sextracted\n",
      "\u001b[1A\u001b[1M> Line: 4375  Objects:      360 detected /      280 sextracted\n",
      "\u001b[1A\u001b[1M> Line: 4400  Objects:      360 detected /      280 sextracted\n",
      "\u001b[1A\u001b[1M> Line: 4425  Objects:      360 detected /      280 sextracted\n",
      "\u001b[1A\u001b[1M> Line: 4450  Objects:      360 detected /      280 sextracted\n",
      "\u001b[1A\u001b[1M> Line: 4475  Objects:      380 detected /      280 sextracted\n",
      "\u001b[1A\u001b[1M> Line: 4500  Objects:      380 detected /      280 sextracted\n"
     ]
    },
    {
     "name": "stdout",
     "output_type": "stream",
     "text": [
      "\u001b[1A\u001b[1M> Line: 4525  Objects:      380 detected /      300 sextracted\n",
      "\u001b[1A\u001b[1M> Line: 4550  Objects:      380 detected /      300 sextracted\n",
      "\u001b[1A\u001b[1M> Line: 4575  Objects:      380 detected /      300 sextracted\n",
      "\u001b[1A\u001b[1M> Line: 4600  Objects:      380 detected /      300 sextracted\n",
      "\u001b[1A\u001b[1M> Line: 4625  Objects:      380 detected /      300 sextracted\n",
      "\u001b[1A\u001b[1M> Line: 4650  Objects:      380 detected /      300 sextracted\n",
      "\u001b[1A\u001b[1M> Line: 4675  Objects:      380 detected /      300 sextracted\n",
      "\u001b[1A\u001b[1M> Line: 4700  Objects:      380 detected /      300 sextracted\n",
      "\u001b[1A\u001b[1M> Line: 4725  Objects:      400 detected /      300 sextracted\n",
      "\u001b[1A\u001b[1M> Line: 4750  Objects:      400 detected /      320 sextracted\n",
      "\u001b[1A\u001b[1M> Line: 4775  Objects:      400 detected /      320 sextracted\n",
      "\u001b[1A\u001b[1M> Line: 4800  Objects:      400 detected /      320 sextracted\n",
      "\u001b[1A\u001b[1M> Line: 4825  Objects:      400 detected /      320 sextracted\n",
      "\u001b[1A\u001b[1M> Line: 4850  Objects:      400 detected /      320 sextracted\n",
      "\u001b[1A\u001b[1M> Line: 4875  Objects:      400 detected /      320 sextracted\n",
      "\u001b[1A\u001b[1M> Line: 4900  Objects:      400 detected /      320 sextracted\n",
      "\u001b[1A\u001b[1M> Line: 4925  Objects:      400 detected /      320 sextracted\n",
      "\u001b[1A\u001b[1M> Line: 4950  Objects:      400 detected /      320 sextracted\n",
      "\u001b[1A\u001b[1M> Line: 4975  Objects:      400 detected /      320 sextracted\n",
      "\u001b[1A\u001b[1M> Line: 5000  Objects:      400 detected /      340 sextracted\n",
      "\u001b[1A      Objects: detected 400      / sextracted 400             \n",
      "\n",
      "\u001b[1M> Closing files\n",
      "\u001b[1A\u001b[1M> \n",
      "\u001b[1A> All done (in 1.6 s: 3126.0 lines/s , 250.1 detections/s)\n"
     ]
    }
   ],
   "source": [
    "! sex star_canvas.fits -c config.sex -CATALOG_TYPE FITS_LDAC -CATALOG_NAME star_canvas_cat.ldac -CHECKIMAGE_NAME star_canvas_000_seg.ldac"
   ]
  },
  {
   "cell_type": "code",
   "execution_count": null,
   "id": "357a7ccf",
   "metadata": {},
   "outputs": [],
   "source": []
  },
  {
   "cell_type": "code",
   "execution_count": 9,
   "id": "a1e5e79c",
   "metadata": {},
   "outputs": [
    {
     "data": {
      "text/plain": [
       "0.00024973054"
      ]
     },
     "execution_count": 9,
     "metadata": {},
     "output_type": "execute_result"
    }
   ],
   "source": [
    "fr.scat[\"FWHM_WORLD\"].mean()"
   ]
  },
  {
   "cell_type": "code",
   "execution_count": 10,
   "id": "d5e0ecb5",
   "metadata": {},
   "outputs": [
    {
     "data": {
      "text/plain": [
       "2424.7253"
      ]
     },
     "execution_count": 10,
     "metadata": {},
     "output_type": "execute_result"
    }
   ],
   "source": [
    "fr.scat['SNR_WIN'].mean()"
   ]
  },
  {
   "cell_type": "code",
   "execution_count": 11,
   "id": "37d49ea5",
   "metadata": {},
   "outputs": [
    {
     "data": {
      "text/plain": [
       "3651.4326"
      ]
     },
     "execution_count": 11,
     "metadata": {},
     "output_type": "execute_result"
    }
   ],
   "source": [
    "fr.scat[\"VIGNET\"].max()"
   ]
  },
  {
   "cell_type": "code",
   "execution_count": 12,
   "id": "c24401fa",
   "metadata": {},
   "outputs": [
    {
     "data": {
      "text/plain": [
       "<matplotlib.image.AxesImage at 0x7f3975183510>"
      ]
     },
     "execution_count": 12,
     "metadata": {},
     "output_type": "execute_result"
    },
    {
     "data": {
      "image/png": "[encoded data removed]",
      "text/plain": [
       "<Figure size 640x480 with 1 Axes>"
      ]
     },
     "metadata": {},
     "output_type": "display_data"
    }
   ],
   "source": [
    "plt.imshow(fr.scat[\"VIGNET\"][5])"
   ]
  },
  {
   "cell_type": "code",
   "execution_count": 13,
   "id": "f91332f9",
   "metadata": {},
   "outputs": [
    {
     "name": "stdout",
     "output_type": "stream",
     "text": [
      "\n",
      "> WARNING: This executable has been compiled using a version of the ATLAS library without support for multithreading. Performance will be degraded.\n",
      "\n",
      ".\n",
      "----- PSFEx 3.21.1 started on 2022-10-11 at 15:17:51 with 160 threads\n",
      "\n",
      ".\n",
      "----- 1 input catalogues:\n",
      "star_canvas_cat.ldac:  \"no ident        \"    1 extension     400 detections\n",
      "\n",
      "Initializing contexts....\n",
      "Computing optimum PSF sampling steps....\n",
      "Reading data from star_canvas_cat....\n",
      "Computing final PSF model for star_canvas_cat....\n",
      "Computing diagnostics for star_canvas_cat....\n",
      "star_canvas_cat            399/400     0.75   1.07   3.35  0.00  0.02  0.41\n",
      "Saving CHECK-image #1....\n",
      "Saving CHECK-image #2....\n",
      "Saving CHECK-image #3....\n",
      "Saving CHECK-image #4....\n",
      "Saving CHECK-image #5....\n",
      "Saving PSF model and metadata for star_canvas_cat....\n",
      "Writing XML file....\n",
      ".\n"
     ]
    }
   ],
   "source": [
    "!psfex star_canvas_cat.ldac -c psfex.config"
   ]
  },
  {
   "cell_type": "code",
   "execution_count": 91,
   "id": "74d33020",
   "metadata": {
    "scrolled": false
   },
   "outputs": [
    {
     "data": {
      "text/plain": [
       "\n",
       "XTENSION= 'BINTABLE'           / THIS IS A BINARY TABLE (FROM THE LDACTOOLS)\n",
       "BITPIX  =                    8 / \n",
       "NAXIS   =                    2 / \n",
       "NAXIS1  =                36000 / BYTES PER ROW\n",
       "NAXIS2  =                    1 / NUMBER OF ROWS\n",
       "PCOUNT  =                    0 / RANDOM PARAMETER COUNT\n",
       "GCOUNT  =                    1 / GROUP COUNT\n",
       "TFIELDS =                    1 / FIELDS PER ROWS\n",
       "EXTNAME = 'PSF_DATA'           / TABLE NAME\n",
       "LOADED  =                  400 / Number of loaded sources\n",
       "ACCEPTED=                  399 / Number of accepted sources\n",
       "CHI2    =           1.06903513 / Final reduced chi2\n",
       "POLNAXIS=                    2 / Number of context parameters\n",
       "POLGRP1 =                    1 / Polynom group for this context parameter\n",
       "POLNAME1= 'X_IMAGE'            / Name of this context parameter\n",
       "POLZERO1=       2451.000083923 / Offset value for this context parameter\n",
       "POLSCAL1=       4499.010574341 / Scale value for this context parameter\n",
       "POLGRP2 =                    1 / Polynom group for this context parameter\n",
       "POLNAME2= 'Y_IMAGE'            / Name of this context parameter\n",
       "POLZERO2=       2450.999732971 / Offset value for this context parameter\n",
       "POLSCAL2=       4499.011276245 / Scale value for this context parameter\n",
       "POLNGRP =                    1 / Number of context groups\n",
       "POLDEG1 =                    3 / Polynom degree for this context group\n",
       "PSF_FWHM=           3.54734135 / PSF FWHM in image pixels\n",
       "PSF_SAMP=           0.75475347 / Sampling step of the PSF data in image pixels\n",
       "PSFNAXIS=                    3 / Dimensionality of the PSF data\n",
       "PSFAXIS1=                   30 / Number of element along this axis\n",
       "PSFAXIS2=                   30 / Number of element along this axis\n",
       "PSFAXIS3=                   10 / Number of element along this axis\n",
       "TTYPE1  = 'PSF_MASK'           / Tabulated PSF data\n",
       "TFORM1  = '9000E'              / \n",
       "TDIM1   = '(30, 30, 10)'       / "
      ]
     },
     "execution_count": 91,
     "metadata": {},
     "output_type": "execute_result"
    }
   ],
   "source": [
    "fio.read_header(\"star_canvas_cat.psf\", ext=1)"
   ]
  },
  {
   "cell_type": "code",
   "execution_count": 15,
   "id": "b5d41b0f",
   "metadata": {},
   "outputs": [],
   "source": [
    "import psfex\n",
    "\n",
    "row=514.25\n",
    "col=610.00\n",
    "pex = psfex.PSFEx(\"star_canvas_cat.psf\")\n",
    "image = pex.get_rec(row, col)"
   ]
  },
  {
   "cell_type": "code",
   "execution_count": 16,
   "id": "7f19c649",
   "metadata": {},
   "outputs": [
    {
     "data": {
      "text/plain": [
       "<matplotlib.image.AxesImage at 0x7f3965b32d50>"
      ]
     },
     "execution_count": 16,
     "metadata": {},
     "output_type": "execute_result"
    },
    {
     "data": {
      "image/png": "[encoded data removed]",
      "text/plain": [
       "<Figure size 640x480 with 1 Axes>"
      ]
     },
     "metadata": {},
     "output_type": "display_data"
    }
   ],
   "source": [
    "plt.imshow(image)"
   ]
  },
  {
   "cell_type": "markdown",
   "id": "47159ee4",
   "metadata": {},
   "source": [
    "# Making MEDS"
   ]
  },
  {
   "cell_type": "code",
   "execution_count": 18,
   "id": "8d8749ea",
   "metadata": {},
   "outputs": [
    {
     "name": "stdout",
     "output_type": "stream",
     "text": [
      "canvas_000\n",
      "starting xshear calculations in 100 processes\n",
      "sex canvas_000.fits -c config.sex -CATALOG_NAME canvas_000_cat.fits -CHECKIMAGE_NAME canvas_000_seg.fits\n"
     ]
    }
   ],
   "source": [
    "\n",
    "i = 0\n",
    "name = 'canvas_{:03d}'.format(i)\n",
    "print(name)\n",
    "fr = frame.Frame(catalog, name=name, noise_std=4)\n",
    "fr.render()\n",
    "fr.extract()"
   ]
  },
  {
   "cell_type": "code",
   "execution_count": 21,
   "id": "6ade73cc",
   "metadata": {},
   "outputs": [
    {
     "data": {
      "text/plain": [
       "dtype([('ALPHAWIN_J2000', '>f8'), ('DELTAWIN_J2000', '>f8'), ('X_IMAGE', '>f4'), ('Y_IMAGE', '>f4'), ('NUMBER', '>i4'), ('MAG_ISO', '>f4'), ('MAGERR_ISO', '>f4'), ('MAG_ISOCOR', '>f4'), ('MAGERR_ISOCOR', '>f4'), ('MAG_APER', '>f4'), ('MAGERR_APER', '>f4'), ('MAG_AUTO', '>f4'), ('MAGERR_AUTO', '>f4'), ('MAG_BEST', '>f4'), ('MAGERR_BEST', '>f4'), ('FLUX_AUTO', '>f4'), ('FLUXERR_AUTO', '>f4'), ('FLUX_BEST', '>f4'), ('FLUXERR_BEST', '>f4'), ('FLUX_ISO', '>f4'), ('FLUXERR_ISO', '>f4'), ('KRON_RADIUS', '>f4'), ('BACKGROUND', '>f4'), ('THRESHOLD', '>f4'), ('FLUX_MAX', '>f4'), ('ISOAREA_IMAGE', '>i4'), ('X2_IMAGE', '>f8'), ('Y2_IMAGE', '>f8'), ('XY_IMAGE', '>f8'), ('YMIN_IMAGE', '>i4'), ('YMAX_IMAGE', '>i4'), ('XMIN_IMAGE', '>i4'), ('XMAX_IMAGE', '>i4'), ('A_IMAGE', '>f4'), ('B_IMAGE', '>f4'), ('THETA_IMAGE', '>f4'), ('MU_THRESHOLD', '>f4'), ('MU_MAX', '>f4'), ('ISOAREA_WORLD', '>f4'), ('X_WORLD', '>f8'), ('Y_WORLD', '>f8'), ('A_WORLD', '>f4'), ('B_WORLD', '>f4'), ('THETA_WORLD', '>f4'), ('FLAGS', '>i2'), ('FWHM_IMAGE', '>f4'), ('FWHM_WORLD', '>f4'), ('ELONGATION', '>f4'), ('CLASS_STAR', '>f4'), ('FLUX_RADIUS', '>f4'), ('FLUX_APER', '>f4'), ('ELLIPTICITY', '>f4'), ('VIGNET', '>f4', (35, 35)), ('SNR_WIN', '>f4')])"
      ]
     },
     "execution_count": 21,
     "metadata": {},
     "output_type": "execute_result"
    }
   ],
   "source": [
    "fr.scat.dtype"
   ]
  },
  {
   "cell_type": "code",
   "execution_count": 23,
   "id": "1546a25d",
   "metadata": {},
   "outputs": [],
   "source": [
    "dec = fr.scat[\"DELTAWIN_J2000\"]\n",
    "ra = fr.scat['ALPHAWIN_J2000']"
   ]
  },
  {
   "cell_type": "code",
   "execution_count": 27,
   "id": "43db738d",
   "metadata": {},
   "outputs": [],
   "source": [
    "nobj = len(fr.scat)"
   ]
  },
  {
   "cell_type": "code",
   "execution_count": 70,
   "id": "548527cf",
   "metadata": {},
   "outputs": [
    {
     "data": {
      "text/plain": [
       "array([2510.5696, 2474.3804, 2517.8147, ..., 1219.1913, 1973.8927,\n",
       "       3513.0195], dtype=float32)"
      ]
     },
     "execution_count": 70,
     "metadata": {},
     "output_type": "execute_result"
    }
   ],
   "source": [
    "fr.scat[\"X_IMAGE\"]"
   ]
  },
  {
   "cell_type": "code",
   "execution_count": 79,
   "id": "cca4cab0",
   "metadata": {},
   "outputs": [],
   "source": [
    "nimage = 1\n",
    "\n",
    "obj_data = meds.util.get_meds_input_struct(nobj, extra_fields=[(\"X_IMAGE\", \"f8\"), (\"Y_IMAGE\", \"f8\")])\n",
    "obj_data['id'] = fr.scat['NUMBER']\n",
    "obj_data['box_size'] = np.ones(nobj) * 16\n",
    "obj_data['ra'] = fr.scat['ALPHAWIN_J2000']\n",
    "obj_data['dec'] = fr.scat['DELTAWIN_J2000']\n",
    "obj_data['X_IMAGE'] = fr.scat['X_IMAGE']\n",
    "obj_data['Y_IMAGE'] = fr.scat['Y_IMAGE']"
   ]
  },
  {
   "cell_type": "code",
   "execution_count": 80,
   "id": "33dafdd4",
   "metadata": {},
   "outputs": [],
   "source": [
    "image_info= meds.util.get_image_info_struct(nimage, 21)"
   ]
  },
  {
   "cell_type": "code",
   "execution_count": 81,
   "id": "234a81b7",
   "metadata": {},
   "outputs": [],
   "source": [
    "\n",
    "image_info['image_path'][0] = './canvas_000.fits'\n",
    "image_info['weight_path'][0] = './canvas_weight.fits' \n",
    "image_info['seg_path'][0] = './canvas_000_seg.fits'\n",
    "image_info['magzp'] = 30.\n",
    "\n",
    "config = {'first_image_is_coadd': False,'cutout_types':['weight','seg'],'psf_type':'psfex'}"
   ]
  },
  {
   "cell_type": "code",
   "execution_count": 82,
   "id": "873deb83",
   "metadata": {},
   "outputs": [],
   "source": [
    "psf_data = [pex,]"
   ]
  },
  {
   "cell_type": "code",
   "execution_count": 83,
   "id": "aa303e88",
   "metadata": {},
   "outputs": [
    {
     "name": "stdout",
     "output_type": "stream",
     "text": [
      "writing cutouts for: ['image', 'weight', 'seg']\n"
     ]
    }
   ],
   "source": [
    "mm = meds.MEDSMaker(obj_data=obj_data, image_info=image_info, config=config, psf_data=psf_data)"
   ]
  },
  {
   "cell_type": "code",
   "execution_count": 84,
   "id": "b6b9d3a8",
   "metadata": {},
   "outputs": [
    {
     "name": "stdout",
     "output_type": "stream",
     "text": [
      "file    1 of    1: 'b'./canvas_000.fits''\n",
      "    first cut:    9323 of   9323 objects\n",
      "    second cut:   9323 of   9323 objects\n",
      "9323/9323 had ncut > 0\n",
      "setting start rows and pixel count\n",
      "total pixels: 2386688\n",
      "setting psf layout for PSFEx\n",
      "meds layout build time: 0.246745 seconds\n",
      "opening output MEDS file: 'testmeds.fits'\n",
      "writing object_data\n"
     ]
    },
    {
     "name": "stderr",
     "output_type": "stream",
     "text": [
      "/home/moon/vargatn/anaconda3/envs/galsim/lib/python3.7/site-packages/meds/util.py:380: VisibleDeprecationWarning: Creating an ndarray from ragged nested sequences (which is a list-or-tuple of lists-or-tuples-or ndarrays with different lengths or shapes) is deprecated. If you meant to do this, you must specify 'dtype=object' when creating the ndarray.\n",
      "  phat = numpy.array([-1.0*sinp,cosp,0.0]).T\n"
     ]
    },
    {
     "name": "stdout",
     "output_type": "stream",
     "text": [
      "writing image_info\n",
      "writing metadata\n",
      "    reserving image mosaic\n",
      "    reserving weight mosaic\n",
      "    reserving seg mosaic\n",
      "    reserving psf mosaic\n",
      "writing image cutouts\n",
      "    1/1 image b'./canvas_000.fits'\n",
      "    no background for image\n",
      "writing weight cutouts\n",
      "    1/1 weight b'./canvas_weight.fits'\n",
      "writing seg cutouts\n",
      "    1/1 seg b'./canvas_000_seg.fits'\n",
      "writing psf cutouts\n",
      "output is in: testmeds.fits\n"
     ]
    }
   ],
   "source": [
    "mm.write(\"testmeds.fits\")"
   ]
  },
  {
   "cell_type": "code",
   "execution_count": 57,
   "id": "7a49ecde",
   "metadata": {},
   "outputs": [],
   "source": [
    "m = meds.MEDS('testmeds.fits')"
   ]
  },
  {
   "cell_type": "code",
   "execution_count": 67,
   "id": "de6dd115",
   "metadata": {},
   "outputs": [
    {
     "data": {
      "text/plain": [
       "<matplotlib.image.AxesImage at 0x7f3964f0e190>"
      ]
     },
     "execution_count": 67,
     "metadata": {},
     "output_type": "execute_result"
    },
    {
     "data": {
      "image/png": "[encoded data removed]",
      "text/plain": [
       "<Figure size 640x480 with 1 Axes>"
      ]
     },
     "metadata": {},
     "output_type": "display_data"
    }
   ],
   "source": [
    "im = m.get_cutout(321, 0, 'image')\n",
    "plt.imshow(im)"
   ]
  },
  {
   "cell_type": "code",
   "execution_count": 61,
   "id": "df320773",
   "metadata": {},
   "outputs": [
    {
     "data": {
      "text/plain": [
       "<matplotlib.image.AxesImage at 0x7f3964cf58d0>"
      ]
     },
     "execution_count": 61,
     "metadata": {},
     "output_type": "execute_result"
    },
    {
     "data": {
      "image/png": "[encoded data removed]",
      "text/plain": [
       "<Figure size 640x480 with 1 Axes>"
      ]
     },
     "metadata": {},
     "output_type": "display_data"
    }
   ],
   "source": [
    "\n",
    "plt.imshow(im)"
   ]
  },
  {
   "cell_type": "code",
   "execution_count": null,
   "id": "d3140c55",
   "metadata": {},
   "outputs": [],
   "source": []
  }
 ],
 "metadata": {
  "kernelspec": {
   "display_name": "Python 3 (ipykernel)",
   "language": "python",
   "name": "python3"
  },
  "language_info": {
   "codemirror_mode": {
    "name": "ipython",
    "version": 3
   },
   "file_extension": ".py",
   "mimetype": "text/x-python",
   "name": "python",
   "nbconvert_exporter": "python",
   "pygments_lexer": "ipython3",
   "version": "3.7.4"
  },
  "toc": {
   "base_numbering": 1,
   "nav_menu": {},
   "number_sections": true,
   "sideBar": true,
   "skip_h1_title": false,
   "title_cell": "Table of Contents",
   "title_sidebar": "Contents",
   "toc_cell": false,
   "toc_position": {},
   "toc_section_display": true,
   "toc_window_display": false
  },
  "widgets": {
   "state": {},
   "version": "1.0.0"
  }
 },
 "nbformat": 4,
 "nbformat_minor": 5
}
