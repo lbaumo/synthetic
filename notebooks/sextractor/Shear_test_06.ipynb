{
 "cells": [
  {
   "cell_type": "code",
   "execution_count": 1,
   "metadata": {},
   "outputs": [],
   "source": [
    "import numpy as np\n",
    "import pandas as pd\n",
    "\n",
    "import sklearn.neighbors as neighbors\n",
    "\n",
    "from importlib import reload\n",
    "import copy\n",
    "import synthetic.render.generator as gen\n",
    "\n",
    "import matplotlib.pyplot as plt\n",
    "import matplotlib as mpl\n",
    "%matplotlib inline\n",
    "\n",
    "import multiprocessing as mp\n",
    "\n",
    "import sys\n",
    "import os\n",
    "import math\n",
    "import logging\n",
    "import time\n",
    "import galsim\n",
    "import fitsio as fio\n",
    "\n",
    "import ngmix\n",
    "\n",
    "import synthetic.render.render as render\n",
    "import synthetic.render.icl as icl\n",
    "import synthetic.render.frame as frame\n",
    "\n",
    "import images\n",
    "import subprocess"
   ]
  },
  {
   "cell_type": "code",
   "execution_count": 2,
   "metadata": {},
   "outputs": [],
   "source": [
    "catalogs = []\n",
    "catalog_tag = '/e/ocean1/users/vargatn/DES/SIM_DATA/SKY_MODEL_EPSILON/res_clust_v2_z0l0/epsilon_clust_v8-z0l0_15000_{:03d}.fits'\n",
    "for i in np.arange(100):\n",
    "    fname = catalog_tag.format(i)\n",
    "    data = fio.read(fname)\n",
    "    catalog_cluster = data[data['LOC'] == 1]\n",
    "    catalog_field = data[data['LOC'] == 0]\n",
    "    catalog = np.hstack((catalog_cluster, catalog_field))\n",
    "    catalog['G1'] = 0.3\n",
    "    catalog['G2'] = -0.2\n",
    "    catalogs.append(catalog)"
   ]
  },
  {
   "cell_type": "code",
   "execution_count": 4,
   "metadata": {},
   "outputs": [
    {
     "name": "stdout",
     "output_type": "stream",
     "text": [
      "canvas_000\n",
      "starting xshear calculations in 100 processes\n",
      "canvas_001\n",
      "starting xshear calculations in 100 processes\n",
      "canvas_002\n",
      "starting xshear calculations in 100 processes\n",
      "canvas_003\n",
      "starting xshear calculations in 100 processes\n",
      "canvas_004\n",
      "starting xshear calculations in 100 processes\n",
      "canvas_005\n",
      "starting xshear calculations in 100 processes\n",
      "canvas_006\n",
      "starting xshear calculations in 100 processes\n",
      "canvas_007\n",
      "starting xshear calculations in 100 processes\n",
      "canvas_008\n",
      "starting xshear calculations in 100 processes\n",
      "canvas_009\n",
      "starting xshear calculations in 100 processes\n"
     ]
    }
   ],
   "source": [
    "frs = []\n",
    "shears = []\n",
    "success = []\n",
    "shears_error = []\n",
    "mags = []\n",
    "for i, catalog in enumerate(catalogs[:10]):\n",
    "    name = 'canvas_{:03d}'.format(i)\n",
    "    print(name)\n",
    "    fr = frame.Frame(catalog, name=name, noise_std=4)\n",
    "    fr.render()\n",
    "    fr.extract()\n",
    "    fr.ksb()\n",
    "    frs.append(fr)\n",
    "    \n",
    "    shears.append(fr.sc.shears)\n",
    "    success.append(fr.sc.success)\n",
    "    shears_error.append(fr.sc.shears_error)\n",
    "    mags.append(fr.scat[\"MAG_AUTO\"])\n",
    "    "
   ]
  },
  {
   "cell_type": "code",
   "execution_count": 42,
   "metadata": {},
   "outputs": [],
   "source": [
    "_shears = np.concatenate(shears)\n",
    "_shears_error = np.concatenate(shears_error)\n",
    "_mags = np.concatenate(mags)\n",
    "_success = np.concatenate(success)"
   ]
  },
  {
   "cell_type": "code",
   "execution_count": 26,
   "metadata": {},
   "outputs": [
    {
     "data": {
      "text/plain": [
       "(92667, 2)"
      ]
     },
     "execution_count": 26,
     "metadata": {},
     "output_type": "execute_result"
    }
   ],
   "source": [
    "_shears.shape"
   ]
  },
  {
   "cell_type": "code",
   "execution_count": 27,
   "metadata": {},
   "outputs": [
    {
     "data": {
      "text/plain": [
       "(92667,)"
      ]
     },
     "execution_count": 27,
     "metadata": {},
     "output_type": "execute_result"
    }
   ],
   "source": [
    "_shears_error.shape"
   ]
  },
  {
   "cell_type": "code",
   "execution_count": 28,
   "metadata": {},
   "outputs": [
    {
     "data": {
      "text/plain": [
       "(92667,)"
      ]
     },
     "execution_count": 28,
     "metadata": {},
     "output_type": "execute_result"
    }
   ],
   "source": [
    "_mags.shape"
   ]
  },
  {
   "cell_type": "code",
   "execution_count": 29,
   "metadata": {},
   "outputs": [
    {
     "data": {
      "text/plain": [
       "(92667,)"
      ]
     },
     "execution_count": 29,
     "metadata": {},
     "output_type": "execute_result"
    }
   ],
   "source": [
    "_success.shape"
   ]
  },
  {
   "cell_type": "code",
   "execution_count": 30,
   "metadata": {},
   "outputs": [
    {
     "data": {
      "text/plain": [
       "(92667,)"
      ]
     },
     "execution_count": 30,
     "metadata": {},
     "output_type": "execute_result"
    }
   ],
   "source": [
    "_mags.shape"
   ]
  },
  {
   "cell_type": "code",
   "execution_count": 43,
   "metadata": {},
   "outputs": [
    {
     "data": {
      "text/plain": [
       "array([21.92354 , 20.60128 , 23.664474, ..., 24.469463, 24.014368,\n",
       "       24.350918], dtype=float32)"
      ]
     },
     "execution_count": 43,
     "metadata": {},
     "output_type": "execute_result"
    }
   ],
   "source": [
    "_mags[_success]"
   ]
  },
  {
   "cell_type": "code",
   "execution_count": 76,
   "metadata": {},
   "outputs": [
    {
     "data": {
      "text/plain": [
       "array([0.051892708986997604, 0.01374006737023592, 0.23508350551128387,\n",
       "       ..., None, 0.22236506640911102, 4.413488388061523], dtype=object)"
      ]
     },
     "execution_count": 76,
     "metadata": {},
     "output_type": "execute_result"
    }
   ],
   "source": [
    "all_shears_error"
   ]
  },
  {
   "cell_type": "code",
   "execution_count": 77,
   "metadata": {},
   "outputs": [],
   "source": []
  },
  {
   "cell_type": "code",
   "execution_count": 101,
   "metadata": {},
   "outputs": [],
   "source": [
    "ii1 = (all_mags[all_success] > 20) & (all_mags[all_success] < 22.5)\n",
    "ii2 = all_shears_error[all_success] < 0.1\n",
    "ii = ii1 * ii2\n",
    "\n",
    "# all_shears[ii][all_success[ii]][ii2].mean(axis=0)"
   ]
  },
  {
   "cell_type": "code",
   "execution_count": 50,
   "metadata": {},
   "outputs": [
    {
     "data": {
      "image/png": "[encoded data removed]",
      "text/plain": [
       "<Figure size 432x288 with 1 Axes>"
      ]
     },
     "metadata": {
      "needs_background": "light"
     },
     "output_type": "display_data"
    }
   ],
   "source": [
    "maglims = ((18, 20), (20, 22), (22, 24))\n",
    "all_shears = np.concatenate(shears)\n",
    "all_shears_error = np.concatenate(shears_error)\n",
    "all_mags = np.concatenate(mags)\n",
    "all_success = np.concatenate(success)\n",
    "fig = plt.figure()\n",
    "ax = fig.add_subplot(111)\n",
    "\n",
    "xvals = (19, 21, 23)\n",
    "yvals1 = []\n",
    "yvals2 = []\n",
    "errs1 = []\n",
    "errs2 = []\n",
    "for lims in maglims:\n",
    "\n",
    "    ii = all_shears_error[all_success] < 0.1\n",
    "    _mags = all_mags[all_success][ii]\n",
    "\n",
    "    ii2 = (_mags > lims[0]) & (_mags < lims[1])\n",
    "    \n",
    "    yvals1.append(all_shears[all_success][ii][ii2].mean(axis=0)[0])\n",
    "    yvals2.append(all_shears[all_success][ii][ii2].mean(axis=0)[1])\n",
    "    errs1.append(all_shears[all_success][ii][ii2].std(axis=0)[0])\n",
    "    errs2.append(all_shears[all_success][ii][ii2].std(axis=0)[1])\n",
    "\n",
    "    \n",
    "ax.errorbar(xvals, yvals1, errs1, marker=\"o\", capsize=4)\n",
    "ax.errorbar(xvals, yvals2, errs2, marker=\"o\", capsize=4)\n",
    "                            \n",
    "ax.axhline(0.3, ls=\"--\", color=\"gray\") \n",
    "ax.axhline(-0.2, ls=\"--\", color=\"gray\") \n",
    "ax.set_xlabel(\"MAG\")\n",
    "ax.set_ylabel(\"E\")\n",
    "ax.set_ylim(-0.5, 0.5)\n",
    "fig.savefig(\"All_shear_mag_fig.png\", dpi=300)\n",
    "    "
   ]
  },
  {
   "cell_type": "code",
   "execution_count": null,
   "metadata": {},
   "outputs": [],
   "source": []
  }
 ],
 "metadata": {
  "kernelspec": {
   "display_name": "Python 3",
   "language": "python",
   "name": "python3"
  },
  "language_info": {
   "codemirror_mode": {
    "name": "ipython",
    "version": 3
   },
   "file_extension": ".py",
   "mimetype": "text/x-python",
   "name": "python",
   "nbconvert_exporter": "python",
   "pygments_lexer": "ipython3",
   "version": "3.7.4"
  },
  "toc": {
   "base_numbering": 1,
   "nav_menu": {},
   "number_sections": true,
   "sideBar": true,
   "skip_h1_title": false,
   "title_cell": "Table of Contents",
   "title_sidebar": "Contents",
   "toc_cell": false,
   "toc_position": {},
   "toc_section_display": true,
   "toc_window_display": false
  },
  "widgets": {
   "state": {},
   "version": "1.0.0"
  }
 },
 "nbformat": 4,
 "nbformat_minor": 2
}
