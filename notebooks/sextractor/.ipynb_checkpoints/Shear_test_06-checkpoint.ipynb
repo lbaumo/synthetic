{
 "cells": [
  {
   "cell_type": "code",
   "execution_count": 1,
   "metadata": {},
   "outputs": [],
   "source": [
    "import numpy as np\n",
    "import pandas as pd\n",
    "\n",
    "import sklearn.neighbors as neighbors\n",
    "\n",
    "from importlib import reload\n",
    "import copy\n",
    "import synthetic.render.generator as gen\n",
    "\n",
    "import matplotlib.pyplot as plt\n",
    "import matplotlib as mpl\n",
    "%matplotlib inline\n",
    "\n",
    "import multiprocessing as mp\n",
    "\n",
    "import sys\n",
    "import os\n",
    "import math\n",
    "import logging\n",
    "import time\n",
    "import galsim\n",
    "import fitsio as fio\n",
    "\n",
    "import ngmix\n",
    "\n",
    "import synthetic.render.render as render\n",
    "import synthetic.render.icl as icl\n",
    "import synthetic.render.frame as frame\n",
    "\n",
    "import images\n",
    "import subprocess"
   ]
  },
  {
   "cell_type": "code",
   "execution_count": 2,
   "metadata": {},
   "outputs": [],
   "source": [
    "catalogs = []\n",
    "catalog_tag = '/e/ocean1/users/vargatn/DES/SIM_DATA/SKY_MODEL_EPSILON/res_clust_v2_z0l0/epsilon_clust_v8-z0l0_15000_{:03d}.fits'\n",
    "for i in np.arange(100):\n",
    "    fname = catalog_tag.format(i)\n",
    "    data = fio.read(fname)\n",
    "    catalog_cluster = data[data['LOC'] == 1]\n",
    "    catalog_field = data[data['LOC'] == 0]\n",
    "    catalog = np.hstack((catalog_cluster, catalog_field))\n",
    "    catalog['G1'] = 0.3\n",
    "    catalog['G2'] = -0.2\n",
    "    catalogs.append(catalog)"
   ]
  },
  {
   "cell_type": "code",
   "execution_count": null,
   "metadata": {},
   "outputs": [
    {
     "name": "stdout",
     "output_type": "stream",
     "text": [
      "canvas_000\n",
      "starting xshear calculations in 100 processes\n"
     ]
    }
   ],
   "source": [
    "frs = []\n",
    "shears = []\n",
    "success = []\n",
    "shears_error = []\n",
    "mags = []\n",
    "for i, catalog in enumerate(catalogs[:10]):\n",
    "    name = 'canvas_{:03d}'.format(i)\n",
    "    print(name)\n",
    "    fr = frame.Frame(catalog, name=name, noise_std=4)\n",
    "    fr.render()\n",
    "    fr.extract()\n",
    "    fr.ksb()\n",
    "    frs.append(fr)\n",
    "    \n",
    "    shears.append(fr.sc.shears)\n",
    "    success.append(fr.sc.success)\n",
    "    shears_error.append(fr.sc.shears_error)\n",
    "    mags.append(fr.scat[\"MAG_AUTO\"])\n",
    "    "
   ]
  },
  {
   "cell_type": "code",
   "execution_count": null,
   "metadata": {},
   "outputs": [],
   "source": [
    "# "
   ]
  }
 ],
 "metadata": {
  "kernelspec": {
   "display_name": "Python 3",
   "language": "python",
   "name": "python3"
  },
  "language_info": {
   "codemirror_mode": {
    "name": "ipython",
    "version": 3
   },
   "file_extension": ".py",
   "mimetype": "text/x-python",
   "name": "python",
   "nbconvert_exporter": "python",
   "pygments_lexer": "ipython3",
   "version": "3.7.4"
  },
  "toc": {
   "base_numbering": 1,
   "nav_menu": {},
   "number_sections": true,
   "sideBar": true,
   "skip_h1_title": false,
   "title_cell": "Table of Contents",
   "title_sidebar": "Contents",
   "toc_cell": false,
   "toc_position": {},
   "toc_section_display": true,
   "toc_window_display": false
  },
  "widgets": {
   "state": {},
   "version": "1.0.0"
  }
 },
 "nbformat": 4,
 "nbformat_minor": 2
}
