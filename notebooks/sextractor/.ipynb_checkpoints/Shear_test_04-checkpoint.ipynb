{
 "cells": [
  {
   "cell_type": "code",
   "execution_count": 8,
   "metadata": {},
   "outputs": [],
   "source": [
    "import numpy as np\n",
    "import pandas as pd\n",
    "\n",
    "import sklearn.neighbors as neighbors\n",
    "\n",
    "from importlib import reload\n",
    "import copy\n",
    "import synthetic.render.generator as gen\n",
    "\n",
    "import matplotlib.pyplot as plt\n",
    "import matplotlib as mpl\n",
    "%matplotlib inline\n",
    "\n",
    "import multiprocessing as mp\n",
    "\n",
    "import sys\n",
    "import os\n",
    "import math\n",
    "import logging\n",
    "import time\n",
    "import galsim\n",
    "import fitsio as fio\n",
    "\n",
    "import ngmix\n",
    "\n",
    "import synthetic.render.render as render\n",
    "import synthetic.render.icl as icl\n",
    "import images\n",
    "import subprocess"
   ]
  },
  {
   "cell_type": "code",
   "execution_count": 2,
   "metadata": {},
   "outputs": [],
   "source": [
    "catalog_path = '/e/ocean1/users/vargatn/DES/SIM_DATA/SKY_MODEL_EPSILON/res_clust_v2_z0l0/epsilon_clust_v8-z0l0_15000_000.fits'\n",
    "data = fio.read(catalog_path)\n",
    "catalog_cluster = data[data['LOC'] == 1]\n",
    "catalog_field = data[data['LOC'] == 0]"
   ]
  },
  {
   "cell_type": "code",
   "execution_count": 4,
   "metadata": {},
   "outputs": [],
   "source": [
    "catalog = np.hstack((catalog_cluster, catalog_field))\n",
    "catalog = np.hstack((catalog_cluster, catalog_field))\n",
    "catalog['G1'] = 0.3\n",
    "catalog['G2'] = -0.2"
   ]
  },
  {
   "cell_type": "code",
   "execution_count": 129,
   "metadata": {},
   "outputs": [],
   "source": [
    "class Shear(object):\n",
    "    def __init__(self, canvas, image_epsf, maskmap):\n",
    "        self.canvas = canvas.copy()\n",
    "        self.image_epsf = image_epsf\n",
    "        self.BADVAL = -9999\n",
    "        self.maskmap = galsim.ImageI(maskmap).copy()\n",
    "        \n",
    "    def extract_stamps(self, centers, imasks, sizes):\n",
    "                \n",
    "        self.stamps = []\n",
    "        self.masks = []\n",
    "        for i in np.arange(len(centers)):\n",
    "            half_size = sizes[i] // 2 + 2\n",
    "            cen = centers[i]\n",
    "            bb = galsim.bounds.BoundsI(np.round(cen[0]) - half_size,\n",
    "                                       np.round(cen[0]) + half_size - 1,\n",
    "                                       np.round(cen[1]) - half_size,\n",
    "                                       np.round(cen[1]) + half_size - 1)\n",
    "#             print(bb, half_size)\n",
    "            stamp = self.canvas[bb].array.copy()\n",
    "            mask = self.maskmap[bb].array.copy()\n",
    "#             mm = (mask.array != imasks[i]) & (mask.array != 0)\n",
    "            mm = (mask != imasks[i]) & (mask != 0)\n",
    "            muniques = np.unique(mask)\n",
    "#             print(np.unique(mask), imasks[i], bb)\n",
    "            stamp[mm] = 0\n",
    "            mask[mm] = 0\n",
    "#             \n",
    "            self.masks.append(self.maskmap[bb].array.copy())\n",
    "            self.stamps.append(galsim.ImageF(stamp))\n",
    "\n",
    "\n",
    "    def estimate_shear(self, sky_var=0, shear_est=\"KSB\", which=\"canvas\"):\n",
    "        \"\"\"\n",
    "        shear modes = REGAUSS’, ‘LINEAR’, ‘BJ’, or ‘KSB’\n",
    "        which is raw or canvas, default to canvas\n",
    "        \"\"\"\n",
    "        \n",
    "#         stamps = self.raw_stamps\n",
    "        if which == \"canvas\":\n",
    "            stamps = self.stamps\n",
    "        \n",
    "        self.logs = []\n",
    "        self.shears = []\n",
    "        self.success = []\n",
    "        self.fluxes = []\n",
    "        self.shears_error = []\n",
    "        for i, im in enumerate(stamps):\n",
    "            try:\n",
    "                res = galsim.hsm.EstimateShear(im, self.image_epsf, shear_est=shear_est, sky_var=sky_var)\n",
    "                self.logs.append(res)\n",
    "                self.success.append(True)\n",
    "\n",
    "                tmp = np.array([res.corrected_g1, res.corrected_g2])\n",
    "                \n",
    "                self.shears.append(tmp)\n",
    "                self.fluxes.append(res.moments_amp * (0.27)**2)\n",
    "                self.shears_error.append(res.corrected_shape_err)\n",
    "#                 print(\"here\")\n",
    "            except:\n",
    "                self.success.append(False)\n",
    "                self.logs.append(None)\n",
    "                self.fluxes.append(None)\n",
    "                tmp = np.array([self.BADVAL, self.BADVAL])\n",
    "                self.shears.append(tmp)\n",
    "                self.shears_error.append(None)\n",
    "                \n",
    "                \n",
    "               \n",
    "        self.fluxes = np.array(self.fluxes)\n",
    "        self.shears = np.array(self.shears)\n",
    "        self.success = np.array(self.success)\n",
    "        self.shears_error = np.array(self.shears_error)\n",
    "\n"
   ]
  },
  {
   "cell_type": "code",
   "execution_count": 136,
   "metadata": {},
   "outputs": [],
   "source": [
    "class Frame(object):\n",
    "    def __init__(self, catalog, name=\"canvas\", canvas_size=5000, band=\"i\", noise_std=8.36, config_se=\"config.sex\"):\n",
    "        self.catalog = catalog\n",
    "        self.canvas_size = canvas_size\n",
    "        self.band = band\n",
    "        self.noise_std = noise_std\n",
    "        self.name = name\n",
    "        self.config_se = config_se\n",
    "        \n",
    "    def render(self, nprocess=100):\n",
    "        self.df = render.DrawField(self.canvas_size, self.catalog, band=self.band)\n",
    "        self.df.prepare()\n",
    "        self.df.make_infodicts()\n",
    "        self.df.multi_render(nprocess)\n",
    "        self.df.collate_stamps()\n",
    "        self.canvas = self.df.canvas\n",
    "        \n",
    "        self.noise = np.random.normal(scale=self.noise_std, size=(self.canvas_size, self.canvas_size))\n",
    "        self.canvas += noise\n",
    "        \n",
    "        self.write()\n",
    "        \n",
    "    def write(self):\n",
    "        self.file_name = self.name + \".fits\"\n",
    "        fio.write(self.file_name, self.canvas.array, clobber=True)\n",
    "        self.file_name_psf = self.name + \"_epsf.fits\"\n",
    "        fio.write(self.file_name_psf, self.df.image_epsf.array, clobber=True)\n",
    "        \n",
    "    def extract(self):\n",
    "        \n",
    "        self.file_name = self.name + \".fits\"\n",
    "        self.catalog_name = self.name + \"_cat.fits\"\n",
    "        self.seg_name = self.name + \"_seg.fits\"\n",
    "        \n",
    "        cmd = \"sex \" + self.name + \".fits -c \" + self.config_se + \" -CATALOG_NAME \" + self.catalog_name + \" -CHECKIMAGE_NAME \" + self.seg_name\n",
    "        pp = subprocess.Popen(cmd.split(\" \"), stdout=subprocess.PIPE, stderr=subprocess.PIPE)\n",
    "        out, err = pp.communicate()        \n",
    "        \n",
    "        self.scat = fio.read(self.catalog_name)\n",
    "        self.seg = fio.read(self.seg_name)\n",
    "        \n",
    "        \n",
    "        \n",
    "    def ksb(self):\n",
    "        self.file_name = self.name + \".fits\"\n",
    "        self.catalog_name = self.name + \"_cat.fits\"\n",
    "        self.seg_name = self.name + \"_seg.fits\"\n",
    "        \n",
    "        self.scat = fio.read(self.catalog_name)\n",
    "        self.seg = fio.read(self.seg_name)\n",
    "        self.file_name_psf = self.name + \"_epsf.fits\"\n",
    "        self.epsf = fio.read(self.file_name_psf)\n",
    "        \n",
    "        canvas = fio.read(self.file_name)\n",
    "        self.canvas = galsim.ImageF(canvas)\n",
    "                \n",
    "        ids = self.scat['NUMBER']\n",
    "        cens = np.vstack((self.scat['X_IMAGE'], self.scat['Y_IMAGE'])).T\n",
    "        sizes = np.around(self.scat[\"FWHM_IMAGE\"] * 3)\n",
    "        self.sc = Shear(self.canvas, self.epsf, self.seg)\n",
    "        self.sc.extract_stamps(cens, imasks=ids, sizes=sizes)\n",
    "        self.sc.estimate_shear(sky_var=self.noise_std**2)\n",
    "        \n",
    "    "
   ]
  },
  {
   "cell_type": "code",
   "execution_count": 137,
   "metadata": {},
   "outputs": [],
   "source": [
    "frame = Frame(catalog)"
   ]
  },
  {
   "cell_type": "code",
   "execution_count": 138,
   "metadata": {},
   "outputs": [],
   "source": [
    "frame.ksb()"
   ]
  },
  {
   "cell_type": "code",
   "execution_count": 113,
   "metadata": {},
   "outputs": [
    {
     "ename": "AttributeError",
     "evalue": "'Shear' object has no attribute 'stamps'",
     "output_type": "error",
     "traceback": [
      "\u001b[0;31m---------------------------------------------------------------------------\u001b[0m",
      "\u001b[0;31mAttributeError\u001b[0m                            Traceback (most recent call last)",
      "\u001b[0;32m<ipython-input-113-cac911d9776f>\u001b[0m in \u001b[0;36m<module>\u001b[0;34m\u001b[0m\n\u001b[0;32m----> 1\u001b[0;31m \u001b[0mframe\u001b[0m\u001b[0;34m.\u001b[0m\u001b[0msc\u001b[0m\u001b[0;34m.\u001b[0m\u001b[0mstamps\u001b[0m\u001b[0;34m\u001b[0m\u001b[0;34m\u001b[0m\u001b[0m\n\u001b[0m",
      "\u001b[0;31mAttributeError\u001b[0m: 'Shear' object has no attribute 'stamps'"
     ]
    }
   ],
   "source": [
    "frame.sc.stamp"
   ]
  },
  {
   "cell_type": "code",
   "execution_count": 73,
   "metadata": {},
   "outputs": [
    {
     "name": "stdout",
     "output_type": "stream",
     "text": [
      "starting xshear calculations in 100 processes\n"
     ]
    }
   ],
   "source": [
    "frame.render()"
   ]
  },
  {
   "cell_type": "code",
   "execution_count": 63,
   "metadata": {},
   "outputs": [],
   "source": [
    "frame.extract()"
   ]
  },
  {
   "cell_type": "code",
   "execution_count": 20,
   "metadata": {},
   "outputs": [
    {
     "name": "stdout",
     "output_type": "stream",
     "text": [
      "starting xshear calculations in 100 processes\n"
     ]
    }
   ],
   "source": []
  },
  {
   "cell_type": "code",
   "execution_count": 5,
   "metadata": {},
   "outputs": [
    {
     "name": "stdout",
     "output_type": "stream",
     "text": [
      "starting xshear calculations in 100 processes\n"
     ]
    }
   ],
   "source": [
    "df = render.DrawField(5000, catalog, band=\"i\")\n",
    "df.prepare()\n",
    "df.make_infodicts()\n",
    "df.multi_render(100)\n",
    "df.collate_stamps()"
   ]
  },
  {
   "cell_type": "code",
   "execution_count": 6,
   "metadata": {},
   "outputs": [],
   "source": [
    "noise_std = 8.36335 \n",
    "noise = np.random.normal(scale=noise_std, size=(5000, 5000))"
   ]
  },
  {
   "cell_type": "code",
   "execution_count": 7,
   "metadata": {},
   "outputs": [],
   "source": [
    "arr = df.canvas.array + noise\n",
    "#arr = arr[2100:2900, 2100:2900]\n",
    "fio.write(\"test.fits\", arr, clobber=True)"
   ]
  },
  {
   "cell_type": "code",
   "execution_count": null,
   "metadata": {},
   "outputs": [],
   "source": []
  }
 ],
 "metadata": {
  "kernelspec": {
   "display_name": "Python 3",
   "language": "python",
   "name": "python3"
  },
  "language_info": {
   "codemirror_mode": {
    "name": "ipython",
    "version": 3
   },
   "file_extension": ".py",
   "mimetype": "text/x-python",
   "name": "python",
   "nbconvert_exporter": "python",
   "pygments_lexer": "ipython3",
   "version": "3.7.4"
  },
  "toc": {
   "base_numbering": 1,
   "nav_menu": {},
   "number_sections": true,
   "sideBar": true,
   "skip_h1_title": false,
   "title_cell": "Table of Contents",
   "title_sidebar": "Contents",
   "toc_cell": false,
   "toc_position": {},
   "toc_section_display": true,
   "toc_window_display": false
  },
  "widgets": {
   "state": {},
   "version": "1.0.0"
  }
 },
 "nbformat": 4,
 "nbformat_minor": 2
}
