{
 "cells": [
  {
   "cell_type": "code",
   "execution_count": 8,
   "metadata": {},
   "outputs": [],
   "source": [
    "import numpy as np\n",
    "import pandas as pd\n",
    "\n",
    "import sklearn.neighbors as neighbors\n",
    "\n",
    "from importlib import reload\n",
    "import copy\n",
    "import synthetic.render.generator as gen\n",
    "\n",
    "import matplotlib.pyplot as plt\n",
    "import matplotlib as mpl\n",
    "%matplotlib inline\n",
    "\n",
    "import multiprocessing as mp\n",
    "\n",
    "import sys\n",
    "import os\n",
    "import math\n",
    "import logging\n",
    "import time\n",
    "import galsim\n",
    "import fitsio as fio\n",
    "\n",
    "import ngmix\n",
    "\n",
    "import synthetic.render.render as render\n",
    "import synthetic.render.icl as icl\n",
    "import images\n",
    "import subprocess"
   ]
  },
  {
   "cell_type": "code",
   "execution_count": 2,
   "metadata": {},
   "outputs": [],
   "source": [
    "catalog_path = '/e/ocean1/users/vargatn/DES/SIM_DATA/SKY_MODEL_EPSILON/res_clust_v2_z0l0/epsilon_clust_v8-z0l0_15000_000.fits'\n",
    "data = fio.read(catalog_path)\n",
    "catalog_cluster = data[data['LOC'] == 1]\n",
    "catalog_field = data[data['LOC'] == 0]"
   ]
  },
  {
   "cell_type": "code",
   "execution_count": 4,
   "metadata": {},
   "outputs": [],
   "source": [
    "catalog = np.hstack((catalog_cluster, catalog_field))\n",
    "catalog = np.hstack((catalog_cluster, catalog_field))\n",
    "catalog['G1'] = 0.3\n",
    "catalog['G2'] = -0.2"
   ]
  },
  {
   "cell_type": "code",
   "execution_count": 10,
   "metadata": {},
   "outputs": [
    {
     "ename": "SyntaxError",
     "evalue": "invalid syntax (<ipython-input-10-5c3a38849f84>, line 19)",
     "output_type": "error",
     "traceback": [
      "\u001b[0;36m  File \u001b[0;32m\"<ipython-input-10-5c3a38849f84>\"\u001b[0;36m, line \u001b[0;32m19\u001b[0m\n\u001b[0;31m    def\u001b[0m\n\u001b[0m        ^\u001b[0m\n\u001b[0;31mSyntaxError\u001b[0m\u001b[0;31m:\u001b[0m invalid syntax\n"
     ]
    }
   ],
   "source": [
    "class Frame(object):\n",
    "    def __init__(self, catalog, name=\"canvas\", canvas_size=5000, band=\"i\", noise_std=8.36):\n",
    "        self.catalog = catalog\n",
    "        self.canvas_size = canvas_size\n",
    "        self.band = band\n",
    "        self.noise_std = noise_std\n",
    "        self.name = name\n",
    "        \n",
    "    def render(self, nprocess=100):\n",
    "        self.df = render.DrawField(self.canvas_size, self.catalog, band=self.band)\n",
    "        self.df.prepare()\n",
    "        self.df.make_infodicts()\n",
    "        self.df.multi_render(nprocess)\n",
    "        self.df.collate_stamps()\n",
    "        self.canvas = self.df.canvas\n",
    "        \n",
    "        self.noise = np.random.normal(scale=self.noise_std, size=(self.canvas_size, self.canvas_size))\n",
    "        self.canvas.array += noise\n",
    "        \n",
    "        self.write()\n",
    "        \n",
    "    def write(self):\n",
    "        fio.write(self.name + \".fits\", self.canvas.array, clobber=True)\n",
    "        \n",
    "    def extract(self):\n",
    "        \n",
    "        \n",
    "        \n",
    "    "
   ]
  },
  {
   "cell_type": "code",
   "execution_count": null,
   "metadata": {},
   "outputs": [],
   "source": []
  },
  {
   "cell_type": "code",
   "execution_count": 5,
   "metadata": {},
   "outputs": [
    {
     "name": "stdout",
     "output_type": "stream",
     "text": [
      "starting xshear calculations in 100 processes\n"
     ]
    }
   ],
   "source": [
    "df = render.DrawField(5000, catalog, band=\"i\")\n",
    "df.prepare()\n",
    "df.make_infodicts()\n",
    "df.multi_render(100)\n",
    "df.collate_stamps()"
   ]
  },
  {
   "cell_type": "code",
   "execution_count": 6,
   "metadata": {},
   "outputs": [],
   "source": [
    "noise_std = 8.36335 \n",
    "noise = np.random.normal(scale=noise_std, size=(5000, 5000))"
   ]
  },
  {
   "cell_type": "code",
   "execution_count": 7,
   "metadata": {},
   "outputs": [],
   "source": [
    "arr = df.canvas.array + noise\n",
    "#arr = arr[2100:2900, 2100:2900]\n",
    "fio.write(\"test.fits\", arr, clobber=True)"
   ]
  },
  {
   "cell_type": "code",
   "execution_count": null,
   "metadata": {},
   "outputs": [],
   "source": []
  }
 ],
 "metadata": {
  "kernelspec": {
   "display_name": "Python 3",
   "language": "python",
   "name": "python3"
  },
  "language_info": {
   "codemirror_mode": {
    "name": "ipython",
    "version": 3
   },
   "file_extension": ".py",
   "mimetype": "text/x-python",
   "name": "python",
   "nbconvert_exporter": "python",
   "pygments_lexer": "ipython3",
   "version": "3.7.4"
  },
  "toc": {
   "base_numbering": 1,
   "nav_menu": {},
   "number_sections": true,
   "sideBar": true,
   "skip_h1_title": false,
   "title_cell": "Table of Contents",
   "title_sidebar": "Contents",
   "toc_cell": false,
   "toc_position": {},
   "toc_section_display": true,
   "toc_window_display": false
  },
  "widgets": {
   "state": {},
   "version": "1.0.0"
  }
 },
 "nbformat": 4,
 "nbformat_minor": 2
}
