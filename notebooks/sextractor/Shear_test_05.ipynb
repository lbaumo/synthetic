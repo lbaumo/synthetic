{
 "cells": [
  {
   "cell_type": "code",
   "execution_count": 1,
   "metadata": {},
   "outputs": [],
   "source": [
    "import numpy as np\n",
    "import pandas as pd\n",
    "\n",
    "import sklearn.neighbors as neighbors\n",
    "\n",
    "from importlib import reload\n",
    "import copy\n",
    "import synthetic.render.generator as gen\n",
    "\n",
    "import matplotlib.pyplot as plt\n",
    "import matplotlib as mpl\n",
    "%matplotlib inline\n",
    "\n",
    "import multiprocessing as mp\n",
    "\n",
    "import sys\n",
    "import os\n",
    "import math\n",
    "import logging\n",
    "import time\n",
    "import galsim\n",
    "import fitsio as fio\n",
    "\n",
    "import ngmix\n",
    "\n",
    "import synthetic.render.render as render\n",
    "import synthetic.render.icl as icl\n",
    "import synthetic.render.frame as frame\n",
    "\n",
    "import images\n",
    "import subprocess"
   ]
  },
  {
   "cell_type": "code",
   "execution_count": 2,
   "metadata": {},
   "outputs": [],
   "source": [
    "catalogs = []\n",
    "catalog_tag = '/e/ocean1/users/vargatn/DES/SIM_DATA/SKY_MODEL_EPSILON/res_clust_v2_z0l0/epsilon_clust_v8-z0l0_15000_{:03d}.fits'\n",
    "for i in np.arange(100):\n",
    "    fname = catalog_tag.format(i)\n",
    "    data = fio.read(fname)\n",
    "    catalog_cluster = data[data['LOC'] == 1]\n",
    "    catalog_field = data[data['LOC'] == 0]\n",
    "    catalog = np.hstack((catalog_cluster, catalog_field))\n",
    "    catalog['G1'] = 0.3\n",
    "    catalog['G2'] = -0.2\n",
    "    catalogs.append(catalog)"
   ]
  },
  {
   "cell_type": "code",
   "execution_count": 3,
   "metadata": {},
   "outputs": [],
   "source": [
    "catalog = catalogs[0]"
   ]
  },
  {
   "cell_type": "code",
   "execution_count": 4,
   "metadata": {},
   "outputs": [
    {
     "name": "stdout",
     "output_type": "stream",
     "text": [
      "starting xshear calculations in 100 processes\n"
     ]
    }
   ],
   "source": [
    "fr = frame.Frame(catalog, name='canvas_000', noise_std=2)\n",
    "fr.render()\n",
    "fr.extract()\n",
    "fr.ksb()"
   ]
  },
  {
   "cell_type": "code",
   "execution_count": 14,
   "metadata": {},
   "outputs": [
    {
     "data": {
      "text/plain": [
       "(10658,)"
      ]
     },
     "execution_count": 14,
     "metadata": {},
     "output_type": "execute_result"
    }
   ],
   "source": [
    "fr.ids.shape"
   ]
  },
  {
   "cell_type": "code",
   "execution_count": 27,
   "metadata": {},
   "outputs": [],
   "source": [
    "shears = fr.sc.shears\n",
    "success = fr.sc.success"
   ]
  },
  {
   "cell_type": "code",
   "execution_count": 89,
   "metadata": {},
   "outputs": [],
   "source": [
    "ii = fr.sc.shears_error[success] < 0.1"
   ]
  },
  {
   "cell_type": "code",
   "execution_count": 93,
   "metadata": {},
   "outputs": [],
   "source": []
  },
  {
   "cell_type": "code",
   "execution_count": 102,
   "metadata": {},
   "outputs": [
    {
     "data": {
      "text/plain": [
       "22.494581"
      ]
     },
     "execution_count": 102,
     "metadata": {},
     "output_type": "execute_result"
    }
   ],
   "source": [
    "mags[success][ii].mean(axis=0)"
   ]
  },
  {
   "cell_type": "code",
   "execution_count": 114,
   "metadata": {},
   "outputs": [
    {
     "data": {
      "image/png": "[encoded data removed]",
      "text/plain": [
       "<Figure size 432x288 with 1 Axes>"
      ]
     },
     "metadata": {
      "needs_background": "light"
     },
     "output_type": "display_data"
    }
   ],
   "source": [
    "maglims = ((18, 20), (20, 22), (22, 24))\n",
    "fig = plt.figure()\n",
    "ax = fig.add_subplot(111)\n",
    "\n",
    "xvals = (19, 21, 23)\n",
    "yvals1 = []\n",
    "yvals2 = []\n",
    "for lims in maglims:\n",
    "\n",
    "    ii = fr.sc.shears_error[success] < 0.1\n",
    "\n",
    "    mags = fr.scat[\"MAG_AUTO\"][success][ii]\n",
    "\n",
    "    ii2 = (mags > lims[0]) & (mags < lims[1])\n",
    "    \n",
    "    yvals1.append(shears[success][ii][ii2].mean(axis=0)[0])\n",
    "    yvals2.append(shears[success][ii][ii2].mean(axis=0)[1])\n",
    "\n",
    "    \n",
    "ax.plot(xvals, yvals1, marker=\"o\")\n",
    "ax.plot(xvals, yvals2, marker=\"o\")\n",
    "                            \n",
    "ax.axhline(0.3, ls=\"--\", color=\"gray\") \n",
    "ax.axhline(-0.2, ls=\"--\", color=\"gray\") \n",
    "ax.set_xlabel(\"MAG\")\n",
    "ax.set_ylabel(\"E\")\n",
    "fig.savefig(\"shear_mag_fig.png\", dpi=300)\n",
    "    "
   ]
  },
  {
   "cell_type": "code",
   "execution_count": 91,
   "metadata": {},
   "outputs": [
    {
     "data": {
      "text/plain": [
       "array([21.969212, 20.586552, 23.661215, ..., 24.459822, 23.738937,\n",
       "       23.839462], dtype=float32)"
      ]
     },
     "execution_count": 91,
     "metadata": {},
     "output_type": "execute_result"
    }
   ],
   "source": [
    "fr.scat[\"MAG_AUTO\"]"
   ]
  },
  {
   "cell_type": "code",
   "execution_count": 90,
   "metadata": {},
   "outputs": [
    {
     "data": {
      "text/plain": [
       "array([ 0.3211268 , -0.21491243])"
      ]
     },
     "execution_count": 90,
     "metadata": {},
     "output_type": "execute_result"
    }
   ],
   "source": [
    "shears[success][ii].mean(axis=0)"
   ]
  },
  {
   "cell_type": "code",
   "execution_count": 54,
   "metadata": {},
   "outputs": [
    {
     "data": {
      "text/plain": [
       "(array([1.0288e+04, 0.0000e+00, 0.0000e+00, 1.0000e+00, 0.0000e+00,\n",
       "        0.0000e+00, 0.0000e+00, 0.0000e+00, 0.0000e+00, 1.0000e+00]),\n",
       " array([0.0004920768551528454, 138.85984228323213, 277.7191924896091,\n",
       "        416.5785426959861, 555.437892902363, 694.2972431087401,\n",
       "        833.156593315117, 972.0159435214939, 1110.875293727871,\n",
       "        1249.734643934248, 1388.593994140625], dtype=object),\n",
       " <a list of 10 Patch objects>)"
      ]
     },
     "execution_count": 54,
     "metadata": {},
     "output_type": "execute_result"
    },
    {
     "data": {
      "image/png": "[encoded data removed]",
      "text/plain": [
       "<Figure size 432x288 with 1 Axes>"
      ]
     },
     "metadata": {
      "needs_background": "light"
     },
     "output_type": "display_data"
    }
   ],
   "source": [
    "plt.hist(fr.sc.shears_error[success])"
   ]
  },
  {
   "cell_type": "code",
   "execution_count": null,
   "metadata": {},
   "outputs": [],
   "source": []
  }
 ],
 "metadata": {
  "kernelspec": {
   "display_name": "Python 3",
   "language": "python",
   "name": "python3"
  },
  "language_info": {
   "codemirror_mode": {
    "name": "ipython",
    "version": 3
   },
   "file_extension": ".py",
   "mimetype": "text/x-python",
   "name": "python",
   "nbconvert_exporter": "python",
   "pygments_lexer": "ipython3",
   "version": "3.7.4"
  },
  "toc": {
   "base_numbering": 1,
   "nav_menu": {},
   "number_sections": true,
   "sideBar": true,
   "skip_h1_title": false,
   "title_cell": "Table of Contents",
   "title_sidebar": "Contents",
   "toc_cell": false,
   "toc_position": {},
   "toc_section_display": true,
   "toc_window_display": false
  },
  "widgets": {
   "state": {},
   "version": "1.0.0"
  }
 },
 "nbformat": 4,
 "nbformat_minor": 2
}
