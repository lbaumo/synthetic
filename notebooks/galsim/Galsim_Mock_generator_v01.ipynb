{
 "cells": [
  {
   "cell_type": "code",
   "execution_count": 47,
   "metadata": {},
   "outputs": [],
   "source": [
    "import numpy as np\n",
    "import pandas as pd\n",
    "\n",
    "from importlib import reload\n",
    "\n",
    "import synthetic.render.generator as gen\n",
    "\n",
    "import matplotlib.pyplot as plt\n",
    "%matplotlib inline\n",
    "\n",
    "import sys\n",
    "import os\n",
    "import math\n",
    "import logging\n",
    "import time\n",
    "import galsim\n",
    "import fitsio as fio\n",
    "\n",
    "import ngmix"
   ]
  },
  {
   "cell_type": "markdown",
   "metadata": {},
   "source": [
    "# reading example file"
   ]
  },
  {
   "cell_type": "code",
   "execution_count": 49,
   "metadata": {},
   "outputs": [],
   "source": [
    "catalog_path = '/e/ocean1/users/vargatn/DES/SIM_DATA/SKY_MODEL_EPSILON/res_clust_v2_z0l0/epsilon_clust_v8-z0l0_15000_000.fits'"
   ]
  },
  {
   "cell_type": "code",
   "execution_count": 51,
   "metadata": {},
   "outputs": [],
   "source": [
    "catalog = fio.read(catalog_path)"
   ]
  },
  {
   "cell_type": "markdown",
   "metadata": {},
   "source": [
    "# creating canvas"
   ]
  },
  {
   "cell_type": "code",
   "execution_count": 225,
   "metadata": {},
   "outputs": [],
   "source": [
    "xx = catalog['X'] - 2500.\n",
    "yy = catalog['Y'] - 2500.\n",
    "canvas_size = 5000."
   ]
  },
  {
   "cell_type": "code",
   "execution_count": 226,
   "metadata": {},
   "outputs": [],
   "source": [
    "pixel_scale = 0.263\n",
    "sky_level = 1.e6                # ADU / arcsec^2\n",
    "psf_fwhm = 0.9"
   ]
  },
  {
   "cell_type": "code",
   "execution_count": 227,
   "metadata": {},
   "outputs": [],
   "source": [
    "psf = galsim.Gaussian(fwhm=0.9)"
   ]
  },
  {
   "cell_type": "code",
   "execution_count": 228,
   "metadata": {},
   "outputs": [],
   "source": [
    "gal_image = galsim.ImageF(canvas_size, canvas_size, scale=pixel_scale)"
   ]
  },
  {
   "cell_type": "code",
   "execution_count": null,
   "metadata": {},
   "outputs": [],
   "source": [
    "for i in np.arange(100):\n",
    "    bdf_pars = np.zeros(7)\n",
    "    bdf_pars[2] = catalog[\"G1\"][i]\n",
    "    bdf_pars[3] = catalog[\"G2\"][i]\n",
    "    bdf_pars[4] = catalog[\"TSIZE\"][i]\n",
    "    bdf_pars[5] = catalog[\"FRACDEV\"][i]\n",
    "    bdf_pars[6] = catalog[\"FLUX_G\"][i]\n",
    "    galmaker = ngmix.gmix.GMixBDF(bdf_pars)\n",
    "    gs_profile = galmaker.make_galsim_object()\n",
    "    \n",
    "    stamp_size = final_gal.getGoodImageSize(0.264)\n",
    "    \n",
    "    x =\n",
    "    y = \n",
    "    \n",
    "    x_cen = np.floor(catalog['X'][i])\n",
    "    y_cen = np.floor(catalog['Y'][i])\n",
    "    \n",
    "    b = galsim.BoundsI(2500 - stamp_size / 2+1  , 2500 + stamp_size/ 2,\n",
    "                   2500 - stamp_size / 2 +1, 2500 + stamp_size / 2)\n",
    "    sub_gal_image = gal_image[b]\n",
    "    \n",
    "    "
   ]
  },
  {
   "cell_type": "code",
   "execution_count": 231,
   "metadata": {},
   "outputs": [],
   "source": [
    "b = galsim.BoundsI(2500 - stamp_size / 2+1  , 2500 + stamp_size/ 2,\n",
    "                   2500 - stamp_size / 2 +1, 2500 + stamp_size / 2)\n",
    "sub_gal_image = gal_image[b]\n",
    "# sub_psf_image = psf_image[b]"
   ]
  },
  {
   "cell_type": "code",
   "execution_count": 246,
   "metadata": {},
   "outputs": [],
   "source": [
    "bdf_pars = np.zeros(7)\n",
    "bdf_pars[2] = catalog[\"G1\"][i]\n",
    "bdf_pars[3] = catalog[\"G2\"][i]\n",
    "bdf_pars[4] = catalog[\"TSIZE\"][i]\n",
    "bdf_pars[5] = catalog[\"FRACDEV\"][i]\n",
    "bdf_pars[6] = catalog[\"FLUX_G\"][i]\n",
    "galmaker = ngmix.gmix.GMixBDF(bdf_pars)\n",
    "gs_profile = galmaker.make_galsim_object()"
   ]
  },
  {
   "cell_type": "code",
   "execution_count": 247,
   "metadata": {},
   "outputs": [],
   "source": [
    "final_gal = galsim.Convolve([psf, gs_profile])"
   ]
  },
  {
   "cell_type": "code",
   "execution_count": 258,
   "metadata": {},
   "outputs": [
    {
     "data": {
      "text/plain": [
       "332"
      ]
     },
     "execution_count": 258,
     "metadata": {},
     "output_type": "execute_result"
    }
   ],
   "source": [
    "final_gal.getGoodImageSize(0.264)"
   ]
  },
  {
   "cell_type": "code",
   "execution_count": 245,
   "metadata": {},
   "outputs": [
    {
     "data": {
      "text/plain": [
       "<matplotlib.lines.Line2D at 0x7f4bbb8f9710>"
      ]
     },
     "execution_count": 245,
     "metadata": {},
     "output_type": "execute_result"
    },
    {
     "data": {
      "image/png": "[encoded data removed]",
      "text/plain": [
       "<Figure size 432x288 with 1 Axes>"
      ]
     },
     "metadata": {
      "needs_background": "light"
     },
     "output_type": "display_data"
    }
   ],
   "source": [
    "final_gal.drawImage(sub_gal_image, offset=(0.5, 0.9))\n",
    "plt.imshow(sub_gal_image.array)\n",
    "plt.axvline(15.5, color='red')\n",
    "plt.axhline(15.5, color='red')"
   ]
  },
  {
   "cell_type": "code",
   "execution_count": 200,
   "metadata": {},
   "outputs": [
    {
     "data": {
      "text/plain": [
       "(10, 10)"
      ]
     },
     "execution_count": 200,
     "metadata": {},
     "output_type": "execute_result"
    }
   ],
   "source": [
    "sub_gal_image.array.shape"
   ]
  },
  {
   "cell_type": "code",
   "execution_count": 201,
   "metadata": {},
   "outputs": [
    {
     "data": {
      "text/plain": [
       "galsim.Image(bounds=galsim.BoundsI(xmin=2496, xmax=2505, ymin=2496, ymax=2505), array=\n",
       "array([[0.00095245, 0.00108771, 0.00121561, 0.00132504, 0.00140435,\n",
       "        0.00144383, 0.00143822, 0.00138832, 0.00130072, 0.00118585],\n",
       "       [0.00117489, 0.00135873, 0.0015365 , 0.00169165, 0.00180573,\n",
       "        0.00186259, 0.00185335, 0.00177957, 0.00165261, 0.00148974],\n",
       "       [0.0014325 , 0.00168072, 0.00192745, 0.00214841, 0.0023141 ,\n",
       "        0.00239709, 0.00238184, 0.00227143, 0.00208613, 0.0018549 ],\n",
       "       [0.00172004, 0.00205116, 0.0023915 , 0.0027065 , 0.00294914,\n",
       "        0.00307185, 0.00304655, 0.00287955, 0.00260787, 0.00228061],\n",
       "       [0.00202401, 0.00245661, 0.00291897, 0.00336461, 0.00371998,\n",
       "        0.00390245, 0.00386066, 0.00360746, 0.00321089, 0.00275346],\n",
       "       [0.00231977, 0.00286608, 0.00347492, 0.00408878, 0.00459804,\n",
       "        0.00486449, 0.00479756, 0.00442203, 0.00385788, 0.00323774],\n",
       "       [0.0025712 , 0.00322663, 0.00398542, 0.00478304, 0.00546929,\n",
       "        0.00583458, 0.00573552, 0.0052141 , 0.00446005, 0.00366733],\n",
       "       [0.00273678, 0.00346999, 0.00434069, 0.00528175, 0.00611073,\n",
       "        0.00655607, 0.00642761, 0.0057839 , 0.0048772 , 0.00395271],\n",
       "       [0.00278319, 0.00353713, 0.00443748, 0.00541617, 0.00628159,\n",
       "        0.006745  , 0.00660419, 0.00592396, 0.00497485, 0.00401578],\n",
       "       [0.00270032, 0.00341009, 0.00424405, 0.00513402, 0.00590713,\n",
       "        0.006314  , 0.00618421, 0.00557432, 0.00471631, 0.00383675]],\n",
       "      dtype=float32), wcs=galsim.PixelScale(0.263))"
      ]
     },
     "execution_count": 201,
     "metadata": {},
     "output_type": "execute_result"
    }
   ],
   "source": [
    "sub_gal_image"
   ]
  },
  {
   "cell_type": "code",
   "execution_count": 181,
   "metadata": {},
   "outputs": [
    {
     "data": {
      "text/plain": [
       "<matplotlib.lines.Line2D at 0x7f4bc83f2210>"
      ]
     },
     "execution_count": 181,
     "metadata": {},
     "output_type": "execute_result"
    },
    {
     "data": {
      "image/png": "[encoded data removed]",
      "text/plain": [
       "<Figure size 432x288 with 1 Axes>"
      ]
     },
     "metadata": {
      "needs_background": "light"
     },
     "output_type": "display_data"
    }
   ],
   "source": [
    "plt.imshow(sub_gal_image.array)\n",
    "plt.axvline(8, color='red')\n",
    "plt.axhline(8, color='red')"
   ]
  },
  {
   "cell_type": "code",
   "execution_count": 39,
   "metadata": {},
   "outputs": [],
   "source": [
    "# Great08 randomized the locations of the two galaxies in each pair,\n",
    "# but for simplicity, we just do them in sequential postage stamps.\n",
    "if first_in_pair:\n",
    "    # Use a random orientation:\n",
    "    beta = ud() * 2. * math.pi * galsim.radians\n",
    "\n",
    "    # Determine the ellipticity to use for this galaxy.\n",
    "    ellip = 1\n",
    "    while (ellip > gal_ellip_max):\n",
    "        # Don't do `ellip = math.fabs(gd())`\n",
    "        # Python basically implements this as a macro, so gd() is called twice!\n",
    "        val = gd()\n",
    "        ellip = math.fabs(val)\n",
    "\n",
    "    # Make a new copy of the galaxy with an applied e1/e2-type distortion\n",
    "    # by specifying the ellipticity and a real-space position angle\n",
    "    ellip_gal = gal.shear(e=ellip, beta=beta)\n",
    "\n",
    "    first_in_pair = False\n",
    "else:\n",
    "    # Use the previous ellip_gal profile and rotate it by 90 degrees\n",
    "    ellip_gal = ellip_gal.rotate(90 * galsim.degrees)\n",
    "\n",
    "    first_in_pair = True\n",
    "\n",
    "# Apply the gravitational reduced shear by specifying g1/g2\n",
    "this_gal = ellip_gal.shear(g1=gal_g1, g2=gal_g2)\n",
    "\n",
    "# Apply a random shift_radius:\n",
    "rsq = 2 * shift_radius_sq\n",
    "while (rsq > shift_radius_sq):\n",
    "    dx = (2*ud()-1) * shift_radius\n",
    "    dy = (2*ud()-1) * shift_radius\n",
    "    rsq = dx**2 + dy**2\n",
    "\n",
    "this_gal = this_gal.shift(dx,dy)\n",
    "# Note that the shifted psf that we create here is purely for the purpose of being able\n",
    "# to draw a separate, shifted psf image.  We do not use it when convolving the galaxy\n",
    "# with the psf.\n",
    "this_psf = psf.shift(dx,dy)\n",
    "\n",
    "# Make the final image, convolving with the (unshifted) psf\n",
    "final_gal = galsim.Convolve([psf,this_gal])"
   ]
  },
  {
   "cell_type": "code",
   "execution_count": 40,
   "metadata": {},
   "outputs": [
    {
     "data": {
      "text/plain": [
       "galsim.Image(bounds=galsim.BoundsI(xmin=1, xmax=39, ymin=1, ymax=39), array=\n",
       "array([[ 1.00195345e-10,  1.71156103e-10,  1.00161067e-10, ...,\n",
       "        -2.04529067e-11, -8.08988154e-11, -1.02329242e-10],\n",
       "       [ 1.92849445e-10,  1.00885619e-10,  1.43582049e-10, ...,\n",
       "        -3.19688408e-11,  1.36285653e-11, -8.72344974e-11],\n",
       "       [ 1.21451793e-10,  1.39772693e-10,  1.46380810e-10, ...,\n",
       "         7.09298037e-11, -2.51849496e-11,  4.40228375e-11],\n",
       "       ...,\n",
       "       [ 5.71905578e-11,  6.17704637e-11,  1.97868347e-10, ...,\n",
       "         9.65802091e-11,  4.54265479e-11,  1.30952083e-10],\n",
       "       [ 4.47197626e-11,  5.74499684e-11,  1.61467107e-11, ...,\n",
       "         4.68863524e-11,  1.41139683e-10,  1.05344060e-10],\n",
       "       [-6.60015306e-11, -6.20980264e-13,  5.69631807e-11, ...,\n",
       "         1.48905069e-10,  8.73418768e-11,  1.23303853e-10]], dtype=float32), wcs=galsim.PixelScale(1.0))"
      ]
     },
     "execution_count": 40,
     "metadata": {},
     "output_type": "execute_result"
    }
   ],
   "source": [
    "final_gal.drawImage(sub_gal_image)\n"
   ]
  },
  {
   "cell_type": "code",
   "execution_count": 41,
   "metadata": {},
   "outputs": [
    {
     "data": {
      "text/plain": [
       "<matplotlib.image.AxesImage at 0x7f527df83750>"
      ]
     },
     "execution_count": 41,
     "metadata": {},
     "output_type": "execute_result"
    },
    {
     "data": {
      "image/png": "[encoded data removed]",
      "text/plain": [
       "<Figure size 432x288 with 1 Axes>"
      ]
     },
     "metadata": {
      "needs_background": "light"
     },
     "output_type": "display_data"
    }
   ],
   "source": [
    "plt.imshow(sub_gal_image.array)"
   ]
  },
  {
   "cell_type": "code",
   "execution_count": null,
   "metadata": {},
   "outputs": [],
   "source": []
  },
  {
   "cell_type": "code",
   "execution_count": 11,
   "metadata": {},
   "outputs": [
    {
     "data": {
      "text/plain": [
       "<module 'synthetic.render.generator' from '/home/moon/vargatn/DES/SYNTHETIC/synthetic/synthetic/render/generator.py'>"
      ]
     },
     "execution_count": 11,
     "metadata": {},
     "output_type": "execute_result"
    }
   ],
   "source": [
    "reload(gen)"
   ]
  },
  {
   "cell_type": "code",
   "execution_count": 12,
   "metadata": {},
   "outputs": [],
   "source": [
    "ms = gen.MockupSurvey()"
   ]
  },
  {
   "cell_type": "code",
   "execution_count": 13,
   "metadata": {},
   "outputs": [],
   "source": [
    "ms.draw()"
   ]
  },
  {
   "cell_type": "code",
   "execution_count": 43,
   "metadata": {},
   "outputs": [],
   "source": [
    "import ngmix"
   ]
  },
  {
   "cell_type": "code",
   "execution_count": 46,
   "metadata": {},
   "outputs": [
    {
     "ename": "AssertionError",
     "evalue": "send pars=",
     "output_type": "error",
     "traceback": [
      "\u001b[0;31m---------------------------------------------------------------------------\u001b[0m",
      "\u001b[0;31mAssertionError\u001b[0m                            Traceback (most recent call last)",
      "\u001b[0;32m<ipython-input-46-fa5fadcd7f0c>\u001b[0m in \u001b[0;36m<module>\u001b[0;34m\u001b[0m\n\u001b[0;32m----> 1\u001b[0;31m \u001b[0mngmix\u001b[0m\u001b[0;34m.\u001b[0m\u001b[0mgmix\u001b[0m\u001b[0;34m.\u001b[0m\u001b[0mGMixBDF\u001b[0m\u001b[0;34m(\u001b[0m\u001b[0;32mNone\u001b[0m\u001b[0;34m)\u001b[0m\u001b[0;34m\u001b[0m\u001b[0;34m\u001b[0m\u001b[0m\n\u001b[0m",
      "\u001b[0;32m~/anaconda3/envs/galsim/lib/python3.7/site-packages/ngmix/gmix.py\u001b[0m in \u001b[0;36m__init__\u001b[0;34m(self, pars, TdByTe)\u001b[0m\n\u001b[1;32m    951\u001b[0m     \"\"\"\n\u001b[1;32m    952\u001b[0m     \u001b[0;32mdef\u001b[0m \u001b[0m__init__\u001b[0m\u001b[0;34m(\u001b[0m\u001b[0mself\u001b[0m\u001b[0;34m,\u001b[0m \u001b[0mpars\u001b[0m\u001b[0;34m=\u001b[0m\u001b[0;32mNone\u001b[0m\u001b[0;34m,\u001b[0m \u001b[0mTdByTe\u001b[0m\u001b[0;34m=\u001b[0m\u001b[0;36m1.0\u001b[0m\u001b[0;34m)\u001b[0m\u001b[0;34m:\u001b[0m\u001b[0;34m\u001b[0m\u001b[0;34m\u001b[0m\u001b[0m\n\u001b[0;32m--> 953\u001b[0;31m         \u001b[0;32massert\u001b[0m \u001b[0mpars\u001b[0m \u001b[0;32mis\u001b[0m \u001b[0;32mnot\u001b[0m \u001b[0;32mNone\u001b[0m\u001b[0;34m,\u001b[0m\u001b[0;34m'send pars='\u001b[0m\u001b[0;34m\u001b[0m\u001b[0;34m\u001b[0m\u001b[0m\n\u001b[0m\u001b[1;32m    954\u001b[0m         \u001b[0;32massert\u001b[0m \u001b[0mTdByTe\u001b[0m \u001b[0;32mis\u001b[0m \u001b[0;32mnot\u001b[0m \u001b[0;32mNone\u001b[0m\u001b[0;34m,\u001b[0m\u001b[0;34m'send TdByTe='\u001b[0m\u001b[0;34m\u001b[0m\u001b[0;34m\u001b[0m\u001b[0m\n\u001b[1;32m    955\u001b[0m \u001b[0;34m\u001b[0m\u001b[0m\n",
      "\u001b[0;31mAssertionError\u001b[0m: send pars="
     ]
    }
   ],
   "source": [
    "ngmix.gmix.GMixBDF()"
   ]
  },
  {
   "cell_type": "code",
   "execution_count": null,
   "metadata": {},
   "outputs": [],
   "source": []
  }
 ],
 "metadata": {
  "kernelspec": {
   "display_name": "Python 3",
   "language": "python",
   "name": "python3"
  },
  "language_info": {
   "codemirror_mode": {
    "name": "ipython",
    "version": 3
   },
   "file_extension": ".py",
   "mimetype": "text/x-python",
   "name": "python",
   "nbconvert_exporter": "python",
   "pygments_lexer": "ipython3",
   "version": "3.7.4"
  },
  "toc": {
   "base_numbering": 1,
   "nav_menu": {},
   "number_sections": true,
   "sideBar": true,
   "skip_h1_title": false,
   "title_cell": "Table of Contents",
   "title_sidebar": "Contents",
   "toc_cell": false,
   "toc_position": {},
   "toc_section_display": true,
   "toc_window_display": false
  },
  "widgets": {
   "state": {},
   "version": "1.0.0"
  }
 },
 "nbformat": 4,
 "nbformat_minor": 2
}
