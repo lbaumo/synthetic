{
 "cells": [
  {
   "cell_type": "markdown",
   "id": "6270e0a4",
   "metadata": {},
   "source": [
    "# B2 Galaxy Cluster Injection\n",
    "\n",
    "\n",
    "In this notebook we inject a synthetic galaxy cluster into a DC2 simulated catalog, and render them together into an image.\n",
    "\n",
    "We will also apply gravitational shear, in accordance with the lens geometry\n",
    "\n",
    "\n",
    "## Objectives\n",
    "\n",
    "    1 Learn to inject a galaxy cluster at the catalog level\n",
    "    \n",
    "    2 Apply shear to background sources, based on lens geometry\n",
    "\n",
    "\n",
    "## Setup\n",
    "\n",
    "This notebook relies on the:\n",
    "\n",
    "    * synthetic package & dependencies\n",
    "    \n",
    "    * DC2 cutotut data files on disk\n",
    "    \n",
    "    * curated galaxy cluster member catalog (A4 notebook)\n",
    "    \n",
    "    * package to render catalogs into images (B1 notebook)\n",
    "\n",
    "\n",
    "## Output\n",
    "\n",
    "    * fits image in g, r, i band with cluster injected\n",
    "    \n",
    "    * color composite image for visualization with cluster injected\n",
    " \n",
    "    \n",
    "The output files are placed in the `./data/` folder\n",
    "\n",
    "\n",
    "## Contact\n",
    "\n",
    "In case of questions, contact me at t.varga@physik.lmu.de"
   ]
  },
  {
   "cell_type": "code",
   "execution_count": null,
   "id": "f04aa4e7",
   "metadata": {},
   "outputs": [],
   "source": []
  }
 ],
 "metadata": {
  "kernelspec": {
   "display_name": "Python 3 (ipykernel)",
   "language": "python",
   "name": "python3"
  },
  "language_info": {
   "codemirror_mode": {
    "name": "ipython",
    "version": 3
   },
   "file_extension": ".py",
   "mimetype": "text/x-python",
   "name": "python",
   "nbconvert_exporter": "python",
   "pygments_lexer": "ipython3",
   "version": "3.7.4"
  },
  "toc": {
   "base_numbering": 1,
   "nav_menu": {},
   "number_sections": true,
   "sideBar": true,
   "skip_h1_title": false,
   "title_cell": "Table of Contents",
   "title_sidebar": "Contents",
   "toc_cell": false,
   "toc_position": {},
   "toc_section_display": true,
   "toc_window_display": false
  },
  "widgets": {
   "state": {},
   "version": "1.0.0"
  }
 },
 "nbformat": 4,
 "nbformat_minor": 5
}
