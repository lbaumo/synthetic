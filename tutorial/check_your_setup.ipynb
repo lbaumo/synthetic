{
 "cells": [
  {
   "cell_type": "markdown",
   "id": "84194345",
   "metadata": {},
   "source": [
    "# check your installation\n",
    "\n",
    "If you can run each cell in this notebook, then you have all packages\n",
    "\n",
    "\n",
    "## Objectives\n",
    "\n",
    "\n",
    "* Go trough each\n",
    "\n",
    "\n",
    "\n",
    "\n",
    "## Setup\n",
    "\n",
    "This notebook relies on two prerequisites:\n",
    "\n",
    "   * Data files from the previous calculation step. That is the output of the rejection sampling\n",
    "    * synthetic software package. The host package of this tutorial\n",
    "\n",
    "\n",
    "## Output\n",
    "\n",
    "The outuput of this claculation is a very large set of synthetic galaxies sampled from the\n",
    "    \n",
    "    * galaxy clusters member model\n",
    "    * reference line of sight model\n",
    "    \n",
    "## Contact\n",
    "\n",
    "In case of questions, contact me at t.varga@physik.lmu.de"
   ]
  },
  {
   "cell_type": "code",
   "execution_count": null,
   "id": "9d321f72",
   "metadata": {},
   "outputs": [],
   "source": []
  }
 ],
 "metadata": {
  "kernelspec": {
   "display_name": "Python 3 (ipykernel)",
   "language": "python",
   "name": "python3"
  },
  "language_info": {
   "codemirror_mode": {
    "name": "ipython",
    "version": 3
   },
   "file_extension": ".py",
   "mimetype": "text/x-python",
   "name": "python",
   "nbconvert_exporter": "python",
   "pygments_lexer": "ipython3",
   "version": "3.7.4"
  },
  "toc": {
   "base_numbering": 1,
   "nav_menu": {},
   "number_sections": true,
   "sideBar": true,
   "skip_h1_title": false,
   "title_cell": "Table of Contents",
   "title_sidebar": "Contents",
   "toc_cell": false,
   "toc_position": {},
   "toc_section_display": true,
   "toc_window_display": false
  },
  "widgets": {
   "state": {},
   "version": "1.0.0"
  }
 },
 "nbformat": 4,
 "nbformat_minor": 5
}
