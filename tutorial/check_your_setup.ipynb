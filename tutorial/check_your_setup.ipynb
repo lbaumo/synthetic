{
 "cells": [
  {
   "cell_type": "markdown",
   "id": "677c2da4",
   "metadata": {},
   "source": [
    "# Check your installation\n",
    "\n",
    "If you can run each cell in this notebook, then you have all packages properly setup\n",
    "\n",
    "\n",
    "## Objectives\n",
    "\n",
    "\n",
    "* Execute each cell\n",
    "* find out which ones\n",
    "\n",
    "\n",
    "\n",
    "## Setup\n",
    "\n",
    "This notebook relies on two prerequisites:\n",
    "* synthetic software package. The host package of this tutorial\n",
    "\n",
    "conda activate /home/moon/vargatn/anaconda3/envs/sim2\n",
    "\n",
    "\n",
    "## Output\n",
    "\n",
    "The outuput of this claculation is a very large set of synthetic galaxies sampled from the\n",
    "    \n",
    "    * galaxy clusters member model\n",
    "    * reference line of sight model\n",
    "    \n",
    "## Contact\n",
    "\n",
    "In case of questions, contact me at t.varga@physik.lmu.de"
   ]
  },
  {
   "cell_type": "code",
   "execution_count": null,
   "id": "a860e2af",
   "metadata": {},
   "outputs": [],
   "source": [
    "from importlib import reload\n",
    "import fitsio as fio\n",
    "import numpy as np\n",
    "import pandas as pd\n",
    "\n",
    "import healpy as hp\n",
    "import copy\n",
    "import sys\n",
    "import glob\n",
    "import os\n",
    "import matplotlib.pyplot as plt\n",
    "%matplotlib inline\n",
    "\n",
    "import sklearn.decomposition as decomp\n",
    "\n",
    "\n",
    "import matplotlib as mpl\n",
    "import subprocess as sp\n",
    "import scipy.interpolate as interpolate\n",
    "import pickle as pickle\n",
    "\n",
    "import multiprocessing as mp\n",
    "\n",
    "import synthetic.tools as tools\n",
    "import synthetic.emulator.emulator as emulator\n",
    "import synthetic.emulator.indexer as indexer\n",
    "import synthetic.emulator.reader as reader"
   ]
  }
 ],
 "metadata": {
  "kernelspec": {
   "display_name": "Python 3 (ipykernel)",
   "language": "python",
   "name": "python3"
  },
  "language_info": {
   "codemirror_mode": {
    "name": "ipython",
    "version": 3
   },
   "file_extension": ".py",
   "mimetype": "text/x-python",
   "name": "python",
   "nbconvert_exporter": "python",
   "pygments_lexer": "ipython3",
   "version": "3.7.4"
  },
  "toc": {
   "base_numbering": 1,
   "nav_menu": {},
   "number_sections": true,
   "sideBar": true,
   "skip_h1_title": false,
   "title_cell": "Table of Contents",
   "title_sidebar": "Contents",
   "toc_cell": false,
   "toc_position": {},
   "toc_section_display": true,
   "toc_window_display": false
  },
  "widgets": {
   "state": {},
   "version": "1.0.0"
  }
 },
 "nbformat": 4,
 "nbformat_minor": 5
}
