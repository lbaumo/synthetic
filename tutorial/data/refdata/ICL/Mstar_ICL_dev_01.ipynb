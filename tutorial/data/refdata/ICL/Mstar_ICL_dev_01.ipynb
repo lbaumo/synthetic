{
 "cells": [
  {
   "cell_type": "code",
   "execution_count": 5,
   "metadata": {},
   "outputs": [],
   "source": [
    "# ! scp -r /home/moon/vargatn/DES/Y3_WORK/skysampler-config/notebooks/SkyModel_BETA/ICL_MODEL/* ."
   ]
  },
  {
   "cell_type": "code",
   "execution_count": 7,
   "metadata": {},
   "outputs": [],
   "source": [
    "import numpy as np\n",
    "\n",
    "import pandas as pd\n",
    "import fitsio as fio\n",
    "\n",
    "import matplotlib as mpl\n",
    "import matplotlib.pyplot as plt\n",
    "% matplotlib inline\n",
    "\n",
    "import skysampler.icl as icl\n",
    "\n",
    "import astropy.cosmology as cosmology\n",
    "# from importlib import reload\n",
    "import scipy.optimize as optimize\n",
    "import pickle\n",
    "import images\n",
    "import galsim\n",
    "import galsim.des\n",
    "import ngmix"
   ]
  },
  {
   "cell_type": "code",
   "execution_count": 11,
   "metadata": {},
   "outputs": [
    {
     "name": "stdout",
     "output_type": "stream",
     "text": [
      "evolving_red_gal.dat\r\n",
      "icl_photozbias_tamas.ipynb\r\n",
      "jacknife_profiles_0.15_rand_back_subtracted_corZ_faintgalsub\r\n",
      "mstar_des_i03.fit\r\n",
      "Mstar_ICL_dev_01.ipynb\r\n"
     ]
    }
   ],
   "source": [
    "! ls"
   ]
  },
  {
   "cell_type": "code",
   "execution_count": 12,
   "metadata": {},
   "outputs": [],
   "source": [
    "galpath = \"evolving_red_gal.dat\"\n",
    "mstarpath = \"mstar_des_i03.fit\"\n",
    "jk_profile_root = \"jacknife_profiles_0.15_rand_back_subtracted_corZ_faintgalsub/jacknife_profile_\""
   ]
  },
  {
   "cell_type": "code",
   "execution_count": 13,
   "metadata": {},
   "outputs": [],
   "source": [
    "mass = 10**14.6\n",
    "z = 0.3\n",
    "xpivot = 100"
   ]
  },
  {
   "cell_type": "code",
   "execution_count": 14,
   "metadata": {},
   "outputs": [],
   "source": [
    "procmag = icl.ProcMag(galpath, mstarpath)\n",
    "iclprof = icl.ICLProf(jk_profile_root, procmag, H0=70, Om0=0.3)"
   ]
  },
  {
   "cell_type": "code",
   "execution_count": 66,
   "metadata": {},
   "outputs": [],
   "source": [
    "zvals =  [0.325, 0.475, 0.625, 0.65]"
   ]
  },
  {
   "cell_type": "code",
   "execution_count": 67,
   "metadata": {},
   "outputs": [
    {
     "name": "stdout",
     "output_type": "stream",
     "text": [
      "0.325 \t18.936348892137104\n",
      "0.475 \t19.920484575715847\n",
      "0.625 \t20.659628868103027\n",
      "0.65 \t20.775638677665\n"
     ]
    }
   ],
   "source": [
    "for zval in zvals:\n",
    "    val = procmag.get_mstar(zval, \"iDES\")\n",
    "    print zval,\"\\t\", val"
   ]
  },
  {
   "cell_type": "code",
   "execution_count": 44,
   "metadata": {},
   "outputs": [],
   "source": [
    "val = (30 -2.5 * np.log10(1000))"
   ]
  },
  {
   "cell_type": "code",
   "execution_count": 45,
   "metadata": {},
   "outputs": [
    {
     "data": {
      "text/plain": [
       "22.5"
      ]
     },
     "execution_count": 45,
     "metadata": {},
     "output_type": "execute_result"
    }
   ],
   "source": [
    "val"
   ]
  },
  {
   "cell_type": "code",
   "execution_count": 64,
   "metadata": {},
   "outputs": [],
   "source": [
    "def tomag(flux):\n",
    "    val = 30 - 2.5 * np.log10(flux)\n",
    "    return val\n",
    "\n",
    "def toflux(mag):\n",
    "    val = 10 ** ((30 - mag)/2.5)\n",
    "    return val"
   ]
  },
  {
   "cell_type": "code",
   "execution_count": 68,
   "metadata": {},
   "outputs": [
    {
     "data": {
      "text/plain": [
       "22.547425010840048"
      ]
     },
     "execution_count": 68,
     "metadata": {},
     "output_type": "execute_result"
    }
   ],
   "source": [
    "tomag(toflux(20.8) * 0.2)"
   ]
  },
  {
   "cell_type": "code",
   "execution_count": null,
   "metadata": {},
   "outputs": [],
   "source": []
  },
  {
   "cell_type": "code",
   "execution_count": 49,
   "metadata": {},
   "outputs": [
    {
     "data": {
      "text/plain": [
       "3981.0717055349733"
      ]
     },
     "execution_count": 49,
     "metadata": {},
     "output_type": "execute_result"
    }
   ],
   "source": [
    "10**((30 - 21) / 2.5)"
   ]
  },
  {
   "cell_type": "code",
   "execution_count": 18,
   "metadata": {},
   "outputs": [
    {
     "data": {
      "text/plain": [
       "[11.024656,\n",
       " 12.543065,\n",
       " 13.436606,\n",
       " 14.077963,\n",
       " 14.575123,\n",
       " 14.98459,\n",
       " 15.335981,\n",
       " 15.640223,\n",
       " 15.907663,\n",
       " 16.14851,\n",
       " 16.367437,\n",
       " 16.568142,\n",
       " 16.755949,\n",
       " 16.933105,\n",
       " 17.098965,\n",
       " 17.25318,\n",
       " 17.398712,\n",
       " 17.532291,\n",
       " 17.65474,\n",
       " 17.770988,\n",
       " 17.88464,\n",
       " 17.993193,\n",
       " 18.099113,\n",
       " 18.202785,\n",
       " 18.302526,\n",
       " 18.395374,\n",
       " 18.484852,\n",
       " 18.572514,\n",
       " 18.65857,\n",
       " 18.741898,\n",
       " 18.821062,\n",
       " 18.897823,\n",
       " 18.974874,\n",
       " 19.052341,\n",
       " 19.127796,\n",
       " 19.198257,\n",
       " 19.266914,\n",
       " 19.334944,\n",
       " 19.402431,\n",
       " 19.468367,\n",
       " 19.535746,\n",
       " 19.601711,\n",
       " 19.664526,\n",
       " 19.724247,\n",
       " 19.782732,\n",
       " 19.83839,\n",
       " 19.892912,\n",
       " 19.948057,\n",
       " 20.003868,\n",
       " 20.058672,\n",
       " 20.111582,\n",
       " 20.163559,\n",
       " 20.213465,\n",
       " 20.261333,\n",
       " 20.308361,\n",
       " 20.357512,\n",
       " 20.405878,\n",
       " 20.453308,\n",
       " 20.49983,\n",
       " 20.545639,\n",
       " 20.591473,\n",
       " 20.636639,\n",
       " 20.68262,\n",
       " 20.729435,\n",
       " 20.775639,\n",
       " 20.816467,\n",
       " 20.856718,\n",
       " 20.899715,\n",
       " 20.945475,\n",
       " 20.990704,\n",
       " 21.033087,\n",
       " 21.074966,\n",
       " 21.117193,\n",
       " 21.159777,\n",
       " 21.201893,\n",
       " 21.240023,\n",
       " 21.277708,\n",
       " 21.321953,\n",
       " 21.372766,\n",
       " 21.423168,\n",
       " 21.46851,\n",
       " 21.513458,\n",
       " 21.561102,\n",
       " 21.611448,\n",
       " 21.661428,\n",
       " 21.710657,\n",
       " 21.759533,\n",
       " 21.809141,\n",
       " 21.85949,\n",
       " 21.909506,\n",
       " 21.947456,\n",
       " 21.98509,\n",
       " 22.024952,\n",
       " 22.067047,\n",
       " 22.108845,\n",
       " 22.14948,\n",
       " 22.18983,\n",
       " 22.226538,\n",
       " 22.259607,\n",
       " 22.292406,\n",
       " 22.331484,\n",
       " 22.370304,\n",
       " 22.406588,\n",
       " 22.44034,\n",
       " 22.473848,\n",
       " 22.507925,\n",
       " 22.541763,\n",
       " 22.574404,\n",
       " 22.605846,\n",
       " 22.637066,\n",
       " 22.666904,\n",
       " 22.696526,\n",
       " 22.726429,\n",
       " 22.756615,\n",
       " 22.786596,\n",
       " 22.799612,\n",
       " 22.81243,\n",
       " 22.826996,\n",
       " 22.843315,\n",
       " 22.859444]"
      ]
     },
     "execution_count": 18,
     "metadata": {},
     "output_type": "execute_result"
    }
   ],
   "source": [
    "procmag.mstar_m"
   ]
  },
  {
   "cell_type": "code",
   "execution_count": 15,
   "metadata": {},
   "outputs": [
    {
     "data": {
      "text/plain": [
       "<skysampler.icl.ProcMag at 0x7f278f7f1250>"
      ]
     },
     "execution_count": 15,
     "metadata": {},
     "output_type": "execute_result"
    }
   ],
   "source": [
    "procmag"
   ]
  },
  {
   "cell_type": "code",
   "execution_count": null,
   "metadata": {},
   "outputs": [],
   "source": []
  }
 ],
 "metadata": {
  "kernelspec": {
   "display_name": "Python 2",
   "language": "python",
   "name": "python2"
  },
  "language_info": {
   "codemirror_mode": {
    "name": "ipython",
    "version": 2
   },
   "file_extension": ".py",
   "mimetype": "text/x-python",
   "name": "python",
   "nbconvert_exporter": "python",
   "pygments_lexer": "ipython2",
   "version": "2.7.15"
  },
  "toc": {
   "base_numbering": 1,
   "nav_menu": {},
   "number_sections": true,
   "sideBar": true,
   "skip_h1_title": false,
   "title_cell": "Table of Contents",
   "title_sidebar": "Contents",
   "toc_cell": false,
   "toc_position": {},
   "toc_section_display": true,
   "toc_window_display": false
  },
  "widgets": {
   "state": {},
   "version": "1.0.0"
  }
 },
 "nbformat": 4,
 "nbformat_minor": 2
}
