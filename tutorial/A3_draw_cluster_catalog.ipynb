{
 "cells": [
  {
   "cell_type": "markdown",
   "id": "25ce39ef",
   "metadata": {},
   "source": [
    "# A3 Draw random realizations of galaxy clusters\n"
   ]
  },
  {
   "cell_type": "markdown",
   "id": "7e3ca497",
   "metadata": {},
   "source": [
    "This notebook will describe how to perform random draws of galaxy clusters from the statistical model trained in notebook A2 of the tutorial\n",
    "\n",
    "\n",
    "## Objectives\n",
    "    \n",
    "    2 Draw random realizations from the KDE galaxy cluster model\n",
    "    \n",
    "    \n",
    "## Setup\n",
    "\n",
    "This notebook relies on the:\n",
    "\n",
    "\n",
    "    * galaxy clusters member model from the previous calculation step: the output of the rejection sampling\n",
    "    \n",
    "    * synthetic software package. \n",
    "\n",
    "\n",
    "## Output\n",
    "\n",
    "    *  synthetic galaxy cluster realizations\n",
    " \n",
    "    \n",
    "## Contact\n",
    "\n",
    "In case of questions, contact me at t.varga@physik.lmu.de"
   ]
  },
  {
   "cell_type": "code",
   "execution_count": 1,
   "id": "b10d9915",
   "metadata": {},
   "outputs": [],
   "source": [
    "from importlib import reload\n",
    "import fitsio as fio\n",
    "import numpy as np\n",
    "import pandas as pd\n",
    "\n",
    "import healpy as hp\n",
    "import copy\n",
    "import sys\n",
    "import glob\n",
    "import os\n",
    "import matplotlib.pyplot as plt\n",
    "%matplotlib inline\n",
    "\n",
    "import sklearn.decomposition as decomp\n",
    "\n",
    "\n",
    "import matplotlib as mpl\n",
    "import subprocess as sp\n",
    "import scipy.interpolate as interpolate\n",
    "import pickle as pickle\n",
    "\n",
    "import multiprocessing as mp\n",
    "\n",
    "import synthetic.tools as tools\n",
    "import synthetic.emulator.emulator as emulator\n",
    "import synthetic.emulator.indexer as indexer\n",
    "import synthetic.emulator.reader as reader\n"
   ]
  },
  {
   "cell_type": "markdown",
   "id": "92c2a87e",
   "metadata": {},
   "source": [
    "# Preparation (much the same as A2)"
   ]
  },
  {
   "cell_type": "markdown",
   "id": "31aca40a",
   "metadata": {},
   "source": [
    "## Loading the regular data tables\n",
    "\n",
    "First load the two primary obsered datasets, since this is a simulated scenarion both are comprehensive and contain all relevant quantities "
   ]
  },
  {
   "cell_type": "code",
   "execution_count": 4,
   "id": "4ba67c69",
   "metadata": {},
   "outputs": [],
   "source": [
    "# CHANGE THE ROOT PATH TO YOUR OWN PATH\n",
    "root_path = \"/e/ocean1/users/vargatn/LSST/DC2_1.1.4/clusters_v01/\"\n",
    "deep_data_path = root_path + \"dc2_cluster_sim_cutouts/cosmoDC2_v1.1.4_refpixels.h5\"\n",
    "wide_data_path = root_path + \"dc2_cluster_sim_cutouts/clust_dc2-sim-LOS_v1.h5\""
   ]
  },
  {
   "cell_type": "code",
   "execution_count": 3,
   "id": "578c3801",
   "metadata": {},
   "outputs": [],
   "source": [
    "deep_smc_settings = {\n",
    "    \"columns\": [\n",
    "        (\"GABS\", (\"ellipticity_1_true\", \"ellipticity_2_true\", \"SQSUM\")),\n",
    "        (\"SIZE\", \"size_true\"),\n",
    "        (\"MAG_I\", \"mag_i\"),\n",
    "        (\"COLOR_G_R\", (\"mag_g\", \"mag_r\", \"-\")),\n",
    "        (\"COLOR_R_I\", (\"mag_r\", \"mag_i\", \"-\")),\n",
    "        (\"COLOR_I_Z\", (\"mag_i\", \"mag_z\", \"-\")),\n",
    "        (\"STELLAR_MASS\", \"stellar_mass\"),\n",
    "        (\"HALO_MASS\", \"halo_mass\")        \n",
    "    ],\n",
    "    \"logs\": [False, True, False, False, False, False, True, True],\n",
    "    \"limits\": [(0., 1.), (-1, 5), (17, 25), (-1, 3), (-1, 3), (-1, 3), (10**3, 10**13), (10**9, 10**16)],\n",
    "}"
   ]
  },
  {
   "cell_type": "code",
   "execution_count": 5,
   "id": "e9224c36",
   "metadata": {},
   "outputs": [],
   "source": [
    "wide_cr_settings = {\n",
    "    \"columns\": [\n",
    "        (\"GABS\", (\"ellipticity_1_true\", \"ellipticity_2_true\", \"SQSUM\")),\n",
    "        (\"SIZE\", \"size_true\"),\n",
    "        (\"MAG_I\", \"mag_i\"),\n",
    "        (\"COLOR_G_R\", (\"mag_g\", \"mag_r\", \"-\")),\n",
    "        (\"COLOR_R_I\", (\"mag_r\", \"mag_i\", \"-\")),\n",
    "        (\"COLOR_I_Z\", (\"mag_i\", \"mag_z\", \"-\")),\n",
    "        (\"STELLAR_MASS\", \"stellar_mass\"),\n",
    "        (\"HALO_MASS\", \"halo_mass\"),\n",
    "        (\"LOGR\", \"R\"),        \n",
    "    ],\n",
    "    \"logs\": [False, True, False, False, False, False, True, True, True],\n",
    "    \"limits\": [(0., 1.), (-1, 5), (17, 25), (-1, 3), (-1, 3), (-1, 3), (10**3, 10**13), (10**9, 10**16), (1e-3, 16)],\n",
    "}"
   ]
  },
  {
   "cell_type": "code",
   "execution_count": 7,
   "id": "b426e70c",
   "metadata": {},
   "outputs": [],
   "source": [
    "refpixel = pd.read_hdf(deep_data_path, key=\"data\")\n",
    "table = pd.read_hdf(wide_data_path, key=\"data\")"
   ]
  },
  {
   "cell_type": "code",
   "execution_count": 8,
   "id": "9d9c1710",
   "metadata": {},
   "outputs": [
    {
     "name": "stdout",
     "output_type": "stream",
     "text": [
      "(1513572, 9)\n",
      "(1513572,)\n",
      "(1513572, 8)\n",
      "(1513572,)\n",
      "(1009658, 9)\n",
      "(1009658,)\n"
     ]
    }
   ],
   "source": [
    "\n",
    "tmp_wide_cr_settings = wide_cr_settings.copy()\n",
    "# tmp_wide_cr_settings[\"limits\"][-1] = (10**-3, 10**LOGR_CAT_RMAXS[i])\n",
    "_wide_cr_settings_rands = emulator.construct_deep_container(refpixel, tmp_wide_cr_settings)\n",
    "\n",
    "# loading deep catalogs\n",
    "_deep_smc_settings = emulator.construct_deep_container(refpixel, deep_smc_settings)\n",
    "\n",
    "# loading cluster data\n",
    "tmp_wide_cr_settings = wide_cr_settings.copy()\n",
    "# tmp_wide_cr_settings[\"limits\"][-1] = (10**-3, 10**LOGR_CAT_RMAXS[i])\n",
    "_wide_cr_settings_clust = emulator.construct_deep_container(table, tmp_wide_cr_settings)"
   ]
  },
  {
   "cell_type": "code",
   "execution_count": 9,
   "id": "19f13ede",
   "metadata": {},
   "outputs": [
    {
     "name": "stdout",
     "output_type": "stream",
     "text": [
      "0\n",
      "1\n",
      "2\n",
      "3\n"
     ]
    }
   ],
   "source": [
    "samples = []\n",
    "scores = []\n",
    "for rbin in np.arange(4):\n",
    "    print(rbin)\n",
    "#     expr = \"/e/ocean1/users/vargatn/EMULATOR/EPSILON/resamples/epsilon_concentric_sample_v06_run*_rbin\" + str(rbin) + \"*samples.fits\" \n",
    "    expr = \"/e/ocean1/users/vargatn/LSST/DC2_1.1.4/clusters_v01/resamples/dc2-alpha_concentric_sample-v01_test-03/dc2-alpha_concentric_sample-v01_test-03_run0*_rbin\" + str(rbin) + \"*samples.fits\" \n",
    "\n",
    "    fnames_samples = np.sort(glob.glob(expr))\n",
    "    fnames_scores = []\n",
    "    for fname in fnames_samples:\n",
    "        fnames_scores.append(fname.replace(\"samples.fits\", \"scores.fits\"))\n",
    "\n",
    "    samples_sep = []\n",
    "    scores_sep = []\n",
    "    for i, fname in enumerate(fnames_samples):\n",
    "#         print(fname)\n",
    "        samples_sep.append(fio.read(fname))\n",
    "        scores_sep.append(fio.read(fnames_scores[i]))\n",
    "        \n",
    "    samples.append(np.hstack(samples_sep))\n",
    "    scores.append(np.hstack(scores_sep))"
   ]
  },
  {
   "cell_type": "code",
   "execution_count": 15,
   "id": "3e62a661",
   "metadata": {},
   "outputs": [],
   "source": [
    "mag_lims = (17, 22.5)\n",
    "r_lims_all = [(-1.5, -0.5), (-0.5, 0.), (0, 0.5), (0.5, 1.0)]\n",
    "redges = [-1.5, -0.5, 0., 0.5, 1.0]\n",
    "rareas = np.array([np.pi*((10**redges[i+1])**2. - (10**redges[i])**2.) for i in np.arange(len(redges)-1)])"
   ]
  },
  {
   "cell_type": "code",
   "execution_count": 16,
   "id": "50199b2e",
   "metadata": {},
   "outputs": [
    {
     "name": "stderr",
     "output_type": "stream",
     "text": [
      "/home/moon/vargatn/anaconda3/envs/galsim/lib/python3.7/site-packages/pandas/core/arraylike.py:358: RuntimeWarning: divide by zero encountered in log10\n",
      "  result = getattr(ufunc, method)(*inputs, **kwargs)\n"
     ]
    }
   ],
   "source": [
    "magcol = \"mag_i\"\n",
    "ii = ((table[magcol] > mag_lims[0]) & (table[magcol] < mag_lims[1]))\n",
    "\n",
    "clust_los_nums = np.histogram(np.log10(table[ii][\"R\"]), bins=redges)[0] / 41 # / nc\n",
    "\n",
    "ii = ((refpixel[magcol] > mag_lims[0]) & (refpixel[magcol] < mag_lims[1]))\n",
    "surfdens = len(refpixel[ii]) / hp.nside2pixarea(32, degrees=True) / 3600 / 3\n",
    "rands_los_nums = surfdens * rareas\n",
    "# rands_los_nums = np.histogram(np.log10(refpixel[ii][\"R\"]), bins=redges)[0] / rareas#* ratio# / nr\n",
    "nratios = clust_los_nums / rands_los_nums"
   ]
  },
  {
   "cell_type": "code",
   "execution_count": 18,
   "id": "54a6d6f5",
   "metadata": {},
   "outputs": [
    {
     "name": "stdout",
     "output_type": "stream",
     "text": [
      "0\n",
      "2.741989144315195\n",
      "1\n",
      "1.7913041757345514\n",
      "2\n",
      "1.1243442810539395\n",
      "3\n",
      "0.793271619957704\n"
     ]
    }
   ],
   "source": [
    "ifields2 = []\n",
    "iclusts2 = []\n",
    "i2ds2 = []\n",
    "for rbin in np.arange(4):\n",
    "    print(rbin)\n",
    "    _ifield, _iclust, _i2d = reader.result_reader2(samples[rbin], scores[rbin], nratio=nratios[rbin], m_factor=100, seed=rbin)\n",
    "    ifields2.append(_ifield)\n",
    "    iclusts2.append(_iclust)\n",
    "    i2ds2.append(_i2d)"
   ]
  },
  {
   "cell_type": "code",
   "execution_count": 19,
   "id": "48872892",
   "metadata": {},
   "outputs": [
    {
     "name": "stdout",
     "output_type": "stream",
     "text": [
      "0\n",
      "1\n",
      "2\n",
      "3\n"
     ]
    }
   ],
   "source": [
    "csamples = []\n",
    "for rbin in np.arange(4):\n",
    "    print(rbin)\n",
    "    tab = pd.DataFrame.from_records(samples[rbin][iclusts2[rbin]].byteswap().newbyteorder())\n",
    "    tab.drop('index', axis=1, inplace=True)\n",
    "    kde = emulator.KDEContainer(tab)\n",
    "    kde.standardize_data()\n",
    "    kde.construct_kde(0.1)\n",
    "    _csample = kde.random_draw(4e6)\n",
    "    csamples.append(_csample)\n"
   ]
  },
  {
   "cell_type": "code",
   "execution_count": 20,
   "id": "26779e54",
   "metadata": {},
   "outputs": [
    {
     "name": "stdout",
     "output_type": "stream",
     "text": [
      "0\n",
      "1\n",
      "2\n",
      "3\n"
     ]
    }
   ],
   "source": [
    "rsamples = []\n",
    "for rbin in np.arange(4):\n",
    "    print(rbin)\n",
    "    tab = pd.DataFrame.from_records(samples[rbin][ifields2[rbin]].byteswap().newbyteorder())\n",
    "    tab.drop('index', axis=1, inplace=True)\n",
    "    kde = emulator.KDEContainer(tab)\n",
    "    kde.standardize_data()\n",
    "    kde.construct_kde(0.1)\n",
    "    _rsample = kde.random_draw(4e6)\n",
    "    rsamples.append(_rsample)"
   ]
  },
  {
   "cell_type": "code",
   "execution_count": 21,
   "id": "0f95b869",
   "metadata": {},
   "outputs": [
    {
     "name": "stdout",
     "output_type": "stream",
     "text": [
      "0\n",
      "1\n",
      "2\n",
      "3\n"
     ]
    }
   ],
   "source": [
    "allsamples = []\n",
    "for rbin in np.arange(4):\n",
    "    print(rbin)\n",
    "    tab = pd.DataFrame.from_records(samples[rbin][i2ds2[rbin]].byteswap().newbyteorder())\n",
    "    tab.drop('index', axis=1, inplace=True)\n",
    "    kde = emulator.KDEContainer(tab)\n",
    "    kde.standardize_data()\n",
    "    kde.construct_kde(0.1)\n",
    "    _sample = kde.random_draw(4e6)\n",
    "    allsamples.append(_sample)"
   ]
  },
  {
   "cell_type": "markdown",
   "id": "fef0c27a",
   "metadata": {},
   "source": [
    "# Constructing a synthetic galaxy cluster\n",
    "\n",
    "This is composed of two parts\n",
    "\n",
    "1) Creating the bright central galaxy. For now this is set Manually from Varga et al, as it must be fitted to the outer stellar envelope model introduced in notebook C3\n",
    "\n",
    "2) Drawing a cluster member galaxy population from the KDE model produced in notebooks A1 and A2"
   ]
  },
  {
   "cell_type": "markdown",
   "id": "a2c7e8ab",
   "metadata": {},
   "source": [
    "## The bright central galaxy (BCG) component set by hand"
   ]
  },
  {
   "cell_type": "code",
   "execution_count": 22,
   "id": "f1f4f3c7",
   "metadata": {},
   "outputs": [],
   "source": [
    "bcgtab = pd.DataFrame()\n",
    "bcgtab[\"RA\"] = [0,]\n",
    "bcgtab[\"DEC\"] = [0.,]\n",
    "bcgtab[\"X\"] = [0.,]\n",
    "bcgtab[\"Y\"] = [0.,]\n",
    "\n",
    "_imag = 17.62\n",
    "_gr = 1.38\n",
    "_ri = 0.54\n",
    "_iz = 0.37\n",
    "bcgtab[\"MAG_G\"] = [_gr + _ri + _imag,]\n",
    "bcgtab[\"MAG_R\"] = [_ri + _imag,]\n",
    "bcgtab[\"MAG_I\"] = [_imag,]\n",
    "bcgtab[\"MAG_Z\"] = [_imag - _iz,]\n",
    "bcgtab[\"FRACDEV\"] = [1.,]\n",
    "bcgtab[\"TSIZE\"] = [33.20,]\n",
    "\n",
    "bcg_gabs = 0.14\n",
    "# bcg_gabs = 0.07\n",
    "angle = np.random.uniform(0, np.pi, size=1)\n",
    "\n",
    "bcgtab[\"G1\"] = -1. * bcg_gabs * np.cos(2 * angle)\n",
    "bcgtab[\"G2\"] = -1. * bcg_gabs * np.sin(2 * angle)\n",
    "# bcgtab[\"G1\"] = [0,]\n",
    "# bcgtab[\"G2\"] = [0,]\n",
    "bcgtab[\"LOC\"] = 1\n",
    "\n",
    "bcgtab[\"Z\"] = 0.325\n",
    "bcgtab[\"shear\"] = 0.\n",
    "# bcgtab[\"shear2\"] = 0.\n",
    "# bcgtab[\"Z\"]\n",
    "\n",
    "bcgtab[\"FLUX_G\"] = 10 ** (0.4 *(30. - bcgtab[\"MAG_G\"]))\n",
    "bcgtab[\"FLUX_R\"] = 10 ** (0.4 *(30. - bcgtab[\"MAG_R\"]))\n",
    "bcgtab[\"FLUX_I\"] = 10 ** (0.4 *(30. - bcgtab[\"MAG_I\"]))\n",
    "bcgtab[\"FLUX_Z\"] = 10 ** (0.4 *(30. - bcgtab[\"MAG_Z\"]))"
   ]
  },
  {
   "cell_type": "markdown",
   "id": "35db7910",
   "metadata": {},
   "source": [
    "## Drawing the cluster member population"
   ]
  },
  {
   "cell_type": "code",
   "execution_count": 23,
   "id": "115108df",
   "metadata": {},
   "outputs": [],
   "source": [
    "ctab = _wide_cr_settings_clust[\"container\"].data\n",
    "rtab = _wide_cr_settings_rands[\"container\"].data"
   ]
  },
  {
   "cell_type": "code",
   "execution_count": 24,
   "id": "f892d5f3",
   "metadata": {},
   "outputs": [
    {
     "name": "stderr",
     "output_type": "stream",
     "text": [
      "/home/moon/vargatn/anaconda3/envs/galsim/lib/python3.7/site-packages/pandas/core/arraylike.py:358: RuntimeWarning: divide by zero encountered in log10\n",
      "  result = getattr(ufunc, method)(*inputs, **kwargs)\n"
     ]
    },
    {
     "name": "stdout",
     "output_type": "stream",
     "text": [
      "0 (-1.5, -0.5)\n"
     ]
    },
    {
     "name": "stderr",
     "output_type": "stream",
     "text": [
      "/home/moon/vargatn/anaconda3/envs/galsim/lib/python3.7/site-packages/pandas/core/arraylike.py:358: RuntimeWarning: divide by zero encountered in log10\n",
      "  result = getattr(ufunc, method)(*inputs, **kwargs)\n",
      "/home/moon/vargatn/anaconda3/envs/galsim/lib/python3.7/site-packages/pandas/core/arraylike.py:358: RuntimeWarning: divide by zero encountered in log10\n",
      "  result = getattr(ufunc, method)(*inputs, **kwargs)\n"
     ]
    },
    {
     "name": "stdout",
     "output_type": "stream",
     "text": [
      "1 (-0.5, 0.0)\n"
     ]
    },
    {
     "name": "stderr",
     "output_type": "stream",
     "text": [
      "/home/moon/vargatn/anaconda3/envs/galsim/lib/python3.7/site-packages/pandas/core/arraylike.py:358: RuntimeWarning: divide by zero encountered in log10\n",
      "  result = getattr(ufunc, method)(*inputs, **kwargs)\n",
      "/home/moon/vargatn/anaconda3/envs/galsim/lib/python3.7/site-packages/pandas/core/arraylike.py:358: RuntimeWarning: divide by zero encountered in log10\n",
      "  result = getattr(ufunc, method)(*inputs, **kwargs)\n"
     ]
    },
    {
     "name": "stdout",
     "output_type": "stream",
     "text": [
      "2 (0, 0.5)\n"
     ]
    },
    {
     "name": "stderr",
     "output_type": "stream",
     "text": [
      "/home/moon/vargatn/anaconda3/envs/galsim/lib/python3.7/site-packages/pandas/core/arraylike.py:358: RuntimeWarning: divide by zero encountered in log10\n",
      "  result = getattr(ufunc, method)(*inputs, **kwargs)\n",
      "/home/moon/vargatn/anaconda3/envs/galsim/lib/python3.7/site-packages/pandas/core/arraylike.py:358: RuntimeWarning: divide by zero encountered in log10\n",
      "  result = getattr(ufunc, method)(*inputs, **kwargs)\n"
     ]
    }
   ],
   "source": [
    "magcol = \"mag_i\"\n",
    "magcol_sample = \"MAG_I\"\n",
    "rcol = \"LOGR\"\n",
    "mag_lims = (17, 22.5)\n",
    "medges = np.linspace(17, 22.5, 6)\n",
    "medges2 = np.linspace(22.5, 24.5, 4)\n",
    "\n",
    "mag_slices = [(17, 19), (19, 20), (20, 21), (21, 22), (22, 22.5)]\n",
    "\n",
    "r_lims_all = [(-1.5, -0.5), (-0.5, 0.), (0, 0.5), (0.5, 1.0)]\n",
    "redges = [-1.5, -0.5, 0., 0.5, 1.0]\n",
    "rareas = np.array([np.pi*((10**redges[i+1])**2. - (10**redges[i])**2.) for i in np.arange(len(redges)-1)])\n",
    "\n",
    "\n",
    "ii = ((table[magcol] > mag_lims[0]) & (table[magcol] < mag_lims[1]))\n",
    "\n",
    "clust_los_nums = np.histogram(np.log10(table[ii][\"R\"]), bins=redges)[0] / 41 # / nc\n",
    "\n",
    "ii = ((refpixel[magcol] > mag_lims[0]) & (refpixel[magcol] < mag_lims[1]))\n",
    "surfdens = len(refpixel[ii]) / hp.nside2pixarea(32, degrees=True) / 3600 / 3\n",
    "rands_los_nums = surfdens * rareas\n",
    "# rands_los_nums = np.histogram(np.log10(refpixel[ii][\"R\"]), bins=redges)[0] / rareas#* ratio# / nr\n",
    "nratios = np.max((clust_los_nums / rands_los_nums, np.ones(4)), axis=0)\n",
    "# TODO there is a footprint masking bug which is fixed in the above line\n",
    "\n",
    "frac = 1. / (clust_los_nums / rands_los_nums)\n",
    "fac = 1\n",
    "clust_nums_to_draw = clust_los_nums * (1 - frac) * fac\n",
    "rands_nums_to_draw = rands_los_nums * fac\n",
    "\n",
    "\n",
    "maglim_max1 = 22.5\n",
    "maglim_max2 = 24.5\n",
    "clust_gals = []\n",
    "field_gals = []\n",
    "\n",
    "# Becouse of the above surface density bug, we restrict the radial range to the inner 3 radial ranges\n",
    "for rbin, r_lims in enumerate(r_lims_all[:3]):\n",
    "    print(rbin, r_lims)\n",
    "\n",
    "    #######################################\n",
    "    sample = csamples[rbin]\n",
    "\n",
    "    ii = ((np.log10(table[\"R\"]) > r_lims[0]) & (np.log10(table[\"R\"]) < r_lims[1]))\n",
    "    vals = np.histogram(table[ii][magcol], bins=medges)[0]\n",
    "    vals = vals / vals.sum()\n",
    "\n",
    "    for i in np.arange(len(medges) - 1):\n",
    "        _n_to_draw = clust_nums_to_draw[rbin] * vals[i]\n",
    "        n_to_draw = np.random.poisson(_n_to_draw)\n",
    "\n",
    "        index = ((sample[magcol_sample] > medges[i]) & (sample[magcol_sample] < medges[i + 1]) &\n",
    "                 (sample[rcol] > r_lims[0]) & (sample[rcol] < r_lims[1])).values.astype(bool)\n",
    "        ii = np.random.randint(0, len(sample.iloc[index]), size=n_to_draw)\n",
    "        tmp = sample.iloc[index].iloc[ii]\n",
    "        if len(tmp):\n",
    "            clust_gals.append(tmp)   \n",
    "\n",
    "    ii = ((sample[magcol_sample] > mag_lims[0]) & (sample[magcol_sample] < maglim_max1) &\n",
    "          (sample[rcol] > r_lims[0]) & (sample[rcol] < r_lims[1]))\n",
    "    num1 = len(sample[ii])\n",
    "# \n",
    "    ii = ((sample[magcol_sample] > maglim_max1) & (sample[magcol_sample] < maglim_max2) &\n",
    "          (sample[rcol] > r_lims[0]) & (sample[rcol] < r_lims[1]))\n",
    "    num2 = len(sample[ii])\n",
    "    fac_clust = num2 / num1\n",
    "\n",
    "    vals = np.histogram(sample[magcol_sample], bins=medges2)[0]\n",
    "    vals = vals / vals.sum()\n",
    "    for i in np.arange(len(medges2) - 1):\n",
    "        _n_to_draw = clust_nums_to_draw[rbin] * vals[i] * fac_clust\n",
    "        n_to_draw = np.random.poisson(_n_to_draw)\n",
    "\n",
    "        index = ((sample[magcol_sample] > medges2[i]) & (sample[magcol_sample] < medges2[i + 1]) &\n",
    "        (sample[rcol] > r_lims[0]) & (sample[rcol] < r_lims[1])).values.astype(bool)\n",
    "#         ii = np.random.randint(0, len(sample.iloc[index]), size=n_to_draw)\n",
    "#         tmp = sample.iloc[index].iloc[ii]\n",
    "        if len(tmp):\n",
    "            clust_gals.append(tmp)   \n",
    "\n",
    "\n",
    "\n",
    "gals = pd.concat(clust_gals, sort=True)\n",
    "gals[\"Z\"] = 0.325\n"
   ]
  },
  {
   "cell_type": "code",
   "execution_count": 25,
   "id": "09b13c57",
   "metadata": {},
   "outputs": [
    {
     "data": {
      "text/html": [
       "<div>\n",
       "<style scoped>\n",
       "    .dataframe tbody tr th:only-of-type {\n",
       "        vertical-align: middle;\n",
       "    }\n",
       "\n",
       "    .dataframe tbody tr th {\n",
       "        vertical-align: top;\n",
       "    }\n",
       "\n",
       "    .dataframe thead th {\n",
       "        text-align: right;\n",
       "    }\n",
       "</style>\n",
       "<table border=\"1\" class=\"dataframe\">\n",
       "  <thead>\n",
       "    <tr style=\"text-align: right;\">\n",
       "      <th></th>\n",
       "      <th>COLOR_G_R</th>\n",
       "      <th>COLOR_I_Z</th>\n",
       "      <th>COLOR_R_I</th>\n",
       "      <th>GABS</th>\n",
       "      <th>HALO_MASS</th>\n",
       "      <th>LOGR</th>\n",
       "      <th>MAG_I</th>\n",
       "      <th>SIZE</th>\n",
       "      <th>STELLAR_MASS</th>\n",
       "      <th>Z</th>\n",
       "    </tr>\n",
       "  </thead>\n",
       "  <tbody>\n",
       "    <tr>\n",
       "      <th>1619489</th>\n",
       "      <td>1.384964</td>\n",
       "      <td>0.233583</td>\n",
       "      <td>0.585882</td>\n",
       "      <td>0.036762</td>\n",
       "      <td>12.022734</td>\n",
       "      <td>-0.796144</td>\n",
       "      <td>20.138684</td>\n",
       "      <td>-0.327499</td>\n",
       "      <td>9.450270</td>\n",
       "      <td>0.325</td>\n",
       "    </tr>\n",
       "    <tr>\n",
       "      <th>1192964</th>\n",
       "      <td>1.492789</td>\n",
       "      <td>0.307177</td>\n",
       "      <td>0.569517</td>\n",
       "      <td>0.020267</td>\n",
       "      <td>11.651747</td>\n",
       "      <td>-1.042950</td>\n",
       "      <td>21.471491</td>\n",
       "      <td>-0.309659</td>\n",
       "      <td>9.788993</td>\n",
       "      <td>0.325</td>\n",
       "    </tr>\n",
       "    <tr>\n",
       "      <th>1192964</th>\n",
       "      <td>1.492789</td>\n",
       "      <td>0.307177</td>\n",
       "      <td>0.569517</td>\n",
       "      <td>0.020267</td>\n",
       "      <td>11.651747</td>\n",
       "      <td>-1.042950</td>\n",
       "      <td>21.471491</td>\n",
       "      <td>-0.309659</td>\n",
       "      <td>9.788993</td>\n",
       "      <td>0.325</td>\n",
       "    </tr>\n",
       "    <tr>\n",
       "      <th>1192964</th>\n",
       "      <td>1.492789</td>\n",
       "      <td>0.307177</td>\n",
       "      <td>0.569517</td>\n",
       "      <td>0.020267</td>\n",
       "      <td>11.651747</td>\n",
       "      <td>-1.042950</td>\n",
       "      <td>21.471491</td>\n",
       "      <td>-0.309659</td>\n",
       "      <td>9.788993</td>\n",
       "      <td>0.325</td>\n",
       "    </tr>\n",
       "    <tr>\n",
       "      <th>1192964</th>\n",
       "      <td>1.492789</td>\n",
       "      <td>0.307177</td>\n",
       "      <td>0.569517</td>\n",
       "      <td>0.020267</td>\n",
       "      <td>11.651747</td>\n",
       "      <td>-1.042950</td>\n",
       "      <td>21.471491</td>\n",
       "      <td>-0.309659</td>\n",
       "      <td>9.788993</td>\n",
       "      <td>0.325</td>\n",
       "    </tr>\n",
       "    <tr>\n",
       "      <th>...</th>\n",
       "      <td>...</td>\n",
       "      <td>...</td>\n",
       "      <td>...</td>\n",
       "      <td>...</td>\n",
       "      <td>...</td>\n",
       "      <td>...</td>\n",
       "      <td>...</td>\n",
       "      <td>...</td>\n",
       "      <td>...</td>\n",
       "      <td>...</td>\n",
       "    </tr>\n",
       "    <tr>\n",
       "      <th>609687</th>\n",
       "      <td>1.400054</td>\n",
       "      <td>0.332818</td>\n",
       "      <td>0.597091</td>\n",
       "      <td>0.063881</td>\n",
       "      <td>11.589707</td>\n",
       "      <td>0.118166</td>\n",
       "      <td>21.541337</td>\n",
       "      <td>-0.157584</td>\n",
       "      <td>9.819496</td>\n",
       "      <td>0.325</td>\n",
       "    </tr>\n",
       "    <tr>\n",
       "      <th>338557</th>\n",
       "      <td>0.751945</td>\n",
       "      <td>0.167074</td>\n",
       "      <td>0.267254</td>\n",
       "      <td>0.082572</td>\n",
       "      <td>11.038210</td>\n",
       "      <td>0.458294</td>\n",
       "      <td>21.659119</td>\n",
       "      <td>-0.608504</td>\n",
       "      <td>8.313305</td>\n",
       "      <td>0.325</td>\n",
       "    </tr>\n",
       "    <tr>\n",
       "      <th>3343833</th>\n",
       "      <td>1.576798</td>\n",
       "      <td>0.356889</td>\n",
       "      <td>1.130035</td>\n",
       "      <td>0.106113</td>\n",
       "      <td>13.801876</td>\n",
       "      <td>0.286246</td>\n",
       "      <td>22.010317</td>\n",
       "      <td>-0.488700</td>\n",
       "      <td>10.069775</td>\n",
       "      <td>0.325</td>\n",
       "    </tr>\n",
       "    <tr>\n",
       "      <th>575315</th>\n",
       "      <td>1.000157</td>\n",
       "      <td>0.148726</td>\n",
       "      <td>0.360179</td>\n",
       "      <td>0.278130</td>\n",
       "      <td>10.698499</td>\n",
       "      <td>0.405593</td>\n",
       "      <td>22.191728</td>\n",
       "      <td>-0.816699</td>\n",
       "      <td>8.511283</td>\n",
       "      <td>0.325</td>\n",
       "    </tr>\n",
       "    <tr>\n",
       "      <th>3909728</th>\n",
       "      <td>0.992351</td>\n",
       "      <td>0.272599</td>\n",
       "      <td>0.842966</td>\n",
       "      <td>0.037103</td>\n",
       "      <td>11.746734</td>\n",
       "      <td>0.380096</td>\n",
       "      <td>21.519673</td>\n",
       "      <td>-0.379702</td>\n",
       "      <td>10.520264</td>\n",
       "      <td>0.325</td>\n",
       "    </tr>\n",
       "  </tbody>\n",
       "</table>\n",
       "<p>111 rows × 10 columns</p>\n",
       "</div>"
      ],
      "text/plain": [
       "         COLOR_G_R  COLOR_I_Z  COLOR_R_I      GABS  HALO_MASS      LOGR  \\\n",
       "1619489   1.384964   0.233583   0.585882  0.036762  12.022734 -0.796144   \n",
       "1192964   1.492789   0.307177   0.569517  0.020267  11.651747 -1.042950   \n",
       "1192964   1.492789   0.307177   0.569517  0.020267  11.651747 -1.042950   \n",
       "1192964   1.492789   0.307177   0.569517  0.020267  11.651747 -1.042950   \n",
       "1192964   1.492789   0.307177   0.569517  0.020267  11.651747 -1.042950   \n",
       "...            ...        ...        ...       ...        ...       ...   \n",
       "609687    1.400054   0.332818   0.597091  0.063881  11.589707  0.118166   \n",
       "338557    0.751945   0.167074   0.267254  0.082572  11.038210  0.458294   \n",
       "3343833   1.576798   0.356889   1.130035  0.106113  13.801876  0.286246   \n",
       "575315    1.000157   0.148726   0.360179  0.278130  10.698499  0.405593   \n",
       "3909728   0.992351   0.272599   0.842966  0.037103  11.746734  0.380096   \n",
       "\n",
       "             MAG_I      SIZE  STELLAR_MASS      Z  \n",
       "1619489  20.138684 -0.327499      9.450270  0.325  \n",
       "1192964  21.471491 -0.309659      9.788993  0.325  \n",
       "1192964  21.471491 -0.309659      9.788993  0.325  \n",
       "1192964  21.471491 -0.309659      9.788993  0.325  \n",
       "1192964  21.471491 -0.309659      9.788993  0.325  \n",
       "...            ...       ...           ...    ...  \n",
       "609687   21.541337 -0.157584      9.819496  0.325  \n",
       "338557   21.659119 -0.608504      8.313305  0.325  \n",
       "3343833  22.010317 -0.488700     10.069775  0.325  \n",
       "575315   22.191728 -0.816699      8.511283  0.325  \n",
       "3909728  21.519673 -0.379702     10.520264  0.325  \n",
       "\n",
       "[111 rows x 10 columns]"
      ]
     },
     "execution_count": 25,
     "metadata": {},
     "output_type": "execute_result"
    }
   ],
   "source": [
    "gals"
   ]
  },
  {
   "cell_type": "code",
   "execution_count": null,
   "id": "5166717e",
   "metadata": {},
   "outputs": [],
   "source": []
  }
 ],
 "metadata": {
  "kernelspec": {
   "display_name": "Python 3 (ipykernel)",
   "language": "python",
   "name": "python3"
  },
  "language_info": {
   "codemirror_mode": {
    "name": "ipython",
    "version": 3
   },
   "file_extension": ".py",
   "mimetype": "text/x-python",
   "name": "python",
   "nbconvert_exporter": "python",
   "pygments_lexer": "ipython3",
   "version": "3.7.4"
  },
  "toc": {
   "base_numbering": 1,
   "nav_menu": {},
   "number_sections": true,
   "sideBar": true,
   "skip_h1_title": false,
   "title_cell": "Table of Contents",
   "title_sidebar": "Contents",
   "toc_cell": false,
   "toc_position": {},
   "toc_section_display": true,
   "toc_window_display": false
  },
  "widgets": {
   "state": {},
   "version": "1.0.0"
  }
 },
 "nbformat": 4,
 "nbformat_minor": 5
}
