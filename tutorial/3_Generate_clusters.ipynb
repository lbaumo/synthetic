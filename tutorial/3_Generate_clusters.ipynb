{
 "cells": [
  {
   "cell_type": "markdown",
   "id": "5c31a4a1",
   "metadata": {},
   "source": [
    "# Inspecting synthetic galaxy catalogs\n",
    "\n",
    "The purpose of this notebook is to run create a large sample of synthetic cluster members.  Later on these synthetic cluster members will be used to populate synthetic galaxy clusters\n",
    "\n",
    "\n",
    "## Objectives\n",
    "\n",
    "\n",
    "\n",
    "\n",
    "## Setup\n",
    "\n",
    "This notebook relies on two prerequisites:\n",
    "\n",
    "    * Data files from the previous calculation step. That is the output of the rejection sampling\n",
    "    * synthetic software package. The host package of this tutorial\n",
    "\n",
    "\n",
    "## Output\n",
    "\n",
    "The outuput of this claculation is a very large set of synthetic galaxies sampled from the\n",
    "    \n",
    "    * galaxy clusters member model\n",
    "    * reference line of sight model\n",
    "    \n",
    "## Contact\n",
    "\n",
    "In case of questions, contact me at t.varga@physik.lmu.de"
   ]
  },
  {
   "cell_type": "code",
   "execution_count": 1,
   "id": "593cdeca",
   "metadata": {},
   "outputs": [],
   "source": [
    "from importlib import reload\n",
    "import fitsio as fio\n",
    "import numpy as np\n",
    "import pandas as pd\n",
    "\n",
    "import healpy as hp\n",
    "import copy\n",
    "import sys\n",
    "import glob\n",
    "import os\n",
    "import matplotlib.pyplot as plt\n",
    "%matplotlib inline\n",
    "\n",
    "import sklearn.decomposition as decomp\n",
    "\n",
    "\n",
    "import matplotlib as mpl\n",
    "import subprocess as sp\n",
    "import scipy.interpolate as interpolate\n",
    "import pickle as pickle\n",
    "\n",
    "import multiprocessing as mp\n",
    "\n",
    "import synthetic.tools as tools\n",
    "import synthetic.emulator.emulator as emulator\n",
    "import synthetic.emulator.indexer as indexer\n",
    "import synthetic.emulator.reader as reader"
   ]
  },
  {
   "cell_type": "markdown",
   "id": "21329b8c",
   "metadata": {},
   "source": [
    "# Preparation"
   ]
  },
  {
   "cell_type": "markdown",
   "id": "b7a83ab3",
   "metadata": {},
   "source": [
    "The data files for this example calculation are pre packaged, and should be downloaded from a link provided upon request.\n",
    "\n",
    "    1 dc2-alpha_concentric_sample-v01_test-03.tar.gz\n",
    "    2 dc2_cluster_sim_cutouts/cosmoDC2_v1.1.4_refpixels.h5\n",
    "    3 dc2_cluster_sim_cutouts/clust_dc2-sim-LOS_v1.h5\n",
    "    \n",
    "These should be downloaded and placed in a file structure such that\n",
    "\n",
    "    /root/\n",
    "    |----/resamples/ \n",
    "    |----/dc2-alpha_concentric_sample-v01_test-03.tar.gz\n",
    "    |----/dc2_cluster_sim_cutouts/cosmoDC2_v1.1.4_refpixels.h5\n",
    "    |----/dc2_cluster_sim_cutouts/clust_dc2-sim-LOS_v1.h5\n",
    "    \n",
    "from within the root folder, extract the .tar.gz file using the command\n",
    "\n",
    "    tar xzf dc2-alpha_concentric_sample-v01_test-03.tar.gz -C  resamples --strip-components 1    \n",
    "    \n",
    "This should yield a file structure\n",
    " \n",
    "     /root/\n",
    "    |----/resamples/dc2-alpha_concentric_sample-v01_test-03_run0_1846435878_rbin0.p\n",
    "    |----/resamples/dc2-alpha_concentric_sample-v01_test-03_run0_1846435878_rbin0_samples.fits\n",
    "    |----/resamples/dc2-alpha_concentric_sample-v01_test-03_run0_1846435878_rbin0_scores.fits\n",
    "    |----/resamples/dc2-alpha_concentric_sample-v01_test-03_run0_1846435878_rbin1.p\n",
    "    |----/resamples/dc2-alpha_concentric_sample-v01_test-03_run0_1846435878_rbin1_samples.fits\n",
    "    |----/resamples/dc2-alpha_concentric_sample-v01_test-03_run0_1846435878_rbin1_scores.fits\n",
    "            .\n",
    "            .\n",
    "            .\n",
    "    |----/dc2-alpha_concentric_sample-v01_test-03.tar.gz\n",
    "    |----/dc2_cluster_sim_cutouts/cosmoDC2_v1.1.4_refpixels.h5\n",
    "    |----/dc2_cluster_sim_cutouts/clust_dc2-sim-LOS_v1.h5"
   ]
  },
  {
   "cell_type": "code",
   "execution_count": 3,
   "id": "1b6d4b3e",
   "metadata": {},
   "outputs": [],
   "source": [
    "# YOU SHOULD CHANGE THE ROOT PATH TO YOUR OWN PATH\n",
    "root_path = \"/e/ocean1/users/vargatn/LSST/DC2_1.1.4/clusters_v01/\"\n",
    "deep_data_path = root_path + \"dc2_cluster_sim_cutouts/cosmoDC2_v1.1.4_refpixels.h5\"\n",
    "wide_data_path = root_path + \"dc2_cluster_sim_cutouts/clust_dc2-sim-LOS_v1.h5\""
   ]
  },
  {
   "cell_type": "code",
   "execution_count": null,
   "id": "76739368",
   "metadata": {},
   "outputs": [],
   "source": [
    "tag_root = \"dc2-alpha_concentric_sample-v01_test-03\"\n",
    "NREPEATS = 4 \n",
    "NSAMPLES = 1600000 # number of samples drawn at eac\n",
    "NCHUNKS = 160 # number of parallel samples drawn in the previous computation step\n",
    "bandwidth = 0.1 # the KDE bandwidth for the calculation (defined in eigien-direction standard deviations)"
   ]
  },
  {
   "cell_type": "code",
   "execution_count": null,
   "id": "614dd382",
   "metadata": {},
   "outputs": [],
   "source": [
    "tag_root = \"dc2-alpha_concentric_sample-v01_test-03\"\n",
    "NREPEATS = 4\n",
    "NSAMPLES = 1600000\n",
    "NCHUNKS = 160\n",
    "bandwidth=0.1\n",
    "\n",
    "\n",
    "LOGR_DRAW_RMINS = np.array([-3, -0.5, 0., 0.5])\n",
    "LOGR_DRAW_RMAXS = np.array([-0.5, 0., 0.5, 1.2])\n",
    "LOGR_CAT_RMAXS = [0., 0.5, 1.1, 1.2]\n",
    "\n",
    "deep_smc_settings = {\n",
    "    \"columns\": [\n",
    "        (\"GABS\", (\"ellipticity_1_true\", \"ellipticity_2_true\", \"SQSUM\")),\n",
    "        (\"SIZE\", \"size_true\"),\n",
    "        (\"MAG_I\", \"mag_i\"),\n",
    "        (\"COLOR_G_R\", (\"mag_g\", \"mag_r\", \"-\")),\n",
    "        (\"COLOR_R_I\", (\"mag_r\", \"mag_i\", \"-\")),\n",
    "        (\"COLOR_I_Z\", (\"mag_i\", \"mag_z\", \"-\")),\n",
    "        (\"STELLAR_MASS\", \"stellar_mass\"),\n",
    "        (\"HALO_MASS\", \"halo_mass\")        \n",
    "    ],\n",
    "    \"logs\": [False, True, False, False, False, False, True, True],\n",
    "    \"limits\": [(0., 1.), (-1, 5), (17, 25), (-1, 3), (-1, 3), (-1, 3), (10**3, 10**13), (10**9, 10**16)],\n",
    "}\n",
    "\n",
    "wide_cr_settings = {\n",
    "    \"columns\": [\n",
    "        (\"GABS\", (\"ellipticity_1_true\", \"ellipticity_2_true\", \"SQSUM\")),\n",
    "        (\"SIZE\", \"size_true\"),\n",
    "        (\"MAG_I\", \"mag_i\"),\n",
    "        (\"COLOR_G_R\", (\"mag_g\", \"mag_r\", \"-\")),\n",
    "        (\"COLOR_R_I\", (\"mag_r\", \"mag_i\", \"-\")),\n",
    "        (\"COLOR_I_Z\", (\"mag_i\", \"mag_z\", \"-\")),\n",
    "        (\"STELLAR_MASS\", \"stellar_mass\"),\n",
    "        (\"HALO_MASS\", \"halo_mass\"),\n",
    "        (\"LOGR\", \"R\"),        \n",
    "    ],\n",
    "    \"logs\": [False, True, False, False, False, False, True, True, True],\n",
    "    \"limits\": [(0., 1.), (-1, 5), (17, 25), (-1, 3), (-1, 3), (-1, 3), (10**3, 10**13), (10**9, 10**16), (1e-3, 16)],\n",
    "}\n",
    "\n",
    "columns = {\n",
    "    \"cols_dc\": [\"COLOR_G_R\", \"COLOR_R_I\",],\n",
    "    \"cols_wr\": [\"LOGR\",],\n",
    "    \"cols_wcr\": [\"COLOR_G_R\", \"COLOR_R_I\", \"LOGR\",],\n",
    "}\n"
   ]
  },
  {
   "cell_type": "code",
   "execution_count": null,
   "id": "d6460188",
   "metadata": {},
   "outputs": [],
   "source": [
    "refpixel = pd.read_hdf(deep_data_path, key=\"data\")\n",
    "table = pd.read_hdf(wide_data_path, key=\"data\")"
   ]
  },
  {
   "cell_type": "code",
   "execution_count": null,
   "id": "4d43520c",
   "metadata": {},
   "outputs": [],
   "source": [
    "tmp_wide_cr_settings = wide_cr_settings.copy()\n",
    "# tmp_wide_cr_settings[\"limits\"][-1] = (10**-3, 10**LOGR_CAT_RMAXS[i])\n",
    "_wide_cr_settings_rands = emulator.construct_deep_container(refpixel, tmp_wide_cr_settings)\n",
    "\n",
    "# loading deep catalogs\n",
    "_deep_smc_settings = emulator.construct_deep_container(refpixel, deep_smc_settings)\n",
    "\n",
    "# loading cluster data\n",
    "tmp_wide_cr_settings = wide_cr_settings.copy()\n",
    "# tmp_wide_cr_settings[\"limits\"][-1] = (10**-3, 10**LOGR_CAT_RMAXS[i])\n",
    "_wide_cr_settings_clust = emulator.construct_deep_container(table, tmp_wide_cr_settings)\n"
   ]
  },
  {
   "cell_type": "code",
   "execution_count": null,
   "id": "4c90682d",
   "metadata": {},
   "outputs": [],
   "source": [
    "samples = []\n",
    "scores = []\n",
    "for rbin in np.arange(4):\n",
    "    print(rbin)\n",
    "#     expr = \"/e/ocean1/users/vargatn/EMULATOR/EPSILON/resamples/epsilon_concentric_sample_v06_run*_rbin\" + str(rbin) + \"*samples.fits\" \n",
    "    expr = \"/e/ocean1/users/vargatn/LSST/DC2_1.1.4/clusters_v01/resamples/dc2-alpha_concentric_sample-v01_test-03/dc2-alpha_concentric_sample-v01_test-03_run0*_rbin\" + str(rbin) + \"*samples.fits\" \n",
    "\n",
    "    fnames_samples = np.sort(glob.glob(expr))\n",
    "    fnames_scores = []\n",
    "    for fname in fnames_samples:\n",
    "        fnames_scores.append(fname.replace(\"samples.fits\", \"scores.fits\"))\n",
    "\n",
    "    samples_sep = []\n",
    "    scores_sep = []\n",
    "    for i, fname in enumerate(fnames_samples):\n",
    "#         print(fname)\n",
    "        samples_sep.append(fio.read(fname))\n",
    "        scores_sep.append(fio.read(fnames_scores[i]))\n",
    "        \n",
    "    samples.append(np.hstack(samples_sep))\n",
    "    scores.append(np.hstack(scores_sep))"
   ]
  },
  {
   "cell_type": "code",
   "execution_count": null,
   "id": "56e706f1",
   "metadata": {},
   "outputs": [],
   "source": [
    "\n",
    "\n",
    "mag_lims = (17, 22.5)\n",
    "r_lims_all = [(-1.5, -0.5), (-0.5, 0.), (0, 0.5), (0.5, 1.0)]\n",
    "redges = [-1.5, -0.5, 0., 0.5, 1.0]\n",
    "rareas = np.array([np.pi*((10**redges[i+1])**2. - (10**redges[i])**2.) for i in np.arange(len(redges)-1)])\n",
    "\n"
   ]
  },
  {
   "cell_type": "code",
   "execution_count": null,
   "id": "7c4bd83a",
   "metadata": {},
   "outputs": [],
   "source": [
    "\n",
    "\n",
    "magcol = \"mag_i\"\n",
    "ii = ((table[magcol] > mag_lims[0]) & (table[magcol] < mag_lims[1]))\n",
    "\n",
    "clust_los_nums = np.histogram(np.log10(table[ii][\"R\"]), bins=redges)[0] / 41 # / nc\n",
    "\n",
    "ii = ((refpixel[magcol] > mag_lims[0]) & (refpixel[magcol] < mag_lims[1]))\n",
    "surfdens = len(refpixel[ii]) / hp.nside2pixarea(32, degrees=True) / 3600 / 3\n",
    "rands_los_nums = surfdens * rareas\n",
    "# rands_los_nums = np.histogram(np.log10(refpixel[ii][\"R\"]), bins=redges)[0] / rareas#* ratio# / nr\n",
    "nratios = clust_los_nums / rands_los_nums\n",
    "\n"
   ]
  },
  {
   "cell_type": "code",
   "execution_count": null,
   "id": "21c1e8e2",
   "metadata": {},
   "outputs": [],
   "source": [
    "\n",
    "\n",
    "ifields2 = []\n",
    "iclusts2 = []\n",
    "i2ds2 = []\n",
    "for rbin in np.arange(4):\n",
    "    print(rbin)\n",
    "    _ifield, _iclust, _i2d = reader.result_reader2(samples[rbin], scores[rbin], nratio=nratios[rbin], m_factor=100, seed=rbin)\n",
    "    ifields2.append(_ifield)\n",
    "    iclusts2.append(_iclust)\n",
    "    i2ds2.append(_i2d)\n",
    "\n"
   ]
  },
  {
   "cell_type": "code",
   "execution_count": null,
   "id": "4995f3cb",
   "metadata": {},
   "outputs": [],
   "source": [
    "\n",
    "\n",
    "csamples = []\n",
    "for rbin in np.arange(4):\n",
    "    print(rbin)\n",
    "    tab = pd.DataFrame.from_records(samples[rbin][iclusts2[rbin]].byteswap().newbyteorder())\n",
    "    tab.drop('index', axis=1, inplace=True)\n",
    "    kde = emulator.KDEContainer(tab)\n",
    "    kde.standardize_data()\n",
    "    kde.construct_kde(0.1)\n",
    "    _csample = kde.random_draw(4e6)\n",
    "    csamples.append(_csample)\n",
    "\n"
   ]
  },
  {
   "cell_type": "code",
   "execution_count": null,
   "id": "73fc37a6",
   "metadata": {},
   "outputs": [],
   "source": [
    "opath = \"/e/ocean1/users/vargatn/LSST/SYNTHETIC/csamples_nov_dev_01.h5\""
   ]
  },
  {
   "cell_type": "code",
   "execution_count": null,
   "id": "aeeb1f6d",
   "metadata": {},
   "outputs": [],
   "source": [
    "tools.save(opath, csamples)"
   ]
  },
  {
   "cell_type": "code",
   "execution_count": null,
   "id": "7e9289ea",
   "metadata": {},
   "outputs": [],
   "source": [
    "ctab = _wide_cr_settings_clust[\"container\"].data\n",
    "rtab = _wide_cr_settings_rands[\"container\"].data"
   ]
  },
  {
   "cell_type": "code",
   "execution_count": null,
   "id": "c8b37ddb",
   "metadata": {},
   "outputs": [],
   "source": [
    "opath = \"/e/ocean1/users/vargatn/LSST/SYNTHETIC/csamples_nov_dev_01_ctab.h5\"\n",
    "ctab.to_hdf(opath, key=\"data\")\n",
    "opath = \"/e/ocean1/users/vargatn/LSST/SYNTHETIC/csamples_nov_dev_01_rtab.h5\"\n",
    "rtab.to_hdf(opath, key=\"data\")"
   ]
  }
 ],
 "metadata": {
  "kernelspec": {
   "display_name": "Python 3 (ipykernel)",
   "language": "python",
   "name": "python3"
  },
  "language_info": {
   "codemirror_mode": {
    "name": "ipython",
    "version": 3
   },
   "file_extension": ".py",
   "mimetype": "text/x-python",
   "name": "python",
   "nbconvert_exporter": "python",
   "pygments_lexer": "ipython3",
   "version": "3.7.4"
  },
  "toc": {
   "base_numbering": 1,
   "nav_menu": {},
   "number_sections": true,
   "sideBar": true,
   "skip_h1_title": false,
   "title_cell": "Table of Contents",
   "title_sidebar": "Contents",
   "toc_cell": false,
   "toc_position": {},
   "toc_section_display": true,
   "toc_window_display": false
  },
  "widgets": {
   "state": {},
   "version": "1.0.0"
  }
 },
 "nbformat": 4,
 "nbformat_minor": 5
}
