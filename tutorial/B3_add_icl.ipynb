{
 "cells": [
  {
   "cell_type": "markdown",
   "id": "ae279902",
   "metadata": {},
   "source": [
    "# B3 Add Intra Cluster Light onto cluster injections\n",
    "\n",
    "\n",
    "In this notebook we apply the intra cluster light onto images of synthetic galaxy cluster images\n",
    "\n",
    "\n",
    "## Objectives\n",
    "\n",
    "    1 Learn to render intra cluster light as a synthetic image\n",
    "    \n",
    "    2 apply intra cluster light to the rendered images\n",
    "\n",
    "\n",
    "## Setup\n",
    "\n",
    "This notebook relies on the:\n",
    "\n",
    "    * synthetic package & dependencies\n",
    "    \n",
    "    * DC2 cutotut data files on disk\n",
    "    \n",
    "    * curated galaxy cluster member catalog (A4 notebook)\n",
    "    \n",
    "    * cluster injection and rendering (B2 notebook)\n",
    "    \n",
    "\n",
    "\n",
    "## Output\n",
    "\n",
    "    * fits image in g, r, i band with clusters and ICL injected\n",
    "    \n",
    "    * color composite image for visualization with cluster and ICL injected\n",
    " \n",
    "    \n",
    "The output files are placed in the `./data/` folder\n",
    "\n",
    "\n",
    "## Contact\n",
    "\n",
    "In case of questions, contact me at t.varga@physik.lmu.de"
   ]
  },
  {
   "cell_type": "code",
   "execution_count": null,
   "id": "2367ea35",
   "metadata": {},
   "outputs": [],
   "source": []
  }
 ],
 "metadata": {
  "kernelspec": {
   "display_name": "Python 3 (ipykernel)",
   "language": "python",
   "name": "python3"
  },
  "language_info": {
   "codemirror_mode": {
    "name": "ipython",
    "version": 3
   },
   "file_extension": ".py",
   "mimetype": "text/x-python",
   "name": "python",
   "nbconvert_exporter": "python",
   "pygments_lexer": "ipython3",
   "version": "3.7.4"
  },
  "toc": {
   "base_numbering": 1,
   "nav_menu": {},
   "number_sections": true,
   "sideBar": true,
   "skip_h1_title": false,
   "title_cell": "Table of Contents",
   "title_sidebar": "Contents",
   "toc_cell": false,
   "toc_position": {},
   "toc_section_display": true,
   "toc_window_display": false
  },
  "widgets": {
   "state": {},
   "version": "1.0.0"
  }
 },
 "nbformat": 4,
 "nbformat_minor": 5
}
