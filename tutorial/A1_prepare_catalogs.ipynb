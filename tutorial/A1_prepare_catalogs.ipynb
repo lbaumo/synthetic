{
 "cells": [
  {
   "cell_type": "markdown",
   "id": "44c26b71",
   "metadata": {},
   "source": [
    "# A1 Prepare catalogs\n",
    "\n",
    "The purpose of this notebook is to run create a large sample of synthetic cluster members.  Later on these synthetic cluster members will be used to populate synthetic galaxy clusters\n",
    "\n",
    "\n",
    "## Objectives\n",
    "\n",
    "\n",
    "\n",
    "\n",
    "## Setup\n",
    "\n",
    "This notebook relies on two prerequisites:\n",
    "\n",
    "    * Data files from the previous calculation step. That is the output of the rejection sampling\n",
    "    * synthetic software package. The host package of this tutorial\n",
    "\n",
    "\n",
    "## Output\n",
    "\n",
    "The outuput of this calculation is a very large set of synthetic galaxies sampled from the\n",
    "    \n",
    "    * galaxy clusters member model\n",
    "    * reference line of sight model\n",
    "    \n",
    "## Contact\n",
    "\n",
    "In case of questions, contact me at t.varga@physik.lmu.de"
   ]
  },
  {
   "cell_type": "markdown",
   "id": "90d76328",
   "metadata": {},
   "source": [
    "To refactor into above\n",
    "\n",
    "Synthetic Cluster Generation Tutorial Part 1: Data Preparation\n",
    "\n",
    "Owner: Tamas Norbert Varga @vargatn\n",
    "\n",
    "Last Verifed to Run: 2021-09-30 (by @vargatn)\n",
    "\n",
    "This notebook will describe how to pre-process the DC2 truth catalog to extract catalog cutouts for redMaPPer cluster line-of-sights.\n",
    "\n",
    "Objectives:\n",
    "\n",
    "* Using the Generic Catalog Reader we will load the DC2 v1.1.4 truth catalog and the positions and properties of redMaPPer clusters.\n",
    "* Using healpix disc query, we will then adaptively query the angular vicinity of each cluster\n",
    "* Add the angular separation from the cluster as a new column\n",
    "* Save the cutout catalog for future calculation for each cluster. \n",
    "* Save three healpix pixel catalogs to give as an estimate of the *field* galaxy population.\n",
    "\n",
    "Logistics: This notebook is intended to be be run through the This notebook is intended to be run through the JupyterHub NERSC interface available here: https://jupyter-dev.nersc.gov. using the desc_stack_weekly kernel\n",
    "\n",
    "Other notes:\n",
    "\n",
    "* Some of the calculations in this notebook are time consuming, please be mindful of the interactive node resources.\n",
    "* some lines are commented out to avoid overwriting previous file outputs on NERSC CSCRATCH\n",
    "\n",
    "Output:\n",
    "\n",
    "The results of this notebook are made available on NERSC at /global/cscratch1/sd/tvarga/DC_DATA/dc2_cluster_sim_cutouts\n",
    "\n"
   ]
  },
  {
   "cell_type": "code",
   "execution_count": null,
   "id": "db685494",
   "metadata": {},
   "outputs": [],
   "source": []
  }
 ],
 "metadata": {
  "kernelspec": {
   "display_name": "Python 3 (ipykernel)",
   "language": "python",
   "name": "python3"
  },
  "language_info": {
   "codemirror_mode": {
    "name": "ipython",
    "version": 3
   },
   "file_extension": ".py",
   "mimetype": "text/x-python",
   "name": "python",
   "nbconvert_exporter": "python",
   "pygments_lexer": "ipython3",
   "version": "3.7.4"
  },
  "toc": {
   "base_numbering": 1,
   "nav_menu": {},
   "number_sections": true,
   "sideBar": true,
   "skip_h1_title": false,
   "title_cell": "Table of Contents",
   "title_sidebar": "Contents",
   "toc_cell": false,
   "toc_position": {},
   "toc_section_display": true,
   "toc_window_display": false
  },
  "widgets": {
   "state": {},
   "version": "1.0.0"
  }
 },
 "nbformat": 4,
 "nbformat_minor": 5
}
