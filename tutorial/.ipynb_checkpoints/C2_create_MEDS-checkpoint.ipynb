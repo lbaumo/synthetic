{
 "cells": [
  {
   "cell_type": "markdown",
   "id": "ecc36d58",
   "metadata": {},
   "source": [
    "# C2 Galaxy Cluster Injection\n",
    "\n",
    "\n",
    "In this notebook we process the rendered galaxy catalogs using the sextractor software, and transport them into a multi-epoch data system, which will later be used to interface with metacalibration\n",
    "\n",
    "\n",
    "## Objectives\n",
    "\n",
    "    1 Learn to create MEDS files \n",
    "    \n",
    "    2 Prepare for running metacalibration\n",
    " \n",
    "\n",
    "**TODO** Check the weight map, with someone expert\n",
    "\n",
    "\n",
    "## Setup\n",
    "\n",
    "This notebook relies on the:\n",
    "\n",
    "    * synthetic package & dependencies\n",
    "    \n",
    "    * prepared & curated DC2 cutout data file\n",
    "\n",
    "\n",
    "## Output\n",
    "\n",
    "    * MEDS data file\n",
    "    \n",
    "The output files are placed in the `./data/` folder\n",
    "\n",
    "\n",
    "## Contact\n",
    "\n",
    "In case of questions, contact me at t.varga@physik.lmu.de"
   ]
  },
  {
   "cell_type": "code",
   "execution_count": 47,
   "id": "ae46821f",
   "metadata": {},
   "outputs": [],
   "source": [
    "import fitsio as fio\n",
    "import numpy as np\n",
    "import pandas as pd\n",
    "import pickle as pickle\n",
    "import copy\n",
    "import glob\n",
    "\n",
    "import matplotlib as mpl\n",
    "import matplotlib.pyplot as plt\n",
    "%matplotlib inline\n",
    "\n",
    "import galsim\n",
    "import astropy.cosmology as cosmology\n",
    "\n",
    "import images # package from erin sheldon\n",
    "\n",
    "import synthetic.tools as tools\n",
    "import synthetic.render.frame as frame\n",
    "import synthetic.render.render as render\n",
    "\n",
    "import meds\n",
    "import psfex # The python wrapper\n",
    "\n",
    "pixel_scale = 0.2"
   ]
  },
  {
   "cell_type": "markdown",
   "id": "733f60db",
   "metadata": {},
   "source": [
    "# Create a rendered image we are going to work on\n",
    "\n",
    "and run source extractor\n",
    "\n",
    "This part reproduces where largely identical to the B2 left off"
   ]
  },
  {
   "cell_type": "code",
   "execution_count": 22,
   "id": "00c6ce18",
   "metadata": {},
   "outputs": [],
   "source": [
    "# File path for input DC2 files\n",
    "in_path = \"/e/ocean1/users/vargatn/LSST/DC2_1.1.4/\" \n",
    "# output path for mock image, be sure to place it into \n",
    "out_path = \"data/\""
   ]
  },
  {
   "cell_type": "markdown",
   "id": "7f942f31",
   "metadata": {},
   "source": [
    "Now we load an arbitrary chunk of DC2, in this case orderedd by a list of healpix pixel cutotuts."
   ]
  },
  {
   "cell_type": "code",
   "execution_count": 23,
   "id": "ad616d59",
   "metadata": {},
   "outputs": [],
   "source": [
    "table_path = '/e/ocean1/users/vargatn/LSST/SYNTHETIC/curated_table.h5'\n",
    "table = pd.read_hdf(table_path, key=\"data\")\n",
    "\n",
    "ra_cen = 50.64516228577292\n",
    "dec_cen = -40.228830895890404\n",
    "\n",
    "mock_catalog_path = '/e/ocean1/users/vargatn/LSST/SYNTHETIC/curated_mock_catalog.h5'\n",
    "mock_catalog = pd.read_hdf(mock_catalog_path, key=\"data\")"
   ]
  },
  {
   "cell_type": "markdown",
   "id": "2dfdfa17",
   "metadata": {},
   "source": [
    "# Creating a deeper, detection image and weight map\n",
    "\n",
    "source detection is traditionally done on coadded images, even when shear estimation is performed per-frame for greater performance.\n",
    "\n",
    "For this reason, unlike in B1, B2, B3, we are going to create a single, deeper, detection frame"
   ]
  },
  {
   "cell_type": "code",
   "execution_count": 24,
   "id": "3275c463",
   "metadata": {},
   "outputs": [
    {
     "name": "stdout",
     "output_type": "stream",
     "text": [
      "data/test_canvas_i\n",
      "starting postage stamp calculations in 100 processes\n"
     ]
    }
   ],
   "source": [
    "band = 'i'\n",
    "name = out_path + 'test_canvas_' + band\n",
    "print(name)\n",
    "fr = frame.Frame(mock_catalog.to_records(), band=band, name=name,\n",
    "                     center=(ra_cen, dec_cen), noise_std=1., canvas_size=1000, config_se='data/configs/config.sex')\n",
    "fr.render() "
   ]
  },
  {
   "cell_type": "markdown",
   "id": "762716a8",
   "metadata": {},
   "source": [
    "we also have to create a weight map\n",
    "\n",
    "**TODO** check the actual values for this!!!"
   ]
  },
  {
   "cell_type": "code",
   "execution_count": 30,
   "id": "388a8e9c",
   "metadata": {},
   "outputs": [],
   "source": [
    "noise = np.ones(shape=(fr.canvas_size, fr.canvas_size)) # this is set as 1, as in this example that's the noise std\n",
    "wcanvas = galsim.ImageF(noise, wcs=fr.canvas.wcs)\n",
    "wcanvas.write(name + '_weight.fits', clobber=True)"
   ]
  },
  {
   "cell_type": "markdown",
   "id": "b8ff7f90",
   "metadata": {},
   "source": [
    "after rendering, we can run sextractor, and load the results as"
   ]
  },
  {
   "cell_type": "code",
   "execution_count": 31,
   "id": "7199af76",
   "metadata": {},
   "outputs": [
    {
     "name": "stdout",
     "output_type": "stream",
     "text": [
      "sex data/test_canvas_i.fits -c data/configs/config.sex -CATALOG_NAME data/test_canvas_i_cat.fits -CHECKIMAGE_NAME data/test_canvas_i_seg.fits\n"
     ]
    }
   ],
   "source": [
    "fr.extract()"
   ]
  },
  {
   "cell_type": "markdown",
   "id": "4febcf44",
   "metadata": {},
   "source": [
    "here we have access to the sextractor catalog, and the segmentation map"
   ]
  },
  {
   "cell_type": "code",
   "execution_count": 32,
   "id": "0972a10a",
   "metadata": {},
   "outputs": [],
   "source": [
    "scat = fr.scat.copy()\n",
    "seg = fio.read(\"data/test_canvas_i_seg.fits\")"
   ]
  },
  {
   "cell_type": "markdown",
   "id": "7a3d1617",
   "metadata": {},
   "source": [
    "# Creating a multi epoch data system file (MEDS)"
   ]
  },
  {
   "cell_type": "code",
   "execution_count": 37,
   "id": "a2df0d87",
   "metadata": {},
   "outputs": [],
   "source": [
    "ii = fr.scat[\"MAG_AUTO\"] < 23\n",
    "objects = fr.scat[ii]"
   ]
  },
  {
   "cell_type": "code",
   "execution_count": 39,
   "id": "1e0e026b",
   "metadata": {},
   "outputs": [],
   "source": [
    "nimage = 1\n",
    "nobj = len(objects)\n",
    "obj_data = meds.util.get_meds_input_struct(nobj, extra_fields=[(\"X_IMAGE\", \"f8\"), (\"Y_IMAGE\", \"f8\")])\n",
    "obj_data['id'] = objects['NUMBER']\n",
    "\n",
    "box_sizes = np.round(objects[\"A_IMAGE\"] * objects[\"B_IMAGE\"] * 2 ) *2\n",
    "box_sizes[box_sizes < 16] = 16 \n",
    "obj_data['box_size'] = box_sizes\n",
    "\n",
    "obj_data['ra'] = objects['ALPHAWIN_J2000'] + pixel_scale / 3600 # this is a hack for fortran vs python ordered arrays\n",
    "obj_data['dec'] = objects['DELTAWIN_J2000'] - pixel_scale / 3600 # this is a hack for fortran vs python ordered arrays\n",
    "obj_data['X_IMAGE'] = objects['X_IMAGE']\n",
    "obj_data['Y_IMAGE'] = objects['Y_IMAGE']"
   ]
  },
  {
   "cell_type": "code",
   "execution_count": 41,
   "id": "49750e68",
   "metadata": {},
   "outputs": [],
   "source": [
    "path_image = fr.name + \".fits\"\n",
    "path_weight = fr.name + \"_weight.fits\"\n",
    "path_seg = fr.name + \"_seg.fits\"\n",
    "\n",
    "path_length= np.max((len(path_image), len(path_seg), len(path_weight)))\n",
    "\n",
    "image_info= meds.util.get_image_info_struct(nimage, path_length)\n",
    "\n",
    "image_info['image_path'][0] = path_image\n",
    "image_info['weight_path'][0] = path_weight\n",
    "image_info['seg_path'][0] = path_seg\n",
    "image_info['magzp'] = 30.\n",
    "\n",
    "config = {'first_image_is_coadd': False,'cutout_types':['weight', 'seg'],'psf_type':'psfex'}"
   ]
  },
  {
   "cell_type": "code",
   "execution_count": 49,
   "id": "b2feb71a",
   "metadata": {},
   "outputs": [],
   "source": [
    "pex = psfex.PSFEx(\"/e/ocean1/users/vargatn/LSST/SYNTHETIC/star_canvas_cat.psf\")\n",
    "psf_data = [pex,]"
   ]
  },
  {
   "cell_type": "code",
   "execution_count": 50,
   "id": "21c3b55d",
   "metadata": {},
   "outputs": [
    {
     "name": "stdout",
     "output_type": "stream",
     "text": [
      "writing cutouts for: ['image', 'weight', 'seg']\n",
      "file    1 of    1: 'b'data/test_canvas_i.fits''\n",
      "    first cut:      79 of     79 objects\n",
      "    second cut:     79 of     79 objects\n",
      "79/79 had ncut > 0\n",
      "setting start rows and pixel count\n",
      "total pixels: 112876\n",
      "setting psf layout for PSFEx\n",
      "meds layout build time: 0.038589 seconds\n",
      "opening output MEDS file: 'data/test.meds'\n",
      "writing object_data\n",
      "writing image_info\n",
      "writing metadata\n",
      "    reserving image mosaic\n",
      "    reserving weight mosaic\n",
      "    reserving seg mosaic\n",
      "    reserving psf mosaic\n",
      "writing image cutouts\n",
      "    1/1 image b'data/test_canvas_i.fits'\n",
      "    no background for image\n",
      "writing weight cutouts\n",
      "    1/1 weight b'data/test_canvas_i_weight.fits'\n",
      "writing seg cutouts\n",
      "    1/1 seg b'data/test_canvas_i_seg.fits'\n",
      "writing psf cutouts\n",
      "output is in: data/test.meds\n"
     ]
    },
    {
     "name": "stderr",
     "output_type": "stream",
     "text": [
      "/home/moon/vargatn/anaconda3/envs/galsim/lib/python3.7/site-packages/meds/util.py:380: VisibleDeprecationWarning: Creating an ndarray from ragged nested sequences (which is a list-or-tuple of lists-or-tuples-or ndarrays with different lengths or shapes) is deprecated. If you meant to do this, you must specify 'dtype=object' when creating the ndarray.\n",
      "  phat = numpy.array([-1.0*sinp,cosp,0.0]).T\n"
     ]
    }
   ],
   "source": [
    "mm = meds.MEDSMaker(obj_data=obj_data, image_info=image_info, config=config, psf_data=psf_data)\n",
    "mm.write(out_path + \"test.meds\")"
   ]
  },
  {
   "cell_type": "code",
   "execution_count": 52,
   "id": "408d4bb1",
   "metadata": {},
   "outputs": [],
   "source": [
    "m = meds.MEDS(out_path + \"test.meds\")"
   ]
  },
  {
   "cell_type": "code",
   "execution_count": 56,
   "id": "aa7202ab",
   "metadata": {},
   "outputs": [
    {
     "data": {
      "text/plain": [
       "<matplotlib.image.AxesImage at 0x7f43ac918050>"
      ]
     },
     "execution_count": 56,
     "metadata": {},
     "output_type": "execute_result"
    },
    {
     "data": {
      "image/png": "[encoded data removed]",
      "text/plain": [
       "<Figure size 640x480 with 1 Axes>"
      ]
     },
     "metadata": {},
     "output_type": "display_data"
    }
   ],
   "source": [
    "im = m.get_cutout(24, 0, 'image')\n",
    "fig = plt.figure()\n",
    "ax = fig.add_subplot(111)\n",
    "ax.imshow(im)"
   ]
  },
  {
   "cell_type": "code",
   "execution_count": 57,
   "id": "e69f98a5",
   "metadata": {},
   "outputs": [
    {
     "data": {
      "text/plain": [
       "<matplotlib.image.AxesImage at 0x7f47a86f9ad0>"
      ]
     },
     "execution_count": 57,
     "metadata": {},
     "output_type": "execute_result"
    },
    {
     "data": {
      "image/png": "[encoded data removed]",
      "text/plain": [
       "<Figure size 640x480 with 1 Axes>"
      ]
     },
     "metadata": {},
     "output_type": "display_data"
    }
   ],
   "source": [
    "im = m.get_cutout(24, 0, 'seg')\n",
    "fig = plt.figure()\n",
    "ax = fig.add_subplot(111)\n",
    "ax.imshow(im)"
   ]
  },
  {
   "cell_type": "code",
   "execution_count": 58,
   "id": "f44bd550",
   "metadata": {},
   "outputs": [
    {
     "data": {
      "text/plain": [
       "<matplotlib.image.AxesImage at 0x7f47b0d4b5d0>"
      ]
     },
     "execution_count": 58,
     "metadata": {},
     "output_type": "execute_result"
    },
    {
     "data": {
      "image/png": "[encoded data removed]",
      "text/plain": [
       "<Figure size 640x480 with 1 Axes>"
      ]
     },
     "metadata": {},
     "output_type": "display_data"
    }
   ],
   "source": [
    "im = m.get_cutout(24, 0, 'psf')\n",
    "fig = plt.figure()\n",
    "ax = fig.add_subplot(111)\n",
    "ax.imshow(im)"
   ]
  },
  {
   "cell_type": "code",
   "execution_count": null,
   "id": "8578dfc7",
   "metadata": {},
   "outputs": [],
   "source": []
  }
 ],
 "metadata": {
  "kernelspec": {
   "display_name": "Python 3 (ipykernel)",
   "language": "python",
   "name": "python3"
  },
  "language_info": {
   "codemirror_mode": {
    "name": "ipython",
    "version": 3
   },
   "file_extension": ".py",
   "mimetype": "text/x-python",
   "name": "python",
   "nbconvert_exporter": "python",
   "pygments_lexer": "ipython3",
   "version": "3.7.4"
  },
  "toc": {
   "base_numbering": 1,
   "nav_menu": {},
   "number_sections": true,
   "sideBar": true,
   "skip_h1_title": false,
   "title_cell": "Table of Contents",
   "title_sidebar": "Contents",
   "toc_cell": false,
   "toc_position": {},
   "toc_section_display": true,
   "toc_window_display": false
  },
  "widgets": {
   "state": {},
   "version": "1.0.0"
  }
 },
 "nbformat": 4,
 "nbformat_minor": 5
}
