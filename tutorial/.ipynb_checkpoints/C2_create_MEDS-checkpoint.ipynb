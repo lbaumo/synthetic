{
 "cells": [
  {
   "cell_type": "markdown",
   "id": "ecc36d58",
   "metadata": {},
   "source": [
    "# C2 Galaxy Cluster Injection\n",
    "\n",
    "\n",
    "In this notebook we process the rendered galaxy catalogs using the sextractor software, and transport them into a multi-epoch data system, which will later be used to interface with metacalibration\n",
    "\n",
    "\n",
    "## Objectives\n",
    "\n",
    "    1 Learn to create MEDS files \n",
    "    \n",
    "    2 Prepare for running metacalibration\n",
    " \n",
    "\n",
    "**TODO** Check the weight map, with someone expert\n",
    "\n",
    "\n",
    "## Setup\n",
    "\n",
    "This notebook relies on the:\n",
    "\n",
    "    * synthetic package & dependencies\n",
    "    \n",
    "    * prepared & curated DC2 cutout data file\n",
    "\n",
    "\n",
    "## Output\n",
    "\n",
    "    * MEDS data file\n",
    "    \n",
    "The output files are placed in the `./data/` folder\n",
    "\n",
    "\n",
    "## Contact\n",
    "\n",
    "In case of questions, contact me at t.varga@physik.lmu.de"
   ]
  },
  {
   "cell_type": "code",
   "execution_count": 3,
   "id": "ae46821f",
   "metadata": {},
   "outputs": [],
   "source": [
    "import fitsio as fio\n",
    "import numpy as np\n",
    "import pandas as pd\n",
    "import pickle as pickle\n",
    "import copy\n",
    "import glob\n",
    "\n",
    "import matplotlib as mpl\n",
    "import matplotlib.pyplot as plt\n",
    "%matplotlib inline\n",
    "\n",
    "import galsim\n",
    "import astropy.cosmology as cosmology\n",
    "\n",
    "import images # package from erin sheldon\n",
    "\n",
    "import synthetic.tools as tools\n",
    "import synthetic.render.frame as frame\n",
    "import synthetic.render.render as render\n",
    "\n",
    "import meds\n",
    "import psfex # The python wrapper\n",
    "\n",
    "pixel_scale = 0.2"
   ]
  },
  {
   "cell_type": "markdown",
   "id": "ccf9c686",
   "metadata": {},
   "source": [
    "*** Important *** set the `nprocess` value to the amount of CPU cores you are willing or allowed to use for this notebook\n",
    "\n",
    "please consider your local server, e.g. don't run heavy calculations on public login nodes"
   ]
  },
  {
   "cell_type": "code",
   "execution_count": 4,
   "id": "00c6ce18",
   "metadata": {},
   "outputs": [],
   "source": [
    "nprocess = 4"
   ]
  },
  {
   "cell_type": "code",
   "execution_count": 5,
   "id": "2e22ad77",
   "metadata": {},
   "outputs": [],
   "source": [
    "# output path for mock image, be sure to place it into a folder where you can write a few GBs of files \n",
    "out_path = \"./data/\""
   ]
  },
  {
   "cell_type": "markdown",
   "id": "733f60db",
   "metadata": {},
   "source": [
    "# Create a rendered image we are going to work on\n",
    "\n",
    "and run source extractor\n",
    "\n",
    "This part reproduces where largely identical to the B2 left off"
   ]
  },
  {
   "cell_type": "markdown",
   "id": "7f942f31",
   "metadata": {},
   "source": [
    "Now we load an arbitrary chunk of DC2, in this case orderedd by a list of healpix pixel cutotuts."
   ]
  },
  {
   "cell_type": "code",
   "execution_count": 6,
   "id": "ad616d59",
   "metadata": {},
   "outputs": [],
   "source": [
    "table_path = './data/refdata/curated_table.h5'\n",
    "table = pd.read_hdf(table_path, key=\"data\")\n",
    "\n",
    "ra_cen = 50.64516228577292\n",
    "dec_cen = -40.228830895890404\n",
    "\n",
    "mock_catalog_path = './data/refdata/curated_mock_catalog.h5'\n",
    "mock_catalog = pd.read_hdf(mock_catalog_path, key=\"data\")"
   ]
  },
  {
   "cell_type": "markdown",
   "id": "2dfdfa17",
   "metadata": {},
   "source": [
    "# Creating a deeper, detection image and weight map\n",
    "\n",
    "source detection is traditionally done on coadded images, even when shear estimation is performed per-frame for greater performance.\n",
    "\n",
    "For this reason, unlike in B1, B2, B3, we are going to create a single, deeper, detection frame"
   ]
  },
  {
   "cell_type": "code",
   "execution_count": 7,
   "id": "3275c463",
   "metadata": {},
   "outputs": [
    {
     "name": "stdout",
     "output_type": "stream",
     "text": [
      "./data/test_canvas_i\n",
      "starting postage stamp calculations in 4 processes\n"
     ]
    }
   ],
   "source": [
    "band = 'i'\n",
    "name = out_path + 'test_canvas_' + band\n",
    "print(name)\n",
    "fr = frame.Frame(mock_catalog.to_records(), band=band, name=name,\n",
    "                     center=(ra_cen, dec_cen), noise_std=1., canvas_size=1000, config_se='data/configs/config.sex')\n",
    "fr.render(nprocess=nprocess) "
   ]
  },
  {
   "cell_type": "markdown",
   "id": "8be8a8e6",
   "metadata": {},
   "source": [
    "we also have to create a weight map\n",
    "\n",
    "**TODO** check the actual values for this!!!"
   ]
  },
  {
   "cell_type": "code",
   "execution_count": 8,
   "id": "71a6c5d8",
   "metadata": {},
   "outputs": [],
   "source": [
    "noise = np.ones(shape=(fr.canvas_size, fr.canvas_size)) # this is set as 1, as in this example that's the noise std\n",
    "wcanvas = galsim.ImageF(noise, wcs=fr.canvas.wcs)\n",
    "wcanvas.write(name + '_weight.fits', clobber=True)"
   ]
  },
  {
   "cell_type": "markdown",
   "id": "b8ff7f90",
   "metadata": {},
   "source": [
    "after rendering, we can run sextractor, and load the results as"
   ]
  },
  {
   "cell_type": "code",
   "execution_count": 9,
   "id": "7199af76",
   "metadata": {},
   "outputs": [
    {
     "name": "stdout",
     "output_type": "stream",
     "text": [
      "sex ./data/test_canvas_i.fits -c data/configs/config.sex -CATALOG_NAME ./data/test_canvas_i_cat.fits -CHECKIMAGE_NAME ./data/test_canvas_i_seg.fits\n"
     ]
    }
   ],
   "source": [
    "fr.extract()"
   ]
  },
  {
   "cell_type": "markdown",
   "id": "4febcf44",
   "metadata": {},
   "source": [
    "here we have access to the sextractor catalog, and the segmentation map"
   ]
  },
  {
   "cell_type": "code",
   "execution_count": 10,
   "id": "0972a10a",
   "metadata": {},
   "outputs": [],
   "source": [
    "scat = fr.scat.copy()\n",
    "seg = fio.read(\"./data/test_canvas_i_seg.fits\")"
   ]
  },
  {
   "cell_type": "markdown",
   "id": "c879b597",
   "metadata": {},
   "source": [
    "# Creating a multi epoch data system file (MEDS)"
   ]
  },
  {
   "cell_type": "markdown",
   "id": "5168a246",
   "metadata": {},
   "source": [
    "Now we are going to transform the synthetic image, into the multi epoch data system format, which is the last step before we can run metacalibration\n",
    "\n",
    "for simplicity, let's select galaxies brighter than 23 magnitudes in i-band. In a real shear measurement there would be similar sanity cuts performed, as photometry becomes very noisy close to the limiting magnitude of the survey"
   ]
  },
  {
   "cell_type": "code",
   "execution_count": 11,
   "id": "98fc94ed",
   "metadata": {},
   "outputs": [],
   "source": [
    "ii = fr.scat[\"MAG_AUTO\"] < 23\n",
    "objects = fr.scat[ii]"
   ]
  },
  {
   "cell_type": "code",
   "execution_count": 12,
   "id": "d20d1014",
   "metadata": {},
   "outputs": [],
   "source": [
    "nimage = 1 # one exposure per object, we are simulating coadds with identical observational conditions\n",
    "nobj = len(objects)\n",
    "obj_data = meds.util.get_meds_input_struct(nobj, extra_fields=[(\"X_IMAGE\", \"f8\"), (\"Y_IMAGE\", \"f8\")])\n",
    "obj_data['id'] = objects['NUMBER'] # the source extractor ID, starts with 1, not 0...\n",
    "\n",
    "# This the size of the bounding box for the object, should be adaptive based on the size of the source\n",
    "box_sizes = np.round(objects[\"A_IMAGE\"] * objects[\"B_IMAGE\"] * 2 ) *2\n",
    "box_sizes[box_sizes < 16] = 16 \n",
    "obj_data['box_size'] = box_sizes\n",
    "\n",
    "# The below are the positions of the source on the sky and in the image-\n",
    "# The actual MEDS script uses the sky position based on the image WCS, but this is done completely under the hood\n",
    "obj_data['ra'] = objects['ALPHAWIN_J2000'] + pixel_scale / 3600 # this is a hack for fortran vs python ordered arrays\n",
    "obj_data['dec'] = objects['DELTAWIN_J2000'] - pixel_scale / 3600 # this is a hack for fortran vs python ordered arrays\n",
    "obj_data['X_IMAGE'] = objects['X_IMAGE']\n",
    "obj_data['Y_IMAGE'] = objects['Y_IMAGE']"
   ]
  },
  {
   "cell_type": "code",
   "execution_count": 13,
   "id": "822dcf73",
   "metadata": {},
   "outputs": [],
   "source": [
    "path_image = fr.name + \".fits\"\n",
    "path_weight = fr.name + \"_weight.fits\"\n",
    "path_seg = fr.name + \"_seg.fits\"\n",
    "\n",
    "# Due to some memory reservation issues, we have to tell expicitely how long the longest filename will be.\n",
    "path_length= np.max((len(path_image), len(path_seg), len(path_weight)))\n",
    "\n",
    "image_info= meds.util.get_image_info_struct(nimage, path_length)\n",
    "\n",
    "image_info['image_path'][0] = path_image\n",
    "image_info['weight_path'][0] = path_weight\n",
    "image_info['seg_path'][0] = path_seg\n",
    "image_info['magzp'] = 30.\n",
    "\n",
    "config = {'first_image_is_coadd': False,'cutout_types':['weight', 'seg'],'psf_type':'psfex'}"
   ]
  },
  {
   "cell_type": "markdown",
   "id": "af4baf8c",
   "metadata": {},
   "source": [
    "Since this is a synthetic image, we know the exact PSF, \n",
    "\n",
    "In reality this was estimated from a grid of stars in the same pipeline, however that is out of scope for this notebook"
   ]
  },
  {
   "cell_type": "code",
   "execution_count": 14,
   "id": "f0fb3882",
   "metadata": {},
   "outputs": [],
   "source": [
    "pex = psfex.PSFEx(\"./data/refdata/star_canvas_cat.psf\")\n",
    "psf_data = [pex,]"
   ]
  },
  {
   "cell_type": "markdown",
   "id": "93a5c2af",
   "metadata": {},
   "source": [
    "now all is set for running the MEDSMaker"
   ]
  },
  {
   "cell_type": "code",
   "execution_count": 15,
   "id": "637cfc75",
   "metadata": {},
   "outputs": [
    {
     "name": "stdout",
     "output_type": "stream",
     "text": [
      "writing cutouts for: ['image', 'weight', 'seg']\n",
      "file    1 of    1: 'b'./data/test_canvas_i.fits''\n",
      "    first cut:      78 of     78 objects\n",
      "    second cut:     78 of     78 objects\n",
      "78/78 had ncut > 0\n",
      "setting start rows and pixel count\n",
      "total pixels: 114628\n",
      "setting psf layout for PSFEx\n",
      "meds layout build time: 0.033962 seconds\n",
      "opening output MEDS file: './data/test.meds'\n",
      "writing object_data\n",
      "writing image_info\n",
      "writing metadata\n",
      "    reserving image mosaic\n",
      "    reserving weight mosaic\n",
      "    reserving seg mosaic\n",
      "    reserving psf mosaic\n",
      "writing image cutouts\n",
      "    1/1 image b'./data/test_canvas_i.fits'\n",
      "    no background for image\n",
      "writing weight cutouts\n",
      "    1/1 weight b'./data/test_canvas_i_weight.fits'\n",
      "writing seg cutouts\n",
      "    1/1 seg b'./data/test_canvas_i_seg.fits'\n",
      "writing psf cutouts\n",
      "output is in: ./data/test.meds\n"
     ]
    },
    {
     "name": "stderr",
     "output_type": "stream",
     "text": [
      "/home/moon/vargatn/anaconda3/envs/galsim/lib/python3.7/site-packages/meds/util.py:380: VisibleDeprecationWarning: Creating an ndarray from ragged nested sequences (which is a list-or-tuple of lists-or-tuples-or ndarrays with different lengths or shapes) is deprecated. If you meant to do this, you must specify 'dtype=object' when creating the ndarray.\n",
      "  phat = numpy.array([-1.0*sinp,cosp,0.0]).T\n"
     ]
    }
   ],
   "source": [
    "mm = meds.MEDSMaker(obj_data=obj_data, image_info=image_info, config=config, psf_data=psf_data)\n",
    "mm.write(out_path + \"test.meds\")"
   ]
  },
  {
   "cell_type": "markdown",
   "id": "f7f27472",
   "metadata": {},
   "source": [
    "## Inspecting the MEDS files\n",
    "\n",
    "we can load the file with the meds package"
   ]
  },
  {
   "cell_type": "code",
   "execution_count": 16,
   "id": "e5d6f64a",
   "metadata": {},
   "outputs": [],
   "source": [
    "m = meds.MEDS(out_path + \"test.meds\")"
   ]
  },
  {
   "cell_type": "markdown",
   "id": "0d1a82cd",
   "metadata": {},
   "source": [
    "And inspect the different type of extensions\n",
    "\n",
    "image is the actual image\n",
    "\n",
    "seg is the segmentation map\n",
    "\n",
    "psf is the psfex model evaluated at the location of the source in the image\n"
   ]
  },
  {
   "cell_type": "code",
   "execution_count": 25,
   "id": "0e1be1d9",
   "metadata": {},
   "outputs": [
    {
     "data": {
      "text/plain": [
       "<matplotlib.image.AxesImage at 0x7fd0569f0310>"
      ]
     },
     "execution_count": 25,
     "metadata": {},
     "output_type": "execute_result"
    },
    {
     "data": {
      "image/png": "[encoded data removed]",
      "text/plain": [
       "<Figure size 640x480 with 1 Axes>"
      ]
     },
     "metadata": {},
     "output_type": "display_data"
    }
   ],
   "source": [
    "im = m.get_cutout(22, 0, 'image')\n",
    "fig = plt.figure()\n",
    "ax = fig.add_subplot(111)\n",
    "ax.imshow(im)"
   ]
  },
  {
   "cell_type": "code",
   "execution_count": 26,
   "id": "55700d83",
   "metadata": {},
   "outputs": [
    {
     "data": {
      "text/plain": [
       "<matplotlib.image.AxesImage at 0x7fd05696e890>"
      ]
     },
     "execution_count": 26,
     "metadata": {},
     "output_type": "execute_result"
    },
    {
     "data": {
      "image/png": "[encoded data removed]",
      "text/plain": [
       "<Figure size 640x480 with 1 Axes>"
      ]
     },
     "metadata": {},
     "output_type": "display_data"
    }
   ],
   "source": [
    "im = m.get_cutout(22, 0, 'seg')\n",
    "fig = plt.figure()\n",
    "ax = fig.add_subplot(111)\n",
    "ax.imshow(im)"
   ]
  },
  {
   "cell_type": "code",
   "execution_count": 27,
   "id": "713d6203",
   "metadata": {},
   "outputs": [
    {
     "data": {
      "text/plain": [
       "<matplotlib.image.AxesImage at 0x7fd0568ff250>"
      ]
     },
     "execution_count": 27,
     "metadata": {},
     "output_type": "execute_result"
    },
    {
     "data": {
      "image/png": "[encoded data removed]",
      "text/plain": [
       "<Figure size 640x480 with 1 Axes>"
      ]
     },
     "metadata": {},
     "output_type": "display_data"
    }
   ],
   "source": [
    "im = m.get_cutout(23, 0, 'psf')\n",
    "fig = plt.figure()\n",
    "ax = fig.add_subplot(111)\n",
    "ax.imshow(im)"
   ]
  },
  {
   "cell_type": "code",
   "execution_count": null,
   "id": "a9ce84e9",
   "metadata": {},
   "outputs": [],
   "source": []
  },
  {
   "cell_type": "code",
   "execution_count": null,
   "id": "2375a7e0",
   "metadata": {},
   "outputs": [],
   "source": []
  },
  {
   "cell_type": "code",
   "execution_count": null,
   "id": "46692ee6",
   "metadata": {},
   "outputs": [],
   "source": []
  }
 ],
 "metadata": {
  "kernelspec": {
   "display_name": "Python 3 (ipykernel)",
   "language": "python",
   "name": "python3"
  },
  "language_info": {
   "codemirror_mode": {
    "name": "ipython",
    "version": 3
   },
   "file_extension": ".py",
   "mimetype": "text/x-python",
   "name": "python",
   "nbconvert_exporter": "python",
   "pygments_lexer": "ipython3",
   "version": "3.7.4"
  },
  "toc": {
   "base_numbering": 1,
   "nav_menu": {},
   "number_sections": true,
   "sideBar": true,
   "skip_h1_title": false,
   "title_cell": "Table of Contents",
   "title_sidebar": "Contents",
   "toc_cell": false,
   "toc_position": {},
   "toc_section_display": true,
   "toc_window_display": false
  },
  "widgets": {
   "state": {},
   "version": "1.0.0"
  }
 },
 "nbformat": 4,
 "nbformat_minor": 5
}
