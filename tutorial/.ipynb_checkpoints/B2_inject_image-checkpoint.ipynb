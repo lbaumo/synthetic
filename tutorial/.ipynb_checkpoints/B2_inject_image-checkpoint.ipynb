{
 "cells": [
  {
   "cell_type": "markdown",
   "id": "ecc36d58",
   "metadata": {},
   "source": [
    "# B2 Galaxy Cluster Injection\n",
    "\n",
    "\n",
    "In this notebook we inject a synthetic galaxy cluster into a DC2 simulated catalog, and render them together into an image.\n",
    "\n",
    "We will also apply gravitational shear, in accordance with the lens geometry\n",
    "\n",
    "\n",
    "## Objectives\n",
    "\n",
    "    1 Learn to inject a galaxy cluster at the catalog level\n",
    "    \n",
    "    2 Apply shear to background sources, based on lens geometry\n",
    "\n",
    "\n",
    "## Setup\n",
    "\n",
    "This notebook relies on the:\n",
    "\n",
    "    * synthetic package & dependencies\n",
    "    \n",
    "    * DC2 cutotut data files on disk\n",
    "    \n",
    "    * curated galaxy cluster member catalog (A4 notebook)\n",
    "    \n",
    "    * package to render catalogs into images (B1 notebook)\n",
    "\n",
    "\n",
    "## Output\n",
    "\n",
    "    * fits image in g, r, i band with cluster injected\n",
    "    \n",
    "    * color composite image for visualization with cluster injected\n",
    " \n",
    "    \n",
    "The output files are placed in the `./data/` folder\n",
    "\n",
    "\n",
    "## Contact\n",
    "\n",
    "In case of questions, contact me at t.varga@physik.lmu.de"
   ]
  },
  {
   "cell_type": "code",
   "execution_count": 19,
   "id": "ae46821f",
   "metadata": {},
   "outputs": [],
   "source": [
    "import fitsio as fio\n",
    "import numpy as np\n",
    "import pandas as pd\n",
    "import pickle as pickle\n",
    "import copy\n",
    "import glob\n",
    "\n",
    "import matplotlib as mpl\n",
    "import matplotlib.pyplot as plt\n",
    "%matplotlib inline\n",
    "\n",
    "import astropy.cosmology as cosmology\n",
    "\n",
    "import images # package from erin sheldon\n",
    "\n",
    "import synthetic.tools as tools\n",
    "import synthetic.render.frame as frame\n",
    "import synthetic.render.render as render\n",
    "\n",
    "\n",
    "pixel_scale = 0.2"
   ]
  },
  {
   "cell_type": "markdown",
   "id": "733f60db",
   "metadata": {},
   "source": [
    "# Prepare the DC2 data\n",
    "\n",
    "This is largely identical to the B1 tutorial"
   ]
  },
  {
   "cell_type": "code",
   "execution_count": 134,
   "id": "00c6ce18",
   "metadata": {},
   "outputs": [],
   "source": [
    "# File path for input DC2 files\n",
    "in_path = \"/e/ocean1/users/vargatn/LSST/DC2_1.1.4/\" \n",
    "# output path for mock image, be sure to place it into \n",
    "out_path = \"data/\""
   ]
  },
  {
   "cell_type": "markdown",
   "id": "7f942f31",
   "metadata": {},
   "source": [
    "Now we load an arbitrary chunk of DC2, in this case orderedd by a list of healpix pixel cutotuts."
   ]
  },
  {
   "cell_type": "code",
   "execution_count": 141,
   "id": "fee0797e",
   "metadata": {},
   "outputs": [],
   "source": [
    "table_path = '/e/ocean1/users/vargatn/LSST/SYNTHETIC/curated_table.h5'\n",
    "table = pd.read_hdf(table_path, key=\"data\")\n",
    "\n",
    "ra_cen = 50.64516228577292\n",
    "dec_cen = -40.228830895890404\n",
    "\n",
    "mock_catalog_path = '/e/ocean1/users/vargatn/LSST/SYNTHETIC/curated_mock_catalog.h5'\n",
    "mock_catalog = pd.read_hdf(mock_catalog_path, key=\"data\")"
   ]
  },
  {
   "cell_type": "markdown",
   "id": "7ae8a953",
   "metadata": {},
   "source": [
    "# Create a shear profile\n",
    "\n",
    "For illustration purposes, we are going to use an isothermal (power law) shear profile\n",
    "\n",
    "In case you have other preferences, the below section is where you must modify the line-of-sight catalog\n",
    "\n",
    "You can add magnification, or other shear profiles as your preferences dictate"
   ]
  },
  {
   "cell_type": "code",
   "execution_count": 27,
   "id": "4649c2ed",
   "metadata": {},
   "outputs": [],
   "source": [
    "cosmo = cosmology.FlatLambdaCDM(Om0=0.3, H0=70)"
   ]
  },
  {
   "cell_type": "code",
   "execution_count": 119,
   "id": "a7234ca3",
   "metadata": {},
   "outputs": [],
   "source": [
    "image_offset=(2499.5, 2499.5)\n",
    "\n",
    "xra = (mock_catalog['X'] - image_offset[0]) * pixel_scale / 60 # arcmin\n",
    "ydec = (mock_catalog['Y'] - image_offset[1]) * pixel_scale / 60 # arcmin\n",
    "dists = np.sqrt(xra**2 + ydec**2)\n",
    "\n",
    "shears = np.sqrt(1 / dists  / 400) # just for illustration purposes\n",
    "shears[shears > 0.8] = 0.8 # galsim cannot render very large shears properly\n",
    "\n",
    "phis =  np.arctan2(ydec, xra)\n",
    "es1 = (-1. * shears * np.cos(2 * phis))\n",
    "es2 = (-1. * shears * np.sin(2 * phis))\n",
    "\n",
    "\n",
    "e1 = mock_catalog['G1']\n",
    "e2 = mock_catalog['G2']\n",
    "vals1 = e1 + es1 - e1 * es1 - e2 * es2 # Calculate the sheared galaxy shape\n",
    "vals2 = e2 + es2 - es1 * e2 + es2 * e1\n",
    "\n",
    "tmp = np.sqrt(vals1**2. + vals2**2.)\n",
    "ii = tmp > 0.9 # galsim cannot render very large shears properly, we must reduce the \n",
    "divs = 1. / (0.1 + tmp[ii])  \n",
    "vals1[ii] *= divs\n",
    "vals2[ii] *= divs\n",
    "\n",
    "# Add shear only to galaxies, which are at z > 0.4,\n",
    "# this is a super simple approximation, intended to showcase the functionality\n",
    "jj = table['redshift_true'] > 0.4\n",
    "\n",
    "mock_catalog.loc[jj, \"G1\"] = vals1[jj]\n",
    "mock_catalog.loc[jj, \"G2\"] = vals2[jj]"
   ]
  },
  {
   "cell_type": "markdown",
   "id": "2c78ab96",
   "metadata": {},
   "source": [
    "## Test the tangential shear profile"
   ]
  },
  {
   "cell_type": "code",
   "execution_count": 120,
   "id": "d033d094",
   "metadata": {},
   "outputs": [],
   "source": [
    "def get_tangential(xpos, ypos, e1, e2, center):\n",
    "    \"\"\"The center is where th aperture is\"\"\"\n",
    "    dists = np.sqrt((ypos - center[1])**2. + (xpos - center[0])**2.)\n",
    "    phis = np.arctan2(ypos - center[1], xpos - center[0])\n",
    "    tshears = -e1 * np.cos(2 * phis) - e2 * np.sin(2 * phis)\n",
    "    return tshears, dists"
   ]
  },
  {
   "cell_type": "code",
   "execution_count": 121,
   "id": "2e59956d",
   "metadata": {},
   "outputs": [],
   "source": [
    "tshear, rarr = get_tangential(mock_catalog[\"X\"], mock_catalog[\"Y\"], es1, es2, (2499.5, 2499.5))"
   ]
  },
  {
   "cell_type": "code",
   "execution_count": 123,
   "id": "b14ba105",
   "metadata": {},
   "outputs": [
    {
     "data": {
      "text/plain": [
       "Text(0, 0.5, '$\\\\gamma_t$')"
      ]
     },
     "execution_count": 123,
     "metadata": {},
     "output_type": "execute_result"
    },
    {
     "data": {
      "image/png": "[encoded data removed]",
      "text/plain": [
       "<Figure size 640x480 with 1 Axes>"
      ]
     },
     "metadata": {},
     "output_type": "display_data"
    }
   ],
   "source": [
    "fig = plt.figure()\n",
    "ax = fig.add_subplot(111)\n",
    "\n",
    "# plot the truth curve\n",
    "iorder = np.argsort(dists)\n",
    "ax.plot(dists.iloc[iorder], shears.iloc[iorder], color=\"black\", zorder=4, lw=3, label=\"true input e_t\")\n",
    "# ax.set_xscale(\"log\")\n",
    "# ax.set_yscale(\"log\")\n",
    "ax.set_xlabel(\"R [arcmin]\", fontsize=14)\n",
    "ax.set_ylabel(\"$\\\\gamma_t$\", fontsize=14)"
   ]
  },
  {
   "cell_type": "code",
   "execution_count": 124,
   "id": "592243de",
   "metadata": {},
   "outputs": [
    {
     "data": {
      "text/plain": [
       "Text(0, 0.5, '$\\\\gamma_t$')"
      ]
     },
     "execution_count": 124,
     "metadata": {},
     "output_type": "execute_result"
    },
    {
     "data": {
      "image/png": "[encoded data removed]",
      "text/plain": [
       "<Figure size 640x480 with 1 Axes>"
      ]
     },
     "metadata": {},
     "output_type": "display_data"
    }
   ],
   "source": [
    "fig = plt.figure()\n",
    "ax = fig.add_subplot(111)\n",
    "\n",
    "# plot the truth curve\n",
    "iorder = np.argsort(dists)\n",
    "ax.plot(dists.iloc[iorder], shears.iloc[iorder], color=\"black\", zorder=4, lw=3, label=\"true input e_t\")\n",
    "ax.set_xscale(\"log\")\n",
    "ax.set_yscale(\"log\")\n",
    "ax.set_xlabel(\"R [arcmin]\", fontsize=14)\n",
    "ax.set_ylabel(\"$\\\\gamma_t$\", fontsize=14)"
   ]
  },
  {
   "cell_type": "markdown",
   "id": "2bacee58",
   "metadata": {},
   "source": [
    "# Render cluster injection\n",
    "\n",
    "For this example, we are going to use a curated galaxy cluster member catalog\n",
    "\n",
    "First we are loading cluster member catalog"
   ]
  },
  {
   "cell_type": "code",
   "execution_count": 125,
   "id": "51bbe772",
   "metadata": {},
   "outputs": [],
   "source": [
    "mock_cluster_path = '/e/ocean1/users/vargatn/LSST/SYNTHETIC/curated_cluster_model_v01-z0l0_15000_001.h5'\n",
    "mock_cluster = pd.read_hdf(mock_cluster_path, key=\"data\")"
   ]
  },
  {
   "cell_type": "markdown",
   "id": "7704252e",
   "metadata": {},
   "source": [
    "For this example, this is saved in the same database format (exact same columns) as the DC2 catalog which we used above, so we can simply concatenate them in pandas"
   ]
  },
  {
   "cell_type": "code",
   "execution_count": 126,
   "id": "060441ec",
   "metadata": {},
   "outputs": [],
   "source": [
    "mock_all = pd.concat((mock_cluster, mock_catalog))"
   ]
  },
  {
   "cell_type": "code",
   "execution_count": null,
   "id": "dfa4a646",
   "metadata": {},
   "outputs": [
    {
     "name": "stdout",
     "output_type": "stream",
     "text": [
      "data/test_cluster_canvas_dc2_g\n",
      "starting postage stamp calculations in 100 processes\n",
      "data/test_cluster_canvas_dc2_r\n",
      "starting postage stamp calculations in 100 processes\n",
      "data/test_cluster_canvas_dc2_i\n",
      "starting postage stamp calculations in 100 processes\n"
     ]
    }
   ],
   "source": [
    "# These are the approcimate noise levels we are going to use for mock images in this notebook\n",
    "# g, r, i, z bands\n",
    "stds = np.array([2.509813, 5.192254, 8.36335, 15.220351]) / 1.3\n",
    "\n",
    "# This is the file name root, appended by bands\n",
    "# we render only g, r, i as those already make a nice color image\n",
    "file_name_tag = 'test_cluster_canvas_dc2_' #\n",
    "\n",
    "for i, band in enumerate((\"g\", \"r\", \"i\")):\n",
    "    name = out_path + file_name_tag + band\n",
    "    print(name)\n",
    "    fr = frame.Frame(mock_all.to_records(), band=band, name=name,\n",
    "                     center=(ra_cen, dec_cen), noise_std=stds[i], canvas_size=5000)\n",
    "    fr.render() "
   ]
  },
  {
   "cell_type": "markdown",
   "id": "e2fcee74",
   "metadata": {},
   "source": [
    "the above script renders the cluster and the pre-injection line of sight together.\n",
    "\n",
    "Since this is a synthetic scenario, we can render the cluster only too, with much lower noi\n",
    "\n",
    "(Rendering the regular line-of-sight was covered in the previous tutorial B1)"
   ]
  },
  {
   "cell_type": "code",
   "execution_count": null,
   "id": "e07c489e",
   "metadata": {},
   "outputs": [],
   "source": [
    "# stds = np.array([2.509813, 5.192254, 8.36335, 15.220351]) / 1.3\n",
    "# for i, band in enumerate((\"g\", \"r\", \"i\")):\n",
    "#     name = folder_path + 'test_v2_canvas_grid_low-isothermal_' + band\n",
    "#     print(name)\n",
    "#     fr = frame.Frame(mock_catalog.to_records(), band=band, name=name,\n",
    "#                      center=(ra_cen, dec_cen), noise_std=stds[i], canvas_size=5000)\n",
    "#     fr.render() "
   ]
  },
  {
   "cell_type": "code",
   "execution_count": null,
   "id": "964a2a8c",
   "metadata": {},
   "outputs": [],
   "source": [
    "stds = np.array([2.509813, 5.192254, 8.36335, 15.220351]) * 1e-5\n",
    "\n",
    "# This is the file name root, appended by bands\n",
    "# we render only g, r, i as those already make a nice color image\n",
    "file_name_tag = 'test_cluster-only_canvas_dc2_' #\n",
    "\n",
    "for i, band in enumerate((\"g\", \"r\", \"i\")):\n",
    "    name = out_path + file_name_tag + band\n",
    "    print(name)\n",
    "    fr = frame.Frame(mock_cluster.to_records(), band=band, name=name,\n",
    "                     center=(ra_cen, dec_cen), noise_std=stds[i], canvas_size=5000)\n",
    "    fr.render() "
   ]
  },
  {
   "cell_type": "markdown",
   "id": "bd95cdea",
   "metadata": {},
   "source": [
    "Now we load in the rendered images, so that we can make a visualization out of them"
   ]
  },
  {
   "cell_type": "code",
   "execution_count": null,
   "id": "c9c7d1bf",
   "metadata": {},
   "outputs": [],
   "source": [
    "ims_all = []\n",
    "for i, band in enumerate((\"g\", \"r\", \"i\")):\n",
    "    name = out_path + 'test_cluster_canvas_dc2_' + band + \".fits\"\n",
    "    tmp = fio.read(name)\n",
    "    print(name)\n",
    "    ims_all.append(tmp)\n",
    "    \n",
    "ims_clust = []\n",
    "for i, band in enumerate((\"g\", \"r\", \"i\")):\n",
    "    name = out_path + 'test_cluster-only_canvas_dc2_' + band + \".fits\"\n",
    "    tmp = fio.read(name)\n",
    "    print(name)\n",
    "    ims_clust.append(tmp)    "
   ]
  },
  {
   "cell_type": "markdown",
   "id": "1d705750",
   "metadata": {},
   "source": [
    "So that we obtain a galaxy cluster rendered together with the local DC cutout.\n",
    "\n",
    "The injection is added,  "
   ]
  },
  {
   "cell_type": "code",
   "execution_count": null,
   "id": "8936b958",
   "metadata": {},
   "outputs": [],
   "source": [
    "fig = plt.figure(figsize=(12, 12))\n",
    "ax = fig.add_subplot(111)\n",
    "factor = 0.01\n",
    "scales = np.array([1., 1.2, 2.5]) * factor\n",
    "nonlinear = 0.12\n",
    "clip = 0\n",
    "\n",
    "pad = 0\n",
    "obs_im = images.get_color_image(ims_all[2] + pad,\n",
    "                                ims_all[1] + pad,\n",
    "                                ims_all[0] + pad,\n",
    "                                nonlinear=nonlinear, clip=clip, scales=scales)  \n",
    "print(obs_im.max())\n",
    "ax.imshow(obs_im[2000:3000, 2000:3000] * 2, origin='upper')\n",
    "\n",
    "ax.set_title(\"cluster + field rendered together\")\n",
    "\n",
    "ax.set_xlabel(\"X [pix]\")\n",
    "ax.set_ylabel(\"Y [pix]\")\n",
    "fig.savefig(\"data/dc2_hp_clust.png\", bbox_inches='tight')"
   ]
  },
  {
   "cell_type": "markdown",
   "id": "ec60247c",
   "metadata": {},
   "source": [
    "and we can also render the injected cluster alone. Note that for this we did not yet add the intra cluster light model (ICL), which is a diffuse outer light envelope around the central galaxy"
   ]
  },
  {
   "cell_type": "code",
   "execution_count": null,
   "id": "5048904d",
   "metadata": {},
   "outputs": [],
   "source": [
    "fig = plt.figure(figsize=(12, 12))\n",
    "ax = fig.add_subplot(111)\n",
    "factor = 0.01\n",
    "scales = np.array([1., 1.2, 2.5]) * factor\n",
    "nonlinear = 0.12\n",
    "clip = 0\n",
    "\n",
    "pad = 0\n",
    "obs_im = images.get_color_image(ims_clust[2] + pad,\n",
    "                                ims_clust[1] + pad,\n",
    "                                ims_clust[0] + pad,\n",
    "                                nonlinear=nonlinear, clip=clip, scales=scales)  \n",
    "print(obs_im.max())\n",
    "ax.imshow(obs_im[2000:3000, 2000:3000] * 2, origin='upper')\n",
    "\n",
    "ax.set_title(\"cluster only\")\n",
    "\n",
    "ax.set_xlabel(\"X [pix]\")\n",
    "ax.set_ylabel(\"Y [pix]\")\n",
    "fig.savefig(\"data/dc2_hp_clust-only.png\", bbox_inches='tight')"
   ]
  },
  {
   "cell_type": "code",
   "execution_count": null,
   "id": "7199af76",
   "metadata": {},
   "outputs": [],
   "source": []
  },
  {
   "cell_type": "code",
   "execution_count": null,
   "id": "0972a10a",
   "metadata": {},
   "outputs": [],
   "source": []
  }
 ],
 "metadata": {
  "kernelspec": {
   "display_name": "Python 3 (ipykernel)",
   "language": "python",
   "name": "python3"
  },
  "language_info": {
   "codemirror_mode": {
    "name": "ipython",
    "version": 3
   },
   "file_extension": ".py",
   "mimetype": "text/x-python",
   "name": "python",
   "nbconvert_exporter": "python",
   "pygments_lexer": "ipython3",
   "version": "3.7.4"
  },
  "toc": {
   "base_numbering": 1,
   "nav_menu": {},
   "number_sections": true,
   "sideBar": true,
   "skip_h1_title": false,
   "title_cell": "Table of Contents",
   "title_sidebar": "Contents",
   "toc_cell": false,
   "toc_position": {},
   "toc_section_display": true,
   "toc_window_display": false
  },
  "widgets": {
   "state": {},
   "version": "1.0.0"
  }
 },
 "nbformat": 4,
 "nbformat_minor": 5
}
