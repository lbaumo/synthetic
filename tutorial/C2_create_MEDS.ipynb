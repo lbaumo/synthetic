{
 "cells": [
  {
   "cell_type": "markdown",
   "id": "ecc36d58",
   "metadata": {},
   "source": [
    "# C2 Galaxy Cluster Injection\n",
    "\n",
    "\n",
    "In this notebook we process the rendered galaxy catalogs using the sextractor software, and transport them into a multi-epoch data system, which will later be used to interface with metacalibration\n",
    "\n",
    "\n",
    "## Objectives\n",
    "\n",
    "    1 Learn to create MEDS files \n",
    " \n",
    "\n",
    "\n",
    "## Setup\n",
    "\n",
    "This notebook relies on the:\n",
    "\n",
    "    * synthetic package & dependencies\n",
    "    \n",
    "    * prepared curated DC2 cutouts\n",
    "\n",
    "\n",
    "## Output\n",
    "\n",
    "    * MEDS data file\n",
    "    \n",
    "    \n",
    "The output files are placed in the `./data/` folder\n",
    "\n",
    "\n",
    "## Contact\n",
    "\n",
    "In case of questions, contact me at t.varga@physik.lmu.de"
   ]
  },
  {
   "cell_type": "code",
   "execution_count": 1,
   "id": "ae46821f",
   "metadata": {},
   "outputs": [],
   "source": [
    "import fitsio as fio\n",
    "import numpy as np\n",
    "import pandas as pd\n",
    "import pickle as pickle\n",
    "import copy\n",
    "import glob\n",
    "\n",
    "import matplotlib as mpl\n",
    "import matplotlib.pyplot as plt\n",
    "%matplotlib inline\n",
    "\n",
    "import astropy.cosmology as cosmology\n",
    "\n",
    "import images # package from erin sheldon\n",
    "\n",
    "import synthetic.tools as tools\n",
    "import synthetic.render.frame as frame\n",
    "import synthetic.render.render as render\n",
    "\n",
    "\n",
    "pixel_scale = 0.2"
   ]
  },
  {
   "cell_type": "markdown",
   "id": "733f60db",
   "metadata": {},
   "source": [
    "# Create a rendered image we are going to work on\n",
    "\n",
    "and run source extractor\n",
    "\n",
    "This part reproduces where largely identical to the B2 left off"
   ]
  },
  {
   "cell_type": "code",
   "execution_count": 2,
   "id": "00c6ce18",
   "metadata": {},
   "outputs": [],
   "source": [
    "# File path for input DC2 files\n",
    "in_path = \"/e/ocean1/users/vargatn/LSST/DC2_1.1.4/\" \n",
    "# output path for mock image, be sure to place it into \n",
    "out_path = \"data/\""
   ]
  },
  {
   "cell_type": "markdown",
   "id": "7f942f31",
   "metadata": {},
   "source": [
    "Now we load an arbitrary chunk of DC2, in this case orderedd by a list of healpix pixel cutotuts."
   ]
  },
  {
   "cell_type": "code",
   "execution_count": 3,
   "id": "ad616d59",
   "metadata": {},
   "outputs": [],
   "source": [
    "table_path = '/e/ocean1/users/vargatn/LSST/SYNTHETIC/curated_table.h5'\n",
    "table = pd.read_hdf(table_path, key=\"data\")\n",
    "\n",
    "ra_cen = 50.64516228577292\n",
    "dec_cen = -40.228830895890404\n",
    "\n",
    "mock_catalog_path = '/e/ocean1/users/vargatn/LSST/SYNTHETIC/curated_mock_catalog.h5'\n",
    "mock_catalog = pd.read_hdf(mock_catalog_path, key=\"data\")"
   ]
  },
  {
   "cell_type": "markdown",
   "id": "2dfdfa17",
   "metadata": {},
   "source": [
    "# Creating a deeper, detection image\n",
    "\n",
    "source detection is traditionally done on coadded images, even when shear estimation is performed per-frame for greater performance.\n",
    "\n",
    "For this reason, unlike in B1, B2, B3, we are going to create a single, deeper, detection frame"
   ]
  },
  {
   "cell_type": "code",
   "execution_count": 4,
   "id": "3275c463",
   "metadata": {},
   "outputs": [
    {
     "name": "stdout",
     "output_type": "stream",
     "text": [
      "data/test_canvas_i\n",
      "starting postage stamp calculations in 100 processes\n"
     ]
    }
   ],
   "source": [
    "band = 'i'\n",
    "name = out_path + 'test_canvas_' + band\n",
    "print(name)\n",
    "fr_field = frame.Frame(mock_catalog.to_records(), band=band, name=name,\n",
    "                     center=(ra_cen, dec_cen), noise_std=1., canvas_size=1000, config_se='data/configs/config.sex')\n",
    "fr_field.render() "
   ]
  },
  {
   "cell_type": "markdown",
   "id": "b8ff7f90",
   "metadata": {},
   "source": [
    "after rendering, we can run sextractor, and load the results as"
   ]
  },
  {
   "cell_type": "code",
   "execution_count": 5,
   "id": "7199af76",
   "metadata": {},
   "outputs": [
    {
     "name": "stdout",
     "output_type": "stream",
     "text": [
      "sex data/test_canvas_i.fits -c data/configs/config.sex -CATALOG_NAME data/test_canvas_i_cat.fits -CHECKIMAGE_NAME data/test_canvas_i_seg.fits\n"
     ]
    }
   ],
   "source": [
    "fr_field.extract()"
   ]
  },
  {
   "cell_type": "markdown",
   "id": "4febcf44",
   "metadata": {},
   "source": [
    "here we have access to the sextractor catalog, and the segmentation map"
   ]
  },
  {
   "cell_type": "code",
   "execution_count": 6,
   "id": "0972a10a",
   "metadata": {},
   "outputs": [],
   "source": [
    "scat = fr_field.scat.copy()\n",
    "seg = fio.read(\"data/test_canvas_i_seg.fits\")"
   ]
  },
  {
   "cell_type": "code",
   "execution_count": null,
   "id": "60e46531",
   "metadata": {},
   "outputs": [],
   "source": []
  }
 ],
 "metadata": {
  "kernelspec": {
   "display_name": "Python 3 (ipykernel)",
   "language": "python",
   "name": "python3"
  },
  "language_info": {
   "codemirror_mode": {
    "name": "ipython",
    "version": 3
   },
   "file_extension": ".py",
   "mimetype": "text/x-python",
   "name": "python",
   "nbconvert_exporter": "python",
   "pygments_lexer": "ipython3",
   "version": "3.7.4"
  },
  "toc": {
   "base_numbering": 1,
   "nav_menu": {},
   "number_sections": true,
   "sideBar": true,
   "skip_h1_title": false,
   "title_cell": "Table of Contents",
   "title_sidebar": "Contents",
   "toc_cell": false,
   "toc_position": {},
   "toc_section_display": true,
   "toc_window_display": false
  },
  "widgets": {
   "state": {},
   "version": "1.0.0"
  }
 },
 "nbformat": 4,
 "nbformat_minor": 5
}
